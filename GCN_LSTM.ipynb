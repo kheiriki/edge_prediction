{
 "cells": [
  {
   "cell_type": "code",
   "execution_count": null,
   "metadata": {},
   "outputs": [],
   "source": [
    "import pandas as pd\n",
    "import torch\n",
    "import dgl\n",
    "# Create a DGL graph\n",
    "G_dgl = dgl.DGLGraph()\n",
    "num_nodes = nodes_df.shape[0]\n",
    "\n",
    "# Add nodes with features\n",
    "G_dgl.add_nodes(num_nodes)\n",
    "\n",
    "# Set node features\n",
    "node_features = torch.tensor(nodes_df[['feat1','feat2','feat3','feat4','feat5','feat6','feat7','feat8','feat9','feat10','feat11','feat12','feat13','feat14','feat15','feat16','feat17','feat18','feat19']].values, dtype=torch.float32)\n",
    "G_dgl.ndata['feat'] = node_features\n",
    "\n",
    "# Add edges with labels\n",
    "edges_src = edges_df['src_id'].tolist()\n",
    "edges_dst = edges_df['dst_id'].tolist()\n",
    "G_dgl.add_edges(edges_src, edges_dst)\n",
    "\n",
    "# Set edge types\n",
    "edge_types = edges_df['label'].astype('category').cat.codes\n",
    "G_dgl.edata['etype'] = torch.tensor(edge_types.values, dtype=torch.long)"
   ]
  },
  {
   "cell_type": "code",
   "execution_count": null,
   "metadata": {},
   "outputs": [],
   "source": [
    "import dgl\n",
    "import torch\n",
    "import torch.nn as nn\n",
    "import torch.nn.functional as F\n",
    "from dgl.nn import GraphConv\n",
    "\n",
    "# Define GCN model\n",
    "class GCNModel(nn.Module):\n",
    "    def __init__(self, in_feats, hidden_feats, out_feats):\n",
    "        super(GCNModel, self).__init__()\n",
    "        self.conv1 = GraphConv(in_feats, hidden_feats)\n",
    "        self.conv2 = GraphConv(hidden_feats, out_feats)\n",
    "\n",
    "    def forward(self, g, inputs):\n",
    "        h = self.conv1(g, inputs)\n",
    "        h = F.relu(h)\n",
    "        h = self.conv2(g, h)\n",
    "        return h\n",
    "\n",
    "# Define LSTM model\n",
    "class LSTMModel(nn.Module):\n",
    "    def __init__(self, input_size, hidden_size, num_layers, output_size):\n",
    "        super(LSTMModel, self).__init__()\n",
    "        self.hidden_size = hidden_size\n",
    "        self.num_layers = num_layers\n",
    "        self.lstm = nn.LSTM(input_size, hidden_size, num_layers, batch_first=True)\n",
    "        self.fc = nn.Linear(hidden_size, output_size)\n",
    "\n",
    "    def forward(self, x):\n",
    "        h0 = torch.zeros(self.num_layers, x.size(0), self.hidden_size)\n",
    "        c0 = torch.zeros(self.num_layers, x.size(0), self.hidden_size)\n",
    "        out, _ = self.lstm(x, (h0, c0))\n",
    "        out = self.fc(out[:, -1, :])\n",
    "        return out\n",
    "\n",
    "# Create a random DGL graph\n",
    "g = dgl.rand_graph(10, 20)\n",
    "g.ndata['feat'] = torch.randn(10, 5)\n",
    "\n",
    "# Initialize the GCN and LSTM models\n",
    "gcn_model = GCNModel(5, 16, 8)\n",
    "lstm_model = LSTMModel(8, 32, 1, 6)\n",
    "\n",
    "# Run GCN to get edge embeddings\n",
    "node_embeddings = gcn_model(g, g.ndata['feat'])\n",
    "edge_embeddings = dgl.ops.u_mul_e_sum(g, node_embeddings)\n",
    "\n",
    "# Prepare edge embeddings for LSTM\n",
    "edge_embeddings = edge_embeddings.view(1, -1, 8)\n",
    "\n",
    "# Run LSTM on edge embeddings and update the weights\n",
    "criterion = nn.CrossEntropyLoss()\n",
    "optimizer = torch.optim.Adam(lstm_model.parameters(), lr=0.001)\n",
    "\n",
    "# Dummy target, replace with actual target\n",
    "target = torch.tensor([2])  # Represents class d3, with labels ranging from 0 to 5 (inclusive)\n",
    "\n",
    "for epoch in range(100):\n",
    "    output = lstm_model(edge_embeddings)\n",
    "    loss = criterion(output.unsqueeze(0), target)\n",
    "    optimizer.zero_grad()\n",
    "    loss.backward()\n",
    "    optimizer.step()\n",
    "    print(f\"Epoch [{epoch+1}/100], Loss: {loss.item()}\")\n"
   ]
  },
  {
   "cell_type": "markdown",
   "metadata": {},
   "source": [
    "# not done yet,\n"
   ]
  }
 ],
 "metadata": {
  "kernelspec": {
   "display_name": "Python 3.9.2 64-bit ('3.9.2')",
   "language": "python",
   "name": "python3"
  },
  "language_info": {
   "name": "python",
   "version": "3.9.2"
  },
  "orig_nbformat": 4,
  "vscode": {
   "interpreter": {
    "hash": "8417d1dfa1d6fc0641ce57361e4c2424891a37ac2172e388282caca30e55c490"
   }
  }
 },
 "nbformat": 4,
 "nbformat_minor": 2
}
