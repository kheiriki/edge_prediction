{
 "cells": [
  {
   "cell_type": "code",
   "execution_count": null,
   "metadata": {},
   "outputs": [],
   "source": [
    "import networkx as nx\n",
    "import numpy as np\n",
    "from gensim.models import Word2Vec\n",
    "from sklearn.model_selection import train_test_split\n",
    "from sklearn.linear_model import LogisticRegression\n",
    "from sklearn.metrics import accuracy_score\n",
    "\n",
    "# generate a random graph\n",
    "G = pd.read_csv(\"leanna/markov_chain_graph/graph.pkl\")\n",
    "\n",
    "# generate the random walks using DeepWalk\n",
    "walks = []\n",
    "for node in G.nodes():\n",
    "    walks.append([str(n) for n in nx.random_walk(G, node, length=10)])\n",
    "\n",
    "# train the Word2Vec model on the random walks\n",
    "model = Word2Vec(walks, size=64, window=5, min_count=0, sg=1, hs=0, negative=5, workers=4)\n",
    "\n",
    "# generate the edge features using the node embeddings\n",
    "X = []\n",
    "y = []\n",
    "for edge in G.edges():\n",
    "    node1, node2 = edge\n",
    "    node1_embedding = model.wv[str(node1)]\n",
    "    node2_embedding = model.wv[str(node2)]\n",
    "    feature_vector = np.concatenate([node1_embedding, node2_embedding])\n",
    "    X.append(feature_vector)\n",
    "    y.append(G.has_edge(node1, node2))\n",
    "\n",
    "# split the data into training and testing sets\n",
    "X_train, X_test, y_train, y_test = train_test_split(X, y, test_size=0.2, random_state=42)\n",
    "\n",
    "# train a logistic regression model on the edge features\n",
    "clf = LogisticRegression()\n",
    "clf.fit(X_train, y_train)\n",
    "\n",
    "# make predictions on the test set and evaluate the accuracy\n",
    "y_pred = clf.predict(X_test)\n",
    "accuracy = accuracy_score(y_test, y_pred)\n",
    "print('Accuracy: {:.4f}'.format(accuracy))\n"
   ]
  }
 ],
 "metadata": {
  "kernelspec": {
   "display_name": "Python 3.9.2 64-bit ('3.9.2')",
   "language": "python",
   "name": "python3"
  },
  "language_info": {
   "name": "python",
   "version": "3.9.2"
  },
  "orig_nbformat": 4,
  "vscode": {
   "interpreter": {
    "hash": "8417d1dfa1d6fc0641ce57361e4c2424891a37ac2172e388282caca30e55c490"
   }
  }
 },
 "nbformat": 4,
 "nbformat_minor": 2
}
