{
 "cells": [
  {
   "cell_type": "code",
   "execution_count": null,
   "metadata": {},
   "outputs": [],
   "source": [
    "import pandas as pd\n",
    "import networkx as nx\n",
    "import torch\n",
    "\n",
    "# Read CSV files\n",
    "edges_df = pd.read_csv('/home/leanna/unfollow_prediction/Markov_chain/dataset/df_1.csv')\n",
    "nodes_df = pd.read_csv('/home/leanna/unfollow_prediction/Markov_chain/dataset/nodes_0.csv')\n",
    "\n",
    "# Create a NetworkX graph\n",
    "G = nx.Graph()\n",
    "\n",
    "# Add nodes with features\n",
    "for index, row in nodes_df.iterrows():\n",
    "    node_id = row['node_id']\n",
    "    features = torch.tensor(row[['feat1','feat2','feat3','feat4','feat5','feat6','feat7','feat8','feat9','feat10','feat11','feat12','feat13','feat14','feat15','feat16','feat17','feat18','feat19']].values)\n",
    "    G.add_node(node_id, feat=features)\n",
    "\n",
    "# Add edges with label\n",
    "for index, row in edges_df.iterrows():\n",
    "    source = row['src_id']\n",
    "    target = row['dst_id']\n",
    "    label = row['label']\n",
    "    G.add_edge(source, target, etype=label)"
   ]
  },
  {
   "cell_type": "code",
   "execution_count": null,
   "metadata": {},
   "outputs": [],
   "source": [
    "import networkx as nx\n",
    "from node2vec import Node2Vec\n",
    "import numpy as np\n",
    "\n",
    "# Create a NetworkX graph\n",
    "# (assuming you have already created the graph G)\n",
    "\n",
    "# Run Node2Vec\n",
    "node2vec = Node2Vec(G, dimensions=64, walk_length=30, num_walks=200, workers=4)\n",
    "model = node2vec.fit(window=10, min_count=1, batch_words=4)\n",
    "\n",
    "# Combine node embeddings to create edge embeddings\n",
    "def combine_node_embeddings(u, v, emb):\n",
    "    return (emb[u] + emb[v]) / 2\n",
    "\n",
    "edge_embeddings = {}\n",
    "for edge in G.edges():\n",
    "    u, v = edge\n",
    "    edge_embeddings[edge] = combine_node_embeddings(u, v, model.wv)\n",
    "\n",
    "# edge_embeddings contains the edge embeddings for the NetworkX graph\n"
   ]
  },
  {
   "cell_type": "code",
   "execution_count": null,
   "metadata": {},
   "outputs": [],
   "source": [
    "# Initialize the GCN and LSTM models\n",
    "\n",
    "lstm_model = LSTMModel(8, 32, 1, 6)\n",
    "# Prepare edge embeddings for LSTM\n",
    "edge_embeddings = edge_embeddings.view(1, -1, 8)\n",
    "\n",
    "# Run LSTM on edge embeddings and update the weights\n",
    "criterion = nn.CrossEntropyLoss()\n",
    "optimizer = torch.optim.Adam(lstm_model.parameters(), lr=0.001)\n",
    "\n",
    "# Dummy target, replace with actual target\n",
    "target = torch.tensor([2])  # Represents class d3, with labels ranging from 0 to 5 (inclusive)\n",
    "\n",
    "for epoch in range(100):\n",
    "    output = lstm_model(edge_embeddings)\n",
    "    loss = criterion(output.unsqueeze(0), target)\n",
    "    optimizer.zero_grad()\n",
    "    loss.backward()\n",
    "    optimizer.step()\n",
    "    print(f\"Epoch [{epoch+1}/100], Loss: {loss.item()}\")"
   ]
  }
 ],
 "metadata": {
  "kernelspec": {
   "display_name": "Python 3.9.2 64-bit ('3.9.2')",
   "language": "python",
   "name": "python3"
  },
  "language_info": {
   "name": "python",
   "version": "3.9.2"
  },
  "orig_nbformat": 4,
  "vscode": {
   "interpreter": {
    "hash": "8417d1dfa1d6fc0641ce57361e4c2424891a37ac2172e388282caca30e55c490"
   }
  }
 },
 "nbformat": 4,
 "nbformat_minor": 2
}
