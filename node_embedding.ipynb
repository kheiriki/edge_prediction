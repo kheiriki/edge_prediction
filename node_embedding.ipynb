{
 "cells": [
  {
   "cell_type": "code",
   "execution_count": 2,
   "metadata": {},
   "outputs": [
    {
     "name": "stdout",
     "output_type": "stream",
     "text": [
      "Traceback (most recent call last):\n",
      "  File \"/bin/pip\", line 11, in <module>\n",
      "    load_entry_point('pip==20.0.2', 'console_scripts', 'pip')()\n",
      "  File \"/usr/lib/python3/dist-packages/pkg_resources/__init__.py\", line 490, in load_entry_point\n",
      "    return get_distribution(dist).load_entry_point(group, name)\n",
      "  File \"/usr/lib/python3/dist-packages/pkg_resources/__init__.py\", line 2854, in load_entry_point\n",
      "    return ep.load()\n",
      "  File \"/usr/lib/python3/dist-packages/pkg_resources/__init__.py\", line 2445, in load\n",
      "    return self.resolve()\n",
      "  File \"/usr/lib/python3/dist-packages/pkg_resources/__init__.py\", line 2451, in resolve\n",
      "    module = __import__(self.module_name, fromlist=['__name__'], level=0)\n",
      "  File \"/usr/lib/python3/dist-packages/pip/_internal/cli/main.py\", line 10, in <module>\n",
      "    from pip._internal.cli.autocompletion import autocomplete\n",
      "  File \"/usr/lib/python3/dist-packages/pip/_internal/cli/autocompletion.py\", line 9, in <module>\n",
      "    from pip._internal.cli.main_parser import create_main_parser\n",
      "  File \"/usr/lib/python3/dist-packages/pip/_internal/cli/main_parser.py\", line 7, in <module>\n",
      "    from pip._internal.cli import cmdoptions\n",
      "  File \"/usr/lib/python3/dist-packages/pip/_internal/cli/cmdoptions.py\", line 24, in <module>\n",
      "    from pip._internal.exceptions import CommandError\n",
      "  File \"/usr/lib/python3/dist-packages/pip/_internal/exceptions.py\", line 10, in <module>\n",
      "    from pip._vendor.six import iteritems\n",
      "  File \"/usr/lib/python3/dist-packages/pip/_vendor/__init__.py\", line 65, in <module>\n",
      "    vendored(\"cachecontrol\")\n",
      "  File \"/usr/lib/python3/dist-packages/pip/_vendor/__init__.py\", line 36, in vendored\n",
      "    __import__(modulename, globals(), locals(), level=0)\n",
      "  File \"<frozen importlib._bootstrap>\", line 991, in _find_and_load\n",
      "  File \"<frozen importlib._bootstrap>\", line 975, in _find_and_load_unlocked\n",
      "  File \"<frozen importlib._bootstrap>\", line 655, in _load_unlocked\n",
      "  File \"<frozen importlib._bootstrap>\", line 618, in _load_backward_compatible\n",
      "  File \"<frozen zipimport>\", line 259, in load_module\n",
      "  File \"/usr/share/python-wheels/CacheControl-0.12.6-py2.py3-none-any.whl/cachecontrol/__init__.py\", line 9, in <module>\n",
      "  File \"<frozen importlib._bootstrap>\", line 991, in _find_and_load\n",
      "  File \"<frozen importlib._bootstrap>\", line 975, in _find_and_load_unlocked\n",
      "  File \"<frozen importlib._bootstrap>\", line 655, in _load_unlocked\n",
      "  File \"<frozen importlib._bootstrap>\", line 618, in _load_backward_compatible\n",
      "  File \"<frozen zipimport>\", line 259, in load_module\n",
      "  File \"/usr/share/python-wheels/CacheControl-0.12.6-py2.py3-none-any.whl/cachecontrol/wrapper.py\", line 1, in <module>\n",
      "  File \"<frozen importlib._bootstrap>\", line 991, in _find_and_load\n",
      "  File \"<frozen importlib._bootstrap>\", line 975, in _find_and_load_unlocked\n",
      "  File \"<frozen importlib._bootstrap>\", line 655, in _load_unlocked\n",
      "  File \"<frozen importlib._bootstrap>\", line 618, in _load_backward_compatible\n",
      "  File \"<frozen zipimport>\", line 259, in load_module\n",
      "  File \"/usr/share/python-wheels/CacheControl-0.12.6-py2.py3-none-any.whl/cachecontrol/adapter.py\", line 5, in <module>\n",
      "  File \"<frozen importlib._bootstrap>\", line 991, in _find_and_load\n",
      "  File \"<frozen importlib._bootstrap>\", line 975, in _find_and_load_unlocked\n",
      "  File \"<frozen importlib._bootstrap>\", line 655, in _load_unlocked\n",
      "  File \"<frozen importlib._bootstrap>\", line 618, in _load_backward_compatible\n",
      "  File \"<frozen zipimport>\", line 259, in load_module\n",
      "  File \"/usr/share/python-wheels/requests-2.22.0-py2.py3-none-any.whl/requests/__init__.py\", line 95, in <module>\n",
      "  File \"<frozen importlib._bootstrap>\", line 991, in _find_and_load\n",
      "  File \"<frozen importlib._bootstrap>\", line 975, in _find_and_load_unlocked\n",
      "  File \"<frozen importlib._bootstrap>\", line 655, in _load_unlocked\n",
      "  File \"<frozen importlib._bootstrap>\", line 618, in _load_backward_compatible\n",
      "  File \"<frozen zipimport>\", line 259, in load_module\n",
      "  File \"/usr/share/python-wheels/urllib3-1.25.8-py2.py3-none-any.whl/urllib3/contrib/pyopenssl.py\", line 46, in <module>\n",
      "  File \"/home/leanna/.local/lib/python3.8/site-packages/OpenSSL/__init__.py\", line 8, in <module>\n",
      "    from OpenSSL import SSL, crypto\n",
      "  File \"/home/leanna/.local/lib/python3.8/site-packages/OpenSSL/SSL.py\", line 19, in <module>\n",
      "    from OpenSSL.crypto import (\n",
      "  File \"/home/leanna/.local/lib/python3.8/site-packages/OpenSSL/crypto.py\", line 3224, in <module>\n",
      "    utils.deprecated(\n",
      "TypeError: deprecated() got an unexpected keyword argument 'name'\n",
      "Error in sys.excepthook:\n",
      "Traceback (most recent call last):\n",
      "  File \"/usr/lib/python3/dist-packages/apport_python_hook.py\", line 72, in apport_excepthook\n",
      "    from apport.fileutils import likely_packaged, get_recent_crashes\n",
      "  File \"/usr/lib/python3/dist-packages/apport/__init__.py\", line 5, in <module>\n",
      "    from apport.report import Report\n",
      "  File \"/usr/lib/python3/dist-packages/apport/report.py\", line 32, in <module>\n",
      "    import apport.fileutils\n",
      "  File \"/usr/lib/python3/dist-packages/apport/fileutils.py\", line 12, in <module>\n",
      "    import os, glob, subprocess, os.path, time, pwd, sys, requests_unixsocket\n",
      "  File \"/usr/lib/python3/dist-packages/requests_unixsocket/__init__.py\", line 1, in <module>\n",
      "    import requests\n",
      "  File \"<frozen importlib._bootstrap>\", line 991, in _find_and_load\n",
      "  File \"<frozen importlib._bootstrap>\", line 975, in _find_and_load_unlocked\n",
      "  File \"<frozen importlib._bootstrap>\", line 655, in _load_unlocked\n",
      "  File \"<frozen importlib._bootstrap>\", line 618, in _load_backward_compatible\n",
      "  File \"<frozen zipimport>\", line 259, in load_module\n",
      "  File \"/usr/share/python-wheels/requests-2.22.0-py2.py3-none-any.whl/requests/__init__.py\", line 95, in <module>\n",
      "  File \"<frozen importlib._bootstrap>\", line 991, in _find_and_load\n",
      "  File \"<frozen importlib._bootstrap>\", line 975, in _find_and_load_unlocked\n",
      "  File \"<frozen importlib._bootstrap>\", line 655, in _load_unlocked\n",
      "  File \"<frozen importlib._bootstrap>\", line 618, in _load_backward_compatible\n",
      "  File \"<frozen zipimport>\", line 259, in load_module\n",
      "  File \"/usr/share/python-wheels/urllib3-1.25.8-py2.py3-none-any.whl/urllib3/contrib/pyopenssl.py\", line 46, in <module>\n",
      "  File \"/home/leanna/.local/lib/python3.8/site-packages/OpenSSL/__init__.py\", line 8, in <module>\n",
      "    from OpenSSL import SSL, crypto\n",
      "  File \"/home/leanna/.local/lib/python3.8/site-packages/OpenSSL/SSL.py\", line 19, in <module>\n",
      "    from OpenSSL.crypto import (\n",
      "  File \"/home/leanna/.local/lib/python3.8/site-packages/OpenSSL/crypto.py\", line 3224, in <module>\n",
      "    utils.deprecated(\n",
      "TypeError: deprecated() got an unexpected keyword argument 'name'\n",
      "\n",
      "Original exception was:\n",
      "Traceback (most recent call last):\n",
      "  File \"/bin/pip\", line 11, in <module>\n",
      "    load_entry_point('pip==20.0.2', 'console_scripts', 'pip')()\n",
      "  File \"/usr/lib/python3/dist-packages/pkg_resources/__init__.py\", line 490, in load_entry_point\n",
      "    return get_distribution(dist).load_entry_point(group, name)\n",
      "  File \"/usr/lib/python3/dist-packages/pkg_resources/__init__.py\", line 2854, in load_entry_point\n",
      "    return ep.load()\n",
      "  File \"/usr/lib/python3/dist-packages/pkg_resources/__init__.py\", line 2445, in load\n",
      "    return self.resolve()\n",
      "  File \"/usr/lib/python3/dist-packages/pkg_resources/__init__.py\", line 2451, in resolve\n",
      "    module = __import__(self.module_name, fromlist=['__name__'], level=0)\n",
      "  File \"/usr/lib/python3/dist-packages/pip/_internal/cli/main.py\", line 10, in <module>\n",
      "    from pip._internal.cli.autocompletion import autocomplete\n",
      "  File \"/usr/lib/python3/dist-packages/pip/_internal/cli/autocompletion.py\", line 9, in <module>\n",
      "    from pip._internal.cli.main_parser import create_main_parser\n",
      "  File \"/usr/lib/python3/dist-packages/pip/_internal/cli/main_parser.py\", line 7, in <module>\n",
      "    from pip._internal.cli import cmdoptions\n",
      "  File \"/usr/lib/python3/dist-packages/pip/_internal/cli/cmdoptions.py\", line 24, in <module>\n",
      "    from pip._internal.exceptions import CommandError\n",
      "  File \"/usr/lib/python3/dist-packages/pip/_internal/exceptions.py\", line 10, in <module>\n",
      "    from pip._vendor.six import iteritems\n",
      "  File \"/usr/lib/python3/dist-packages/pip/_vendor/__init__.py\", line 65, in <module>\n",
      "    vendored(\"cachecontrol\")\n",
      "  File \"/usr/lib/python3/dist-packages/pip/_vendor/__init__.py\", line 36, in vendored\n",
      "    __import__(modulename, globals(), locals(), level=0)\n",
      "  File \"<frozen importlib._bootstrap>\", line 991, in _find_and_load\n",
      "  File \"<frozen importlib._bootstrap>\", line 975, in _find_and_load_unlocked\n",
      "  File \"<frozen importlib._bootstrap>\", line 655, in _load_unlocked\n",
      "  File \"<frozen importlib._bootstrap>\", line 618, in _load_backward_compatible\n",
      "  File \"<frozen zipimport>\", line 259, in load_module\n",
      "  File \"/usr/share/python-wheels/CacheControl-0.12.6-py2.py3-none-any.whl/cachecontrol/__init__.py\", line 9, in <module>\n",
      "  File \"<frozen importlib._bootstrap>\", line 991, in _find_and_load\n",
      "  File \"<frozen importlib._bootstrap>\", line 975, in _find_and_load_unlocked\n",
      "  File \"<frozen importlib._bootstrap>\", line 655, in _load_unlocked\n",
      "  File \"<frozen importlib._bootstrap>\", line 618, in _load_backward_compatible\n",
      "  File \"<frozen zipimport>\", line 259, in load_module\n",
      "  File \"/usr/share/python-wheels/CacheControl-0.12.6-py2.py3-none-any.whl/cachecontrol/wrapper.py\", line 1, in <module>\n",
      "  File \"<frozen importlib._bootstrap>\", line 991, in _find_and_load\n",
      "  File \"<frozen importlib._bootstrap>\", line 975, in _find_and_load_unlocked\n",
      "  File \"<frozen importlib._bootstrap>\", line 655, in _load_unlocked\n",
      "  File \"<frozen importlib._bootstrap>\", line 618, in _load_backward_compatible\n",
      "  File \"<frozen zipimport>\", line 259, in load_module\n",
      "  File \"/usr/share/python-wheels/CacheControl-0.12.6-py2.py3-none-any.whl/cachecontrol/adapter.py\", line 5, in <module>\n",
      "  File \"<frozen importlib._bootstrap>\", line 991, in _find_and_load\n",
      "  File \"<frozen importlib._bootstrap>\", line 975, in _find_and_load_unlocked\n",
      "  File \"<frozen importlib._bootstrap>\", line 655, in _load_unlocked\n",
      "  File \"<frozen importlib._bootstrap>\", line 618, in _load_backward_compatible\n",
      "  File \"<frozen zipimport>\", line 259, in load_module\n",
      "  File \"/usr/share/python-wheels/requests-2.22.0-py2.py3-none-any.whl/requests/__init__.py\", line 95, in <module>\n",
      "  File \"<frozen importlib._bootstrap>\", line 991, in _find_and_load\n",
      "  File \"<frozen importlib._bootstrap>\", line 975, in _find_and_load_unlocked\n",
      "  File \"<frozen importlib._bootstrap>\", line 655, in _load_unlocked\n",
      "  File \"<frozen importlib._bootstrap>\", line 618, in _load_backward_compatible\n",
      "  File \"<frozen zipimport>\", line 259, in load_module\n",
      "  File \"/usr/share/python-wheels/urllib3-1.25.8-py2.py3-none-any.whl/urllib3/contrib/pyopenssl.py\", line 46, in <module>\n",
      "  File \"/home/leanna/.local/lib/python3.8/site-packages/OpenSSL/__init__.py\", line 8, in <module>\n",
      "    from OpenSSL import SSL, crypto\n",
      "  File \"/home/leanna/.local/lib/python3.8/site-packages/OpenSSL/SSL.py\", line 19, in <module>\n",
      "    from OpenSSL.crypto import (\n",
      "  File \"/home/leanna/.local/lib/python3.8/site-packages/OpenSSL/crypto.py\", line 3224, in <module>\n",
      "    utils.deprecated(\n",
      "TypeError: deprecated() got an unexpected keyword argument 'name'\n",
      "/bin/bash: python: command not found\n",
      "Traceback (most recent call last):\n",
      "  File \"/bin/pip\", line 11, in <module>\n",
      "    load_entry_point('pip==20.0.2', 'console_scripts', 'pip')()\n",
      "  File \"/usr/lib/python3/dist-packages/pkg_resources/__init__.py\", line 490, in load_entry_point\n",
      "    return get_distribution(dist).load_entry_point(group, name)\n",
      "  File \"/usr/lib/python3/dist-packages/pkg_resources/__init__.py\", line 2854, in load_entry_point\n",
      "    return ep.load()\n",
      "  File \"/usr/lib/python3/dist-packages/pkg_resources/__init__.py\", line 2445, in load\n",
      "    return self.resolve()\n",
      "  File \"/usr/lib/python3/dist-packages/pkg_resources/__init__.py\", line 2451, in resolve\n",
      "    module = __import__(self.module_name, fromlist=['__name__'], level=0)\n",
      "  File \"/usr/lib/python3/dist-packages/pip/_internal/cli/main.py\", line 10, in <module>\n",
      "    from pip._internal.cli.autocompletion import autocomplete\n",
      "  File \"/usr/lib/python3/dist-packages/pip/_internal/cli/autocompletion.py\", line 9, in <module>\n",
      "    from pip._internal.cli.main_parser import create_main_parser\n",
      "  File \"/usr/lib/python3/dist-packages/pip/_internal/cli/main_parser.py\", line 7, in <module>\n",
      "    from pip._internal.cli import cmdoptions\n",
      "  File \"/usr/lib/python3/dist-packages/pip/_internal/cli/cmdoptions.py\", line 24, in <module>\n",
      "    from pip._internal.exceptions import CommandError\n",
      "  File \"/usr/lib/python3/dist-packages/pip/_internal/exceptions.py\", line 10, in <module>\n",
      "    from pip._vendor.six import iteritems\n",
      "  File \"/usr/lib/python3/dist-packages/pip/_vendor/__init__.py\", line 65, in <module>\n",
      "    vendored(\"cachecontrol\")\n",
      "  File \"/usr/lib/python3/dist-packages/pip/_vendor/__init__.py\", line 36, in vendored\n",
      "    __import__(modulename, globals(), locals(), level=0)\n",
      "  File \"<frozen importlib._bootstrap>\", line 991, in _find_and_load\n",
      "  File \"<frozen importlib._bootstrap>\", line 975, in _find_and_load_unlocked\n",
      "  File \"<frozen importlib._bootstrap>\", line 655, in _load_unlocked\n",
      "  File \"<frozen importlib._bootstrap>\", line 618, in _load_backward_compatible\n",
      "  File \"<frozen zipimport>\", line 259, in load_module\n",
      "  File \"/usr/share/python-wheels/CacheControl-0.12.6-py2.py3-none-any.whl/cachecontrol/__init__.py\", line 9, in <module>\n",
      "  File \"<frozen importlib._bootstrap>\", line 991, in _find_and_load\n",
      "  File \"<frozen importlib._bootstrap>\", line 975, in _find_and_load_unlocked\n",
      "  File \"<frozen importlib._bootstrap>\", line 655, in _load_unlocked\n",
      "  File \"<frozen importlib._bootstrap>\", line 618, in _load_backward_compatible\n",
      "  File \"<frozen zipimport>\", line 259, in load_module\n",
      "  File \"/usr/share/python-wheels/CacheControl-0.12.6-py2.py3-none-any.whl/cachecontrol/wrapper.py\", line 1, in <module>\n",
      "  File \"<frozen importlib._bootstrap>\", line 991, in _find_and_load\n",
      "  File \"<frozen importlib._bootstrap>\", line 975, in _find_and_load_unlocked\n",
      "  File \"<frozen importlib._bootstrap>\", line 655, in _load_unlocked\n",
      "  File \"<frozen importlib._bootstrap>\", line 618, in _load_backward_compatible\n",
      "  File \"<frozen zipimport>\", line 259, in load_module\n",
      "  File \"/usr/share/python-wheels/CacheControl-0.12.6-py2.py3-none-any.whl/cachecontrol/adapter.py\", line 5, in <module>\n",
      "  File \"<frozen importlib._bootstrap>\", line 991, in _find_and_load\n",
      "  File \"<frozen importlib._bootstrap>\", line 975, in _find_and_load_unlocked\n",
      "  File \"<frozen importlib._bootstrap>\", line 655, in _load_unlocked\n",
      "  File \"<frozen importlib._bootstrap>\", line 618, in _load_backward_compatible\n",
      "  File \"<frozen zipimport>\", line 259, in load_module\n",
      "  File \"/usr/share/python-wheels/requests-2.22.0-py2.py3-none-any.whl/requests/__init__.py\", line 95, in <module>\n",
      "  File \"<frozen importlib._bootstrap>\", line 991, in _find_and_load\n",
      "  File \"<frozen importlib._bootstrap>\", line 975, in _find_and_load_unlocked\n",
      "  File \"<frozen importlib._bootstrap>\", line 655, in _load_unlocked\n",
      "  File \"<frozen importlib._bootstrap>\", line 618, in _load_backward_compatible\n",
      "  File \"<frozen zipimport>\", line 259, in load_module\n",
      "  File \"/usr/share/python-wheels/urllib3-1.25.8-py2.py3-none-any.whl/urllib3/contrib/pyopenssl.py\", line 46, in <module>\n",
      "  File \"/home/leanna/.local/lib/python3.8/site-packages/OpenSSL/__init__.py\", line 8, in <module>\n",
      "    from OpenSSL import SSL, crypto\n",
      "  File \"/home/leanna/.local/lib/python3.8/site-packages/OpenSSL/SSL.py\", line 19, in <module>\n",
      "    from OpenSSL.crypto import (\n",
      "  File \"/home/leanna/.local/lib/python3.8/site-packages/OpenSSL/crypto.py\", line 3224, in <module>\n",
      "    utils.deprecated(\n",
      "TypeError: deprecated() got an unexpected keyword argument 'name'\n",
      "Error in sys.excepthook:\n",
      "Traceback (most recent call last):\n",
      "  File \"/usr/lib/python3/dist-packages/apport_python_hook.py\", line 72, in apport_excepthook\n",
      "    from apport.fileutils import likely_packaged, get_recent_crashes\n",
      "  File \"/usr/lib/python3/dist-packages/apport/__init__.py\", line 5, in <module>\n",
      "    from apport.report import Report\n",
      "  File \"/usr/lib/python3/dist-packages/apport/report.py\", line 32, in <module>\n",
      "    import apport.fileutils\n",
      "  File \"/usr/lib/python3/dist-packages/apport/fileutils.py\", line 12, in <module>\n",
      "    import os, glob, subprocess, os.path, time, pwd, sys, requests_unixsocket\n",
      "  File \"/usr/lib/python3/dist-packages/requests_unixsocket/__init__.py\", line 1, in <module>\n",
      "    import requests\n",
      "  File \"<frozen importlib._bootstrap>\", line 991, in _find_and_load\n",
      "  File \"<frozen importlib._bootstrap>\", line 975, in _find_and_load_unlocked\n",
      "  File \"<frozen importlib._bootstrap>\", line 655, in _load_unlocked\n",
      "  File \"<frozen importlib._bootstrap>\", line 618, in _load_backward_compatible\n",
      "  File \"<frozen zipimport>\", line 259, in load_module\n",
      "  File \"/usr/share/python-wheels/requests-2.22.0-py2.py3-none-any.whl/requests/__init__.py\", line 95, in <module>\n",
      "  File \"<frozen importlib._bootstrap>\", line 991, in _find_and_load\n",
      "  File \"<frozen importlib._bootstrap>\", line 975, in _find_and_load_unlocked\n",
      "  File \"<frozen importlib._bootstrap>\", line 655, in _load_unlocked\n",
      "  File \"<frozen importlib._bootstrap>\", line 618, in _load_backward_compatible\n",
      "  File \"<frozen zipimport>\", line 259, in load_module\n",
      "  File \"/usr/share/python-wheels/urllib3-1.25.8-py2.py3-none-any.whl/urllib3/contrib/pyopenssl.py\", line 46, in <module>\n",
      "  File \"/home/leanna/.local/lib/python3.8/site-packages/OpenSSL/__init__.py\", line 8, in <module>\n",
      "    from OpenSSL import SSL, crypto\n",
      "  File \"/home/leanna/.local/lib/python3.8/site-packages/OpenSSL/SSL.py\", line 19, in <module>\n",
      "    from OpenSSL.crypto import (\n",
      "  File \"/home/leanna/.local/lib/python3.8/site-packages/OpenSSL/crypto.py\", line 3224, in <module>\n",
      "    utils.deprecated(\n",
      "TypeError: deprecated() got an unexpected keyword argument 'name'\n",
      "\n",
      "Original exception was:\n",
      "Traceback (most recent call last):\n",
      "  File \"/bin/pip\", line 11, in <module>\n",
      "    load_entry_point('pip==20.0.2', 'console_scripts', 'pip')()\n",
      "  File \"/usr/lib/python3/dist-packages/pkg_resources/__init__.py\", line 490, in load_entry_point\n",
      "    return get_distribution(dist).load_entry_point(group, name)\n",
      "  File \"/usr/lib/python3/dist-packages/pkg_resources/__init__.py\", line 2854, in load_entry_point\n",
      "    return ep.load()\n",
      "  File \"/usr/lib/python3/dist-packages/pkg_resources/__init__.py\", line 2445, in load\n",
      "    return self.resolve()\n",
      "  File \"/usr/lib/python3/dist-packages/pkg_resources/__init__.py\", line 2451, in resolve\n",
      "    module = __import__(self.module_name, fromlist=['__name__'], level=0)\n",
      "  File \"/usr/lib/python3/dist-packages/pip/_internal/cli/main.py\", line 10, in <module>\n",
      "    from pip._internal.cli.autocompletion import autocomplete\n",
      "  File \"/usr/lib/python3/dist-packages/pip/_internal/cli/autocompletion.py\", line 9, in <module>\n",
      "    from pip._internal.cli.main_parser import create_main_parser\n",
      "  File \"/usr/lib/python3/dist-packages/pip/_internal/cli/main_parser.py\", line 7, in <module>\n",
      "    from pip._internal.cli import cmdoptions\n",
      "  File \"/usr/lib/python3/dist-packages/pip/_internal/cli/cmdoptions.py\", line 24, in <module>\n",
      "    from pip._internal.exceptions import CommandError\n",
      "  File \"/usr/lib/python3/dist-packages/pip/_internal/exceptions.py\", line 10, in <module>\n",
      "    from pip._vendor.six import iteritems\n",
      "  File \"/usr/lib/python3/dist-packages/pip/_vendor/__init__.py\", line 65, in <module>\n",
      "    vendored(\"cachecontrol\")\n",
      "  File \"/usr/lib/python3/dist-packages/pip/_vendor/__init__.py\", line 36, in vendored\n",
      "    __import__(modulename, globals(), locals(), level=0)\n",
      "  File \"<frozen importlib._bootstrap>\", line 991, in _find_and_load\n",
      "  File \"<frozen importlib._bootstrap>\", line 975, in _find_and_load_unlocked\n",
      "  File \"<frozen importlib._bootstrap>\", line 655, in _load_unlocked\n",
      "  File \"<frozen importlib._bootstrap>\", line 618, in _load_backward_compatible\n",
      "  File \"<frozen zipimport>\", line 259, in load_module\n",
      "  File \"/usr/share/python-wheels/CacheControl-0.12.6-py2.py3-none-any.whl/cachecontrol/__init__.py\", line 9, in <module>\n",
      "  File \"<frozen importlib._bootstrap>\", line 991, in _find_and_load\n",
      "  File \"<frozen importlib._bootstrap>\", line 975, in _find_and_load_unlocked\n",
      "  File \"<frozen importlib._bootstrap>\", line 655, in _load_unlocked\n",
      "  File \"<frozen importlib._bootstrap>\", line 618, in _load_backward_compatible\n",
      "  File \"<frozen zipimport>\", line 259, in load_module\n",
      "  File \"/usr/share/python-wheels/CacheControl-0.12.6-py2.py3-none-any.whl/cachecontrol/wrapper.py\", line 1, in <module>\n",
      "  File \"<frozen importlib._bootstrap>\", line 991, in _find_and_load\n",
      "  File \"<frozen importlib._bootstrap>\", line 975, in _find_and_load_unlocked\n",
      "  File \"<frozen importlib._bootstrap>\", line 655, in _load_unlocked\n",
      "  File \"<frozen importlib._bootstrap>\", line 618, in _load_backward_compatible\n",
      "  File \"<frozen zipimport>\", line 259, in load_module\n",
      "  File \"/usr/share/python-wheels/CacheControl-0.12.6-py2.py3-none-any.whl/cachecontrol/adapter.py\", line 5, in <module>\n",
      "  File \"<frozen importlib._bootstrap>\", line 991, in _find_and_load\n",
      "  File \"<frozen importlib._bootstrap>\", line 975, in _find_and_load_unlocked\n",
      "  File \"<frozen importlib._bootstrap>\", line 655, in _load_unlocked\n",
      "  File \"<frozen importlib._bootstrap>\", line 618, in _load_backward_compatible\n",
      "  File \"<frozen zipimport>\", line 259, in load_module\n",
      "  File \"/usr/share/python-wheels/requests-2.22.0-py2.py3-none-any.whl/requests/__init__.py\", line 95, in <module>\n",
      "  File \"<frozen importlib._bootstrap>\", line 991, in _find_and_load\n",
      "  File \"<frozen importlib._bootstrap>\", line 975, in _find_and_load_unlocked\n",
      "  File \"<frozen importlib._bootstrap>\", line 655, in _load_unlocked\n",
      "  File \"<frozen importlib._bootstrap>\", line 618, in _load_backward_compatible\n",
      "  File \"<frozen zipimport>\", line 259, in load_module\n",
      "  File \"/usr/share/python-wheels/urllib3-1.25.8-py2.py3-none-any.whl/urllib3/contrib/pyopenssl.py\", line 46, in <module>\n",
      "  File \"/home/leanna/.local/lib/python3.8/site-packages/OpenSSL/__init__.py\", line 8, in <module>\n",
      "    from OpenSSL import SSL, crypto\n",
      "  File \"/home/leanna/.local/lib/python3.8/site-packages/OpenSSL/SSL.py\", line 19, in <module>\n",
      "    from OpenSSL.crypto import (\n",
      "  File \"/home/leanna/.local/lib/python3.8/site-packages/OpenSSL/crypto.py\", line 3224, in <module>\n",
      "    utils.deprecated(\n",
      "TypeError: deprecated() got an unexpected keyword argument 'name'\n",
      "Traceback (most recent call last):\n",
      "  File \"/bin/pip\", line 11, in <module>\n",
      "    load_entry_point('pip==20.0.2', 'console_scripts', 'pip')()\n",
      "  File \"/usr/lib/python3/dist-packages/pkg_resources/__init__.py\", line 490, in load_entry_point\n",
      "    return get_distribution(dist).load_entry_point(group, name)\n",
      "  File \"/usr/lib/python3/dist-packages/pkg_resources/__init__.py\", line 2854, in load_entry_point\n",
      "    return ep.load()\n",
      "  File \"/usr/lib/python3/dist-packages/pkg_resources/__init__.py\", line 2445, in load\n",
      "    return self.resolve()\n",
      "  File \"/usr/lib/python3/dist-packages/pkg_resources/__init__.py\", line 2451, in resolve\n",
      "    module = __import__(self.module_name, fromlist=['__name__'], level=0)\n",
      "  File \"/usr/lib/python3/dist-packages/pip/_internal/cli/main.py\", line 10, in <module>\n",
      "    from pip._internal.cli.autocompletion import autocomplete\n",
      "  File \"/usr/lib/python3/dist-packages/pip/_internal/cli/autocompletion.py\", line 9, in <module>\n",
      "    from pip._internal.cli.main_parser import create_main_parser\n",
      "  File \"/usr/lib/python3/dist-packages/pip/_internal/cli/main_parser.py\", line 7, in <module>\n",
      "    from pip._internal.cli import cmdoptions\n",
      "  File \"/usr/lib/python3/dist-packages/pip/_internal/cli/cmdoptions.py\", line 24, in <module>\n",
      "    from pip._internal.exceptions import CommandError\n",
      "  File \"/usr/lib/python3/dist-packages/pip/_internal/exceptions.py\", line 10, in <module>\n",
      "    from pip._vendor.six import iteritems\n",
      "  File \"/usr/lib/python3/dist-packages/pip/_vendor/__init__.py\", line 65, in <module>\n",
      "    vendored(\"cachecontrol\")\n",
      "  File \"/usr/lib/python3/dist-packages/pip/_vendor/__init__.py\", line 36, in vendored\n",
      "    __import__(modulename, globals(), locals(), level=0)\n",
      "  File \"<frozen importlib._bootstrap>\", line 991, in _find_and_load\n",
      "  File \"<frozen importlib._bootstrap>\", line 975, in _find_and_load_unlocked\n",
      "  File \"<frozen importlib._bootstrap>\", line 655, in _load_unlocked\n",
      "  File \"<frozen importlib._bootstrap>\", line 618, in _load_backward_compatible\n",
      "  File \"<frozen zipimport>\", line 259, in load_module\n",
      "  File \"/usr/share/python-wheels/CacheControl-0.12.6-py2.py3-none-any.whl/cachecontrol/__init__.py\", line 9, in <module>\n",
      "  File \"<frozen importlib._bootstrap>\", line 991, in _find_and_load\n",
      "  File \"<frozen importlib._bootstrap>\", line 975, in _find_and_load_unlocked\n",
      "  File \"<frozen importlib._bootstrap>\", line 655, in _load_unlocked\n",
      "  File \"<frozen importlib._bootstrap>\", line 618, in _load_backward_compatible\n",
      "  File \"<frozen zipimport>\", line 259, in load_module\n",
      "  File \"/usr/share/python-wheels/CacheControl-0.12.6-py2.py3-none-any.whl/cachecontrol/wrapper.py\", line 1, in <module>\n",
      "  File \"<frozen importlib._bootstrap>\", line 991, in _find_and_load\n",
      "  File \"<frozen importlib._bootstrap>\", line 975, in _find_and_load_unlocked\n",
      "  File \"<frozen importlib._bootstrap>\", line 655, in _load_unlocked\n",
      "  File \"<frozen importlib._bootstrap>\", line 618, in _load_backward_compatible\n",
      "  File \"<frozen zipimport>\", line 259, in load_module\n",
      "  File \"/usr/share/python-wheels/CacheControl-0.12.6-py2.py3-none-any.whl/cachecontrol/adapter.py\", line 5, in <module>\n",
      "  File \"<frozen importlib._bootstrap>\", line 991, in _find_and_load\n",
      "  File \"<frozen importlib._bootstrap>\", line 975, in _find_and_load_unlocked\n",
      "  File \"<frozen importlib._bootstrap>\", line 655, in _load_unlocked\n",
      "  File \"<frozen importlib._bootstrap>\", line 618, in _load_backward_compatible\n",
      "  File \"<frozen zipimport>\", line 259, in load_module\n",
      "  File \"/usr/share/python-wheels/requests-2.22.0-py2.py3-none-any.whl/requests/__init__.py\", line 95, in <module>\n",
      "  File \"<frozen importlib._bootstrap>\", line 991, in _find_and_load\n",
      "  File \"<frozen importlib._bootstrap>\", line 975, in _find_and_load_unlocked\n",
      "  File \"<frozen importlib._bootstrap>\", line 655, in _load_unlocked\n",
      "  File \"<frozen importlib._bootstrap>\", line 618, in _load_backward_compatible\n",
      "  File \"<frozen zipimport>\", line 259, in load_module\n",
      "  File \"/usr/share/python-wheels/urllib3-1.25.8-py2.py3-none-any.whl/urllib3/contrib/pyopenssl.py\", line 46, in <module>\n",
      "  File \"/home/leanna/.local/lib/python3.8/site-packages/OpenSSL/__init__.py\", line 8, in <module>\n",
      "    from OpenSSL import SSL, crypto\n",
      "  File \"/home/leanna/.local/lib/python3.8/site-packages/OpenSSL/SSL.py\", line 19, in <module>\n",
      "    from OpenSSL.crypto import (\n",
      "  File \"/home/leanna/.local/lib/python3.8/site-packages/OpenSSL/crypto.py\", line 3224, in <module>\n",
      "    utils.deprecated(\n",
      "TypeError: deprecated() got an unexpected keyword argument 'name'\n",
      "Error in sys.excepthook:\n",
      "Traceback (most recent call last):\n",
      "  File \"/usr/lib/python3/dist-packages/apport_python_hook.py\", line 72, in apport_excepthook\n",
      "    from apport.fileutils import likely_packaged, get_recent_crashes\n",
      "  File \"/usr/lib/python3/dist-packages/apport/__init__.py\", line 5, in <module>\n",
      "    from apport.report import Report\n",
      "  File \"/usr/lib/python3/dist-packages/apport/report.py\", line 32, in <module>\n",
      "    import apport.fileutils\n",
      "  File \"/usr/lib/python3/dist-packages/apport/fileutils.py\", line 12, in <module>\n",
      "    import os, glob, subprocess, os.path, time, pwd, sys, requests_unixsocket\n",
      "  File \"/usr/lib/python3/dist-packages/requests_unixsocket/__init__.py\", line 1, in <module>\n",
      "    import requests\n",
      "  File \"<frozen importlib._bootstrap>\", line 991, in _find_and_load\n",
      "  File \"<frozen importlib._bootstrap>\", line 975, in _find_and_load_unlocked\n",
      "  File \"<frozen importlib._bootstrap>\", line 655, in _load_unlocked\n",
      "  File \"<frozen importlib._bootstrap>\", line 618, in _load_backward_compatible\n",
      "  File \"<frozen zipimport>\", line 259, in load_module\n",
      "  File \"/usr/share/python-wheels/requests-2.22.0-py2.py3-none-any.whl/requests/__init__.py\", line 95, in <module>\n",
      "  File \"<frozen importlib._bootstrap>\", line 991, in _find_and_load\n",
      "  File \"<frozen importlib._bootstrap>\", line 975, in _find_and_load_unlocked\n",
      "  File \"<frozen importlib._bootstrap>\", line 655, in _load_unlocked\n",
      "  File \"<frozen importlib._bootstrap>\", line 618, in _load_backward_compatible\n",
      "  File \"<frozen zipimport>\", line 259, in load_module\n",
      "  File \"/usr/share/python-wheels/urllib3-1.25.8-py2.py3-none-any.whl/urllib3/contrib/pyopenssl.py\", line 46, in <module>\n",
      "  File \"/home/leanna/.local/lib/python3.8/site-packages/OpenSSL/__init__.py\", line 8, in <module>\n",
      "    from OpenSSL import SSL, crypto\n",
      "  File \"/home/leanna/.local/lib/python3.8/site-packages/OpenSSL/SSL.py\", line 19, in <module>\n",
      "    from OpenSSL.crypto import (\n",
      "  File \"/home/leanna/.local/lib/python3.8/site-packages/OpenSSL/crypto.py\", line 3224, in <module>\n",
      "    utils.deprecated(\n",
      "TypeError: deprecated() got an unexpected keyword argument 'name'\n",
      "\n",
      "Original exception was:\n",
      "Traceback (most recent call last):\n",
      "  File \"/bin/pip\", line 11, in <module>\n",
      "    load_entry_point('pip==20.0.2', 'console_scripts', 'pip')()\n",
      "  File \"/usr/lib/python3/dist-packages/pkg_resources/__init__.py\", line 490, in load_entry_point\n",
      "    return get_distribution(dist).load_entry_point(group, name)\n",
      "  File \"/usr/lib/python3/dist-packages/pkg_resources/__init__.py\", line 2854, in load_entry_point\n",
      "    return ep.load()\n",
      "  File \"/usr/lib/python3/dist-packages/pkg_resources/__init__.py\", line 2445, in load\n",
      "    return self.resolve()\n",
      "  File \"/usr/lib/python3/dist-packages/pkg_resources/__init__.py\", line 2451, in resolve\n",
      "    module = __import__(self.module_name, fromlist=['__name__'], level=0)\n",
      "  File \"/usr/lib/python3/dist-packages/pip/_internal/cli/main.py\", line 10, in <module>\n",
      "    from pip._internal.cli.autocompletion import autocomplete\n",
      "  File \"/usr/lib/python3/dist-packages/pip/_internal/cli/autocompletion.py\", line 9, in <module>\n",
      "    from pip._internal.cli.main_parser import create_main_parser\n",
      "  File \"/usr/lib/python3/dist-packages/pip/_internal/cli/main_parser.py\", line 7, in <module>\n",
      "    from pip._internal.cli import cmdoptions\n",
      "  File \"/usr/lib/python3/dist-packages/pip/_internal/cli/cmdoptions.py\", line 24, in <module>\n",
      "    from pip._internal.exceptions import CommandError\n",
      "  File \"/usr/lib/python3/dist-packages/pip/_internal/exceptions.py\", line 10, in <module>\n",
      "    from pip._vendor.six import iteritems\n",
      "  File \"/usr/lib/python3/dist-packages/pip/_vendor/__init__.py\", line 65, in <module>\n",
      "    vendored(\"cachecontrol\")\n",
      "  File \"/usr/lib/python3/dist-packages/pip/_vendor/__init__.py\", line 36, in vendored\n",
      "    __import__(modulename, globals(), locals(), level=0)\n",
      "  File \"<frozen importlib._bootstrap>\", line 991, in _find_and_load\n",
      "  File \"<frozen importlib._bootstrap>\", line 975, in _find_and_load_unlocked\n",
      "  File \"<frozen importlib._bootstrap>\", line 655, in _load_unlocked\n",
      "  File \"<frozen importlib._bootstrap>\", line 618, in _load_backward_compatible\n",
      "  File \"<frozen zipimport>\", line 259, in load_module\n",
      "  File \"/usr/share/python-wheels/CacheControl-0.12.6-py2.py3-none-any.whl/cachecontrol/__init__.py\", line 9, in <module>\n",
      "  File \"<frozen importlib._bootstrap>\", line 991, in _find_and_load\n",
      "  File \"<frozen importlib._bootstrap>\", line 975, in _find_and_load_unlocked\n",
      "  File \"<frozen importlib._bootstrap>\", line 655, in _load_unlocked\n",
      "  File \"<frozen importlib._bootstrap>\", line 618, in _load_backward_compatible\n",
      "  File \"<frozen zipimport>\", line 259, in load_module\n",
      "  File \"/usr/share/python-wheels/CacheControl-0.12.6-py2.py3-none-any.whl/cachecontrol/wrapper.py\", line 1, in <module>\n",
      "  File \"<frozen importlib._bootstrap>\", line 991, in _find_and_load\n",
      "  File \"<frozen importlib._bootstrap>\", line 975, in _find_and_load_unlocked\n",
      "  File \"<frozen importlib._bootstrap>\", line 655, in _load_unlocked\n",
      "  File \"<frozen importlib._bootstrap>\", line 618, in _load_backward_compatible\n",
      "  File \"<frozen zipimport>\", line 259, in load_module\n",
      "  File \"/usr/share/python-wheels/CacheControl-0.12.6-py2.py3-none-any.whl/cachecontrol/adapter.py\", line 5, in <module>\n",
      "  File \"<frozen importlib._bootstrap>\", line 991, in _find_and_load\n",
      "  File \"<frozen importlib._bootstrap>\", line 975, in _find_and_load_unlocked\n",
      "  File \"<frozen importlib._bootstrap>\", line 655, in _load_unlocked\n",
      "  File \"<frozen importlib._bootstrap>\", line 618, in _load_backward_compatible\n",
      "  File \"<frozen zipimport>\", line 259, in load_module\n",
      "  File \"/usr/share/python-wheels/requests-2.22.0-py2.py3-none-any.whl/requests/__init__.py\", line 95, in <module>\n",
      "  File \"<frozen importlib._bootstrap>\", line 991, in _find_and_load\n",
      "  File \"<frozen importlib._bootstrap>\", line 975, in _find_and_load_unlocked\n",
      "  File \"<frozen importlib._bootstrap>\", line 655, in _load_unlocked\n",
      "  File \"<frozen importlib._bootstrap>\", line 618, in _load_backward_compatible\n",
      "  File \"<frozen zipimport>\", line 259, in load_module\n",
      "  File \"/usr/share/python-wheels/urllib3-1.25.8-py2.py3-none-any.whl/urllib3/contrib/pyopenssl.py\", line 46, in <module>\n",
      "  File \"/home/leanna/.local/lib/python3.8/site-packages/OpenSSL/__init__.py\", line 8, in <module>\n",
      "    from OpenSSL import SSL, crypto\n",
      "  File \"/home/leanna/.local/lib/python3.8/site-packages/OpenSSL/SSL.py\", line 19, in <module>\n",
      "    from OpenSSL.crypto import (\n",
      "  File \"/home/leanna/.local/lib/python3.8/site-packages/OpenSSL/crypto.py\", line 3224, in <module>\n",
      "    utils.deprecated(\n",
      "TypeError: deprecated() got an unexpected keyword argument 'name'\n"
     ]
    },
    {
     "name": "stderr",
     "output_type": "stream",
     "text": [
      "WARNING: pip is being invoked by an old script wrapper. This will fail in a future version of pip.\n",
      "Please see https://github.com/pypa/pip/issues/5599 for advice on fixing the underlying issue.\n",
      "To avoid this problem you can invoke Python with '-m pip' instead of running pip directly.\n"
     ]
    },
    {
     "data": {
      "text/html": [
       "<pre style=\"white-space:pre;overflow-x:auto;line-height:normal;font-family:Menlo,'DejaVu Sans Mono',consolas,'Courier New',monospace\">Defaulting to user installation because normal site-packages is not writeable\n",
       "</pre>\n"
      ],
      "text/plain": [
       "Defaulting to user installation because normal site-packages is not writeable\n"
      ]
     },
     "metadata": {},
     "output_type": "display_data"
    },
    {
     "data": {
      "text/html": [
       "<pre style=\"white-space:pre;overflow-x:auto;line-height:normal;font-family:Menlo,'DejaVu Sans Mono',consolas,'Courier New',monospace\">Requirement already satisfied: matplotlib in /usr/local/lib/python3.8/dist-packages (3.5.2)\n",
       "</pre>\n"
      ],
      "text/plain": [
       "Requirement already satisfied: matplotlib in /usr/local/lib/python3.8/dist-packages (3.5.2)\n"
      ]
     },
     "metadata": {},
     "output_type": "display_data"
    },
    {
     "data": {
      "text/html": [
       "<pre style=\"white-space:pre;overflow-x:auto;line-height:normal;font-family:Menlo,'DejaVu Sans Mono',consolas,'Courier New',monospace\">Requirement already satisfied: numpy&gt;=1.17 in /usr/local/lib/python3.8/dist-packages (from matplotlib) (1.23.1)\n",
       "</pre>\n"
      ],
      "text/plain": [
       "Requirement already satisfied: numpy>=1.17 in /usr/local/lib/python3.8/dist-packages (from matplotlib) (1.23.1)\n"
      ]
     },
     "metadata": {},
     "output_type": "display_data"
    },
    {
     "data": {
      "text/html": [
       "<pre style=\"white-space:pre;overflow-x:auto;line-height:normal;font-family:Menlo,'DejaVu Sans Mono',consolas,'Courier New',monospace\">Requirement already satisfied: packaging&gt;=20.0 in /usr/local/lib/python3.8/dist-packages (from matplotlib) (21.3)\n",
       "</pre>\n"
      ],
      "text/plain": [
       "Requirement already satisfied: packaging>=20.0 in /usr/local/lib/python3.8/dist-packages (from matplotlib) (21.3)\n"
      ]
     },
     "metadata": {},
     "output_type": "display_data"
    },
    {
     "data": {
      "text/html": [
       "<pre style=\"white-space:pre;overflow-x:auto;line-height:normal;font-family:Menlo,'DejaVu Sans Mono',consolas,'Courier New',monospace\">Requirement already satisfied: python-dateutil&gt;=2.7 in /home/leanna/.local/lib/python3.8/site-packages (from matplotlib) (2.8.2)\n",
       "</pre>\n"
      ],
      "text/plain": [
       "Requirement already satisfied: python-dateutil>=2.7 in /home/leanna/.local/lib/python3.8/site-packages (from matplotlib) (2.8.2)\n"
      ]
     },
     "metadata": {},
     "output_type": "display_data"
    },
    {
     "data": {
      "text/html": [
       "<pre style=\"white-space:pre;overflow-x:auto;line-height:normal;font-family:Menlo,'DejaVu Sans Mono',consolas,'Courier New',monospace\">Requirement already satisfied: kiwisolver&gt;=1.0.1 in /usr/local/lib/python3.8/dist-packages (from matplotlib) (1.4.4)\n",
       "</pre>\n"
      ],
      "text/plain": [
       "Requirement already satisfied: kiwisolver>=1.0.1 in /usr/local/lib/python3.8/dist-packages (from matplotlib) (1.4.4)\n"
      ]
     },
     "metadata": {},
     "output_type": "display_data"
    },
    {
     "data": {
      "text/html": [
       "<pre style=\"white-space:pre;overflow-x:auto;line-height:normal;font-family:Menlo,'DejaVu Sans Mono',consolas,'Courier New',monospace\">Requirement already satisfied: pyparsing&gt;=2.2.1 in /usr/local/lib/python3.8/dist-packages (from matplotlib) (3.0.9)\n",
       "</pre>\n"
      ],
      "text/plain": [
       "Requirement already satisfied: pyparsing>=2.2.1 in /usr/local/lib/python3.8/dist-packages (from matplotlib) (3.0.9)\n"
      ]
     },
     "metadata": {},
     "output_type": "display_data"
    },
    {
     "data": {
      "text/html": [
       "<pre style=\"white-space:pre;overflow-x:auto;line-height:normal;font-family:Menlo,'DejaVu Sans Mono',consolas,'Courier New',monospace\">Requirement already satisfied: fonttools&gt;=4.22.0 in /usr/local/lib/python3.8/dist-packages (from matplotlib) (4.34.4)\n",
       "</pre>\n"
      ],
      "text/plain": [
       "Requirement already satisfied: fonttools>=4.22.0 in /usr/local/lib/python3.8/dist-packages (from matplotlib) (4.34.4)\n"
      ]
     },
     "metadata": {},
     "output_type": "display_data"
    },
    {
     "data": {
      "text/html": [
       "<pre style=\"white-space:pre;overflow-x:auto;line-height:normal;font-family:Menlo,'DejaVu Sans Mono',consolas,'Courier New',monospace\">Requirement already satisfied: cycler&gt;=0.10 in /usr/local/lib/python3.8/dist-packages (from matplotlib) (0.11.0)\n",
       "</pre>\n"
      ],
      "text/plain": [
       "Requirement already satisfied: cycler>=0.10 in /usr/local/lib/python3.8/dist-packages (from matplotlib) (0.11.0)\n"
      ]
     },
     "metadata": {},
     "output_type": "display_data"
    },
    {
     "data": {
      "text/html": [
       "<pre style=\"white-space:pre;overflow-x:auto;line-height:normal;font-family:Menlo,'DejaVu Sans Mono',consolas,'Courier New',monospace\">Requirement already satisfied: pillow&gt;=6.2.0 in /usr/lib/python3/dist-packages (from matplotlib) (7.0.0)\n",
       "</pre>\n"
      ],
      "text/plain": [
       "Requirement already satisfied: pillow>=6.2.0 in /usr/lib/python3/dist-packages (from matplotlib) (7.0.0)\n"
      ]
     },
     "metadata": {},
     "output_type": "display_data"
    },
    {
     "data": {
      "text/html": [
       "<pre style=\"white-space:pre;overflow-x:auto;line-height:normal;font-family:Menlo,'DejaVu Sans Mono',consolas,'Courier New',monospace\">Requirement already satisfied: six&gt;=1.5 in /usr/lib/python3/dist-packages (from python-dateutil&gt;=2.7-&gt;matplotlib) (1.14.0)\n",
       "</pre>\n"
      ],
      "text/plain": [
       "Requirement already satisfied: six>=1.5 in /usr/lib/python3/dist-packages (from python-dateutil>=2.7->matplotlib) (1.14.0)\n"
      ]
     },
     "metadata": {},
     "output_type": "display_data"
    }
   ],
   "source": [
    "! pip install scikit-learn\n",
    "! python setup.py install\n",
    "! pip install node2vec\n",
    "! pip install sklearn\n",
    "import pip\n",
    "pip.main([\"install\",\"matplotlib\"])\n",
    "import pandas as pd\n",
    "import numpy as np\n",
    "import matplotlib.pyplot as plt\n",
    "import sklearn\n",
    "%matplotlib inline\n",
    "import os\n",
    "import node2vec\n",
    "from node2vec import Node2Vec\n",
    "import networkx as nx\n",
    "\n",
    "class Node2Vec(Node2Vec):\n",
    "  \"\"\"\n",
    "  Parameters\n",
    "  ----------\n",
    "  p : float\n",
    "      p parameter of node2vec\n",
    "  q : float\n",
    "      q parameter of node2vec\n",
    "  d : int\n",
    "      dimensionality of the embedding vectors\n",
    "  \"\"\"\n",
    "  def __init__(self, graph, p=1, q=1, d=32):\n",
    "    super().__init__(\n",
    "                     graph = graph,\n",
    "                     walk_length=10,\n",
    "                     p=p,\n",
    "                     q=q,\n",
    "                     dimensions =d\n",
    "                  )"
   ]
  },
  {
   "cell_type": "code",
   "execution_count": 4,
   "metadata": {},
   "outputs": [],
   "source": [
    "p2= pd.read_pickle(\"/home/leanna/unfollow_prediction/graph/graph_round3.pkl\")\n",
    "KG = nx.Graph(p2)\n",
    "users=list(KG.nodes())\n",
    "ne1= pd.read_csv(\"/home/leanna/unfollow_prediction/node_embeddings/node_embedding3.csv\")\n",
    "ne1= pd.DataFrame(ne1)\n",
    "ne1['User id']= users\n",
    "ne1.drop(\"Unnamed: 0\", axis=1)\n",
    "ne1.to_csv(\"/home/leanna/unfollow_prediction/node_embeddings/node_embedding3.csv\")"
   ]
  },
  {
   "cell_type": "code",
   "execution_count": 7,
   "metadata": {},
   "outputs": [
    {
     "data": {
      "application/json": {
       "ascii": false,
       "bar_format": null,
       "colour": null,
       "elapsed": 0.010690450668334961,
       "initial": 0,
       "n": 0,
       "ncols": null,
       "nrows": null,
       "postfix": null,
       "prefix": "Computing transition probabilities",
       "rate": null,
       "total": 122367,
       "unit": "it",
       "unit_divisor": 1000,
       "unit_scale": false
      },
      "application/vnd.jupyter.widget-view+json": {
       "model_id": "44d3c744acfe41e49bfb3aba01808b18",
       "version_major": 2,
       "version_minor": 0
      },
      "text/plain": [
       "Computing transition probabilities:   0%|          | 0/122367 [00:00<?, ?it/s]"
      ]
     },
     "metadata": {},
     "output_type": "display_data"
    },
    {
     "name": "stderr",
     "output_type": "stream",
     "text": [
      "Generating walks (CPU: 1): 100%|██████████| 10/10 [06:23<00:00, 38.38s/it]\n"
     ]
    },
    {
     "data": {
      "text/html": [
       "<pre style=\"white-space:pre;overflow-x:auto;line-height:normal;font-family:Menlo,'DejaVu Sans Mono',consolas,'Courier New',monospace\">collecting all words and their counts\n",
       "</pre>\n"
      ],
      "text/plain": [
       "collecting all words and their counts\n"
      ]
     },
     "metadata": {},
     "output_type": "display_data"
    },
    {
     "data": {
      "text/html": [
       "<pre style=\"white-space:pre;overflow-x:auto;line-height:normal;font-family:Menlo,'DejaVu Sans Mono',consolas,'Courier New',monospace\">PROGRESS: at sentence #0, processed 0 words, keeping 0 word types\n",
       "</pre>\n"
      ],
      "text/plain": [
       "PROGRESS: at sentence #0, processed 0 words, keeping 0 word types\n"
      ]
     },
     "metadata": {},
     "output_type": "display_data"
    },
    {
     "data": {
      "text/html": [
       "<pre style=\"white-space:pre;overflow-x:auto;line-height:normal;font-family:Menlo,'DejaVu Sans Mono',consolas,'Courier New',monospace\">PROGRESS: at sentence #10000, processed 100000 words, keeping 46841 word types\n",
       "</pre>\n"
      ],
      "text/plain": [
       "PROGRESS: at sentence #10000, processed 100000 words, keeping 46841 word types\n"
      ]
     },
     "metadata": {},
     "output_type": "display_data"
    },
    {
     "data": {
      "text/html": [
       "<pre style=\"white-space:pre;overflow-x:auto;line-height:normal;font-family:Menlo,'DejaVu Sans Mono',consolas,'Courier New',monospace\">PROGRESS: at sentence #20000, processed 200000 words, keeping 69266 word types\n",
       "</pre>\n"
      ],
      "text/plain": [
       "PROGRESS: at sentence #20000, processed 200000 words, keeping 69266 word types\n"
      ]
     },
     "metadata": {},
     "output_type": "display_data"
    },
    {
     "data": {
      "text/html": [
       "<pre style=\"white-space:pre;overflow-x:auto;line-height:normal;font-family:Menlo,'DejaVu Sans Mono',consolas,'Courier New',monospace\">PROGRESS: at sentence #30000, processed 300000 words, keeping 83652 word types\n",
       "</pre>\n"
      ],
      "text/plain": [
       "PROGRESS: at sentence #30000, processed 300000 words, keeping 83652 word types\n"
      ]
     },
     "metadata": {},
     "output_type": "display_data"
    },
    {
     "data": {
      "text/html": [
       "<pre style=\"white-space:pre;overflow-x:auto;line-height:normal;font-family:Menlo,'DejaVu Sans Mono',consolas,'Courier New',monospace\">PROGRESS: at sentence #40000, processed 400000 words, keeping 93416 word types\n",
       "</pre>\n"
      ],
      "text/plain": [
       "PROGRESS: at sentence #40000, processed 400000 words, keeping 93416 word types\n"
      ]
     },
     "metadata": {},
     "output_type": "display_data"
    },
    {
     "data": {
      "text/html": [
       "<pre style=\"white-space:pre;overflow-x:auto;line-height:normal;font-family:Menlo,'DejaVu Sans Mono',consolas,'Courier New',monospace\">PROGRESS: at sentence #50000, processed 500000 words, keeping 100802 word types\n",
       "</pre>\n"
      ],
      "text/plain": [
       "PROGRESS: at sentence #50000, processed 500000 words, keeping 100802 word types\n"
      ]
     },
     "metadata": {},
     "output_type": "display_data"
    },
    {
     "data": {
      "text/html": [
       "<pre style=\"white-space:pre;overflow-x:auto;line-height:normal;font-family:Menlo,'DejaVu Sans Mono',consolas,'Courier New',monospace\">PROGRESS: at sentence #60000, processed 600000 words, keeping 106334 word types\n",
       "</pre>\n"
      ],
      "text/plain": [
       "PROGRESS: at sentence #60000, processed 600000 words, keeping 106334 word types\n"
      ]
     },
     "metadata": {},
     "output_type": "display_data"
    },
    {
     "data": {
      "text/html": [
       "<pre style=\"white-space:pre;overflow-x:auto;line-height:normal;font-family:Menlo,'DejaVu Sans Mono',consolas,'Courier New',monospace\">PROGRESS: at sentence #70000, processed 700000 words, keeping 110606 word types\n",
       "</pre>\n"
      ],
      "text/plain": [
       "PROGRESS: at sentence #70000, processed 700000 words, keeping 110606 word types\n"
      ]
     },
     "metadata": {},
     "output_type": "display_data"
    },
    {
     "data": {
      "text/html": [
       "<pre style=\"white-space:pre;overflow-x:auto;line-height:normal;font-family:Menlo,'DejaVu Sans Mono',consolas,'Courier New',monospace\">PROGRESS: at sentence #80000, processed 800000 words, keeping 113958 word types\n",
       "</pre>\n"
      ],
      "text/plain": [
       "PROGRESS: at sentence #80000, processed 800000 words, keeping 113958 word types\n"
      ]
     },
     "metadata": {},
     "output_type": "display_data"
    },
    {
     "data": {
      "text/html": [
       "<pre style=\"white-space:pre;overflow-x:auto;line-height:normal;font-family:Menlo,'DejaVu Sans Mono',consolas,'Courier New',monospace\">PROGRESS: at sentence #90000, processed 900000 words, keeping 116728 word types\n",
       "</pre>\n"
      ],
      "text/plain": [
       "PROGRESS: at sentence #90000, processed 900000 words, keeping 116728 word types\n"
      ]
     },
     "metadata": {},
     "output_type": "display_data"
    },
    {
     "data": {
      "text/html": [
       "<pre style=\"white-space:pre;overflow-x:auto;line-height:normal;font-family:Menlo,'DejaVu Sans Mono',consolas,'Courier New',monospace\">PROGRESS: at sentence #100000, processed 1000000 words, keeping 118893 word types\n",
       "</pre>\n"
      ],
      "text/plain": [
       "PROGRESS: at sentence #100000, processed 1000000 words, keeping 118893 word types\n"
      ]
     },
     "metadata": {},
     "output_type": "display_data"
    },
    {
     "data": {
      "text/html": [
       "<pre style=\"white-space:pre;overflow-x:auto;line-height:normal;font-family:Menlo,'DejaVu Sans Mono',consolas,'Courier New',monospace\">PROGRESS: at sentence #110000, processed 1100000 words, keeping 120671 word types\n",
       "</pre>\n"
      ],
      "text/plain": [
       "PROGRESS: at sentence #110000, processed 1100000 words, keeping 120671 word types\n"
      ]
     },
     "metadata": {},
     "output_type": "display_data"
    },
    {
     "data": {
      "text/html": [
       "<pre style=\"white-space:pre;overflow-x:auto;line-height:normal;font-family:Menlo,'DejaVu Sans Mono',consolas,'Courier New',monospace\">PROGRESS: at sentence #120000, processed 1200000 words, keeping 122051 word types\n",
       "</pre>\n"
      ],
      "text/plain": [
       "PROGRESS: at sentence #120000, processed 1200000 words, keeping 122051 word types\n"
      ]
     },
     "metadata": {},
     "output_type": "display_data"
    },
    {
     "data": {
      "text/html": [
       "<pre style=\"white-space:pre;overflow-x:auto;line-height:normal;font-family:Menlo,'DejaVu Sans Mono',consolas,'Courier New',monospace\">PROGRESS: at sentence #130000, processed 1300000 words, keeping 122367 word types\n",
       "</pre>\n"
      ],
      "text/plain": [
       "PROGRESS: at sentence #130000, processed 1300000 words, keeping 122367 word types\n"
      ]
     },
     "metadata": {},
     "output_type": "display_data"
    },
    {
     "data": {
      "text/html": [
       "<pre style=\"white-space:pre;overflow-x:auto;line-height:normal;font-family:Menlo,'DejaVu Sans Mono',consolas,'Courier New',monospace\">PROGRESS: at sentence #140000, processed 1400000 words, keeping 122367 word types\n",
       "</pre>\n"
      ],
      "text/plain": [
       "PROGRESS: at sentence #140000, processed 1400000 words, keeping 122367 word types\n"
      ]
     },
     "metadata": {},
     "output_type": "display_data"
    },
    {
     "data": {
      "text/html": [
       "<pre style=\"white-space:pre;overflow-x:auto;line-height:normal;font-family:Menlo,'DejaVu Sans Mono',consolas,'Courier New',monospace\">PROGRESS: at sentence #150000, processed 1500000 words, keeping 122367 word types\n",
       "</pre>\n"
      ],
      "text/plain": [
       "PROGRESS: at sentence #150000, processed 1500000 words, keeping 122367 word types\n"
      ]
     },
     "metadata": {},
     "output_type": "display_data"
    },
    {
     "data": {
      "text/html": [
       "<pre style=\"white-space:pre;overflow-x:auto;line-height:normal;font-family:Menlo,'DejaVu Sans Mono',consolas,'Courier New',monospace\">PROGRESS: at sentence #160000, processed 1600000 words, keeping 122367 word types\n",
       "</pre>\n"
      ],
      "text/plain": [
       "PROGRESS: at sentence #160000, processed 1600000 words, keeping 122367 word types\n"
      ]
     },
     "metadata": {},
     "output_type": "display_data"
    },
    {
     "data": {
      "text/html": [
       "<pre style=\"white-space:pre;overflow-x:auto;line-height:normal;font-family:Menlo,'DejaVu Sans Mono',consolas,'Courier New',monospace\">PROGRESS: at sentence #170000, processed 1700000 words, keeping 122367 word types\n",
       "</pre>\n"
      ],
      "text/plain": [
       "PROGRESS: at sentence #170000, processed 1700000 words, keeping 122367 word types\n"
      ]
     },
     "metadata": {},
     "output_type": "display_data"
    },
    {
     "data": {
      "text/html": [
       "<pre style=\"white-space:pre;overflow-x:auto;line-height:normal;font-family:Menlo,'DejaVu Sans Mono',consolas,'Courier New',monospace\">PROGRESS: at sentence #180000, processed 1800000 words, keeping 122367 word types\n",
       "</pre>\n"
      ],
      "text/plain": [
       "PROGRESS: at sentence #180000, processed 1800000 words, keeping 122367 word types\n"
      ]
     },
     "metadata": {},
     "output_type": "display_data"
    },
    {
     "data": {
      "text/html": [
       "<pre style=\"white-space:pre;overflow-x:auto;line-height:normal;font-family:Menlo,'DejaVu Sans Mono',consolas,'Courier New',monospace\">PROGRESS: at sentence #190000, processed 1900000 words, keeping 122367 word types\n",
       "</pre>\n"
      ],
      "text/plain": [
       "PROGRESS: at sentence #190000, processed 1900000 words, keeping 122367 word types\n"
      ]
     },
     "metadata": {},
     "output_type": "display_data"
    },
    {
     "data": {
      "text/html": [
       "<pre style=\"white-space:pre;overflow-x:auto;line-height:normal;font-family:Menlo,'DejaVu Sans Mono',consolas,'Courier New',monospace\">PROGRESS: at sentence #200000, processed 2000000 words, keeping 122367 word types\n",
       "</pre>\n"
      ],
      "text/plain": [
       "PROGRESS: at sentence #200000, processed 2000000 words, keeping 122367 word types\n"
      ]
     },
     "metadata": {},
     "output_type": "display_data"
    },
    {
     "data": {
      "text/html": [
       "<pre style=\"white-space:pre;overflow-x:auto;line-height:normal;font-family:Menlo,'DejaVu Sans Mono',consolas,'Courier New',monospace\">PROGRESS: at sentence #210000, processed 2100000 words, keeping 122367 word types\n",
       "</pre>\n"
      ],
      "text/plain": [
       "PROGRESS: at sentence #210000, processed 2100000 words, keeping 122367 word types\n"
      ]
     },
     "metadata": {},
     "output_type": "display_data"
    },
    {
     "data": {
      "text/html": [
       "<pre style=\"white-space:pre;overflow-x:auto;line-height:normal;font-family:Menlo,'DejaVu Sans Mono',consolas,'Courier New',monospace\">PROGRESS: at sentence #220000, processed 2200000 words, keeping 122367 word types\n",
       "</pre>\n"
      ],
      "text/plain": [
       "PROGRESS: at sentence #220000, processed 2200000 words, keeping 122367 word types\n"
      ]
     },
     "metadata": {},
     "output_type": "display_data"
    },
    {
     "data": {
      "text/html": [
       "<pre style=\"white-space:pre;overflow-x:auto;line-height:normal;font-family:Menlo,'DejaVu Sans Mono',consolas,'Courier New',monospace\">PROGRESS: at sentence #230000, processed 2300000 words, keeping 122367 word types\n",
       "</pre>\n"
      ],
      "text/plain": [
       "PROGRESS: at sentence #230000, processed 2300000 words, keeping 122367 word types\n"
      ]
     },
     "metadata": {},
     "output_type": "display_data"
    },
    {
     "data": {
      "text/html": [
       "<pre style=\"white-space:pre;overflow-x:auto;line-height:normal;font-family:Menlo,'DejaVu Sans Mono',consolas,'Courier New',monospace\">PROGRESS: at sentence #240000, processed 2400000 words, keeping 122367 word types\n",
       "</pre>\n"
      ],
      "text/plain": [
       "PROGRESS: at sentence #240000, processed 2400000 words, keeping 122367 word types\n"
      ]
     },
     "metadata": {},
     "output_type": "display_data"
    },
    {
     "data": {
      "text/html": [
       "<pre style=\"white-space:pre;overflow-x:auto;line-height:normal;font-family:Menlo,'DejaVu Sans Mono',consolas,'Courier New',monospace\">PROGRESS: at sentence #250000, processed 2500000 words, keeping 122367 word types\n",
       "</pre>\n"
      ],
      "text/plain": [
       "PROGRESS: at sentence #250000, processed 2500000 words, keeping 122367 word types\n"
      ]
     },
     "metadata": {},
     "output_type": "display_data"
    },
    {
     "data": {
      "text/html": [
       "<pre style=\"white-space:pre;overflow-x:auto;line-height:normal;font-family:Menlo,'DejaVu Sans Mono',consolas,'Courier New',monospace\">PROGRESS: at sentence #260000, processed 2600000 words, keeping 122367 word types\n",
       "</pre>\n"
      ],
      "text/plain": [
       "PROGRESS: at sentence #260000, processed 2600000 words, keeping 122367 word types\n"
      ]
     },
     "metadata": {},
     "output_type": "display_data"
    },
    {
     "data": {
      "text/html": [
       "<pre style=\"white-space:pre;overflow-x:auto;line-height:normal;font-family:Menlo,'DejaVu Sans Mono',consolas,'Courier New',monospace\">PROGRESS: at sentence #270000, processed 2700000 words, keeping 122367 word types\n",
       "</pre>\n"
      ],
      "text/plain": [
       "PROGRESS: at sentence #270000, processed 2700000 words, keeping 122367 word types\n"
      ]
     },
     "metadata": {},
     "output_type": "display_data"
    },
    {
     "data": {
      "text/html": [
       "<pre style=\"white-space:pre;overflow-x:auto;line-height:normal;font-family:Menlo,'DejaVu Sans Mono',consolas,'Courier New',monospace\">PROGRESS: at sentence #280000, processed 2800000 words, keeping 122367 word types\n",
       "</pre>\n"
      ],
      "text/plain": [
       "PROGRESS: at sentence #280000, processed 2800000 words, keeping 122367 word types\n"
      ]
     },
     "metadata": {},
     "output_type": "display_data"
    },
    {
     "data": {
      "text/html": [
       "<pre style=\"white-space:pre;overflow-x:auto;line-height:normal;font-family:Menlo,'DejaVu Sans Mono',consolas,'Courier New',monospace\">PROGRESS: at sentence #290000, processed 2900000 words, keeping 122367 word types\n",
       "</pre>\n"
      ],
      "text/plain": [
       "PROGRESS: at sentence #290000, processed 2900000 words, keeping 122367 word types\n"
      ]
     },
     "metadata": {},
     "output_type": "display_data"
    },
    {
     "data": {
      "text/html": [
       "<pre style=\"white-space:pre;overflow-x:auto;line-height:normal;font-family:Menlo,'DejaVu Sans Mono',consolas,'Courier New',monospace\">PROGRESS: at sentence #300000, processed 3000000 words, keeping 122367 word types\n",
       "</pre>\n"
      ],
      "text/plain": [
       "PROGRESS: at sentence #300000, processed 3000000 words, keeping 122367 word types\n"
      ]
     },
     "metadata": {},
     "output_type": "display_data"
    },
    {
     "data": {
      "text/html": [
       "<pre style=\"white-space:pre;overflow-x:auto;line-height:normal;font-family:Menlo,'DejaVu Sans Mono',consolas,'Courier New',monospace\">PROGRESS: at sentence #310000, processed 3100000 words, keeping 122367 word types\n",
       "</pre>\n"
      ],
      "text/plain": [
       "PROGRESS: at sentence #310000, processed 3100000 words, keeping 122367 word types\n"
      ]
     },
     "metadata": {},
     "output_type": "display_data"
    },
    {
     "data": {
      "text/html": [
       "<pre style=\"white-space:pre;overflow-x:auto;line-height:normal;font-family:Menlo,'DejaVu Sans Mono',consolas,'Courier New',monospace\">PROGRESS: at sentence #320000, processed 3200000 words, keeping 122367 word types\n",
       "</pre>\n"
      ],
      "text/plain": [
       "PROGRESS: at sentence #320000, processed 3200000 words, keeping 122367 word types\n"
      ]
     },
     "metadata": {},
     "output_type": "display_data"
    },
    {
     "data": {
      "text/html": [
       "<pre style=\"white-space:pre;overflow-x:auto;line-height:normal;font-family:Menlo,'DejaVu Sans Mono',consolas,'Courier New',monospace\">PROGRESS: at sentence #330000, processed 3300000 words, keeping 122367 word types\n",
       "</pre>\n"
      ],
      "text/plain": [
       "PROGRESS: at sentence #330000, processed 3300000 words, keeping 122367 word types\n"
      ]
     },
     "metadata": {},
     "output_type": "display_data"
    },
    {
     "data": {
      "text/html": [
       "<pre style=\"white-space:pre;overflow-x:auto;line-height:normal;font-family:Menlo,'DejaVu Sans Mono',consolas,'Courier New',monospace\">PROGRESS: at sentence #340000, processed 3400000 words, keeping 122367 word types\n",
       "</pre>\n"
      ],
      "text/plain": [
       "PROGRESS: at sentence #340000, processed 3400000 words, keeping 122367 word types\n"
      ]
     },
     "metadata": {},
     "output_type": "display_data"
    },
    {
     "data": {
      "text/html": [
       "<pre style=\"white-space:pre;overflow-x:auto;line-height:normal;font-family:Menlo,'DejaVu Sans Mono',consolas,'Courier New',monospace\">PROGRESS: at sentence #350000, processed 3500000 words, keeping 122367 word types\n",
       "</pre>\n"
      ],
      "text/plain": [
       "PROGRESS: at sentence #350000, processed 3500000 words, keeping 122367 word types\n"
      ]
     },
     "metadata": {},
     "output_type": "display_data"
    },
    {
     "data": {
      "text/html": [
       "<pre style=\"white-space:pre;overflow-x:auto;line-height:normal;font-family:Menlo,'DejaVu Sans Mono',consolas,'Courier New',monospace\">PROGRESS: at sentence #360000, processed 3600000 words, keeping 122367 word types\n",
       "</pre>\n"
      ],
      "text/plain": [
       "PROGRESS: at sentence #360000, processed 3600000 words, keeping 122367 word types\n"
      ]
     },
     "metadata": {},
     "output_type": "display_data"
    },
    {
     "data": {
      "text/html": [
       "<pre style=\"white-space:pre;overflow-x:auto;line-height:normal;font-family:Menlo,'DejaVu Sans Mono',consolas,'Courier New',monospace\">PROGRESS: at sentence #370000, processed 3700000 words, keeping 122367 word types\n",
       "</pre>\n"
      ],
      "text/plain": [
       "PROGRESS: at sentence #370000, processed 3700000 words, keeping 122367 word types\n"
      ]
     },
     "metadata": {},
     "output_type": "display_data"
    },
    {
     "data": {
      "text/html": [
       "<pre style=\"white-space:pre;overflow-x:auto;line-height:normal;font-family:Menlo,'DejaVu Sans Mono',consolas,'Courier New',monospace\">PROGRESS: at sentence #380000, processed 3800000 words, keeping 122367 word types\n",
       "</pre>\n"
      ],
      "text/plain": [
       "PROGRESS: at sentence #380000, processed 3800000 words, keeping 122367 word types\n"
      ]
     },
     "metadata": {},
     "output_type": "display_data"
    },
    {
     "data": {
      "text/html": [
       "<pre style=\"white-space:pre;overflow-x:auto;line-height:normal;font-family:Menlo,'DejaVu Sans Mono',consolas,'Courier New',monospace\">PROGRESS: at sentence #390000, processed 3900000 words, keeping 122367 word types\n",
       "</pre>\n"
      ],
      "text/plain": [
       "PROGRESS: at sentence #390000, processed 3900000 words, keeping 122367 word types\n"
      ]
     },
     "metadata": {},
     "output_type": "display_data"
    },
    {
     "data": {
      "text/html": [
       "<pre style=\"white-space:pre;overflow-x:auto;line-height:normal;font-family:Menlo,'DejaVu Sans Mono',consolas,'Courier New',monospace\">PROGRESS: at sentence #400000, processed 4000000 words, keeping 122367 word types\n",
       "</pre>\n"
      ],
      "text/plain": [
       "PROGRESS: at sentence #400000, processed 4000000 words, keeping 122367 word types\n"
      ]
     },
     "metadata": {},
     "output_type": "display_data"
    },
    {
     "data": {
      "text/html": [
       "<pre style=\"white-space:pre;overflow-x:auto;line-height:normal;font-family:Menlo,'DejaVu Sans Mono',consolas,'Courier New',monospace\">PROGRESS: at sentence #410000, processed 4100000 words, keeping 122367 word types\n",
       "</pre>\n"
      ],
      "text/plain": [
       "PROGRESS: at sentence #410000, processed 4100000 words, keeping 122367 word types\n"
      ]
     },
     "metadata": {},
     "output_type": "display_data"
    },
    {
     "data": {
      "text/html": [
       "<pre style=\"white-space:pre;overflow-x:auto;line-height:normal;font-family:Menlo,'DejaVu Sans Mono',consolas,'Courier New',monospace\">PROGRESS: at sentence #420000, processed 4200000 words, keeping 122367 word types\n",
       "</pre>\n"
      ],
      "text/plain": [
       "PROGRESS: at sentence #420000, processed 4200000 words, keeping 122367 word types\n"
      ]
     },
     "metadata": {},
     "output_type": "display_data"
    },
    {
     "data": {
      "text/html": [
       "<pre style=\"white-space:pre;overflow-x:auto;line-height:normal;font-family:Menlo,'DejaVu Sans Mono',consolas,'Courier New',monospace\">PROGRESS: at sentence #430000, processed 4300000 words, keeping 122367 word types\n",
       "</pre>\n"
      ],
      "text/plain": [
       "PROGRESS: at sentence #430000, processed 4300000 words, keeping 122367 word types\n"
      ]
     },
     "metadata": {},
     "output_type": "display_data"
    },
    {
     "data": {
      "text/html": [
       "<pre style=\"white-space:pre;overflow-x:auto;line-height:normal;font-family:Menlo,'DejaVu Sans Mono',consolas,'Courier New',monospace\">PROGRESS: at sentence #440000, processed 4400000 words, keeping 122367 word types\n",
       "</pre>\n"
      ],
      "text/plain": [
       "PROGRESS: at sentence #440000, processed 4400000 words, keeping 122367 word types\n"
      ]
     },
     "metadata": {},
     "output_type": "display_data"
    },
    {
     "data": {
      "text/html": [
       "<pre style=\"white-space:pre;overflow-x:auto;line-height:normal;font-family:Menlo,'DejaVu Sans Mono',consolas,'Courier New',monospace\">PROGRESS: at sentence #450000, processed 4500000 words, keeping 122367 word types\n",
       "</pre>\n"
      ],
      "text/plain": [
       "PROGRESS: at sentence #450000, processed 4500000 words, keeping 122367 word types\n"
      ]
     },
     "metadata": {},
     "output_type": "display_data"
    },
    {
     "data": {
      "text/html": [
       "<pre style=\"white-space:pre;overflow-x:auto;line-height:normal;font-family:Menlo,'DejaVu Sans Mono',consolas,'Courier New',monospace\">PROGRESS: at sentence #460000, processed 4600000 words, keeping 122367 word types\n",
       "</pre>\n"
      ],
      "text/plain": [
       "PROGRESS: at sentence #460000, processed 4600000 words, keeping 122367 word types\n"
      ]
     },
     "metadata": {},
     "output_type": "display_data"
    },
    {
     "data": {
      "text/html": [
       "<pre style=\"white-space:pre;overflow-x:auto;line-height:normal;font-family:Menlo,'DejaVu Sans Mono',consolas,'Courier New',monospace\">PROGRESS: at sentence #470000, processed 4700000 words, keeping 122367 word types\n",
       "</pre>\n"
      ],
      "text/plain": [
       "PROGRESS: at sentence #470000, processed 4700000 words, keeping 122367 word types\n"
      ]
     },
     "metadata": {},
     "output_type": "display_data"
    },
    {
     "data": {
      "text/html": [
       "<pre style=\"white-space:pre;overflow-x:auto;line-height:normal;font-family:Menlo,'DejaVu Sans Mono',consolas,'Courier New',monospace\">PROGRESS: at sentence #480000, processed 4800000 words, keeping 122367 word types\n",
       "</pre>\n"
      ],
      "text/plain": [
       "PROGRESS: at sentence #480000, processed 4800000 words, keeping 122367 word types\n"
      ]
     },
     "metadata": {},
     "output_type": "display_data"
    },
    {
     "data": {
      "text/html": [
       "<pre style=\"white-space:pre;overflow-x:auto;line-height:normal;font-family:Menlo,'DejaVu Sans Mono',consolas,'Courier New',monospace\">PROGRESS: at sentence #490000, processed 4900000 words, keeping 122367 word types\n",
       "</pre>\n"
      ],
      "text/plain": [
       "PROGRESS: at sentence #490000, processed 4900000 words, keeping 122367 word types\n"
      ]
     },
     "metadata": {},
     "output_type": "display_data"
    },
    {
     "data": {
      "text/html": [
       "<pre style=\"white-space:pre;overflow-x:auto;line-height:normal;font-family:Menlo,'DejaVu Sans Mono',consolas,'Courier New',monospace\">PROGRESS: at sentence #500000, processed 5000000 words, keeping 122367 word types\n",
       "</pre>\n"
      ],
      "text/plain": [
       "PROGRESS: at sentence #500000, processed 5000000 words, keeping 122367 word types\n"
      ]
     },
     "metadata": {},
     "output_type": "display_data"
    },
    {
     "data": {
      "text/html": [
       "<pre style=\"white-space:pre;overflow-x:auto;line-height:normal;font-family:Menlo,'DejaVu Sans Mono',consolas,'Courier New',monospace\">PROGRESS: at sentence #510000, processed 5100000 words, keeping 122367 word types\n",
       "</pre>\n"
      ],
      "text/plain": [
       "PROGRESS: at sentence #510000, processed 5100000 words, keeping 122367 word types\n"
      ]
     },
     "metadata": {},
     "output_type": "display_data"
    },
    {
     "data": {
      "text/html": [
       "<pre style=\"white-space:pre;overflow-x:auto;line-height:normal;font-family:Menlo,'DejaVu Sans Mono',consolas,'Courier New',monospace\">PROGRESS: at sentence #520000, processed 5200000 words, keeping 122367 word types\n",
       "</pre>\n"
      ],
      "text/plain": [
       "PROGRESS: at sentence #520000, processed 5200000 words, keeping 122367 word types\n"
      ]
     },
     "metadata": {},
     "output_type": "display_data"
    },
    {
     "data": {
      "text/html": [
       "<pre style=\"white-space:pre;overflow-x:auto;line-height:normal;font-family:Menlo,'DejaVu Sans Mono',consolas,'Courier New',monospace\">PROGRESS: at sentence #530000, processed 5300000 words, keeping 122367 word types\n",
       "</pre>\n"
      ],
      "text/plain": [
       "PROGRESS: at sentence #530000, processed 5300000 words, keeping 122367 word types\n"
      ]
     },
     "metadata": {},
     "output_type": "display_data"
    },
    {
     "data": {
      "text/html": [
       "<pre style=\"white-space:pre;overflow-x:auto;line-height:normal;font-family:Menlo,'DejaVu Sans Mono',consolas,'Courier New',monospace\">PROGRESS: at sentence #540000, processed 5400000 words, keeping 122367 word types\n",
       "</pre>\n"
      ],
      "text/plain": [
       "PROGRESS: at sentence #540000, processed 5400000 words, keeping 122367 word types\n"
      ]
     },
     "metadata": {},
     "output_type": "display_data"
    },
    {
     "data": {
      "text/html": [
       "<pre style=\"white-space:pre;overflow-x:auto;line-height:normal;font-family:Menlo,'DejaVu Sans Mono',consolas,'Courier New',monospace\">PROGRESS: at sentence #550000, processed 5500000 words, keeping 122367 word types\n",
       "</pre>\n"
      ],
      "text/plain": [
       "PROGRESS: at sentence #550000, processed 5500000 words, keeping 122367 word types\n"
      ]
     },
     "metadata": {},
     "output_type": "display_data"
    },
    {
     "data": {
      "text/html": [
       "<pre style=\"white-space:pre;overflow-x:auto;line-height:normal;font-family:Menlo,'DejaVu Sans Mono',consolas,'Courier New',monospace\">PROGRESS: at sentence #560000, processed 5600000 words, keeping 122367 word types\n",
       "</pre>\n"
      ],
      "text/plain": [
       "PROGRESS: at sentence #560000, processed 5600000 words, keeping 122367 word types\n"
      ]
     },
     "metadata": {},
     "output_type": "display_data"
    },
    {
     "data": {
      "text/html": [
       "<pre style=\"white-space:pre;overflow-x:auto;line-height:normal;font-family:Menlo,'DejaVu Sans Mono',consolas,'Courier New',monospace\">PROGRESS: at sentence #570000, processed 5700000 words, keeping 122367 word types\n",
       "</pre>\n"
      ],
      "text/plain": [
       "PROGRESS: at sentence #570000, processed 5700000 words, keeping 122367 word types\n"
      ]
     },
     "metadata": {},
     "output_type": "display_data"
    },
    {
     "data": {
      "text/html": [
       "<pre style=\"white-space:pre;overflow-x:auto;line-height:normal;font-family:Menlo,'DejaVu Sans Mono',consolas,'Courier New',monospace\">PROGRESS: at sentence #580000, processed 5800000 words, keeping 122367 word types\n",
       "</pre>\n"
      ],
      "text/plain": [
       "PROGRESS: at sentence #580000, processed 5800000 words, keeping 122367 word types\n"
      ]
     },
     "metadata": {},
     "output_type": "display_data"
    },
    {
     "data": {
      "text/html": [
       "<pre style=\"white-space:pre;overflow-x:auto;line-height:normal;font-family:Menlo,'DejaVu Sans Mono',consolas,'Courier New',monospace\">PROGRESS: at sentence #590000, processed 5900000 words, keeping 122367 word types\n",
       "</pre>\n"
      ],
      "text/plain": [
       "PROGRESS: at sentence #590000, processed 5900000 words, keeping 122367 word types\n"
      ]
     },
     "metadata": {},
     "output_type": "display_data"
    },
    {
     "data": {
      "text/html": [
       "<pre style=\"white-space:pre;overflow-x:auto;line-height:normal;font-family:Menlo,'DejaVu Sans Mono',consolas,'Courier New',monospace\">PROGRESS: at sentence #600000, processed 6000000 words, keeping 122367 word types\n",
       "</pre>\n"
      ],
      "text/plain": [
       "PROGRESS: at sentence #600000, processed 6000000 words, keeping 122367 word types\n"
      ]
     },
     "metadata": {},
     "output_type": "display_data"
    },
    {
     "data": {
      "text/html": [
       "<pre style=\"white-space:pre;overflow-x:auto;line-height:normal;font-family:Menlo,'DejaVu Sans Mono',consolas,'Courier New',monospace\">PROGRESS: at sentence #610000, processed 6100000 words, keeping 122367 word types\n",
       "</pre>\n"
      ],
      "text/plain": [
       "PROGRESS: at sentence #610000, processed 6100000 words, keeping 122367 word types\n"
      ]
     },
     "metadata": {},
     "output_type": "display_data"
    },
    {
     "data": {
      "text/html": [
       "<pre style=\"white-space:pre;overflow-x:auto;line-height:normal;font-family:Menlo,'DejaVu Sans Mono',consolas,'Courier New',monospace\">PROGRESS: at sentence #620000, processed 6200000 words, keeping 122367 word types\n",
       "</pre>\n"
      ],
      "text/plain": [
       "PROGRESS: at sentence #620000, processed 6200000 words, keeping 122367 word types\n"
      ]
     },
     "metadata": {},
     "output_type": "display_data"
    },
    {
     "data": {
      "text/html": [
       "<pre style=\"white-space:pre;overflow-x:auto;line-height:normal;font-family:Menlo,'DejaVu Sans Mono',consolas,'Courier New',monospace\">PROGRESS: at sentence #630000, processed 6300000 words, keeping 122367 word types\n",
       "</pre>\n"
      ],
      "text/plain": [
       "PROGRESS: at sentence #630000, processed 6300000 words, keeping 122367 word types\n"
      ]
     },
     "metadata": {},
     "output_type": "display_data"
    },
    {
     "data": {
      "text/html": [
       "<pre style=\"white-space:pre;overflow-x:auto;line-height:normal;font-family:Menlo,'DejaVu Sans Mono',consolas,'Courier New',monospace\">PROGRESS: at sentence #640000, processed 6400000 words, keeping 122367 word types\n",
       "</pre>\n"
      ],
      "text/plain": [
       "PROGRESS: at sentence #640000, processed 6400000 words, keeping 122367 word types\n"
      ]
     },
     "metadata": {},
     "output_type": "display_data"
    },
    {
     "data": {
      "text/html": [
       "<pre style=\"white-space:pre;overflow-x:auto;line-height:normal;font-family:Menlo,'DejaVu Sans Mono',consolas,'Courier New',monospace\">PROGRESS: at sentence #650000, processed 6500000 words, keeping 122367 word types\n",
       "</pre>\n"
      ],
      "text/plain": [
       "PROGRESS: at sentence #650000, processed 6500000 words, keeping 122367 word types\n"
      ]
     },
     "metadata": {},
     "output_type": "display_data"
    },
    {
     "data": {
      "text/html": [
       "<pre style=\"white-space:pre;overflow-x:auto;line-height:normal;font-family:Menlo,'DejaVu Sans Mono',consolas,'Courier New',monospace\">PROGRESS: at sentence #660000, processed 6600000 words, keeping 122367 word types\n",
       "</pre>\n"
      ],
      "text/plain": [
       "PROGRESS: at sentence #660000, processed 6600000 words, keeping 122367 word types\n"
      ]
     },
     "metadata": {},
     "output_type": "display_data"
    },
    {
     "data": {
      "text/html": [
       "<pre style=\"white-space:pre;overflow-x:auto;line-height:normal;font-family:Menlo,'DejaVu Sans Mono',consolas,'Courier New',monospace\">PROGRESS: at sentence #670000, processed 6700000 words, keeping 122367 word types\n",
       "</pre>\n"
      ],
      "text/plain": [
       "PROGRESS: at sentence #670000, processed 6700000 words, keeping 122367 word types\n"
      ]
     },
     "metadata": {},
     "output_type": "display_data"
    },
    {
     "data": {
      "text/html": [
       "<pre style=\"white-space:pre;overflow-x:auto;line-height:normal;font-family:Menlo,'DejaVu Sans Mono',consolas,'Courier New',monospace\">PROGRESS: at sentence #680000, processed 6800000 words, keeping 122367 word types\n",
       "</pre>\n"
      ],
      "text/plain": [
       "PROGRESS: at sentence #680000, processed 6800000 words, keeping 122367 word types\n"
      ]
     },
     "metadata": {},
     "output_type": "display_data"
    },
    {
     "data": {
      "text/html": [
       "<pre style=\"white-space:pre;overflow-x:auto;line-height:normal;font-family:Menlo,'DejaVu Sans Mono',consolas,'Courier New',monospace\">PROGRESS: at sentence #690000, processed 6900000 words, keeping 122367 word types\n",
       "</pre>\n"
      ],
      "text/plain": [
       "PROGRESS: at sentence #690000, processed 6900000 words, keeping 122367 word types\n"
      ]
     },
     "metadata": {},
     "output_type": "display_data"
    },
    {
     "data": {
      "text/html": [
       "<pre style=\"white-space:pre;overflow-x:auto;line-height:normal;font-family:Menlo,'DejaVu Sans Mono',consolas,'Courier New',monospace\">PROGRESS: at sentence #700000, processed 7000000 words, keeping 122367 word types\n",
       "</pre>\n"
      ],
      "text/plain": [
       "PROGRESS: at sentence #700000, processed 7000000 words, keeping 122367 word types\n"
      ]
     },
     "metadata": {},
     "output_type": "display_data"
    },
    {
     "data": {
      "text/html": [
       "<pre style=\"white-space:pre;overflow-x:auto;line-height:normal;font-family:Menlo,'DejaVu Sans Mono',consolas,'Courier New',monospace\">PROGRESS: at sentence #710000, processed 7100000 words, keeping 122367 word types\n",
       "</pre>\n"
      ],
      "text/plain": [
       "PROGRESS: at sentence #710000, processed 7100000 words, keeping 122367 word types\n"
      ]
     },
     "metadata": {},
     "output_type": "display_data"
    },
    {
     "data": {
      "text/html": [
       "<pre style=\"white-space:pre;overflow-x:auto;line-height:normal;font-family:Menlo,'DejaVu Sans Mono',consolas,'Courier New',monospace\">PROGRESS: at sentence #720000, processed 7200000 words, keeping 122367 word types\n",
       "</pre>\n"
      ],
      "text/plain": [
       "PROGRESS: at sentence #720000, processed 7200000 words, keeping 122367 word types\n"
      ]
     },
     "metadata": {},
     "output_type": "display_data"
    },
    {
     "data": {
      "text/html": [
       "<pre style=\"white-space:pre;overflow-x:auto;line-height:normal;font-family:Menlo,'DejaVu Sans Mono',consolas,'Courier New',monospace\">PROGRESS: at sentence #730000, processed 7300000 words, keeping 122367 word types\n",
       "</pre>\n"
      ],
      "text/plain": [
       "PROGRESS: at sentence #730000, processed 7300000 words, keeping 122367 word types\n"
      ]
     },
     "metadata": {},
     "output_type": "display_data"
    },
    {
     "data": {
      "text/html": [
       "<pre style=\"white-space:pre;overflow-x:auto;line-height:normal;font-family:Menlo,'DejaVu Sans Mono',consolas,'Courier New',monospace\">PROGRESS: at sentence #740000, processed 7400000 words, keeping 122367 word types\n",
       "</pre>\n"
      ],
      "text/plain": [
       "PROGRESS: at sentence #740000, processed 7400000 words, keeping 122367 word types\n"
      ]
     },
     "metadata": {},
     "output_type": "display_data"
    },
    {
     "data": {
      "text/html": [
       "<pre style=\"white-space:pre;overflow-x:auto;line-height:normal;font-family:Menlo,'DejaVu Sans Mono',consolas,'Courier New',monospace\">PROGRESS: at sentence #750000, processed 7500000 words, keeping 122367 word types\n",
       "</pre>\n"
      ],
      "text/plain": [
       "PROGRESS: at sentence #750000, processed 7500000 words, keeping 122367 word types\n"
      ]
     },
     "metadata": {},
     "output_type": "display_data"
    },
    {
     "data": {
      "text/html": [
       "<pre style=\"white-space:pre;overflow-x:auto;line-height:normal;font-family:Menlo,'DejaVu Sans Mono',consolas,'Courier New',monospace\">PROGRESS: at sentence #760000, processed 7600000 words, keeping 122367 word types\n",
       "</pre>\n"
      ],
      "text/plain": [
       "PROGRESS: at sentence #760000, processed 7600000 words, keeping 122367 word types\n"
      ]
     },
     "metadata": {},
     "output_type": "display_data"
    },
    {
     "data": {
      "text/html": [
       "<pre style=\"white-space:pre;overflow-x:auto;line-height:normal;font-family:Menlo,'DejaVu Sans Mono',consolas,'Courier New',monospace\">PROGRESS: at sentence #770000, processed 7700000 words, keeping 122367 word types\n",
       "</pre>\n"
      ],
      "text/plain": [
       "PROGRESS: at sentence #770000, processed 7700000 words, keeping 122367 word types\n"
      ]
     },
     "metadata": {},
     "output_type": "display_data"
    },
    {
     "data": {
      "text/html": [
       "<pre style=\"white-space:pre;overflow-x:auto;line-height:normal;font-family:Menlo,'DejaVu Sans Mono',consolas,'Courier New',monospace\">PROGRESS: at sentence #780000, processed 7800000 words, keeping 122367 word types\n",
       "</pre>\n"
      ],
      "text/plain": [
       "PROGRESS: at sentence #780000, processed 7800000 words, keeping 122367 word types\n"
      ]
     },
     "metadata": {},
     "output_type": "display_data"
    },
    {
     "data": {
      "text/html": [
       "<pre style=\"white-space:pre;overflow-x:auto;line-height:normal;font-family:Menlo,'DejaVu Sans Mono',consolas,'Courier New',monospace\">PROGRESS: at sentence #790000, processed 7900000 words, keeping 122367 word types\n",
       "</pre>\n"
      ],
      "text/plain": [
       "PROGRESS: at sentence #790000, processed 7900000 words, keeping 122367 word types\n"
      ]
     },
     "metadata": {},
     "output_type": "display_data"
    },
    {
     "data": {
      "text/html": [
       "<pre style=\"white-space:pre;overflow-x:auto;line-height:normal;font-family:Menlo,'DejaVu Sans Mono',consolas,'Courier New',monospace\">PROGRESS: at sentence #800000, processed 8000000 words, keeping 122367 word types\n",
       "</pre>\n"
      ],
      "text/plain": [
       "PROGRESS: at sentence #800000, processed 8000000 words, keeping 122367 word types\n"
      ]
     },
     "metadata": {},
     "output_type": "display_data"
    },
    {
     "data": {
      "text/html": [
       "<pre style=\"white-space:pre;overflow-x:auto;line-height:normal;font-family:Menlo,'DejaVu Sans Mono',consolas,'Courier New',monospace\">PROGRESS: at sentence #810000, processed 8100000 words, keeping 122367 word types\n",
       "</pre>\n"
      ],
      "text/plain": [
       "PROGRESS: at sentence #810000, processed 8100000 words, keeping 122367 word types\n"
      ]
     },
     "metadata": {},
     "output_type": "display_data"
    },
    {
     "data": {
      "text/html": [
       "<pre style=\"white-space:pre;overflow-x:auto;line-height:normal;font-family:Menlo,'DejaVu Sans Mono',consolas,'Courier New',monospace\">PROGRESS: at sentence #820000, processed 8200000 words, keeping 122367 word types\n",
       "</pre>\n"
      ],
      "text/plain": [
       "PROGRESS: at sentence #820000, processed 8200000 words, keeping 122367 word types\n"
      ]
     },
     "metadata": {},
     "output_type": "display_data"
    },
    {
     "data": {
      "text/html": [
       "<pre style=\"white-space:pre;overflow-x:auto;line-height:normal;font-family:Menlo,'DejaVu Sans Mono',consolas,'Courier New',monospace\">PROGRESS: at sentence #830000, processed 8300000 words, keeping 122367 word types\n",
       "</pre>\n"
      ],
      "text/plain": [
       "PROGRESS: at sentence #830000, processed 8300000 words, keeping 122367 word types\n"
      ]
     },
     "metadata": {},
     "output_type": "display_data"
    },
    {
     "data": {
      "text/html": [
       "<pre style=\"white-space:pre;overflow-x:auto;line-height:normal;font-family:Menlo,'DejaVu Sans Mono',consolas,'Courier New',monospace\">PROGRESS: at sentence #840000, processed 8400000 words, keeping 122367 word types\n",
       "</pre>\n"
      ],
      "text/plain": [
       "PROGRESS: at sentence #840000, processed 8400000 words, keeping 122367 word types\n"
      ]
     },
     "metadata": {},
     "output_type": "display_data"
    },
    {
     "data": {
      "text/html": [
       "<pre style=\"white-space:pre;overflow-x:auto;line-height:normal;font-family:Menlo,'DejaVu Sans Mono',consolas,'Courier New',monospace\">PROGRESS: at sentence #850000, processed 8500000 words, keeping 122367 word types\n",
       "</pre>\n"
      ],
      "text/plain": [
       "PROGRESS: at sentence #850000, processed 8500000 words, keeping 122367 word types\n"
      ]
     },
     "metadata": {},
     "output_type": "display_data"
    },
    {
     "data": {
      "text/html": [
       "<pre style=\"white-space:pre;overflow-x:auto;line-height:normal;font-family:Menlo,'DejaVu Sans Mono',consolas,'Courier New',monospace\">PROGRESS: at sentence #860000, processed 8600000 words, keeping 122367 word types\n",
       "</pre>\n"
      ],
      "text/plain": [
       "PROGRESS: at sentence #860000, processed 8600000 words, keeping 122367 word types\n"
      ]
     },
     "metadata": {},
     "output_type": "display_data"
    },
    {
     "data": {
      "text/html": [
       "<pre style=\"white-space:pre;overflow-x:auto;line-height:normal;font-family:Menlo,'DejaVu Sans Mono',consolas,'Courier New',monospace\">PROGRESS: at sentence #870000, processed 8700000 words, keeping 122367 word types\n",
       "</pre>\n"
      ],
      "text/plain": [
       "PROGRESS: at sentence #870000, processed 8700000 words, keeping 122367 word types\n"
      ]
     },
     "metadata": {},
     "output_type": "display_data"
    },
    {
     "data": {
      "text/html": [
       "<pre style=\"white-space:pre;overflow-x:auto;line-height:normal;font-family:Menlo,'DejaVu Sans Mono',consolas,'Courier New',monospace\">PROGRESS: at sentence #880000, processed 8800000 words, keeping 122367 word types\n",
       "</pre>\n"
      ],
      "text/plain": [
       "PROGRESS: at sentence #880000, processed 8800000 words, keeping 122367 word types\n"
      ]
     },
     "metadata": {},
     "output_type": "display_data"
    },
    {
     "data": {
      "text/html": [
       "<pre style=\"white-space:pre;overflow-x:auto;line-height:normal;font-family:Menlo,'DejaVu Sans Mono',consolas,'Courier New',monospace\">PROGRESS: at sentence #890000, processed 8900000 words, keeping 122367 word types\n",
       "</pre>\n"
      ],
      "text/plain": [
       "PROGRESS: at sentence #890000, processed 8900000 words, keeping 122367 word types\n"
      ]
     },
     "metadata": {},
     "output_type": "display_data"
    },
    {
     "data": {
      "text/html": [
       "<pre style=\"white-space:pre;overflow-x:auto;line-height:normal;font-family:Menlo,'DejaVu Sans Mono',consolas,'Courier New',monospace\">PROGRESS: at sentence #900000, processed 9000000 words, keeping 122367 word types\n",
       "</pre>\n"
      ],
      "text/plain": [
       "PROGRESS: at sentence #900000, processed 9000000 words, keeping 122367 word types\n"
      ]
     },
     "metadata": {},
     "output_type": "display_data"
    },
    {
     "data": {
      "text/html": [
       "<pre style=\"white-space:pre;overflow-x:auto;line-height:normal;font-family:Menlo,'DejaVu Sans Mono',consolas,'Courier New',monospace\">PROGRESS: at sentence #910000, processed 9100000 words, keeping 122367 word types\n",
       "</pre>\n"
      ],
      "text/plain": [
       "PROGRESS: at sentence #910000, processed 9100000 words, keeping 122367 word types\n"
      ]
     },
     "metadata": {},
     "output_type": "display_data"
    },
    {
     "data": {
      "text/html": [
       "<pre style=\"white-space:pre;overflow-x:auto;line-height:normal;font-family:Menlo,'DejaVu Sans Mono',consolas,'Courier New',monospace\">PROGRESS: at sentence #920000, processed 9200000 words, keeping 122367 word types\n",
       "</pre>\n"
      ],
      "text/plain": [
       "PROGRESS: at sentence #920000, processed 9200000 words, keeping 122367 word types\n"
      ]
     },
     "metadata": {},
     "output_type": "display_data"
    },
    {
     "data": {
      "text/html": [
       "<pre style=\"white-space:pre;overflow-x:auto;line-height:normal;font-family:Menlo,'DejaVu Sans Mono',consolas,'Courier New',monospace\">PROGRESS: at sentence #930000, processed 9300000 words, keeping 122367 word types\n",
       "</pre>\n"
      ],
      "text/plain": [
       "PROGRESS: at sentence #930000, processed 9300000 words, keeping 122367 word types\n"
      ]
     },
     "metadata": {},
     "output_type": "display_data"
    },
    {
     "data": {
      "text/html": [
       "<pre style=\"white-space:pre;overflow-x:auto;line-height:normal;font-family:Menlo,'DejaVu Sans Mono',consolas,'Courier New',monospace\">PROGRESS: at sentence #940000, processed 9400000 words, keeping 122367 word types\n",
       "</pre>\n"
      ],
      "text/plain": [
       "PROGRESS: at sentence #940000, processed 9400000 words, keeping 122367 word types\n"
      ]
     },
     "metadata": {},
     "output_type": "display_data"
    },
    {
     "data": {
      "text/html": [
       "<pre style=\"white-space:pre;overflow-x:auto;line-height:normal;font-family:Menlo,'DejaVu Sans Mono',consolas,'Courier New',monospace\">PROGRESS: at sentence #950000, processed 9500000 words, keeping 122367 word types\n",
       "</pre>\n"
      ],
      "text/plain": [
       "PROGRESS: at sentence #950000, processed 9500000 words, keeping 122367 word types\n"
      ]
     },
     "metadata": {},
     "output_type": "display_data"
    },
    {
     "data": {
      "text/html": [
       "<pre style=\"white-space:pre;overflow-x:auto;line-height:normal;font-family:Menlo,'DejaVu Sans Mono',consolas,'Courier New',monospace\">PROGRESS: at sentence #960000, processed 9600000 words, keeping 122367 word types\n",
       "</pre>\n"
      ],
      "text/plain": [
       "PROGRESS: at sentence #960000, processed 9600000 words, keeping 122367 word types\n"
      ]
     },
     "metadata": {},
     "output_type": "display_data"
    },
    {
     "data": {
      "text/html": [
       "<pre style=\"white-space:pre;overflow-x:auto;line-height:normal;font-family:Menlo,'DejaVu Sans Mono',consolas,'Courier New',monospace\">PROGRESS: at sentence #970000, processed 9700000 words, keeping 122367 word types\n",
       "</pre>\n"
      ],
      "text/plain": [
       "PROGRESS: at sentence #970000, processed 9700000 words, keeping 122367 word types\n"
      ]
     },
     "metadata": {},
     "output_type": "display_data"
    },
    {
     "data": {
      "text/html": [
       "<pre style=\"white-space:pre;overflow-x:auto;line-height:normal;font-family:Menlo,'DejaVu Sans Mono',consolas,'Courier New',monospace\">PROGRESS: at sentence #980000, processed 9800000 words, keeping 122367 word types\n",
       "</pre>\n"
      ],
      "text/plain": [
       "PROGRESS: at sentence #980000, processed 9800000 words, keeping 122367 word types\n"
      ]
     },
     "metadata": {},
     "output_type": "display_data"
    },
    {
     "data": {
      "text/html": [
       "<pre style=\"white-space:pre;overflow-x:auto;line-height:normal;font-family:Menlo,'DejaVu Sans Mono',consolas,'Courier New',monospace\">PROGRESS: at sentence #990000, processed 9900000 words, keeping 122367 word types\n",
       "</pre>\n"
      ],
      "text/plain": [
       "PROGRESS: at sentence #990000, processed 9900000 words, keeping 122367 word types\n"
      ]
     },
     "metadata": {},
     "output_type": "display_data"
    },
    {
     "data": {
      "text/html": [
       "<pre style=\"white-space:pre;overflow-x:auto;line-height:normal;font-family:Menlo,'DejaVu Sans Mono',consolas,'Courier New',monospace\">PROGRESS: at sentence #1000000, processed 10000000 words, keeping 122367 word types\n",
       "</pre>\n"
      ],
      "text/plain": [
       "PROGRESS: at sentence #1000000, processed 10000000 words, keeping 122367 word types\n"
      ]
     },
     "metadata": {},
     "output_type": "display_data"
    },
    {
     "data": {
      "text/html": [
       "<pre style=\"white-space:pre;overflow-x:auto;line-height:normal;font-family:Menlo,'DejaVu Sans Mono',consolas,'Courier New',monospace\">PROGRESS: at sentence #1010000, processed 10100000 words, keeping 122367 word types\n",
       "</pre>\n"
      ],
      "text/plain": [
       "PROGRESS: at sentence #1010000, processed 10100000 words, keeping 122367 word types\n"
      ]
     },
     "metadata": {},
     "output_type": "display_data"
    },
    {
     "data": {
      "text/html": [
       "<pre style=\"white-space:pre;overflow-x:auto;line-height:normal;font-family:Menlo,'DejaVu Sans Mono',consolas,'Courier New',monospace\">PROGRESS: at sentence #1020000, processed 10200000 words, keeping 122367 word types\n",
       "</pre>\n"
      ],
      "text/plain": [
       "PROGRESS: at sentence #1020000, processed 10200000 words, keeping 122367 word types\n"
      ]
     },
     "metadata": {},
     "output_type": "display_data"
    },
    {
     "data": {
      "text/html": [
       "<pre style=\"white-space:pre;overflow-x:auto;line-height:normal;font-family:Menlo,'DejaVu Sans Mono',consolas,'Courier New',monospace\">PROGRESS: at sentence #1030000, processed 10300000 words, keeping 122367 word types\n",
       "</pre>\n"
      ],
      "text/plain": [
       "PROGRESS: at sentence #1030000, processed 10300000 words, keeping 122367 word types\n"
      ]
     },
     "metadata": {},
     "output_type": "display_data"
    },
    {
     "data": {
      "text/html": [
       "<pre style=\"white-space:pre;overflow-x:auto;line-height:normal;font-family:Menlo,'DejaVu Sans Mono',consolas,'Courier New',monospace\">PROGRESS: at sentence #1040000, processed 10400000 words, keeping 122367 word types\n",
       "</pre>\n"
      ],
      "text/plain": [
       "PROGRESS: at sentence #1040000, processed 10400000 words, keeping 122367 word types\n"
      ]
     },
     "metadata": {},
     "output_type": "display_data"
    },
    {
     "data": {
      "text/html": [
       "<pre style=\"white-space:pre;overflow-x:auto;line-height:normal;font-family:Menlo,'DejaVu Sans Mono',consolas,'Courier New',monospace\">PROGRESS: at sentence #1050000, processed 10500000 words, keeping 122367 word types\n",
       "</pre>\n"
      ],
      "text/plain": [
       "PROGRESS: at sentence #1050000, processed 10500000 words, keeping 122367 word types\n"
      ]
     },
     "metadata": {},
     "output_type": "display_data"
    },
    {
     "data": {
      "text/html": [
       "<pre style=\"white-space:pre;overflow-x:auto;line-height:normal;font-family:Menlo,'DejaVu Sans Mono',consolas,'Courier New',monospace\">PROGRESS: at sentence #1060000, processed 10600000 words, keeping 122367 word types\n",
       "</pre>\n"
      ],
      "text/plain": [
       "PROGRESS: at sentence #1060000, processed 10600000 words, keeping 122367 word types\n"
      ]
     },
     "metadata": {},
     "output_type": "display_data"
    },
    {
     "data": {
      "text/html": [
       "<pre style=\"white-space:pre;overflow-x:auto;line-height:normal;font-family:Menlo,'DejaVu Sans Mono',consolas,'Courier New',monospace\">PROGRESS: at sentence #1070000, processed 10700000 words, keeping 122367 word types\n",
       "</pre>\n"
      ],
      "text/plain": [
       "PROGRESS: at sentence #1070000, processed 10700000 words, keeping 122367 word types\n"
      ]
     },
     "metadata": {},
     "output_type": "display_data"
    },
    {
     "data": {
      "text/html": [
       "<pre style=\"white-space:pre;overflow-x:auto;line-height:normal;font-family:Menlo,'DejaVu Sans Mono',consolas,'Courier New',monospace\">PROGRESS: at sentence #1080000, processed 10800000 words, keeping 122367 word types\n",
       "</pre>\n"
      ],
      "text/plain": [
       "PROGRESS: at sentence #1080000, processed 10800000 words, keeping 122367 word types\n"
      ]
     },
     "metadata": {},
     "output_type": "display_data"
    },
    {
     "data": {
      "text/html": [
       "<pre style=\"white-space:pre;overflow-x:auto;line-height:normal;font-family:Menlo,'DejaVu Sans Mono',consolas,'Courier New',monospace\">PROGRESS: at sentence #1090000, processed 10900000 words, keeping 122367 word types\n",
       "</pre>\n"
      ],
      "text/plain": [
       "PROGRESS: at sentence #1090000, processed 10900000 words, keeping 122367 word types\n"
      ]
     },
     "metadata": {},
     "output_type": "display_data"
    },
    {
     "data": {
      "text/html": [
       "<pre style=\"white-space:pre;overflow-x:auto;line-height:normal;font-family:Menlo,'DejaVu Sans Mono',consolas,'Courier New',monospace\">PROGRESS: at sentence #1100000, processed 11000000 words, keeping 122367 word types\n",
       "</pre>\n"
      ],
      "text/plain": [
       "PROGRESS: at sentence #1100000, processed 11000000 words, keeping 122367 word types\n"
      ]
     },
     "metadata": {},
     "output_type": "display_data"
    },
    {
     "data": {
      "text/html": [
       "<pre style=\"white-space:pre;overflow-x:auto;line-height:normal;font-family:Menlo,'DejaVu Sans Mono',consolas,'Courier New',monospace\">PROGRESS: at sentence #1110000, processed 11100000 words, keeping 122367 word types\n",
       "</pre>\n"
      ],
      "text/plain": [
       "PROGRESS: at sentence #1110000, processed 11100000 words, keeping 122367 word types\n"
      ]
     },
     "metadata": {},
     "output_type": "display_data"
    },
    {
     "data": {
      "text/html": [
       "<pre style=\"white-space:pre;overflow-x:auto;line-height:normal;font-family:Menlo,'DejaVu Sans Mono',consolas,'Courier New',monospace\">PROGRESS: at sentence #1120000, processed 11200000 words, keeping 122367 word types\n",
       "</pre>\n"
      ],
      "text/plain": [
       "PROGRESS: at sentence #1120000, processed 11200000 words, keeping 122367 word types\n"
      ]
     },
     "metadata": {},
     "output_type": "display_data"
    },
    {
     "data": {
      "text/html": [
       "<pre style=\"white-space:pre;overflow-x:auto;line-height:normal;font-family:Menlo,'DejaVu Sans Mono',consolas,'Courier New',monospace\">PROGRESS: at sentence #1130000, processed 11300000 words, keeping 122367 word types\n",
       "</pre>\n"
      ],
      "text/plain": [
       "PROGRESS: at sentence #1130000, processed 11300000 words, keeping 122367 word types\n"
      ]
     },
     "metadata": {},
     "output_type": "display_data"
    },
    {
     "data": {
      "text/html": [
       "<pre style=\"white-space:pre;overflow-x:auto;line-height:normal;font-family:Menlo,'DejaVu Sans Mono',consolas,'Courier New',monospace\">PROGRESS: at sentence #1140000, processed 11400000 words, keeping 122367 word types\n",
       "</pre>\n"
      ],
      "text/plain": [
       "PROGRESS: at sentence #1140000, processed 11400000 words, keeping 122367 word types\n"
      ]
     },
     "metadata": {},
     "output_type": "display_data"
    },
    {
     "data": {
      "text/html": [
       "<pre style=\"white-space:pre;overflow-x:auto;line-height:normal;font-family:Menlo,'DejaVu Sans Mono',consolas,'Courier New',monospace\">PROGRESS: at sentence #1150000, processed 11500000 words, keeping 122367 word types\n",
       "</pre>\n"
      ],
      "text/plain": [
       "PROGRESS: at sentence #1150000, processed 11500000 words, keeping 122367 word types\n"
      ]
     },
     "metadata": {},
     "output_type": "display_data"
    },
    {
     "data": {
      "text/html": [
       "<pre style=\"white-space:pre;overflow-x:auto;line-height:normal;font-family:Menlo,'DejaVu Sans Mono',consolas,'Courier New',monospace\">PROGRESS: at sentence #1160000, processed 11600000 words, keeping 122367 word types\n",
       "</pre>\n"
      ],
      "text/plain": [
       "PROGRESS: at sentence #1160000, processed 11600000 words, keeping 122367 word types\n"
      ]
     },
     "metadata": {},
     "output_type": "display_data"
    },
    {
     "data": {
      "text/html": [
       "<pre style=\"white-space:pre;overflow-x:auto;line-height:normal;font-family:Menlo,'DejaVu Sans Mono',consolas,'Courier New',monospace\">PROGRESS: at sentence #1170000, processed 11700000 words, keeping 122367 word types\n",
       "</pre>\n"
      ],
      "text/plain": [
       "PROGRESS: at sentence #1170000, processed 11700000 words, keeping 122367 word types\n"
      ]
     },
     "metadata": {},
     "output_type": "display_data"
    },
    {
     "data": {
      "text/html": [
       "<pre style=\"white-space:pre;overflow-x:auto;line-height:normal;font-family:Menlo,'DejaVu Sans Mono',consolas,'Courier New',monospace\">PROGRESS: at sentence #1180000, processed 11800000 words, keeping 122367 word types\n",
       "</pre>\n"
      ],
      "text/plain": [
       "PROGRESS: at sentence #1180000, processed 11800000 words, keeping 122367 word types\n"
      ]
     },
     "metadata": {},
     "output_type": "display_data"
    },
    {
     "data": {
      "text/html": [
       "<pre style=\"white-space:pre;overflow-x:auto;line-height:normal;font-family:Menlo,'DejaVu Sans Mono',consolas,'Courier New',monospace\">PROGRESS: at sentence #1190000, processed 11900000 words, keeping 122367 word types\n",
       "</pre>\n"
      ],
      "text/plain": [
       "PROGRESS: at sentence #1190000, processed 11900000 words, keeping 122367 word types\n"
      ]
     },
     "metadata": {},
     "output_type": "display_data"
    },
    {
     "data": {
      "text/html": [
       "<pre style=\"white-space:pre;overflow-x:auto;line-height:normal;font-family:Menlo,'DejaVu Sans Mono',consolas,'Courier New',monospace\">PROGRESS: at sentence #1200000, processed 12000000 words, keeping 122367 word types\n",
       "</pre>\n"
      ],
      "text/plain": [
       "PROGRESS: at sentence #1200000, processed 12000000 words, keeping 122367 word types\n"
      ]
     },
     "metadata": {},
     "output_type": "display_data"
    },
    {
     "data": {
      "text/html": [
       "<pre style=\"white-space:pre;overflow-x:auto;line-height:normal;font-family:Menlo,'DejaVu Sans Mono',consolas,'Courier New',monospace\">PROGRESS: at sentence #1210000, processed 12100000 words, keeping 122367 word types\n",
       "</pre>\n"
      ],
      "text/plain": [
       "PROGRESS: at sentence #1210000, processed 12100000 words, keeping 122367 word types\n"
      ]
     },
     "metadata": {},
     "output_type": "display_data"
    },
    {
     "data": {
      "text/html": [
       "<pre style=\"white-space:pre;overflow-x:auto;line-height:normal;font-family:Menlo,'DejaVu Sans Mono',consolas,'Courier New',monospace\">PROGRESS: at sentence #1220000, processed 12200000 words, keeping 122367 word types\n",
       "</pre>\n"
      ],
      "text/plain": [
       "PROGRESS: at sentence #1220000, processed 12200000 words, keeping 122367 word types\n"
      ]
     },
     "metadata": {},
     "output_type": "display_data"
    },
    {
     "data": {
      "text/html": [
       "<pre style=\"white-space:pre;overflow-x:auto;line-height:normal;font-family:Menlo,'DejaVu Sans Mono',consolas,'Courier New',monospace\">collected 122367 word types from a corpus of 12236700 raw words and 1223670 sentences\n",
       "</pre>\n"
      ],
      "text/plain": [
       "collected 122367 word types from a corpus of 12236700 raw words and 1223670 sentences\n"
      ]
     },
     "metadata": {},
     "output_type": "display_data"
    },
    {
     "data": {
      "text/html": [
       "<pre style=\"white-space:pre;overflow-x:auto;line-height:normal;font-family:Menlo,'DejaVu Sans Mono',consolas,'Courier New',monospace\">Creating a fresh vocabulary\n",
       "</pre>\n"
      ],
      "text/plain": [
       "Creating a fresh vocabulary\n"
      ]
     },
     "metadata": {},
     "output_type": "display_data"
    },
    {
     "data": {
      "text/html": [
       "<pre style=\"white-space:pre;overflow-x:auto;line-height:normal;font-family:Menlo,'DejaVu Sans Mono',consolas,'Courier New',monospace\">Word2Vec lifecycle event {'msg': 'effective_min_count=1 retains 122367 unique words (100.00% of original 122367, drops 0)', 'datetime': '2022-11-14T11:59:37.827408', 'gensim': '4.2.0', 'python': '3.8.10 (default, Jun 22 2022, 20:18:18) \\n[GCC 9.4.0]', 'platform': 'Linux-5.15.0-48-generic-x86_64-with-glibc2.29', 'event': 'prepare_vocab'}\n",
       "</pre>\n"
      ],
      "text/plain": [
       "Word2Vec lifecycle event {'msg': 'effective_min_count=1 retains 122367 unique words (100.00% of original 122367, drops 0)', 'datetime': '2022-11-14T11:59:37.827408', 'gensim': '4.2.0', 'python': '3.8.10 (default, Jun 22 2022, 20:18:18) \\n[GCC 9.4.0]', 'platform': 'Linux-5.15.0-48-generic-x86_64-with-glibc2.29', 'event': 'prepare_vocab'}\n"
      ]
     },
     "metadata": {},
     "output_type": "display_data"
    },
    {
     "data": {
      "text/html": [
       "<pre style=\"white-space:pre;overflow-x:auto;line-height:normal;font-family:Menlo,'DejaVu Sans Mono',consolas,'Courier New',monospace\">Word2Vec lifecycle event {'msg': 'effective_min_count=1 leaves 12236700 word corpus (100.00% of original 12236700, drops 0)', 'datetime': '2022-11-14T11:59:37.828693', 'gensim': '4.2.0', 'python': '3.8.10 (default, Jun 22 2022, 20:18:18) \\n[GCC 9.4.0]', 'platform': 'Linux-5.15.0-48-generic-x86_64-with-glibc2.29', 'event': 'prepare_vocab'}\n",
       "</pre>\n"
      ],
      "text/plain": [
       "Word2Vec lifecycle event {'msg': 'effective_min_count=1 leaves 12236700 word corpus (100.00% of original 12236700, drops 0)', 'datetime': '2022-11-14T11:59:37.828693', 'gensim': '4.2.0', 'python': '3.8.10 (default, Jun 22 2022, 20:18:18) \\n[GCC 9.4.0]', 'platform': 'Linux-5.15.0-48-generic-x86_64-with-glibc2.29', 'event': 'prepare_vocab'}\n"
      ]
     },
     "metadata": {},
     "output_type": "display_data"
    },
    {
     "data": {
      "text/html": [
       "<pre style=\"white-space:pre;overflow-x:auto;line-height:normal;font-family:Menlo,'DejaVu Sans Mono',consolas,'Courier New',monospace\">deleting the raw counts dictionary of 122367 items\n",
       "</pre>\n"
      ],
      "text/plain": [
       "deleting the raw counts dictionary of 122367 items\n"
      ]
     },
     "metadata": {},
     "output_type": "display_data"
    },
    {
     "data": {
      "text/html": [
       "<pre style=\"white-space:pre;overflow-x:auto;line-height:normal;font-family:Menlo,'DejaVu Sans Mono',consolas,'Courier New',monospace\">sample=0.001 downsamples 8 most-common words\n",
       "</pre>\n"
      ],
      "text/plain": [
       "sample=0.001 downsamples 8 most-common words\n"
      ]
     },
     "metadata": {},
     "output_type": "display_data"
    },
    {
     "data": {
      "text/html": [
       "<pre style=\"white-space:pre;overflow-x:auto;line-height:normal;font-family:Menlo,'DejaVu Sans Mono',consolas,'Courier New',monospace\">Word2Vec lifecycle event {'msg': 'downsampling leaves estimated 12061329.982565068 word corpus (98.6%% of prior 12236700)', 'datetime': '2022-11-14T11:59:38.220181', 'gensim': '4.2.0', 'python': '3.8.10 (default, Jun 22 2022, 20:18:18) \\n[GCC 9.4.0]', 'platform': 'Linux-5.15.0-48-generic-x86_64-with-glibc2.29', 'event': 'prepare_vocab'}\n",
       "</pre>\n"
      ],
      "text/plain": [
       "Word2Vec lifecycle event {'msg': 'downsampling leaves estimated 12061329.982565068 word corpus (98.6%% of prior 12236700)', 'datetime': '2022-11-14T11:59:38.220181', 'gensim': '4.2.0', 'python': '3.8.10 (default, Jun 22 2022, 20:18:18) \\n[GCC 9.4.0]', 'platform': 'Linux-5.15.0-48-generic-x86_64-with-glibc2.29', 'event': 'prepare_vocab'}\n"
      ]
     },
     "metadata": {},
     "output_type": "display_data"
    },
    {
     "data": {
      "text/html": [
       "<pre style=\"white-space:pre;overflow-x:auto;line-height:normal;font-family:Menlo,'DejaVu Sans Mono',consolas,'Courier New',monospace\">estimated required memory for 122367 words and 50 dimensions: 110130300 bytes\n",
       "</pre>\n"
      ],
      "text/plain": [
       "estimated required memory for 122367 words and 50 dimensions: 110130300 bytes\n"
      ]
     },
     "metadata": {},
     "output_type": "display_data"
    },
    {
     "data": {
      "text/html": [
       "<pre style=\"white-space:pre;overflow-x:auto;line-height:normal;font-family:Menlo,'DejaVu Sans Mono',consolas,'Courier New',monospace\">resetting layer weights\n",
       "</pre>\n"
      ],
      "text/plain": [
       "resetting layer weights\n"
      ]
     },
     "metadata": {},
     "output_type": "display_data"
    },
    {
     "data": {
      "text/html": [
       "<pre style=\"white-space:pre;overflow-x:auto;line-height:normal;font-family:Menlo,'DejaVu Sans Mono',consolas,'Courier New',monospace\">Word2Vec lifecycle event {'update': False, 'trim_rule': 'None', 'datetime': '2022-11-14T11:59:38.904611', 'gensim': '4.2.0', 'python': '3.8.10 (default, Jun 22 2022, 20:18:18) \\n[GCC 9.4.0]', 'platform': 'Linux-5.15.0-48-generic-x86_64-with-glibc2.29', 'event': 'build_vocab'}\n",
       "</pre>\n"
      ],
      "text/plain": [
       "Word2Vec lifecycle event {'update': False, 'trim_rule': 'None', 'datetime': '2022-11-14T11:59:38.904611', 'gensim': '4.2.0', 'python': '3.8.10 (default, Jun 22 2022, 20:18:18) \\n[GCC 9.4.0]', 'platform': 'Linux-5.15.0-48-generic-x86_64-with-glibc2.29', 'event': 'build_vocab'}\n"
      ]
     },
     "metadata": {},
     "output_type": "display_data"
    },
    {
     "data": {
      "text/html": [
       "<pre style=\"white-space:pre;overflow-x:auto;line-height:normal;font-family:Menlo,'DejaVu Sans Mono',consolas,'Courier New',monospace\">Word2Vec lifecycle event {'msg': 'training model with 1 workers on 122367 vocabulary and 50 features, using sg=1 hs=0 sample=0.001 negative=5 window=10 shrink_windows=True', 'datetime': '2022-11-14T11:59:38.905747', 'gensim': '4.2.0', 'python': '3.8.10 (default, Jun 22 2022, 20:18:18) \\n[GCC 9.4.0]', 'platform': 'Linux-5.15.0-48-generic-x86_64-with-glibc2.29', 'event': 'train'}\n",
       "</pre>\n"
      ],
      "text/plain": [
       "Word2Vec lifecycle event {'msg': 'training model with 1 workers on 122367 vocabulary and 50 features, using sg=1 hs=0 sample=0.001 negative=5 window=10 shrink_windows=True', 'datetime': '2022-11-14T11:59:38.905747', 'gensim': '4.2.0', 'python': '3.8.10 (default, Jun 22 2022, 20:18:18) \\n[GCC 9.4.0]', 'platform': 'Linux-5.15.0-48-generic-x86_64-with-glibc2.29', 'event': 'train'}\n"
      ]
     },
     "metadata": {},
     "output_type": "display_data"
    },
    {
     "data": {
      "text/html": [
       "<pre style=\"white-space:pre;overflow-x:auto;line-height:normal;font-family:Menlo,'DejaVu Sans Mono',consolas,'Courier New',monospace\">EPOCH 0 - PROGRESS: at 0.72% examples, 87299 words/s, in_qsize 1, out_qsize 0\n",
       "</pre>\n"
      ],
      "text/plain": [
       "EPOCH 0 - PROGRESS: at 0.72% examples, 87299 words/s, in_qsize 1, out_qsize 0\n"
      ]
     },
     "metadata": {},
     "output_type": "display_data"
    },
    {
     "data": {
      "text/html": [
       "<pre style=\"white-space:pre;overflow-x:auto;line-height:normal;font-family:Menlo,'DejaVu Sans Mono',consolas,'Courier New',monospace\">EPOCH 0 - PROGRESS: at 1.35% examples, 81294 words/s, in_qsize 2, out_qsize 0\n",
       "</pre>\n"
      ],
      "text/plain": [
       "EPOCH 0 - PROGRESS: at 1.35% examples, 81294 words/s, in_qsize 2, out_qsize 0\n"
      ]
     },
     "metadata": {},
     "output_type": "display_data"
    },
    {
     "data": {
      "text/html": [
       "<pre style=\"white-space:pre;overflow-x:auto;line-height:normal;font-family:Menlo,'DejaVu Sans Mono',consolas,'Courier New',monospace\">EPOCH 0 - PROGRESS: at 2.04% examples, 82136 words/s, in_qsize 1, out_qsize 0\n",
       "</pre>\n"
      ],
      "text/plain": [
       "EPOCH 0 - PROGRESS: at 2.04% examples, 82136 words/s, in_qsize 1, out_qsize 0\n"
      ]
     },
     "metadata": {},
     "output_type": "display_data"
    },
    {
     "data": {
      "text/html": [
       "<pre style=\"white-space:pre;overflow-x:auto;line-height:normal;font-family:Menlo,'DejaVu Sans Mono',consolas,'Courier New',monospace\">EPOCH 0 - PROGRESS: at 2.76% examples, 83223 words/s, in_qsize 1, out_qsize 0\n",
       "</pre>\n"
      ],
      "text/plain": [
       "EPOCH 0 - PROGRESS: at 2.76% examples, 83223 words/s, in_qsize 1, out_qsize 0\n"
      ]
     },
     "metadata": {},
     "output_type": "display_data"
    },
    {
     "data": {
      "text/html": [
       "<pre style=\"white-space:pre;overflow-x:auto;line-height:normal;font-family:Menlo,'DejaVu Sans Mono',consolas,'Courier New',monospace\">EPOCH 0 - PROGRESS: at 3.46% examples, 83367 words/s, in_qsize 1, out_qsize 0\n",
       "</pre>\n"
      ],
      "text/plain": [
       "EPOCH 0 - PROGRESS: at 3.46% examples, 83367 words/s, in_qsize 1, out_qsize 0\n"
      ]
     },
     "metadata": {},
     "output_type": "display_data"
    },
    {
     "data": {
      "text/html": [
       "<pre style=\"white-space:pre;overflow-x:auto;line-height:normal;font-family:Menlo,'DejaVu Sans Mono',consolas,'Courier New',monospace\">EPOCH 0 - PROGRESS: at 4.14% examples, 83312 words/s, in_qsize 1, out_qsize 0\n",
       "</pre>\n"
      ],
      "text/plain": [
       "EPOCH 0 - PROGRESS: at 4.14% examples, 83312 words/s, in_qsize 1, out_qsize 0\n"
      ]
     },
     "metadata": {},
     "output_type": "display_data"
    },
    {
     "data": {
      "text/html": [
       "<pre style=\"white-space:pre;overflow-x:auto;line-height:normal;font-family:Menlo,'DejaVu Sans Mono',consolas,'Courier New',monospace\">EPOCH 0 - PROGRESS: at 4.88% examples, 84022 words/s, in_qsize 2, out_qsize 0\n",
       "</pre>\n"
      ],
      "text/plain": [
       "EPOCH 0 - PROGRESS: at 4.88% examples, 84022 words/s, in_qsize 2, out_qsize 0\n"
      ]
     },
     "metadata": {},
     "output_type": "display_data"
    },
    {
     "data": {
      "text/html": [
       "<pre style=\"white-space:pre;overflow-x:auto;line-height:normal;font-family:Menlo,'DejaVu Sans Mono',consolas,'Courier New',monospace\">EPOCH 0 - PROGRESS: at 5.57% examples, 83903 words/s, in_qsize 1, out_qsize 0\n",
       "</pre>\n"
      ],
      "text/plain": [
       "EPOCH 0 - PROGRESS: at 5.57% examples, 83903 words/s, in_qsize 1, out_qsize 0\n"
      ]
     },
     "metadata": {},
     "output_type": "display_data"
    },
    {
     "data": {
      "text/html": [
       "<pre style=\"white-space:pre;overflow-x:auto;line-height:normal;font-family:Menlo,'DejaVu Sans Mono',consolas,'Courier New',monospace\">EPOCH 0 - PROGRESS: at 6.28% examples, 84148 words/s, in_qsize 1, out_qsize 0\n",
       "</pre>\n"
      ],
      "text/plain": [
       "EPOCH 0 - PROGRESS: at 6.28% examples, 84148 words/s, in_qsize 1, out_qsize 0\n"
      ]
     },
     "metadata": {},
     "output_type": "display_data"
    },
    {
     "data": {
      "text/html": [
       "<pre style=\"white-space:pre;overflow-x:auto;line-height:normal;font-family:Menlo,'DejaVu Sans Mono',consolas,'Courier New',monospace\">EPOCH 0 - PROGRESS: at 7.00% examples, 84403 words/s, in_qsize 2, out_qsize 0\n",
       "</pre>\n"
      ],
      "text/plain": [
       "EPOCH 0 - PROGRESS: at 7.00% examples, 84403 words/s, in_qsize 2, out_qsize 0\n"
      ]
     },
     "metadata": {},
     "output_type": "display_data"
    },
    {
     "data": {
      "text/html": [
       "<pre style=\"white-space:pre;overflow-x:auto;line-height:normal;font-family:Menlo,'DejaVu Sans Mono',consolas,'Courier New',monospace\">EPOCH 0 - PROGRESS: at 7.75% examples, 84990 words/s, in_qsize 2, out_qsize 0\n",
       "</pre>\n"
      ],
      "text/plain": [
       "EPOCH 0 - PROGRESS: at 7.75% examples, 84990 words/s, in_qsize 2, out_qsize 0\n"
      ]
     },
     "metadata": {},
     "output_type": "display_data"
    },
    {
     "data": {
      "text/html": [
       "<pre style=\"white-space:pre;overflow-x:auto;line-height:normal;font-family:Menlo,'DejaVu Sans Mono',consolas,'Courier New',monospace\">EPOCH 0 - PROGRESS: at 8.48% examples, 85244 words/s, in_qsize 2, out_qsize 0\n",
       "</pre>\n"
      ],
      "text/plain": [
       "EPOCH 0 - PROGRESS: at 8.48% examples, 85244 words/s, in_qsize 2, out_qsize 0\n"
      ]
     },
     "metadata": {},
     "output_type": "display_data"
    },
    {
     "data": {
      "text/html": [
       "<pre style=\"white-space:pre;overflow-x:auto;line-height:normal;font-family:Menlo,'DejaVu Sans Mono',consolas,'Courier New',monospace\">EPOCH 0 - PROGRESS: at 9.19% examples, 85297 words/s, in_qsize 1, out_qsize 0\n",
       "</pre>\n"
      ],
      "text/plain": [
       "EPOCH 0 - PROGRESS: at 9.19% examples, 85297 words/s, in_qsize 1, out_qsize 0\n"
      ]
     },
     "metadata": {},
     "output_type": "display_data"
    },
    {
     "data": {
      "text/html": [
       "<pre style=\"white-space:pre;overflow-x:auto;line-height:normal;font-family:Menlo,'DejaVu Sans Mono',consolas,'Courier New',monospace\">EPOCH 0 - PROGRESS: at 9.97% examples, 85857 words/s, in_qsize 1, out_qsize 0\n",
       "</pre>\n"
      ],
      "text/plain": [
       "EPOCH 0 - PROGRESS: at 9.97% examples, 85857 words/s, in_qsize 1, out_qsize 0\n"
      ]
     },
     "metadata": {},
     "output_type": "display_data"
    },
    {
     "data": {
      "text/html": [
       "<pre style=\"white-space:pre;overflow-x:auto;line-height:normal;font-family:Menlo,'DejaVu Sans Mono',consolas,'Courier New',monospace\">EPOCH 0 - PROGRESS: at 10.70% examples, 86034 words/s, in_qsize 1, out_qsize 0\n",
       "</pre>\n"
      ],
      "text/plain": [
       "EPOCH 0 - PROGRESS: at 10.70% examples, 86034 words/s, in_qsize 1, out_qsize 0\n"
      ]
     },
     "metadata": {},
     "output_type": "display_data"
    },
    {
     "data": {
      "text/html": [
       "<pre style=\"white-space:pre;overflow-x:auto;line-height:normal;font-family:Menlo,'DejaVu Sans Mono',consolas,'Courier New',monospace\">EPOCH 0 - PROGRESS: at 11.41% examples, 86041 words/s, in_qsize 1, out_qsize 0\n",
       "</pre>\n"
      ],
      "text/plain": [
       "EPOCH 0 - PROGRESS: at 11.41% examples, 86041 words/s, in_qsize 1, out_qsize 0\n"
      ]
     },
     "metadata": {},
     "output_type": "display_data"
    },
    {
     "data": {
      "text/html": [
       "<pre style=\"white-space:pre;overflow-x:auto;line-height:normal;font-family:Menlo,'DejaVu Sans Mono',consolas,'Courier New',monospace\">EPOCH 0 - PROGRESS: at 12.13% examples, 86078 words/s, in_qsize 1, out_qsize 0\n",
       "</pre>\n"
      ],
      "text/plain": [
       "EPOCH 0 - PROGRESS: at 12.13% examples, 86078 words/s, in_qsize 1, out_qsize 0\n"
      ]
     },
     "metadata": {},
     "output_type": "display_data"
    },
    {
     "data": {
      "text/html": [
       "<pre style=\"white-space:pre;overflow-x:auto;line-height:normal;font-family:Menlo,'DejaVu Sans Mono',consolas,'Courier New',monospace\">EPOCH 0 - PROGRESS: at 12.90% examples, 86426 words/s, in_qsize 2, out_qsize 0\n",
       "</pre>\n"
      ],
      "text/plain": [
       "EPOCH 0 - PROGRESS: at 12.90% examples, 86426 words/s, in_qsize 2, out_qsize 0\n"
      ]
     },
     "metadata": {},
     "output_type": "display_data"
    },
    {
     "data": {
      "text/html": [
       "<pre style=\"white-space:pre;overflow-x:auto;line-height:normal;font-family:Menlo,'DejaVu Sans Mono',consolas,'Courier New',monospace\">EPOCH 0 - PROGRESS: at 13.63% examples, 86527 words/s, in_qsize 1, out_qsize 0\n",
       "</pre>\n"
      ],
      "text/plain": [
       "EPOCH 0 - PROGRESS: at 13.63% examples, 86527 words/s, in_qsize 1, out_qsize 0\n"
      ]
     },
     "metadata": {},
     "output_type": "display_data"
    },
    {
     "data": {
      "text/html": [
       "<pre style=\"white-space:pre;overflow-x:auto;line-height:normal;font-family:Menlo,'DejaVu Sans Mono',consolas,'Courier New',monospace\">EPOCH 0 - PROGRESS: at 14.33% examples, 86399 words/s, in_qsize 1, out_qsize 0\n",
       "</pre>\n"
      ],
      "text/plain": [
       "EPOCH 0 - PROGRESS: at 14.33% examples, 86399 words/s, in_qsize 1, out_qsize 0\n"
      ]
     },
     "metadata": {},
     "output_type": "display_data"
    },
    {
     "data": {
      "text/html": [
       "<pre style=\"white-space:pre;overflow-x:auto;line-height:normal;font-family:Menlo,'DejaVu Sans Mono',consolas,'Courier New',monospace\">EPOCH 0 - PROGRESS: at 15.06% examples, 86519 words/s, in_qsize 1, out_qsize 0\n",
       "</pre>\n"
      ],
      "text/plain": [
       "EPOCH 0 - PROGRESS: at 15.06% examples, 86519 words/s, in_qsize 1, out_qsize 0\n"
      ]
     },
     "metadata": {},
     "output_type": "display_data"
    },
    {
     "data": {
      "text/html": [
       "<pre style=\"white-space:pre;overflow-x:auto;line-height:normal;font-family:Menlo,'DejaVu Sans Mono',consolas,'Courier New',monospace\">EPOCH 0 - PROGRESS: at 15.78% examples, 86538 words/s, in_qsize 1, out_qsize 0\n",
       "</pre>\n"
      ],
      "text/plain": [
       "EPOCH 0 - PROGRESS: at 15.78% examples, 86538 words/s, in_qsize 1, out_qsize 0\n"
      ]
     },
     "metadata": {},
     "output_type": "display_data"
    },
    {
     "data": {
      "text/html": [
       "<pre style=\"white-space:pre;overflow-x:auto;line-height:normal;font-family:Menlo,'DejaVu Sans Mono',consolas,'Courier New',monospace\">EPOCH 0 - PROGRESS: at 16.46% examples, 86304 words/s, in_qsize 1, out_qsize 0\n",
       "</pre>\n"
      ],
      "text/plain": [
       "EPOCH 0 - PROGRESS: at 16.46% examples, 86304 words/s, in_qsize 1, out_qsize 0\n"
      ]
     },
     "metadata": {},
     "output_type": "display_data"
    },
    {
     "data": {
      "text/html": [
       "<pre style=\"white-space:pre;overflow-x:auto;line-height:normal;font-family:Menlo,'DejaVu Sans Mono',consolas,'Courier New',monospace\">EPOCH 0 - PROGRESS: at 17.16% examples, 86249 words/s, in_qsize 2, out_qsize 0\n",
       "</pre>\n"
      ],
      "text/plain": [
       "EPOCH 0 - PROGRESS: at 17.16% examples, 86249 words/s, in_qsize 2, out_qsize 0\n"
      ]
     },
     "metadata": {},
     "output_type": "display_data"
    },
    {
     "data": {
      "text/html": [
       "<pre style=\"white-space:pre;overflow-x:auto;line-height:normal;font-family:Menlo,'DejaVu Sans Mono',consolas,'Courier New',monospace\">EPOCH 0 - PROGRESS: at 17.90% examples, 86351 words/s, in_qsize 1, out_qsize 0\n",
       "</pre>\n"
      ],
      "text/plain": [
       "EPOCH 0 - PROGRESS: at 17.90% examples, 86351 words/s, in_qsize 1, out_qsize 0\n"
      ]
     },
     "metadata": {},
     "output_type": "display_data"
    },
    {
     "data": {
      "text/html": [
       "<pre style=\"white-space:pre;overflow-x:auto;line-height:normal;font-family:Menlo,'DejaVu Sans Mono',consolas,'Courier New',monospace\">EPOCH 0 - PROGRESS: at 18.56% examples, 86109 words/s, in_qsize 1, out_qsize 0\n",
       "</pre>\n"
      ],
      "text/plain": [
       "EPOCH 0 - PROGRESS: at 18.56% examples, 86109 words/s, in_qsize 1, out_qsize 0\n"
      ]
     },
     "metadata": {},
     "output_type": "display_data"
    },
    {
     "data": {
      "text/html": [
       "<pre style=\"white-space:pre;overflow-x:auto;line-height:normal;font-family:Menlo,'DejaVu Sans Mono',consolas,'Courier New',monospace\">EPOCH 0 - PROGRESS: at 19.23% examples, 85915 words/s, in_qsize 1, out_qsize 0\n",
       "</pre>\n"
      ],
      "text/plain": [
       "EPOCH 0 - PROGRESS: at 19.23% examples, 85915 words/s, in_qsize 1, out_qsize 0\n"
      ]
     },
     "metadata": {},
     "output_type": "display_data"
    },
    {
     "data": {
      "text/html": [
       "<pre style=\"white-space:pre;overflow-x:auto;line-height:normal;font-family:Menlo,'DejaVu Sans Mono',consolas,'Courier New',monospace\">EPOCH 0 - PROGRESS: at 19.88% examples, 85641 words/s, in_qsize 1, out_qsize 0\n",
       "</pre>\n"
      ],
      "text/plain": [
       "EPOCH 0 - PROGRESS: at 19.88% examples, 85641 words/s, in_qsize 1, out_qsize 0\n"
      ]
     },
     "metadata": {},
     "output_type": "display_data"
    },
    {
     "data": {
      "text/html": [
       "<pre style=\"white-space:pre;overflow-x:auto;line-height:normal;font-family:Menlo,'DejaVu Sans Mono',consolas,'Courier New',monospace\">EPOCH 0 - PROGRESS: at 20.64% examples, 85834 words/s, in_qsize 1, out_qsize 0\n",
       "</pre>\n"
      ],
      "text/plain": [
       "EPOCH 0 - PROGRESS: at 20.64% examples, 85834 words/s, in_qsize 1, out_qsize 0\n"
      ]
     },
     "metadata": {},
     "output_type": "display_data"
    },
    {
     "data": {
      "text/html": [
       "<pre style=\"white-space:pre;overflow-x:auto;line-height:normal;font-family:Menlo,'DejaVu Sans Mono',consolas,'Courier New',monospace\">EPOCH 0 - PROGRESS: at 21.35% examples, 85816 words/s, in_qsize 2, out_qsize 0\n",
       "</pre>\n"
      ],
      "text/plain": [
       "EPOCH 0 - PROGRESS: at 21.35% examples, 85816 words/s, in_qsize 2, out_qsize 0\n"
      ]
     },
     "metadata": {},
     "output_type": "display_data"
    },
    {
     "data": {
      "text/html": [
       "<pre style=\"white-space:pre;overflow-x:auto;line-height:normal;font-family:Menlo,'DejaVu Sans Mono',consolas,'Courier New',monospace\">EPOCH 0 - PROGRESS: at 22.08% examples, 85917 words/s, in_qsize 1, out_qsize 0\n",
       "</pre>\n"
      ],
      "text/plain": [
       "EPOCH 0 - PROGRESS: at 22.08% examples, 85917 words/s, in_qsize 1, out_qsize 0\n"
      ]
     },
     "metadata": {},
     "output_type": "display_data"
    },
    {
     "data": {
      "text/html": [
       "<pre style=\"white-space:pre;overflow-x:auto;line-height:normal;font-family:Menlo,'DejaVu Sans Mono',consolas,'Courier New',monospace\">EPOCH 0 - PROGRESS: at 22.81% examples, 85987 words/s, in_qsize 1, out_qsize 0\n",
       "</pre>\n"
      ],
      "text/plain": [
       "EPOCH 0 - PROGRESS: at 22.81% examples, 85987 words/s, in_qsize 1, out_qsize 0\n"
      ]
     },
     "metadata": {},
     "output_type": "display_data"
    },
    {
     "data": {
      "text/html": [
       "<pre style=\"white-space:pre;overflow-x:auto;line-height:normal;font-family:Menlo,'DejaVu Sans Mono',consolas,'Courier New',monospace\">EPOCH 0 - PROGRESS: at 23.51% examples, 85934 words/s, in_qsize 1, out_qsize 0\n",
       "</pre>\n"
      ],
      "text/plain": [
       "EPOCH 0 - PROGRESS: at 23.51% examples, 85934 words/s, in_qsize 1, out_qsize 0\n"
      ]
     },
     "metadata": {},
     "output_type": "display_data"
    },
    {
     "data": {
      "text/html": [
       "<pre style=\"white-space:pre;overflow-x:auto;line-height:normal;font-family:Menlo,'DejaVu Sans Mono',consolas,'Courier New',monospace\">EPOCH 0 - PROGRESS: at 24.17% examples, 85728 words/s, in_qsize 1, out_qsize 0\n",
       "</pre>\n"
      ],
      "text/plain": [
       "EPOCH 0 - PROGRESS: at 24.17% examples, 85728 words/s, in_qsize 1, out_qsize 0\n"
      ]
     },
     "metadata": {},
     "output_type": "display_data"
    },
    {
     "data": {
      "text/html": [
       "<pre style=\"white-space:pre;overflow-x:auto;line-height:normal;font-family:Menlo,'DejaVu Sans Mono',consolas,'Courier New',monospace\">EPOCH 0 - PROGRESS: at 24.84% examples, 85593 words/s, in_qsize 2, out_qsize 0\n",
       "</pre>\n"
      ],
      "text/plain": [
       "EPOCH 0 - PROGRESS: at 24.84% examples, 85593 words/s, in_qsize 2, out_qsize 0\n"
      ]
     },
     "metadata": {},
     "output_type": "display_data"
    },
    {
     "data": {
      "text/html": [
       "<pre style=\"white-space:pre;overflow-x:auto;line-height:normal;font-family:Menlo,'DejaVu Sans Mono',consolas,'Courier New',monospace\">EPOCH 0 - PROGRESS: at 25.56% examples, 85648 words/s, in_qsize 1, out_qsize 0\n",
       "</pre>\n"
      ],
      "text/plain": [
       "EPOCH 0 - PROGRESS: at 25.56% examples, 85648 words/s, in_qsize 1, out_qsize 0\n"
      ]
     },
     "metadata": {},
     "output_type": "display_data"
    },
    {
     "data": {
      "text/html": [
       "<pre style=\"white-space:pre;overflow-x:auto;line-height:normal;font-family:Menlo,'DejaVu Sans Mono',consolas,'Courier New',monospace\">EPOCH 0 - PROGRESS: at 26.32% examples, 85783 words/s, in_qsize 2, out_qsize 0\n",
       "</pre>\n"
      ],
      "text/plain": [
       "EPOCH 0 - PROGRESS: at 26.32% examples, 85783 words/s, in_qsize 2, out_qsize 0\n"
      ]
     },
     "metadata": {},
     "output_type": "display_data"
    },
    {
     "data": {
      "text/html": [
       "<pre style=\"white-space:pre;overflow-x:auto;line-height:normal;font-family:Menlo,'DejaVu Sans Mono',consolas,'Courier New',monospace\">EPOCH 0 - PROGRESS: at 27.07% examples, 85925 words/s, in_qsize 2, out_qsize 0\n",
       "</pre>\n"
      ],
      "text/plain": [
       "EPOCH 0 - PROGRESS: at 27.07% examples, 85925 words/s, in_qsize 2, out_qsize 0\n"
      ]
     },
     "metadata": {},
     "output_type": "display_data"
    },
    {
     "data": {
      "text/html": [
       "<pre style=\"white-space:pre;overflow-x:auto;line-height:normal;font-family:Menlo,'DejaVu Sans Mono',consolas,'Courier New',monospace\">EPOCH 0 - PROGRESS: at 27.80% examples, 85976 words/s, in_qsize 1, out_qsize 0\n",
       "</pre>\n"
      ],
      "text/plain": [
       "EPOCH 0 - PROGRESS: at 27.80% examples, 85976 words/s, in_qsize 1, out_qsize 0\n"
      ]
     },
     "metadata": {},
     "output_type": "display_data"
    },
    {
     "data": {
      "text/html": [
       "<pre style=\"white-space:pre;overflow-x:auto;line-height:normal;font-family:Menlo,'DejaVu Sans Mono',consolas,'Courier New',monospace\">EPOCH 0 - PROGRESS: at 28.51% examples, 85977 words/s, in_qsize 2, out_qsize 0\n",
       "</pre>\n"
      ],
      "text/plain": [
       "EPOCH 0 - PROGRESS: at 28.51% examples, 85977 words/s, in_qsize 2, out_qsize 0\n"
      ]
     },
     "metadata": {},
     "output_type": "display_data"
    },
    {
     "data": {
      "text/html": [
       "<pre style=\"white-space:pre;overflow-x:auto;line-height:normal;font-family:Menlo,'DejaVu Sans Mono',consolas,'Courier New',monospace\">EPOCH 0 - PROGRESS: at 29.27% examples, 86096 words/s, in_qsize 2, out_qsize 0\n",
       "</pre>\n"
      ],
      "text/plain": [
       "EPOCH 0 - PROGRESS: at 29.27% examples, 86096 words/s, in_qsize 2, out_qsize 0\n"
      ]
     },
     "metadata": {},
     "output_type": "display_data"
    },
    {
     "data": {
      "text/html": [
       "<pre style=\"white-space:pre;overflow-x:auto;line-height:normal;font-family:Menlo,'DejaVu Sans Mono',consolas,'Courier New',monospace\">EPOCH 0 - PROGRESS: at 29.98% examples, 86100 words/s, in_qsize 2, out_qsize 0\n",
       "</pre>\n"
      ],
      "text/plain": [
       "EPOCH 0 - PROGRESS: at 29.98% examples, 86100 words/s, in_qsize 2, out_qsize 0\n"
      ]
     },
     "metadata": {},
     "output_type": "display_data"
    },
    {
     "data": {
      "text/html": [
       "<pre style=\"white-space:pre;overflow-x:auto;line-height:normal;font-family:Menlo,'DejaVu Sans Mono',consolas,'Courier New',monospace\">EPOCH 0 - PROGRESS: at 30.71% examples, 86129 words/s, in_qsize 2, out_qsize 0\n",
       "</pre>\n"
      ],
      "text/plain": [
       "EPOCH 0 - PROGRESS: at 30.71% examples, 86129 words/s, in_qsize 2, out_qsize 0\n"
      ]
     },
     "metadata": {},
     "output_type": "display_data"
    },
    {
     "data": {
      "text/html": [
       "<pre style=\"white-space:pre;overflow-x:auto;line-height:normal;font-family:Menlo,'DejaVu Sans Mono',consolas,'Courier New',monospace\">EPOCH 0 - PROGRESS: at 31.32% examples, 85838 words/s, in_qsize 1, out_qsize 0\n",
       "</pre>\n"
      ],
      "text/plain": [
       "EPOCH 0 - PROGRESS: at 31.32% examples, 85838 words/s, in_qsize 1, out_qsize 0\n"
      ]
     },
     "metadata": {},
     "output_type": "display_data"
    },
    {
     "data": {
      "text/html": [
       "<pre style=\"white-space:pre;overflow-x:auto;line-height:normal;font-family:Menlo,'DejaVu Sans Mono',consolas,'Courier New',monospace\">EPOCH 0 - PROGRESS: at 31.88% examples, 85454 words/s, in_qsize 1, out_qsize 0\n",
       "</pre>\n"
      ],
      "text/plain": [
       "EPOCH 0 - PROGRESS: at 31.88% examples, 85454 words/s, in_qsize 1, out_qsize 0\n"
      ]
     },
     "metadata": {},
     "output_type": "display_data"
    },
    {
     "data": {
      "text/html": [
       "<pre style=\"white-space:pre;overflow-x:auto;line-height:normal;font-family:Menlo,'DejaVu Sans Mono',consolas,'Courier New',monospace\">EPOCH 0 - PROGRESS: at 32.45% examples, 85079 words/s, in_qsize 1, out_qsize 0\n",
       "</pre>\n"
      ],
      "text/plain": [
       "EPOCH 0 - PROGRESS: at 32.45% examples, 85079 words/s, in_qsize 1, out_qsize 0\n"
      ]
     },
     "metadata": {},
     "output_type": "display_data"
    },
    {
     "data": {
      "text/html": [
       "<pre style=\"white-space:pre;overflow-x:auto;line-height:normal;font-family:Menlo,'DejaVu Sans Mono',consolas,'Courier New',monospace\">EPOCH 0 - PROGRESS: at 32.95% examples, 84565 words/s, in_qsize 1, out_qsize 1\n",
       "</pre>\n"
      ],
      "text/plain": [
       "EPOCH 0 - PROGRESS: at 32.95% examples, 84565 words/s, in_qsize 1, out_qsize 1\n"
      ]
     },
     "metadata": {},
     "output_type": "display_data"
    },
    {
     "data": {
      "text/html": [
       "<pre style=\"white-space:pre;overflow-x:auto;line-height:normal;font-family:Menlo,'DejaVu Sans Mono',consolas,'Courier New',monospace\">EPOCH 0 - PROGRESS: at 33.51% examples, 84201 words/s, in_qsize 1, out_qsize 0\n",
       "</pre>\n"
      ],
      "text/plain": [
       "EPOCH 0 - PROGRESS: at 33.51% examples, 84201 words/s, in_qsize 1, out_qsize 0\n"
      ]
     },
     "metadata": {},
     "output_type": "display_data"
    },
    {
     "data": {
      "text/html": [
       "<pre style=\"white-space:pre;overflow-x:auto;line-height:normal;font-family:Menlo,'DejaVu Sans Mono',consolas,'Courier New',monospace\">EPOCH 0 - PROGRESS: at 33.96% examples, 83599 words/s, in_qsize 1, out_qsize 0\n",
       "</pre>\n"
      ],
      "text/plain": [
       "EPOCH 0 - PROGRESS: at 33.96% examples, 83599 words/s, in_qsize 1, out_qsize 0\n"
      ]
     },
     "metadata": {},
     "output_type": "display_data"
    },
    {
     "data": {
      "text/html": [
       "<pre style=\"white-space:pre;overflow-x:auto;line-height:normal;font-family:Menlo,'DejaVu Sans Mono',consolas,'Courier New',monospace\">EPOCH 0 - PROGRESS: at 34.48% examples, 83163 words/s, in_qsize 1, out_qsize 0\n",
       "</pre>\n"
      ],
      "text/plain": [
       "EPOCH 0 - PROGRESS: at 34.48% examples, 83163 words/s, in_qsize 1, out_qsize 0\n"
      ]
     },
     "metadata": {},
     "output_type": "display_data"
    },
    {
     "data": {
      "text/html": [
       "<pre style=\"white-space:pre;overflow-x:auto;line-height:normal;font-family:Menlo,'DejaVu Sans Mono',consolas,'Courier New',monospace\">EPOCH 0 - PROGRESS: at 35.17% examples, 83164 words/s, in_qsize 1, out_qsize 0\n",
       "</pre>\n"
      ],
      "text/plain": [
       "EPOCH 0 - PROGRESS: at 35.17% examples, 83164 words/s, in_qsize 1, out_qsize 0\n"
      ]
     },
     "metadata": {},
     "output_type": "display_data"
    },
    {
     "data": {
      "text/html": [
       "<pre style=\"white-space:pre;overflow-x:auto;line-height:normal;font-family:Menlo,'DejaVu Sans Mono',consolas,'Courier New',monospace\">EPOCH 0 - PROGRESS: at 35.80% examples, 83027 words/s, in_qsize 2, out_qsize 0\n",
       "</pre>\n"
      ],
      "text/plain": [
       "EPOCH 0 - PROGRESS: at 35.80% examples, 83027 words/s, in_qsize 2, out_qsize 0\n"
      ]
     },
     "metadata": {},
     "output_type": "display_data"
    },
    {
     "data": {
      "text/html": [
       "<pre style=\"white-space:pre;overflow-x:auto;line-height:normal;font-family:Menlo,'DejaVu Sans Mono',consolas,'Courier New',monospace\">EPOCH 0 - PROGRESS: at 36.46% examples, 82959 words/s, in_qsize 2, out_qsize 0\n",
       "</pre>\n"
      ],
      "text/plain": [
       "EPOCH 0 - PROGRESS: at 36.46% examples, 82959 words/s, in_qsize 2, out_qsize 0\n"
      ]
     },
     "metadata": {},
     "output_type": "display_data"
    },
    {
     "data": {
      "text/html": [
       "<pre style=\"white-space:pre;overflow-x:auto;line-height:normal;font-family:Menlo,'DejaVu Sans Mono',consolas,'Courier New',monospace\">EPOCH 0 - PROGRESS: at 37.17% examples, 83008 words/s, in_qsize 2, out_qsize 0\n",
       "</pre>\n"
      ],
      "text/plain": [
       "EPOCH 0 - PROGRESS: at 37.17% examples, 83008 words/s, in_qsize 2, out_qsize 0\n"
      ]
     },
     "metadata": {},
     "output_type": "display_data"
    },
    {
     "data": {
      "text/html": [
       "<pre style=\"white-space:pre;overflow-x:auto;line-height:normal;font-family:Menlo,'DejaVu Sans Mono',consolas,'Courier New',monospace\">EPOCH 0 - PROGRESS: at 37.88% examples, 83069 words/s, in_qsize 1, out_qsize 0\n",
       "</pre>\n"
      ],
      "text/plain": [
       "EPOCH 0 - PROGRESS: at 37.88% examples, 83069 words/s, in_qsize 1, out_qsize 0\n"
      ]
     },
     "metadata": {},
     "output_type": "display_data"
    },
    {
     "data": {
      "text/html": [
       "<pre style=\"white-space:pre;overflow-x:auto;line-height:normal;font-family:Menlo,'DejaVu Sans Mono',consolas,'Courier New',monospace\">EPOCH 0 - PROGRESS: at 38.57% examples, 83072 words/s, in_qsize 1, out_qsize 0\n",
       "</pre>\n"
      ],
      "text/plain": [
       "EPOCH 0 - PROGRESS: at 38.57% examples, 83072 words/s, in_qsize 1, out_qsize 0\n"
      ]
     },
     "metadata": {},
     "output_type": "display_data"
    },
    {
     "data": {
      "text/html": [
       "<pre style=\"white-space:pre;overflow-x:auto;line-height:normal;font-family:Menlo,'DejaVu Sans Mono',consolas,'Courier New',monospace\">EPOCH 0 - PROGRESS: at 39.23% examples, 83015 words/s, in_qsize 2, out_qsize 0\n",
       "</pre>\n"
      ],
      "text/plain": [
       "EPOCH 0 - PROGRESS: at 39.23% examples, 83015 words/s, in_qsize 2, out_qsize 0\n"
      ]
     },
     "metadata": {},
     "output_type": "display_data"
    },
    {
     "data": {
      "text/html": [
       "<pre style=\"white-space:pre;overflow-x:auto;line-height:normal;font-family:Menlo,'DejaVu Sans Mono',consolas,'Courier New',monospace\">EPOCH 0 - PROGRESS: at 39.89% examples, 82957 words/s, in_qsize 1, out_qsize 0\n",
       "</pre>\n"
      ],
      "text/plain": [
       "EPOCH 0 - PROGRESS: at 39.89% examples, 82957 words/s, in_qsize 1, out_qsize 0\n"
      ]
     },
     "metadata": {},
     "output_type": "display_data"
    },
    {
     "data": {
      "text/html": [
       "<pre style=\"white-space:pre;overflow-x:auto;line-height:normal;font-family:Menlo,'DejaVu Sans Mono',consolas,'Courier New',monospace\">EPOCH 0 - PROGRESS: at 40.51% examples, 82819 words/s, in_qsize 2, out_qsize 0\n",
       "</pre>\n"
      ],
      "text/plain": [
       "EPOCH 0 - PROGRESS: at 40.51% examples, 82819 words/s, in_qsize 2, out_qsize 0\n"
      ]
     },
     "metadata": {},
     "output_type": "display_data"
    },
    {
     "data": {
      "text/html": [
       "<pre style=\"white-space:pre;overflow-x:auto;line-height:normal;font-family:Menlo,'DejaVu Sans Mono',consolas,'Courier New',monospace\">EPOCH 0 - PROGRESS: at 41.16% examples, 82731 words/s, in_qsize 1, out_qsize 0\n",
       "</pre>\n"
      ],
      "text/plain": [
       "EPOCH 0 - PROGRESS: at 41.16% examples, 82731 words/s, in_qsize 1, out_qsize 0\n"
      ]
     },
     "metadata": {},
     "output_type": "display_data"
    },
    {
     "data": {
      "text/html": [
       "<pre style=\"white-space:pre;overflow-x:auto;line-height:normal;font-family:Menlo,'DejaVu Sans Mono',consolas,'Courier New',monospace\">EPOCH 0 - PROGRESS: at 41.86% examples, 82765 words/s, in_qsize 2, out_qsize 0\n",
       "</pre>\n"
      ],
      "text/plain": [
       "EPOCH 0 - PROGRESS: at 41.86% examples, 82765 words/s, in_qsize 2, out_qsize 0\n"
      ]
     },
     "metadata": {},
     "output_type": "display_data"
    },
    {
     "data": {
      "text/html": [
       "<pre style=\"white-space:pre;overflow-x:auto;line-height:normal;font-family:Menlo,'DejaVu Sans Mono',consolas,'Courier New',monospace\">EPOCH 0 - PROGRESS: at 42.45% examples, 82584 words/s, in_qsize 1, out_qsize 0\n",
       "</pre>\n"
      ],
      "text/plain": [
       "EPOCH 0 - PROGRESS: at 42.45% examples, 82584 words/s, in_qsize 1, out_qsize 0\n"
      ]
     },
     "metadata": {},
     "output_type": "display_data"
    },
    {
     "data": {
      "text/html": [
       "<pre style=\"white-space:pre;overflow-x:auto;line-height:normal;font-family:Menlo,'DejaVu Sans Mono',consolas,'Courier New',monospace\">EPOCH 0 - PROGRESS: at 43.04% examples, 82393 words/s, in_qsize 2, out_qsize 0\n",
       "</pre>\n"
      ],
      "text/plain": [
       "EPOCH 0 - PROGRESS: at 43.04% examples, 82393 words/s, in_qsize 2, out_qsize 0\n"
      ]
     },
     "metadata": {},
     "output_type": "display_data"
    },
    {
     "data": {
      "text/html": [
       "<pre style=\"white-space:pre;overflow-x:auto;line-height:normal;font-family:Menlo,'DejaVu Sans Mono',consolas,'Courier New',monospace\">EPOCH 0 - PROGRESS: at 43.64% examples, 82232 words/s, in_qsize 1, out_qsize 0\n",
       "</pre>\n"
      ],
      "text/plain": [
       "EPOCH 0 - PROGRESS: at 43.64% examples, 82232 words/s, in_qsize 1, out_qsize 0\n"
      ]
     },
     "metadata": {},
     "output_type": "display_data"
    },
    {
     "data": {
      "text/html": [
       "<pre style=\"white-space:pre;overflow-x:auto;line-height:normal;font-family:Menlo,'DejaVu Sans Mono',consolas,'Courier New',monospace\">EPOCH 0 - PROGRESS: at 44.37% examples, 82331 words/s, in_qsize 1, out_qsize 0\n",
       "</pre>\n"
      ],
      "text/plain": [
       "EPOCH 0 - PROGRESS: at 44.37% examples, 82331 words/s, in_qsize 1, out_qsize 0\n"
      ]
     },
     "metadata": {},
     "output_type": "display_data"
    },
    {
     "data": {
      "text/html": [
       "<pre style=\"white-space:pre;overflow-x:auto;line-height:normal;font-family:Menlo,'DejaVu Sans Mono',consolas,'Courier New',monospace\">EPOCH 0 - PROGRESS: at 45.08% examples, 82370 words/s, in_qsize 2, out_qsize 0\n",
       "</pre>\n"
      ],
      "text/plain": [
       "EPOCH 0 - PROGRESS: at 45.08% examples, 82370 words/s, in_qsize 2, out_qsize 0\n"
      ]
     },
     "metadata": {},
     "output_type": "display_data"
    },
    {
     "data": {
      "text/html": [
       "<pre style=\"white-space:pre;overflow-x:auto;line-height:normal;font-family:Menlo,'DejaVu Sans Mono',consolas,'Courier New',monospace\">EPOCH 0 - PROGRESS: at 45.75% examples, 82348 words/s, in_qsize 1, out_qsize 1\n",
       "</pre>\n"
      ],
      "text/plain": [
       "EPOCH 0 - PROGRESS: at 45.75% examples, 82348 words/s, in_qsize 1, out_qsize 1\n"
      ]
     },
     "metadata": {},
     "output_type": "display_data"
    },
    {
     "data": {
      "text/html": [
       "<pre style=\"white-space:pre;overflow-x:auto;line-height:normal;font-family:Menlo,'DejaVu Sans Mono',consolas,'Courier New',monospace\">EPOCH 0 - PROGRESS: at 46.43% examples, 82342 words/s, in_qsize 1, out_qsize 0\n",
       "</pre>\n"
      ],
      "text/plain": [
       "EPOCH 0 - PROGRESS: at 46.43% examples, 82342 words/s, in_qsize 1, out_qsize 0\n"
      ]
     },
     "metadata": {},
     "output_type": "display_data"
    },
    {
     "data": {
      "text/html": [
       "<pre style=\"white-space:pre;overflow-x:auto;line-height:normal;font-family:Menlo,'DejaVu Sans Mono',consolas,'Courier New',monospace\">EPOCH 0 - PROGRESS: at 47.01% examples, 82172 words/s, in_qsize 1, out_qsize 0\n",
       "</pre>\n"
      ],
      "text/plain": [
       "EPOCH 0 - PROGRESS: at 47.01% examples, 82172 words/s, in_qsize 1, out_qsize 0\n"
      ]
     },
     "metadata": {},
     "output_type": "display_data"
    },
    {
     "data": {
      "text/html": [
       "<pre style=\"white-space:pre;overflow-x:auto;line-height:normal;font-family:Menlo,'DejaVu Sans Mono',consolas,'Courier New',monospace\">EPOCH 0 - PROGRESS: at 47.56% examples, 81951 words/s, in_qsize 1, out_qsize 0\n",
       "</pre>\n"
      ],
      "text/plain": [
       "EPOCH 0 - PROGRESS: at 47.56% examples, 81951 words/s, in_qsize 1, out_qsize 0\n"
      ]
     },
     "metadata": {},
     "output_type": "display_data"
    },
    {
     "data": {
      "text/html": [
       "<pre style=\"white-space:pre;overflow-x:auto;line-height:normal;font-family:Menlo,'DejaVu Sans Mono',consolas,'Courier New',monospace\">EPOCH 0 - PROGRESS: at 48.11% examples, 81724 words/s, in_qsize 1, out_qsize 0\n",
       "</pre>\n"
      ],
      "text/plain": [
       "EPOCH 0 - PROGRESS: at 48.11% examples, 81724 words/s, in_qsize 1, out_qsize 0\n"
      ]
     },
     "metadata": {},
     "output_type": "display_data"
    },
    {
     "data": {
      "text/html": [
       "<pre style=\"white-space:pre;overflow-x:auto;line-height:normal;font-family:Menlo,'DejaVu Sans Mono',consolas,'Courier New',monospace\">EPOCH 0 - PROGRESS: at 48.58% examples, 81379 words/s, in_qsize 1, out_qsize 0\n",
       "</pre>\n"
      ],
      "text/plain": [
       "EPOCH 0 - PROGRESS: at 48.58% examples, 81379 words/s, in_qsize 1, out_qsize 0\n"
      ]
     },
     "metadata": {},
     "output_type": "display_data"
    },
    {
     "data": {
      "text/html": [
       "<pre style=\"white-space:pre;overflow-x:auto;line-height:normal;font-family:Menlo,'DejaVu Sans Mono',consolas,'Courier New',monospace\">EPOCH 0 - PROGRESS: at 49.20% examples, 81277 words/s, in_qsize 1, out_qsize 0\n",
       "</pre>\n"
      ],
      "text/plain": [
       "EPOCH 0 - PROGRESS: at 49.20% examples, 81277 words/s, in_qsize 1, out_qsize 0\n"
      ]
     },
     "metadata": {},
     "output_type": "display_data"
    },
    {
     "data": {
      "text/html": [
       "<pre style=\"white-space:pre;overflow-x:auto;line-height:normal;font-family:Menlo,'DejaVu Sans Mono',consolas,'Courier New',monospace\">EPOCH 0 - PROGRESS: at 49.72% examples, 81038 words/s, in_qsize 1, out_qsize 0\n",
       "</pre>\n"
      ],
      "text/plain": [
       "EPOCH 0 - PROGRESS: at 49.72% examples, 81038 words/s, in_qsize 1, out_qsize 0\n"
      ]
     },
     "metadata": {},
     "output_type": "display_data"
    },
    {
     "data": {
      "text/html": [
       "<pre style=\"white-space:pre;overflow-x:auto;line-height:normal;font-family:Menlo,'DejaVu Sans Mono',consolas,'Courier New',monospace\">EPOCH 0 - PROGRESS: at 50.28% examples, 80848 words/s, in_qsize 1, out_qsize 0\n",
       "</pre>\n"
      ],
      "text/plain": [
       "EPOCH 0 - PROGRESS: at 50.28% examples, 80848 words/s, in_qsize 1, out_qsize 0\n"
      ]
     },
     "metadata": {},
     "output_type": "display_data"
    },
    {
     "data": {
      "text/html": [
       "<pre style=\"white-space:pre;overflow-x:auto;line-height:normal;font-family:Menlo,'DejaVu Sans Mono',consolas,'Courier New',monospace\">EPOCH 0 - PROGRESS: at 50.76% examples, 80554 words/s, in_qsize 1, out_qsize 0\n",
       "</pre>\n"
      ],
      "text/plain": [
       "EPOCH 0 - PROGRESS: at 50.76% examples, 80554 words/s, in_qsize 1, out_qsize 0\n"
      ]
     },
     "metadata": {},
     "output_type": "display_data"
    },
    {
     "data": {
      "text/html": [
       "<pre style=\"white-space:pre;overflow-x:auto;line-height:normal;font-family:Menlo,'DejaVu Sans Mono',consolas,'Courier New',monospace\">EPOCH 0 - PROGRESS: at 51.25% examples, 80266 words/s, in_qsize 1, out_qsize 0\n",
       "</pre>\n"
      ],
      "text/plain": [
       "EPOCH 0 - PROGRESS: at 51.25% examples, 80266 words/s, in_qsize 1, out_qsize 0\n"
      ]
     },
     "metadata": {},
     "output_type": "display_data"
    },
    {
     "data": {
      "text/html": [
       "<pre style=\"white-space:pre;overflow-x:auto;line-height:normal;font-family:Menlo,'DejaVu Sans Mono',consolas,'Courier New',monospace\">EPOCH 0 - PROGRESS: at 51.80% examples, 80098 words/s, in_qsize 1, out_qsize 0\n",
       "</pre>\n"
      ],
      "text/plain": [
       "EPOCH 0 - PROGRESS: at 51.80% examples, 80098 words/s, in_qsize 1, out_qsize 0\n"
      ]
     },
     "metadata": {},
     "output_type": "display_data"
    },
    {
     "data": {
      "text/html": [
       "<pre style=\"white-space:pre;overflow-x:auto;line-height:normal;font-family:Menlo,'DejaVu Sans Mono',consolas,'Courier New',monospace\">EPOCH 0 - PROGRESS: at 52.45% examples, 80070 words/s, in_qsize 1, out_qsize 0\n",
       "</pre>\n"
      ],
      "text/plain": [
       "EPOCH 0 - PROGRESS: at 52.45% examples, 80070 words/s, in_qsize 1, out_qsize 0\n"
      ]
     },
     "metadata": {},
     "output_type": "display_data"
    },
    {
     "data": {
      "text/html": [
       "<pre style=\"white-space:pre;overflow-x:auto;line-height:normal;font-family:Menlo,'DejaVu Sans Mono',consolas,'Courier New',monospace\">EPOCH 0 - PROGRESS: at 53.13% examples, 80093 words/s, in_qsize 0, out_qsize 0\n",
       "</pre>\n"
      ],
      "text/plain": [
       "EPOCH 0 - PROGRESS: at 53.13% examples, 80093 words/s, in_qsize 0, out_qsize 0\n"
      ]
     },
     "metadata": {},
     "output_type": "display_data"
    },
    {
     "data": {
      "text/html": [
       "<pre style=\"white-space:pre;overflow-x:auto;line-height:normal;font-family:Menlo,'DejaVu Sans Mono',consolas,'Courier New',monospace\">EPOCH 0 - PROGRESS: at 53.73% examples, 79998 words/s, in_qsize 1, out_qsize 0\n",
       "</pre>\n"
      ],
      "text/plain": [
       "EPOCH 0 - PROGRESS: at 53.73% examples, 79998 words/s, in_qsize 1, out_qsize 0\n"
      ]
     },
     "metadata": {},
     "output_type": "display_data"
    },
    {
     "data": {
      "text/html": [
       "<pre style=\"white-space:pre;overflow-x:auto;line-height:normal;font-family:Menlo,'DejaVu Sans Mono',consolas,'Courier New',monospace\">EPOCH 0 - PROGRESS: at 54.41% examples, 80029 words/s, in_qsize 1, out_qsize 0\n",
       "</pre>\n"
      ],
      "text/plain": [
       "EPOCH 0 - PROGRESS: at 54.41% examples, 80029 words/s, in_qsize 1, out_qsize 0\n"
      ]
     },
     "metadata": {},
     "output_type": "display_data"
    },
    {
     "data": {
      "text/html": [
       "<pre style=\"white-space:pre;overflow-x:auto;line-height:normal;font-family:Menlo,'DejaVu Sans Mono',consolas,'Courier New',monospace\">EPOCH 0 - PROGRESS: at 55.07% examples, 80018 words/s, in_qsize 1, out_qsize 0\n",
       "</pre>\n"
      ],
      "text/plain": [
       "EPOCH 0 - PROGRESS: at 55.07% examples, 80018 words/s, in_qsize 1, out_qsize 0\n"
      ]
     },
     "metadata": {},
     "output_type": "display_data"
    },
    {
     "data": {
      "text/html": [
       "<pre style=\"white-space:pre;overflow-x:auto;line-height:normal;font-family:Menlo,'DejaVu Sans Mono',consolas,'Courier New',monospace\">EPOCH 0 - PROGRESS: at 55.73% examples, 80019 words/s, in_qsize 1, out_qsize 0\n",
       "</pre>\n"
      ],
      "text/plain": [
       "EPOCH 0 - PROGRESS: at 55.73% examples, 80019 words/s, in_qsize 1, out_qsize 0\n"
      ]
     },
     "metadata": {},
     "output_type": "display_data"
    },
    {
     "data": {
      "text/html": [
       "<pre style=\"white-space:pre;overflow-x:auto;line-height:normal;font-family:Menlo,'DejaVu Sans Mono',consolas,'Courier New',monospace\">EPOCH 0 - PROGRESS: at 56.41% examples, 80044 words/s, in_qsize 1, out_qsize 0\n",
       "</pre>\n"
      ],
      "text/plain": [
       "EPOCH 0 - PROGRESS: at 56.41% examples, 80044 words/s, in_qsize 1, out_qsize 0\n"
      ]
     },
     "metadata": {},
     "output_type": "display_data"
    },
    {
     "data": {
      "text/html": [
       "<pre style=\"white-space:pre;overflow-x:auto;line-height:normal;font-family:Menlo,'DejaVu Sans Mono',consolas,'Courier New',monospace\">EPOCH 0 - PROGRESS: at 57.06% examples, 80019 words/s, in_qsize 1, out_qsize 0\n",
       "</pre>\n"
      ],
      "text/plain": [
       "EPOCH 0 - PROGRESS: at 57.06% examples, 80019 words/s, in_qsize 1, out_qsize 0\n"
      ]
     },
     "metadata": {},
     "output_type": "display_data"
    },
    {
     "data": {
      "text/html": [
       "<pre style=\"white-space:pre;overflow-x:auto;line-height:normal;font-family:Menlo,'DejaVu Sans Mono',consolas,'Courier New',monospace\">EPOCH 0 - PROGRESS: at 57.70% examples, 79994 words/s, in_qsize 1, out_qsize 0\n",
       "</pre>\n"
      ],
      "text/plain": [
       "EPOCH 0 - PROGRESS: at 57.70% examples, 79994 words/s, in_qsize 1, out_qsize 0\n"
      ]
     },
     "metadata": {},
     "output_type": "display_data"
    },
    {
     "data": {
      "text/html": [
       "<pre style=\"white-space:pre;overflow-x:auto;line-height:normal;font-family:Menlo,'DejaVu Sans Mono',consolas,'Courier New',monospace\">EPOCH 0 - PROGRESS: at 58.33% examples, 79941 words/s, in_qsize 1, out_qsize 0\n",
       "</pre>\n"
      ],
      "text/plain": [
       "EPOCH 0 - PROGRESS: at 58.33% examples, 79941 words/s, in_qsize 1, out_qsize 0\n"
      ]
     },
     "metadata": {},
     "output_type": "display_data"
    },
    {
     "data": {
      "text/html": [
       "<pre style=\"white-space:pre;overflow-x:auto;line-height:normal;font-family:Menlo,'DejaVu Sans Mono',consolas,'Courier New',monospace\">EPOCH 0 - PROGRESS: at 58.87% examples, 79782 words/s, in_qsize 1, out_qsize 0\n",
       "</pre>\n"
      ],
      "text/plain": [
       "EPOCH 0 - PROGRESS: at 58.87% examples, 79782 words/s, in_qsize 1, out_qsize 0\n"
      ]
     },
     "metadata": {},
     "output_type": "display_data"
    },
    {
     "data": {
      "text/html": [
       "<pre style=\"white-space:pre;overflow-x:auto;line-height:normal;font-family:Menlo,'DejaVu Sans Mono',consolas,'Courier New',monospace\">EPOCH 0 - PROGRESS: at 59.53% examples, 79779 words/s, in_qsize 2, out_qsize 0\n",
       "</pre>\n"
      ],
      "text/plain": [
       "EPOCH 0 - PROGRESS: at 59.53% examples, 79779 words/s, in_qsize 2, out_qsize 0\n"
      ]
     },
     "metadata": {},
     "output_type": "display_data"
    },
    {
     "data": {
      "text/html": [
       "<pre style=\"white-space:pre;overflow-x:auto;line-height:normal;font-family:Menlo,'DejaVu Sans Mono',consolas,'Courier New',monospace\">EPOCH 0 - PROGRESS: at 60.17% examples, 79741 words/s, in_qsize 1, out_qsize 0\n",
       "</pre>\n"
      ],
      "text/plain": [
       "EPOCH 0 - PROGRESS: at 60.17% examples, 79741 words/s, in_qsize 1, out_qsize 0\n"
      ]
     },
     "metadata": {},
     "output_type": "display_data"
    },
    {
     "data": {
      "text/html": [
       "<pre style=\"white-space:pre;overflow-x:auto;line-height:normal;font-family:Menlo,'DejaVu Sans Mono',consolas,'Courier New',monospace\">EPOCH 0 - PROGRESS: at 60.87% examples, 79791 words/s, in_qsize 1, out_qsize 0\n",
       "</pre>\n"
      ],
      "text/plain": [
       "EPOCH 0 - PROGRESS: at 60.87% examples, 79791 words/s, in_qsize 1, out_qsize 0\n"
      ]
     },
     "metadata": {},
     "output_type": "display_data"
    },
    {
     "data": {
      "text/html": [
       "<pre style=\"white-space:pre;overflow-x:auto;line-height:normal;font-family:Menlo,'DejaVu Sans Mono',consolas,'Courier New',monospace\">EPOCH 0 - PROGRESS: at 61.62% examples, 79915 words/s, in_qsize 2, out_qsize 0\n",
       "</pre>\n"
      ],
      "text/plain": [
       "EPOCH 0 - PROGRESS: at 61.62% examples, 79915 words/s, in_qsize 2, out_qsize 0\n"
      ]
     },
     "metadata": {},
     "output_type": "display_data"
    },
    {
     "data": {
      "text/html": [
       "<pre style=\"white-space:pre;overflow-x:auto;line-height:normal;font-family:Menlo,'DejaVu Sans Mono',consolas,'Courier New',monospace\">EPOCH 0 - PROGRESS: at 62.36% examples, 80013 words/s, in_qsize 1, out_qsize 0\n",
       "</pre>\n"
      ],
      "text/plain": [
       "EPOCH 0 - PROGRESS: at 62.36% examples, 80013 words/s, in_qsize 1, out_qsize 0\n"
      ]
     },
     "metadata": {},
     "output_type": "display_data"
    },
    {
     "data": {
      "text/html": [
       "<pre style=\"white-space:pre;overflow-x:auto;line-height:normal;font-family:Menlo,'DejaVu Sans Mono',consolas,'Courier New',monospace\">EPOCH 0 - PROGRESS: at 63.13% examples, 80150 words/s, in_qsize 1, out_qsize 0\n",
       "</pre>\n"
      ],
      "text/plain": [
       "EPOCH 0 - PROGRESS: at 63.13% examples, 80150 words/s, in_qsize 1, out_qsize 0\n"
      ]
     },
     "metadata": {},
     "output_type": "display_data"
    },
    {
     "data": {
      "text/html": [
       "<pre style=\"white-space:pre;overflow-x:auto;line-height:normal;font-family:Menlo,'DejaVu Sans Mono',consolas,'Courier New',monospace\">EPOCH 0 - PROGRESS: at 63.88% examples, 80258 words/s, in_qsize 1, out_qsize 0\n",
       "</pre>\n"
      ],
      "text/plain": [
       "EPOCH 0 - PROGRESS: at 63.88% examples, 80258 words/s, in_qsize 1, out_qsize 0\n"
      ]
     },
     "metadata": {},
     "output_type": "display_data"
    },
    {
     "data": {
      "text/html": [
       "<pre style=\"white-space:pre;overflow-x:auto;line-height:normal;font-family:Menlo,'DejaVu Sans Mono',consolas,'Courier New',monospace\">EPOCH 0 - PROGRESS: at 64.58% examples, 80290 words/s, in_qsize 1, out_qsize 0\n",
       "</pre>\n"
      ],
      "text/plain": [
       "EPOCH 0 - PROGRESS: at 64.58% examples, 80290 words/s, in_qsize 1, out_qsize 0\n"
      ]
     },
     "metadata": {},
     "output_type": "display_data"
    },
    {
     "data": {
      "text/html": [
       "<pre style=\"white-space:pre;overflow-x:auto;line-height:normal;font-family:Menlo,'DejaVu Sans Mono',consolas,'Courier New',monospace\">EPOCH 0 - PROGRESS: at 65.33% examples, 80394 words/s, in_qsize 2, out_qsize 0\n",
       "</pre>\n"
      ],
      "text/plain": [
       "EPOCH 0 - PROGRESS: at 65.33% examples, 80394 words/s, in_qsize 2, out_qsize 0\n"
      ]
     },
     "metadata": {},
     "output_type": "display_data"
    },
    {
     "data": {
      "text/html": [
       "<pre style=\"white-space:pre;overflow-x:auto;line-height:normal;font-family:Menlo,'DejaVu Sans Mono',consolas,'Courier New',monospace\">EPOCH 0 - PROGRESS: at 66.05% examples, 80465 words/s, in_qsize 1, out_qsize 0\n",
       "</pre>\n"
      ],
      "text/plain": [
       "EPOCH 0 - PROGRESS: at 66.05% examples, 80465 words/s, in_qsize 1, out_qsize 0\n"
      ]
     },
     "metadata": {},
     "output_type": "display_data"
    },
    {
     "data": {
      "text/html": [
       "<pre style=\"white-space:pre;overflow-x:auto;line-height:normal;font-family:Menlo,'DejaVu Sans Mono',consolas,'Courier New',monospace\">EPOCH 0 - PROGRESS: at 66.80% examples, 80563 words/s, in_qsize 1, out_qsize 0\n",
       "</pre>\n"
      ],
      "text/plain": [
       "EPOCH 0 - PROGRESS: at 66.80% examples, 80563 words/s, in_qsize 1, out_qsize 0\n"
      ]
     },
     "metadata": {},
     "output_type": "display_data"
    },
    {
     "data": {
      "text/html": [
       "<pre style=\"white-space:pre;overflow-x:auto;line-height:normal;font-family:Menlo,'DejaVu Sans Mono',consolas,'Courier New',monospace\">EPOCH 0 - PROGRESS: at 67.53% examples, 80644 words/s, in_qsize 1, out_qsize 0\n",
       "</pre>\n"
      ],
      "text/plain": [
       "EPOCH 0 - PROGRESS: at 67.53% examples, 80644 words/s, in_qsize 1, out_qsize 0\n"
      ]
     },
     "metadata": {},
     "output_type": "display_data"
    },
    {
     "data": {
      "text/html": [
       "<pre style=\"white-space:pre;overflow-x:auto;line-height:normal;font-family:Menlo,'DejaVu Sans Mono',consolas,'Courier New',monospace\">EPOCH 0 - PROGRESS: at 68.29% examples, 80751 words/s, in_qsize 2, out_qsize 0\n",
       "</pre>\n"
      ],
      "text/plain": [
       "EPOCH 0 - PROGRESS: at 68.29% examples, 80751 words/s, in_qsize 2, out_qsize 0\n"
      ]
     },
     "metadata": {},
     "output_type": "display_data"
    },
    {
     "data": {
      "text/html": [
       "<pre style=\"white-space:pre;overflow-x:auto;line-height:normal;font-family:Menlo,'DejaVu Sans Mono',consolas,'Courier New',monospace\">EPOCH 0 - PROGRESS: at 69.06% examples, 80862 words/s, in_qsize 1, out_qsize 0\n",
       "</pre>\n"
      ],
      "text/plain": [
       "EPOCH 0 - PROGRESS: at 69.06% examples, 80862 words/s, in_qsize 1, out_qsize 0\n"
      ]
     },
     "metadata": {},
     "output_type": "display_data"
    },
    {
     "data": {
      "text/html": [
       "<pre style=\"white-space:pre;overflow-x:auto;line-height:normal;font-family:Menlo,'DejaVu Sans Mono',consolas,'Courier New',monospace\">EPOCH 0 - PROGRESS: at 69.79% examples, 80936 words/s, in_qsize 1, out_qsize 0\n",
       "</pre>\n"
      ],
      "text/plain": [
       "EPOCH 0 - PROGRESS: at 69.79% examples, 80936 words/s, in_qsize 1, out_qsize 0\n"
      ]
     },
     "metadata": {},
     "output_type": "display_data"
    },
    {
     "data": {
      "text/html": [
       "<pre style=\"white-space:pre;overflow-x:auto;line-height:normal;font-family:Menlo,'DejaVu Sans Mono',consolas,'Courier New',monospace\">EPOCH 0 - PROGRESS: at 70.52% examples, 81003 words/s, in_qsize 1, out_qsize 0\n",
       "</pre>\n"
      ],
      "text/plain": [
       "EPOCH 0 - PROGRESS: at 70.52% examples, 81003 words/s, in_qsize 1, out_qsize 0\n"
      ]
     },
     "metadata": {},
     "output_type": "display_data"
    },
    {
     "data": {
      "text/html": [
       "<pre style=\"white-space:pre;overflow-x:auto;line-height:normal;font-family:Menlo,'DejaVu Sans Mono',consolas,'Courier New',monospace\">EPOCH 0 - PROGRESS: at 71.20% examples, 81009 words/s, in_qsize 1, out_qsize 0\n",
       "</pre>\n"
      ],
      "text/plain": [
       "EPOCH 0 - PROGRESS: at 71.20% examples, 81009 words/s, in_qsize 1, out_qsize 0\n"
      ]
     },
     "metadata": {},
     "output_type": "display_data"
    },
    {
     "data": {
      "text/html": [
       "<pre style=\"white-space:pre;overflow-x:auto;line-height:normal;font-family:Menlo,'DejaVu Sans Mono',consolas,'Courier New',monospace\">EPOCH 0 - PROGRESS: at 71.92% examples, 81058 words/s, in_qsize 1, out_qsize 0\n",
       "</pre>\n"
      ],
      "text/plain": [
       "EPOCH 0 - PROGRESS: at 71.92% examples, 81058 words/s, in_qsize 1, out_qsize 0\n"
      ]
     },
     "metadata": {},
     "output_type": "display_data"
    },
    {
     "data": {
      "text/html": [
       "<pre style=\"white-space:pre;overflow-x:auto;line-height:normal;font-family:Menlo,'DejaVu Sans Mono',consolas,'Courier New',monospace\">EPOCH 0 - PROGRESS: at 72.60% examples, 81072 words/s, in_qsize 2, out_qsize 0\n",
       "</pre>\n"
      ],
      "text/plain": [
       "EPOCH 0 - PROGRESS: at 72.60% examples, 81072 words/s, in_qsize 2, out_qsize 0\n"
      ]
     },
     "metadata": {},
     "output_type": "display_data"
    },
    {
     "data": {
      "text/html": [
       "<pre style=\"white-space:pre;overflow-x:auto;line-height:normal;font-family:Menlo,'DejaVu Sans Mono',consolas,'Courier New',monospace\">EPOCH 0 - PROGRESS: at 73.28% examples, 81077 words/s, in_qsize 1, out_qsize 0\n",
       "</pre>\n"
      ],
      "text/plain": [
       "EPOCH 0 - PROGRESS: at 73.28% examples, 81077 words/s, in_qsize 1, out_qsize 0\n"
      ]
     },
     "metadata": {},
     "output_type": "display_data"
    },
    {
     "data": {
      "text/html": [
       "<pre style=\"white-space:pre;overflow-x:auto;line-height:normal;font-family:Menlo,'DejaVu Sans Mono',consolas,'Courier New',monospace\">EPOCH 0 - PROGRESS: at 73.99% examples, 81118 words/s, in_qsize 2, out_qsize 0\n",
       "</pre>\n"
      ],
      "text/plain": [
       "EPOCH 0 - PROGRESS: at 73.99% examples, 81118 words/s, in_qsize 2, out_qsize 0\n"
      ]
     },
     "metadata": {},
     "output_type": "display_data"
    },
    {
     "data": {
      "text/html": [
       "<pre style=\"white-space:pre;overflow-x:auto;line-height:normal;font-family:Menlo,'DejaVu Sans Mono',consolas,'Courier New',monospace\">EPOCH 0 - PROGRESS: at 74.75% examples, 81217 words/s, in_qsize 1, out_qsize 0\n",
       "</pre>\n"
      ],
      "text/plain": [
       "EPOCH 0 - PROGRESS: at 74.75% examples, 81217 words/s, in_qsize 1, out_qsize 0\n"
      ]
     },
     "metadata": {},
     "output_type": "display_data"
    },
    {
     "data": {
      "text/html": [
       "<pre style=\"white-space:pre;overflow-x:auto;line-height:normal;font-family:Menlo,'DejaVu Sans Mono',consolas,'Courier New',monospace\">EPOCH 0 - PROGRESS: at 75.51% examples, 81312 words/s, in_qsize 1, out_qsize 0\n",
       "</pre>\n"
      ],
      "text/plain": [
       "EPOCH 0 - PROGRESS: at 75.51% examples, 81312 words/s, in_qsize 1, out_qsize 0\n"
      ]
     },
     "metadata": {},
     "output_type": "display_data"
    },
    {
     "data": {
      "text/html": [
       "<pre style=\"white-space:pre;overflow-x:auto;line-height:normal;font-family:Menlo,'DejaVu Sans Mono',consolas,'Courier New',monospace\">EPOCH 0 - PROGRESS: at 76.24% examples, 81374 words/s, in_qsize 1, out_qsize 0\n",
       "</pre>\n"
      ],
      "text/plain": [
       "EPOCH 0 - PROGRESS: at 76.24% examples, 81374 words/s, in_qsize 1, out_qsize 0\n"
      ]
     },
     "metadata": {},
     "output_type": "display_data"
    },
    {
     "data": {
      "text/html": [
       "<pre style=\"white-space:pre;overflow-x:auto;line-height:normal;font-family:Menlo,'DejaVu Sans Mono',consolas,'Courier New',monospace\">EPOCH 0 - PROGRESS: at 76.99% examples, 81454 words/s, in_qsize 2, out_qsize 0\n",
       "</pre>\n"
      ],
      "text/plain": [
       "EPOCH 0 - PROGRESS: at 76.99% examples, 81454 words/s, in_qsize 2, out_qsize 0\n"
      ]
     },
     "metadata": {},
     "output_type": "display_data"
    },
    {
     "data": {
      "text/html": [
       "<pre style=\"white-space:pre;overflow-x:auto;line-height:normal;font-family:Menlo,'DejaVu Sans Mono',consolas,'Courier New',monospace\">EPOCH 0 - PROGRESS: at 77.72% examples, 81509 words/s, in_qsize 2, out_qsize 0\n",
       "</pre>\n"
      ],
      "text/plain": [
       "EPOCH 0 - PROGRESS: at 77.72% examples, 81509 words/s, in_qsize 2, out_qsize 0\n"
      ]
     },
     "metadata": {},
     "output_type": "display_data"
    },
    {
     "data": {
      "text/html": [
       "<pre style=\"white-space:pre;overflow-x:auto;line-height:normal;font-family:Menlo,'DejaVu Sans Mono',consolas,'Courier New',monospace\">EPOCH 0 - PROGRESS: at 78.38% examples, 81494 words/s, in_qsize 1, out_qsize 0\n",
       "</pre>\n"
      ],
      "text/plain": [
       "EPOCH 0 - PROGRESS: at 78.38% examples, 81494 words/s, in_qsize 1, out_qsize 0\n"
      ]
     },
     "metadata": {},
     "output_type": "display_data"
    },
    {
     "data": {
      "text/html": [
       "<pre style=\"white-space:pre;overflow-x:auto;line-height:normal;font-family:Menlo,'DejaVu Sans Mono',consolas,'Courier New',monospace\">EPOCH 0 - PROGRESS: at 79.00% examples, 81438 words/s, in_qsize 1, out_qsize 0\n",
       "</pre>\n"
      ],
      "text/plain": [
       "EPOCH 0 - PROGRESS: at 79.00% examples, 81438 words/s, in_qsize 1, out_qsize 0\n"
      ]
     },
     "metadata": {},
     "output_type": "display_data"
    },
    {
     "data": {
      "text/html": [
       "<pre style=\"white-space:pre;overflow-x:auto;line-height:normal;font-family:Menlo,'DejaVu Sans Mono',consolas,'Courier New',monospace\">EPOCH 0 - PROGRESS: at 79.57% examples, 81323 words/s, in_qsize 1, out_qsize 0\n",
       "</pre>\n"
      ],
      "text/plain": [
       "EPOCH 0 - PROGRESS: at 79.57% examples, 81323 words/s, in_qsize 1, out_qsize 0\n"
      ]
     },
     "metadata": {},
     "output_type": "display_data"
    },
    {
     "data": {
      "text/html": [
       "<pre style=\"white-space:pre;overflow-x:auto;line-height:normal;font-family:Menlo,'DejaVu Sans Mono',consolas,'Courier New',monospace\">EPOCH 0 - PROGRESS: at 80.15% examples, 81228 words/s, in_qsize 1, out_qsize 0\n",
       "</pre>\n"
      ],
      "text/plain": [
       "EPOCH 0 - PROGRESS: at 80.15% examples, 81228 words/s, in_qsize 1, out_qsize 0\n"
      ]
     },
     "metadata": {},
     "output_type": "display_data"
    },
    {
     "data": {
      "text/html": [
       "<pre style=\"white-space:pre;overflow-x:auto;line-height:normal;font-family:Menlo,'DejaVu Sans Mono',consolas,'Courier New',monospace\">EPOCH 0 - PROGRESS: at 80.73% examples, 81138 words/s, in_qsize 1, out_qsize 0\n",
       "</pre>\n"
      ],
      "text/plain": [
       "EPOCH 0 - PROGRESS: at 80.73% examples, 81138 words/s, in_qsize 1, out_qsize 0\n"
      ]
     },
     "metadata": {},
     "output_type": "display_data"
    },
    {
     "data": {
      "text/html": [
       "<pre style=\"white-space:pre;overflow-x:auto;line-height:normal;font-family:Menlo,'DejaVu Sans Mono',consolas,'Courier New',monospace\">EPOCH 0 - PROGRESS: at 81.31% examples, 81046 words/s, in_qsize 1, out_qsize 0\n",
       "</pre>\n"
      ],
      "text/plain": [
       "EPOCH 0 - PROGRESS: at 81.31% examples, 81046 words/s, in_qsize 1, out_qsize 0\n"
      ]
     },
     "metadata": {},
     "output_type": "display_data"
    },
    {
     "data": {
      "text/html": [
       "<pre style=\"white-space:pre;overflow-x:auto;line-height:normal;font-family:Menlo,'DejaVu Sans Mono',consolas,'Courier New',monospace\">EPOCH 0 - PROGRESS: at 81.89% examples, 80955 words/s, in_qsize 1, out_qsize 0\n",
       "</pre>\n"
      ],
      "text/plain": [
       "EPOCH 0 - PROGRESS: at 81.89% examples, 80955 words/s, in_qsize 1, out_qsize 0\n"
      ]
     },
     "metadata": {},
     "output_type": "display_data"
    },
    {
     "data": {
      "text/html": [
       "<pre style=\"white-space:pre;overflow-x:auto;line-height:normal;font-family:Menlo,'DejaVu Sans Mono',consolas,'Courier New',monospace\">EPOCH 0 - PROGRESS: at 82.53% examples, 80922 words/s, in_qsize 1, out_qsize 0\n",
       "</pre>\n"
      ],
      "text/plain": [
       "EPOCH 0 - PROGRESS: at 82.53% examples, 80922 words/s, in_qsize 1, out_qsize 0\n"
      ]
     },
     "metadata": {},
     "output_type": "display_data"
    },
    {
     "data": {
      "text/html": [
       "<pre style=\"white-space:pre;overflow-x:auto;line-height:normal;font-family:Menlo,'DejaVu Sans Mono',consolas,'Courier New',monospace\">EPOCH 0 - PROGRESS: at 83.02% examples, 80749 words/s, in_qsize 1, out_qsize 0\n",
       "</pre>\n"
      ],
      "text/plain": [
       "EPOCH 0 - PROGRESS: at 83.02% examples, 80749 words/s, in_qsize 1, out_qsize 0\n"
      ]
     },
     "metadata": {},
     "output_type": "display_data"
    },
    {
     "data": {
      "text/html": [
       "<pre style=\"white-space:pre;overflow-x:auto;line-height:normal;font-family:Menlo,'DejaVu Sans Mono',consolas,'Courier New',monospace\">EPOCH 0 - PROGRESS: at 83.67% examples, 80728 words/s, in_qsize 1, out_qsize 0\n",
       "</pre>\n"
      ],
      "text/plain": [
       "EPOCH 0 - PROGRESS: at 83.67% examples, 80728 words/s, in_qsize 1, out_qsize 0\n"
      ]
     },
     "metadata": {},
     "output_type": "display_data"
    },
    {
     "data": {
      "text/html": [
       "<pre style=\"white-space:pre;overflow-x:auto;line-height:normal;font-family:Menlo,'DejaVu Sans Mono',consolas,'Courier New',monospace\">EPOCH 0 - PROGRESS: at 84.32% examples, 80707 words/s, in_qsize 1, out_qsize 0\n",
       "</pre>\n"
      ],
      "text/plain": [
       "EPOCH 0 - PROGRESS: at 84.32% examples, 80707 words/s, in_qsize 1, out_qsize 0\n"
      ]
     },
     "metadata": {},
     "output_type": "display_data"
    },
    {
     "data": {
      "text/html": [
       "<pre style=\"white-space:pre;overflow-x:auto;line-height:normal;font-family:Menlo,'DejaVu Sans Mono',consolas,'Courier New',monospace\">EPOCH 0 - PROGRESS: at 84.96% examples, 80679 words/s, in_qsize 1, out_qsize 0\n",
       "</pre>\n"
      ],
      "text/plain": [
       "EPOCH 0 - PROGRESS: at 84.96% examples, 80679 words/s, in_qsize 1, out_qsize 0\n"
      ]
     },
     "metadata": {},
     "output_type": "display_data"
    },
    {
     "data": {
      "text/html": [
       "<pre style=\"white-space:pre;overflow-x:auto;line-height:normal;font-family:Menlo,'DejaVu Sans Mono',consolas,'Courier New',monospace\">EPOCH 0 - PROGRESS: at 85.63% examples, 80682 words/s, in_qsize 1, out_qsize 0\n",
       "</pre>\n"
      ],
      "text/plain": [
       "EPOCH 0 - PROGRESS: at 85.63% examples, 80682 words/s, in_qsize 1, out_qsize 0\n"
      ]
     },
     "metadata": {},
     "output_type": "display_data"
    },
    {
     "data": {
      "text/html": [
       "<pre style=\"white-space:pre;overflow-x:auto;line-height:normal;font-family:Menlo,'DejaVu Sans Mono',consolas,'Courier New',monospace\">EPOCH 0 - PROGRESS: at 86.28% examples, 80667 words/s, in_qsize 1, out_qsize 0\n",
       "</pre>\n"
      ],
      "text/plain": [
       "EPOCH 0 - PROGRESS: at 86.28% examples, 80667 words/s, in_qsize 1, out_qsize 0\n"
      ]
     },
     "metadata": {},
     "output_type": "display_data"
    },
    {
     "data": {
      "text/html": [
       "<pre style=\"white-space:pre;overflow-x:auto;line-height:normal;font-family:Menlo,'DejaVu Sans Mono',consolas,'Courier New',monospace\">EPOCH 0 - PROGRESS: at 87.00% examples, 80715 words/s, in_qsize 1, out_qsize 0\n",
       "</pre>\n"
      ],
      "text/plain": [
       "EPOCH 0 - PROGRESS: at 87.00% examples, 80715 words/s, in_qsize 1, out_qsize 0\n"
      ]
     },
     "metadata": {},
     "output_type": "display_data"
    },
    {
     "data": {
      "text/html": [
       "<pre style=\"white-space:pre;overflow-x:auto;line-height:normal;font-family:Menlo,'DejaVu Sans Mono',consolas,'Courier New',monospace\">EPOCH 0 - PROGRESS: at 87.72% examples, 80756 words/s, in_qsize 1, out_qsize 0\n",
       "</pre>\n"
      ],
      "text/plain": [
       "EPOCH 0 - PROGRESS: at 87.72% examples, 80756 words/s, in_qsize 1, out_qsize 0\n"
      ]
     },
     "metadata": {},
     "output_type": "display_data"
    },
    {
     "data": {
      "text/html": [
       "<pre style=\"white-space:pre;overflow-x:auto;line-height:normal;font-family:Menlo,'DejaVu Sans Mono',consolas,'Courier New',monospace\">EPOCH 0 - PROGRESS: at 88.42% examples, 80787 words/s, in_qsize 2, out_qsize 0\n",
       "</pre>\n"
      ],
      "text/plain": [
       "EPOCH 0 - PROGRESS: at 88.42% examples, 80787 words/s, in_qsize 2, out_qsize 0\n"
      ]
     },
     "metadata": {},
     "output_type": "display_data"
    },
    {
     "data": {
      "text/html": [
       "<pre style=\"white-space:pre;overflow-x:auto;line-height:normal;font-family:Menlo,'DejaVu Sans Mono',consolas,'Courier New',monospace\">EPOCH 0 - PROGRESS: at 89.12% examples, 80819 words/s, in_qsize 1, out_qsize 0\n",
       "</pre>\n"
      ],
      "text/plain": [
       "EPOCH 0 - PROGRESS: at 89.12% examples, 80819 words/s, in_qsize 1, out_qsize 0\n"
      ]
     },
     "metadata": {},
     "output_type": "display_data"
    },
    {
     "data": {
      "text/html": [
       "<pre style=\"white-space:pre;overflow-x:auto;line-height:normal;font-family:Menlo,'DejaVu Sans Mono',consolas,'Courier New',monospace\">EPOCH 0 - PROGRESS: at 89.84% examples, 80859 words/s, in_qsize 1, out_qsize 0\n",
       "</pre>\n"
      ],
      "text/plain": [
       "EPOCH 0 - PROGRESS: at 89.84% examples, 80859 words/s, in_qsize 1, out_qsize 0\n"
      ]
     },
     "metadata": {},
     "output_type": "display_data"
    },
    {
     "data": {
      "text/html": [
       "<pre style=\"white-space:pre;overflow-x:auto;line-height:normal;font-family:Menlo,'DejaVu Sans Mono',consolas,'Courier New',monospace\">EPOCH 0 - PROGRESS: at 90.56% examples, 80904 words/s, in_qsize 1, out_qsize 0\n",
       "</pre>\n"
      ],
      "text/plain": [
       "EPOCH 0 - PROGRESS: at 90.56% examples, 80904 words/s, in_qsize 1, out_qsize 0\n"
      ]
     },
     "metadata": {},
     "output_type": "display_data"
    },
    {
     "data": {
      "text/html": [
       "<pre style=\"white-space:pre;overflow-x:auto;line-height:normal;font-family:Menlo,'DejaVu Sans Mono',consolas,'Courier New',monospace\">EPOCH 0 - PROGRESS: at 91.33% examples, 80989 words/s, in_qsize 1, out_qsize 0\n",
       "</pre>\n"
      ],
      "text/plain": [
       "EPOCH 0 - PROGRESS: at 91.33% examples, 80989 words/s, in_qsize 1, out_qsize 0\n"
      ]
     },
     "metadata": {},
     "output_type": "display_data"
    },
    {
     "data": {
      "text/html": [
       "<pre style=\"white-space:pre;overflow-x:auto;line-height:normal;font-family:Menlo,'DejaVu Sans Mono',consolas,'Courier New',monospace\">EPOCH 0 - PROGRESS: at 92.06% examples, 81046 words/s, in_qsize 1, out_qsize 0\n",
       "</pre>\n"
      ],
      "text/plain": [
       "EPOCH 0 - PROGRESS: at 92.06% examples, 81046 words/s, in_qsize 1, out_qsize 0\n"
      ]
     },
     "metadata": {},
     "output_type": "display_data"
    },
    {
     "data": {
      "text/html": [
       "<pre style=\"white-space:pre;overflow-x:auto;line-height:normal;font-family:Menlo,'DejaVu Sans Mono',consolas,'Courier New',monospace\">EPOCH 0 - PROGRESS: at 92.78% examples, 81085 words/s, in_qsize 1, out_qsize 0\n",
       "</pre>\n"
      ],
      "text/plain": [
       "EPOCH 0 - PROGRESS: at 92.78% examples, 81085 words/s, in_qsize 1, out_qsize 0\n"
      ]
     },
     "metadata": {},
     "output_type": "display_data"
    },
    {
     "data": {
      "text/html": [
       "<pre style=\"white-space:pre;overflow-x:auto;line-height:normal;font-family:Menlo,'DejaVu Sans Mono',consolas,'Courier New',monospace\">EPOCH 0 - PROGRESS: at 93.45% examples, 81083 words/s, in_qsize 1, out_qsize 0\n",
       "</pre>\n"
      ],
      "text/plain": [
       "EPOCH 0 - PROGRESS: at 93.45% examples, 81083 words/s, in_qsize 1, out_qsize 0\n"
      ]
     },
     "metadata": {},
     "output_type": "display_data"
    },
    {
     "data": {
      "text/html": [
       "<pre style=\"white-space:pre;overflow-x:auto;line-height:normal;font-family:Menlo,'DejaVu Sans Mono',consolas,'Courier New',monospace\">EPOCH 0 - PROGRESS: at 94.20% examples, 81151 words/s, in_qsize 2, out_qsize 0\n",
       "</pre>\n"
      ],
      "text/plain": [
       "EPOCH 0 - PROGRESS: at 94.20% examples, 81151 words/s, in_qsize 2, out_qsize 0\n"
      ]
     },
     "metadata": {},
     "output_type": "display_data"
    },
    {
     "data": {
      "text/html": [
       "<pre style=\"white-space:pre;overflow-x:auto;line-height:normal;font-family:Menlo,'DejaVu Sans Mono',consolas,'Courier New',monospace\">EPOCH 0 - PROGRESS: at 94.92% examples, 81193 words/s, in_qsize 1, out_qsize 0\n",
       "</pre>\n"
      ],
      "text/plain": [
       "EPOCH 0 - PROGRESS: at 94.92% examples, 81193 words/s, in_qsize 1, out_qsize 0\n"
      ]
     },
     "metadata": {},
     "output_type": "display_data"
    },
    {
     "data": {
      "text/html": [
       "<pre style=\"white-space:pre;overflow-x:auto;line-height:normal;font-family:Menlo,'DejaVu Sans Mono',consolas,'Courier New',monospace\">EPOCH 0 - PROGRESS: at 95.61% examples, 81208 words/s, in_qsize 1, out_qsize 0\n",
       "</pre>\n"
      ],
      "text/plain": [
       "EPOCH 0 - PROGRESS: at 95.61% examples, 81208 words/s, in_qsize 1, out_qsize 0\n"
      ]
     },
     "metadata": {},
     "output_type": "display_data"
    },
    {
     "data": {
      "text/html": [
       "<pre style=\"white-space:pre;overflow-x:auto;line-height:normal;font-family:Menlo,'DejaVu Sans Mono',consolas,'Courier New',monospace\">EPOCH 0 - PROGRESS: at 96.33% examples, 81247 words/s, in_qsize 1, out_qsize 0\n",
       "</pre>\n"
      ],
      "text/plain": [
       "EPOCH 0 - PROGRESS: at 96.33% examples, 81247 words/s, in_qsize 1, out_qsize 0\n"
      ]
     },
     "metadata": {},
     "output_type": "display_data"
    },
    {
     "data": {
      "text/html": [
       "<pre style=\"white-space:pre;overflow-x:auto;line-height:normal;font-family:Menlo,'DejaVu Sans Mono',consolas,'Courier New',monospace\">EPOCH 0 - PROGRESS: at 97.06% examples, 81294 words/s, in_qsize 1, out_qsize 0\n",
       "</pre>\n"
      ],
      "text/plain": [
       "EPOCH 0 - PROGRESS: at 97.06% examples, 81294 words/s, in_qsize 1, out_qsize 0\n"
      ]
     },
     "metadata": {},
     "output_type": "display_data"
    },
    {
     "data": {
      "text/html": [
       "<pre style=\"white-space:pre;overflow-x:auto;line-height:normal;font-family:Menlo,'DejaVu Sans Mono',consolas,'Courier New',monospace\">EPOCH 0 - PROGRESS: at 97.80% examples, 81350 words/s, in_qsize 1, out_qsize 0\n",
       "</pre>\n"
      ],
      "text/plain": [
       "EPOCH 0 - PROGRESS: at 97.80% examples, 81350 words/s, in_qsize 1, out_qsize 0\n"
      ]
     },
     "metadata": {},
     "output_type": "display_data"
    },
    {
     "data": {
      "text/html": [
       "<pre style=\"white-space:pre;overflow-x:auto;line-height:normal;font-family:Menlo,'DejaVu Sans Mono',consolas,'Courier New',monospace\">EPOCH 0 - PROGRESS: at 98.55% examples, 81406 words/s, in_qsize 1, out_qsize 0\n",
       "</pre>\n"
      ],
      "text/plain": [
       "EPOCH 0 - PROGRESS: at 98.55% examples, 81406 words/s, in_qsize 1, out_qsize 0\n"
      ]
     },
     "metadata": {},
     "output_type": "display_data"
    },
    {
     "data": {
      "text/html": [
       "<pre style=\"white-space:pre;overflow-x:auto;line-height:normal;font-family:Menlo,'DejaVu Sans Mono',consolas,'Courier New',monospace\">EPOCH 0 - PROGRESS: at 99.29% examples, 81464 words/s, in_qsize 1, out_qsize 0\n",
       "</pre>\n"
      ],
      "text/plain": [
       "EPOCH 0 - PROGRESS: at 99.29% examples, 81464 words/s, in_qsize 1, out_qsize 0\n"
      ]
     },
     "metadata": {},
     "output_type": "display_data"
    },
    {
     "data": {
      "text/html": [
       "<pre style=\"white-space:pre;overflow-x:auto;line-height:normal;font-family:Menlo,'DejaVu Sans Mono',consolas,'Courier New',monospace\">EPOCH 0: training on 12236700 raw words (12061371 effective words) took 148.0s, 81510 effective words/s\n",
       "</pre>\n"
      ],
      "text/plain": [
       "EPOCH 0: training on 12236700 raw words (12061371 effective words) took 148.0s, 81510 effective words/s\n"
      ]
     },
     "metadata": {},
     "output_type": "display_data"
    },
    {
     "data": {
      "text/html": [
       "<pre style=\"white-space:pre;overflow-x:auto;line-height:normal;font-family:Menlo,'DejaVu Sans Mono',consolas,'Courier New',monospace\">EPOCH 1 - PROGRESS: at 0.76% examples, 91937 words/s, in_qsize 2, out_qsize 0\n",
       "</pre>\n"
      ],
      "text/plain": [
       "EPOCH 1 - PROGRESS: at 0.76% examples, 91937 words/s, in_qsize 2, out_qsize 0\n"
      ]
     },
     "metadata": {},
     "output_type": "display_data"
    },
    {
     "data": {
      "text/html": [
       "<pre style=\"white-space:pre;overflow-x:auto;line-height:normal;font-family:Menlo,'DejaVu Sans Mono',consolas,'Courier New',monospace\">EPOCH 1 - PROGRESS: at 1.61% examples, 97144 words/s, in_qsize 2, out_qsize 0\n",
       "</pre>\n"
      ],
      "text/plain": [
       "EPOCH 1 - PROGRESS: at 1.61% examples, 97144 words/s, in_qsize 2, out_qsize 0\n"
      ]
     },
     "metadata": {},
     "output_type": "display_data"
    },
    {
     "data": {
      "text/html": [
       "<pre style=\"white-space:pre;overflow-x:auto;line-height:normal;font-family:Menlo,'DejaVu Sans Mono',consolas,'Courier New',monospace\">EPOCH 1 - PROGRESS: at 2.46% examples, 98852 words/s, in_qsize 2, out_qsize 0\n",
       "</pre>\n"
      ],
      "text/plain": [
       "EPOCH 1 - PROGRESS: at 2.46% examples, 98852 words/s, in_qsize 2, out_qsize 0\n"
      ]
     },
     "metadata": {},
     "output_type": "display_data"
    },
    {
     "data": {
      "text/html": [
       "<pre style=\"white-space:pre;overflow-x:auto;line-height:normal;font-family:Menlo,'DejaVu Sans Mono',consolas,'Courier New',monospace\">EPOCH 1 - PROGRESS: at 3.30% examples, 99598 words/s, in_qsize 2, out_qsize 0\n",
       "</pre>\n"
      ],
      "text/plain": [
       "EPOCH 1 - PROGRESS: at 3.30% examples, 99598 words/s, in_qsize 2, out_qsize 0\n"
      ]
     },
     "metadata": {},
     "output_type": "display_data"
    },
    {
     "data": {
      "text/html": [
       "<pre style=\"white-space:pre;overflow-x:auto;line-height:normal;font-family:Menlo,'DejaVu Sans Mono',consolas,'Courier New',monospace\">EPOCH 1 - PROGRESS: at 4.09% examples, 98641 words/s, in_qsize 1, out_qsize 0\n",
       "</pre>\n"
      ],
      "text/plain": [
       "EPOCH 1 - PROGRESS: at 4.09% examples, 98641 words/s, in_qsize 1, out_qsize 0\n"
      ]
     },
     "metadata": {},
     "output_type": "display_data"
    },
    {
     "data": {
      "text/html": [
       "<pre style=\"white-space:pre;overflow-x:auto;line-height:normal;font-family:Menlo,'DejaVu Sans Mono',consolas,'Courier New',monospace\">EPOCH 1 - PROGRESS: at 4.75% examples, 95485 words/s, in_qsize 1, out_qsize 0\n",
       "</pre>\n"
      ],
      "text/plain": [
       "EPOCH 1 - PROGRESS: at 4.75% examples, 95485 words/s, in_qsize 1, out_qsize 0\n"
      ]
     },
     "metadata": {},
     "output_type": "display_data"
    },
    {
     "data": {
      "text/html": [
       "<pre style=\"white-space:pre;overflow-x:auto;line-height:normal;font-family:Menlo,'DejaVu Sans Mono',consolas,'Courier New',monospace\">EPOCH 1 - PROGRESS: at 5.52% examples, 95152 words/s, in_qsize 1, out_qsize 0\n",
       "</pre>\n"
      ],
      "text/plain": [
       "EPOCH 1 - PROGRESS: at 5.52% examples, 95152 words/s, in_qsize 1, out_qsize 0\n"
      ]
     },
     "metadata": {},
     "output_type": "display_data"
    },
    {
     "data": {
      "text/html": [
       "<pre style=\"white-space:pre;overflow-x:auto;line-height:normal;font-family:Menlo,'DejaVu Sans Mono',consolas,'Courier New',monospace\">EPOCH 1 - PROGRESS: at 6.29% examples, 94869 words/s, in_qsize 1, out_qsize 0\n",
       "</pre>\n"
      ],
      "text/plain": [
       "EPOCH 1 - PROGRESS: at 6.29% examples, 94869 words/s, in_qsize 1, out_qsize 0\n"
      ]
     },
     "metadata": {},
     "output_type": "display_data"
    },
    {
     "data": {
      "text/html": [
       "<pre style=\"white-space:pre;overflow-x:auto;line-height:normal;font-family:Menlo,'DejaVu Sans Mono',consolas,'Courier New',monospace\">EPOCH 1 - PROGRESS: at 7.07% examples, 94722 words/s, in_qsize 1, out_qsize 0\n",
       "</pre>\n"
      ],
      "text/plain": [
       "EPOCH 1 - PROGRESS: at 7.07% examples, 94722 words/s, in_qsize 1, out_qsize 0\n"
      ]
     },
     "metadata": {},
     "output_type": "display_data"
    },
    {
     "data": {
      "text/html": [
       "<pre style=\"white-space:pre;overflow-x:auto;line-height:normal;font-family:Menlo,'DejaVu Sans Mono',consolas,'Courier New',monospace\">EPOCH 1 - PROGRESS: at 7.84% examples, 94600 words/s, in_qsize 1, out_qsize 0\n",
       "</pre>\n"
      ],
      "text/plain": [
       "EPOCH 1 - PROGRESS: at 7.84% examples, 94600 words/s, in_qsize 1, out_qsize 0\n"
      ]
     },
     "metadata": {},
     "output_type": "display_data"
    },
    {
     "data": {
      "text/html": [
       "<pre style=\"white-space:pre;overflow-x:auto;line-height:normal;font-family:Menlo,'DejaVu Sans Mono',consolas,'Courier New',monospace\">EPOCH 1 - PROGRESS: at 8.63% examples, 94605 words/s, in_qsize 1, out_qsize 0\n",
       "</pre>\n"
      ],
      "text/plain": [
       "EPOCH 1 - PROGRESS: at 8.63% examples, 94605 words/s, in_qsize 1, out_qsize 0\n"
      ]
     },
     "metadata": {},
     "output_type": "display_data"
    },
    {
     "data": {
      "text/html": [
       "<pre style=\"white-space:pre;overflow-x:auto;line-height:normal;font-family:Menlo,'DejaVu Sans Mono',consolas,'Courier New',monospace\">EPOCH 1 - PROGRESS: at 9.39% examples, 94333 words/s, in_qsize 1, out_qsize 0\n",
       "</pre>\n"
      ],
      "text/plain": [
       "EPOCH 1 - PROGRESS: at 9.39% examples, 94333 words/s, in_qsize 1, out_qsize 0\n"
      ]
     },
     "metadata": {},
     "output_type": "display_data"
    },
    {
     "data": {
      "text/html": [
       "<pre style=\"white-space:pre;overflow-x:auto;line-height:normal;font-family:Menlo,'DejaVu Sans Mono',consolas,'Courier New',monospace\">EPOCH 1 - PROGRESS: at 10.15% examples, 94141 words/s, in_qsize 1, out_qsize 0\n",
       "</pre>\n"
      ],
      "text/plain": [
       "EPOCH 1 - PROGRESS: at 10.15% examples, 94141 words/s, in_qsize 1, out_qsize 0\n"
      ]
     },
     "metadata": {},
     "output_type": "display_data"
    },
    {
     "data": {
      "text/html": [
       "<pre style=\"white-space:pre;overflow-x:auto;line-height:normal;font-family:Menlo,'DejaVu Sans Mono',consolas,'Courier New',monospace\">EPOCH 1 - PROGRESS: at 10.89% examples, 93802 words/s, in_qsize 1, out_qsize 0\n",
       "</pre>\n"
      ],
      "text/plain": [
       "EPOCH 1 - PROGRESS: at 10.89% examples, 93802 words/s, in_qsize 1, out_qsize 0\n"
      ]
     },
     "metadata": {},
     "output_type": "display_data"
    },
    {
     "data": {
      "text/html": [
       "<pre style=\"white-space:pre;overflow-x:auto;line-height:normal;font-family:Menlo,'DejaVu Sans Mono',consolas,'Courier New',monospace\">EPOCH 1 - PROGRESS: at 11.65% examples, 93649 words/s, in_qsize 1, out_qsize 0\n",
       "</pre>\n"
      ],
      "text/plain": [
       "EPOCH 1 - PROGRESS: at 11.65% examples, 93649 words/s, in_qsize 1, out_qsize 0\n"
      ]
     },
     "metadata": {},
     "output_type": "display_data"
    },
    {
     "data": {
      "text/html": [
       "<pre style=\"white-space:pre;overflow-x:auto;line-height:normal;font-family:Menlo,'DejaVu Sans Mono',consolas,'Courier New',monospace\">EPOCH 1 - PROGRESS: at 12.39% examples, 93390 words/s, in_qsize 1, out_qsize 0\n",
       "</pre>\n"
      ],
      "text/plain": [
       "EPOCH 1 - PROGRESS: at 12.39% examples, 93390 words/s, in_qsize 1, out_qsize 0\n"
      ]
     },
     "metadata": {},
     "output_type": "display_data"
    },
    {
     "data": {
      "text/html": [
       "<pre style=\"white-space:pre;overflow-x:auto;line-height:normal;font-family:Menlo,'DejaVu Sans Mono',consolas,'Courier New',monospace\">EPOCH 1 - PROGRESS: at 13.14% examples, 93222 words/s, in_qsize 1, out_qsize 0\n",
       "</pre>\n"
      ],
      "text/plain": [
       "EPOCH 1 - PROGRESS: at 13.14% examples, 93222 words/s, in_qsize 1, out_qsize 0\n"
      ]
     },
     "metadata": {},
     "output_type": "display_data"
    },
    {
     "data": {
      "text/html": [
       "<pre style=\"white-space:pre;overflow-x:auto;line-height:normal;font-family:Menlo,'DejaVu Sans Mono',consolas,'Courier New',monospace\">EPOCH 1 - PROGRESS: at 13.91% examples, 93218 words/s, in_qsize 1, out_qsize 0\n",
       "</pre>\n"
      ],
      "text/plain": [
       "EPOCH 1 - PROGRESS: at 13.91% examples, 93218 words/s, in_qsize 1, out_qsize 0\n"
      ]
     },
     "metadata": {},
     "output_type": "display_data"
    },
    {
     "data": {
      "text/html": [
       "<pre style=\"white-space:pre;overflow-x:auto;line-height:normal;font-family:Menlo,'DejaVu Sans Mono',consolas,'Courier New',monospace\">EPOCH 1 - PROGRESS: at 14.68% examples, 93207 words/s, in_qsize 1, out_qsize 0\n",
       "</pre>\n"
      ],
      "text/plain": [
       "EPOCH 1 - PROGRESS: at 14.68% examples, 93207 words/s, in_qsize 1, out_qsize 0\n"
      ]
     },
     "metadata": {},
     "output_type": "display_data"
    },
    {
     "data": {
      "text/html": [
       "<pre style=\"white-space:pre;overflow-x:auto;line-height:normal;font-family:Menlo,'DejaVu Sans Mono',consolas,'Courier New',monospace\">EPOCH 1 - PROGRESS: at 15.46% examples, 93226 words/s, in_qsize 1, out_qsize 0\n",
       "</pre>\n"
      ],
      "text/plain": [
       "EPOCH 1 - PROGRESS: at 15.46% examples, 93226 words/s, in_qsize 1, out_qsize 0\n"
      ]
     },
     "metadata": {},
     "output_type": "display_data"
    },
    {
     "data": {
      "text/html": [
       "<pre style=\"white-space:pre;overflow-x:auto;line-height:normal;font-family:Menlo,'DejaVu Sans Mono',consolas,'Courier New',monospace\">EPOCH 1 - PROGRESS: at 16.23% examples, 93231 words/s, in_qsize 1, out_qsize 0\n",
       "</pre>\n"
      ],
      "text/plain": [
       "EPOCH 1 - PROGRESS: at 16.23% examples, 93231 words/s, in_qsize 1, out_qsize 0\n"
      ]
     },
     "metadata": {},
     "output_type": "display_data"
    },
    {
     "data": {
      "text/html": [
       "<pre style=\"white-space:pre;overflow-x:auto;line-height:normal;font-family:Menlo,'DejaVu Sans Mono',consolas,'Courier New',monospace\">EPOCH 1 - PROGRESS: at 16.99% examples, 93166 words/s, in_qsize 1, out_qsize 0\n",
       "</pre>\n"
      ],
      "text/plain": [
       "EPOCH 1 - PROGRESS: at 16.99% examples, 93166 words/s, in_qsize 1, out_qsize 0\n"
      ]
     },
     "metadata": {},
     "output_type": "display_data"
    },
    {
     "data": {
      "text/html": [
       "<pre style=\"white-space:pre;overflow-x:auto;line-height:normal;font-family:Menlo,'DejaVu Sans Mono',consolas,'Courier New',monospace\">EPOCH 1 - PROGRESS: at 17.75% examples, 93065 words/s, in_qsize 1, out_qsize 0\n",
       "</pre>\n"
      ],
      "text/plain": [
       "EPOCH 1 - PROGRESS: at 17.75% examples, 93065 words/s, in_qsize 1, out_qsize 0\n"
      ]
     },
     "metadata": {},
     "output_type": "display_data"
    },
    {
     "data": {
      "text/html": [
       "<pre style=\"white-space:pre;overflow-x:auto;line-height:normal;font-family:Menlo,'DejaVu Sans Mono',consolas,'Courier New',monospace\">EPOCH 1 - PROGRESS: at 18.50% examples, 92961 words/s, in_qsize 1, out_qsize 0\n",
       "</pre>\n"
      ],
      "text/plain": [
       "EPOCH 1 - PROGRESS: at 18.50% examples, 92961 words/s, in_qsize 1, out_qsize 0\n"
      ]
     },
     "metadata": {},
     "output_type": "display_data"
    },
    {
     "data": {
      "text/html": [
       "<pre style=\"white-space:pre;overflow-x:auto;line-height:normal;font-family:Menlo,'DejaVu Sans Mono',consolas,'Courier New',monospace\">EPOCH 1 - PROGRESS: at 19.26% examples, 92914 words/s, in_qsize 1, out_qsize 0\n",
       "</pre>\n"
      ],
      "text/plain": [
       "EPOCH 1 - PROGRESS: at 19.26% examples, 92914 words/s, in_qsize 1, out_qsize 0\n"
      ]
     },
     "metadata": {},
     "output_type": "display_data"
    },
    {
     "data": {
      "text/html": [
       "<pre style=\"white-space:pre;overflow-x:auto;line-height:normal;font-family:Menlo,'DejaVu Sans Mono',consolas,'Courier New',monospace\">EPOCH 1 - PROGRESS: at 20.03% examples, 92909 words/s, in_qsize 1, out_qsize 0\n",
       "</pre>\n"
      ],
      "text/plain": [
       "EPOCH 1 - PROGRESS: at 20.03% examples, 92909 words/s, in_qsize 1, out_qsize 0\n"
      ]
     },
     "metadata": {},
     "output_type": "display_data"
    },
    {
     "data": {
      "text/html": [
       "<pre style=\"white-space:pre;overflow-x:auto;line-height:normal;font-family:Menlo,'DejaVu Sans Mono',consolas,'Courier New',monospace\">EPOCH 1 - PROGRESS: at 20.79% examples, 92854 words/s, in_qsize 1, out_qsize 0\n",
       "</pre>\n"
      ],
      "text/plain": [
       "EPOCH 1 - PROGRESS: at 20.79% examples, 92854 words/s, in_qsize 1, out_qsize 0\n"
      ]
     },
     "metadata": {},
     "output_type": "display_data"
    },
    {
     "data": {
      "text/html": [
       "<pre style=\"white-space:pre;overflow-x:auto;line-height:normal;font-family:Menlo,'DejaVu Sans Mono',consolas,'Courier New',monospace\">EPOCH 1 - PROGRESS: at 21.53% examples, 92742 words/s, in_qsize 1, out_qsize 0\n",
       "</pre>\n"
      ],
      "text/plain": [
       "EPOCH 1 - PROGRESS: at 21.53% examples, 92742 words/s, in_qsize 1, out_qsize 0\n"
      ]
     },
     "metadata": {},
     "output_type": "display_data"
    },
    {
     "data": {
      "text/html": [
       "<pre style=\"white-space:pre;overflow-x:auto;line-height:normal;font-family:Menlo,'DejaVu Sans Mono',consolas,'Courier New',monospace\">EPOCH 1 - PROGRESS: at 22.27% examples, 92613 words/s, in_qsize 1, out_qsize 0\n",
       "</pre>\n"
      ],
      "text/plain": [
       "EPOCH 1 - PROGRESS: at 22.27% examples, 92613 words/s, in_qsize 1, out_qsize 0\n"
      ]
     },
     "metadata": {},
     "output_type": "display_data"
    },
    {
     "data": {
      "text/html": [
       "<pre style=\"white-space:pre;overflow-x:auto;line-height:normal;font-family:Menlo,'DejaVu Sans Mono',consolas,'Courier New',monospace\">EPOCH 1 - PROGRESS: at 23.02% examples, 92544 words/s, in_qsize 1, out_qsize 0\n",
       "</pre>\n"
      ],
      "text/plain": [
       "EPOCH 1 - PROGRESS: at 23.02% examples, 92544 words/s, in_qsize 1, out_qsize 0\n"
      ]
     },
     "metadata": {},
     "output_type": "display_data"
    },
    {
     "data": {
      "text/html": [
       "<pre style=\"white-space:pre;overflow-x:auto;line-height:normal;font-family:Menlo,'DejaVu Sans Mono',consolas,'Courier New',monospace\">EPOCH 1 - PROGRESS: at 23.75% examples, 92414 words/s, in_qsize 1, out_qsize 0\n",
       "</pre>\n"
      ],
      "text/plain": [
       "EPOCH 1 - PROGRESS: at 23.75% examples, 92414 words/s, in_qsize 1, out_qsize 0\n"
      ]
     },
     "metadata": {},
     "output_type": "display_data"
    },
    {
     "data": {
      "text/html": [
       "<pre style=\"white-space:pre;overflow-x:auto;line-height:normal;font-family:Menlo,'DejaVu Sans Mono',consolas,'Courier New',monospace\">EPOCH 1 - PROGRESS: at 24.50% examples, 92334 words/s, in_qsize 2, out_qsize 0\n",
       "</pre>\n"
      ],
      "text/plain": [
       "EPOCH 1 - PROGRESS: at 24.50% examples, 92334 words/s, in_qsize 2, out_qsize 0\n"
      ]
     },
     "metadata": {},
     "output_type": "display_data"
    },
    {
     "data": {
      "text/html": [
       "<pre style=\"white-space:pre;overflow-x:auto;line-height:normal;font-family:Menlo,'DejaVu Sans Mono',consolas,'Courier New',monospace\">EPOCH 1 - PROGRESS: at 25.13% examples, 91838 words/s, in_qsize 1, out_qsize 0\n",
       "</pre>\n"
      ],
      "text/plain": [
       "EPOCH 1 - PROGRESS: at 25.13% examples, 91838 words/s, in_qsize 1, out_qsize 0\n"
      ]
     },
     "metadata": {},
     "output_type": "display_data"
    },
    {
     "data": {
      "text/html": [
       "<pre style=\"white-space:pre;overflow-x:auto;line-height:normal;font-family:Menlo,'DejaVu Sans Mono',consolas,'Courier New',monospace\">EPOCH 1 - PROGRESS: at 25.76% examples, 91376 words/s, in_qsize 2, out_qsize 0\n",
       "</pre>\n"
      ],
      "text/plain": [
       "EPOCH 1 - PROGRESS: at 25.76% examples, 91376 words/s, in_qsize 2, out_qsize 0\n"
      ]
     },
     "metadata": {},
     "output_type": "display_data"
    },
    {
     "data": {
      "text/html": [
       "<pre style=\"white-space:pre;overflow-x:auto;line-height:normal;font-family:Menlo,'DejaVu Sans Mono',consolas,'Courier New',monospace\">EPOCH 1 - PROGRESS: at 26.40% examples, 90978 words/s, in_qsize 1, out_qsize 0\n",
       "</pre>\n"
      ],
      "text/plain": [
       "EPOCH 1 - PROGRESS: at 26.40% examples, 90978 words/s, in_qsize 1, out_qsize 0\n"
      ]
     },
     "metadata": {},
     "output_type": "display_data"
    },
    {
     "data": {
      "text/html": [
       "<pre style=\"white-space:pre;overflow-x:auto;line-height:normal;font-family:Menlo,'DejaVu Sans Mono',consolas,'Courier New',monospace\">EPOCH 1 - PROGRESS: at 26.98% examples, 90392 words/s, in_qsize 1, out_qsize 0\n",
       "</pre>\n"
      ],
      "text/plain": [
       "EPOCH 1 - PROGRESS: at 26.98% examples, 90392 words/s, in_qsize 1, out_qsize 0\n"
      ]
     },
     "metadata": {},
     "output_type": "display_data"
    },
    {
     "data": {
      "text/html": [
       "<pre style=\"white-space:pre;overflow-x:auto;line-height:normal;font-family:Menlo,'DejaVu Sans Mono',consolas,'Courier New',monospace\">EPOCH 1 - PROGRESS: at 27.62% examples, 90041 words/s, in_qsize 1, out_qsize 0\n",
       "</pre>\n"
      ],
      "text/plain": [
       "EPOCH 1 - PROGRESS: at 27.62% examples, 90041 words/s, in_qsize 1, out_qsize 0\n"
      ]
     },
     "metadata": {},
     "output_type": "display_data"
    },
    {
     "data": {
      "text/html": [
       "<pre style=\"white-space:pre;overflow-x:auto;line-height:normal;font-family:Menlo,'DejaVu Sans Mono',consolas,'Courier New',monospace\">EPOCH 1 - PROGRESS: at 28.31% examples, 89854 words/s, in_qsize 1, out_qsize 0\n",
       "</pre>\n"
      ],
      "text/plain": [
       "EPOCH 1 - PROGRESS: at 28.31% examples, 89854 words/s, in_qsize 1, out_qsize 0\n"
      ]
     },
     "metadata": {},
     "output_type": "display_data"
    },
    {
     "data": {
      "text/html": [
       "<pre style=\"white-space:pre;overflow-x:auto;line-height:normal;font-family:Menlo,'DejaVu Sans Mono',consolas,'Courier New',monospace\">EPOCH 1 - PROGRESS: at 28.95% examples, 89524 words/s, in_qsize 1, out_qsize 0\n",
       "</pre>\n"
      ],
      "text/plain": [
       "EPOCH 1 - PROGRESS: at 28.95% examples, 89524 words/s, in_qsize 1, out_qsize 0\n"
      ]
     },
     "metadata": {},
     "output_type": "display_data"
    },
    {
     "data": {
      "text/html": [
       "<pre style=\"white-space:pre;overflow-x:auto;line-height:normal;font-family:Menlo,'DejaVu Sans Mono',consolas,'Courier New',monospace\">EPOCH 1 - PROGRESS: at 29.48% examples, 88890 words/s, in_qsize 1, out_qsize 0\n",
       "</pre>\n"
      ],
      "text/plain": [
       "EPOCH 1 - PROGRESS: at 29.48% examples, 88890 words/s, in_qsize 1, out_qsize 0\n"
      ]
     },
     "metadata": {},
     "output_type": "display_data"
    },
    {
     "data": {
      "text/html": [
       "<pre style=\"white-space:pre;overflow-x:auto;line-height:normal;font-family:Menlo,'DejaVu Sans Mono',consolas,'Courier New',monospace\">EPOCH 1 - PROGRESS: at 30.07% examples, 88463 words/s, in_qsize 1, out_qsize 0\n",
       "</pre>\n"
      ],
      "text/plain": [
       "EPOCH 1 - PROGRESS: at 30.07% examples, 88463 words/s, in_qsize 1, out_qsize 0\n"
      ]
     },
     "metadata": {},
     "output_type": "display_data"
    },
    {
     "data": {
      "text/html": [
       "<pre style=\"white-space:pre;overflow-x:auto;line-height:normal;font-family:Menlo,'DejaVu Sans Mono',consolas,'Courier New',monospace\">EPOCH 1 - PROGRESS: at 30.63% examples, 87969 words/s, in_qsize 1, out_qsize 0\n",
       "</pre>\n"
      ],
      "text/plain": [
       "EPOCH 1 - PROGRESS: at 30.63% examples, 87969 words/s, in_qsize 1, out_qsize 0\n"
      ]
     },
     "metadata": {},
     "output_type": "display_data"
    },
    {
     "data": {
      "text/html": [
       "<pre style=\"white-space:pre;overflow-x:auto;line-height:normal;font-family:Menlo,'DejaVu Sans Mono',consolas,'Courier New',monospace\">EPOCH 1 - PROGRESS: at 31.17% examples, 87414 words/s, in_qsize 1, out_qsize 0\n",
       "</pre>\n"
      ],
      "text/plain": [
       "EPOCH 1 - PROGRESS: at 31.17% examples, 87414 words/s, in_qsize 1, out_qsize 0\n"
      ]
     },
     "metadata": {},
     "output_type": "display_data"
    },
    {
     "data": {
      "text/html": [
       "<pre style=\"white-space:pre;overflow-x:auto;line-height:normal;font-family:Menlo,'DejaVu Sans Mono',consolas,'Courier New',monospace\">EPOCH 1 - PROGRESS: at 31.74% examples, 87004 words/s, in_qsize 1, out_qsize 0\n",
       "</pre>\n"
      ],
      "text/plain": [
       "EPOCH 1 - PROGRESS: at 31.74% examples, 87004 words/s, in_qsize 1, out_qsize 0\n"
      ]
     },
     "metadata": {},
     "output_type": "display_data"
    },
    {
     "data": {
      "text/html": [
       "<pre style=\"white-space:pre;overflow-x:auto;line-height:normal;font-family:Menlo,'DejaVu Sans Mono',consolas,'Courier New',monospace\">EPOCH 1 - PROGRESS: at 32.32% examples, 86634 words/s, in_qsize 1, out_qsize 0\n",
       "</pre>\n"
      ],
      "text/plain": [
       "EPOCH 1 - PROGRESS: at 32.32% examples, 86634 words/s, in_qsize 1, out_qsize 0\n"
      ]
     },
     "metadata": {},
     "output_type": "display_data"
    },
    {
     "data": {
      "text/html": [
       "<pre style=\"white-space:pre;overflow-x:auto;line-height:normal;font-family:Menlo,'DejaVu Sans Mono',consolas,'Courier New',monospace\">EPOCH 1 - PROGRESS: at 32.92% examples, 86315 words/s, in_qsize 2, out_qsize 0\n",
       "</pre>\n"
      ],
      "text/plain": [
       "EPOCH 1 - PROGRESS: at 32.92% examples, 86315 words/s, in_qsize 2, out_qsize 0\n"
      ]
     },
     "metadata": {},
     "output_type": "display_data"
    },
    {
     "data": {
      "text/html": [
       "<pre style=\"white-space:pre;overflow-x:auto;line-height:normal;font-family:Menlo,'DejaVu Sans Mono',consolas,'Courier New',monospace\">EPOCH 1 - PROGRESS: at 33.40% examples, 85698 words/s, in_qsize 1, out_qsize 0\n",
       "</pre>\n"
      ],
      "text/plain": [
       "EPOCH 1 - PROGRESS: at 33.40% examples, 85698 words/s, in_qsize 1, out_qsize 0\n"
      ]
     },
     "metadata": {},
     "output_type": "display_data"
    },
    {
     "data": {
      "text/html": [
       "<pre style=\"white-space:pre;overflow-x:auto;line-height:normal;font-family:Menlo,'DejaVu Sans Mono',consolas,'Courier New',monospace\">EPOCH 1 - PROGRESS: at 33.87% examples, 85115 words/s, in_qsize 2, out_qsize 1\n",
       "</pre>\n"
      ],
      "text/plain": [
       "EPOCH 1 - PROGRESS: at 33.87% examples, 85115 words/s, in_qsize 2, out_qsize 1\n"
      ]
     },
     "metadata": {},
     "output_type": "display_data"
    },
    {
     "data": {
      "text/html": [
       "<pre style=\"white-space:pre;overflow-x:auto;line-height:normal;font-family:Menlo,'DejaVu Sans Mono',consolas,'Courier New',monospace\">EPOCH 1 - PROGRESS: at 34.36% examples, 84566 words/s, in_qsize 1, out_qsize 0\n",
       "</pre>\n"
      ],
      "text/plain": [
       "EPOCH 1 - PROGRESS: at 34.36% examples, 84566 words/s, in_qsize 1, out_qsize 0\n"
      ]
     },
     "metadata": {},
     "output_type": "display_data"
    },
    {
     "data": {
      "text/html": [
       "<pre style=\"white-space:pre;overflow-x:auto;line-height:normal;font-family:Menlo,'DejaVu Sans Mono',consolas,'Courier New',monospace\">EPOCH 1 - PROGRESS: at 34.87% examples, 84099 words/s, in_qsize 1, out_qsize 0\n",
       "</pre>\n"
      ],
      "text/plain": [
       "EPOCH 1 - PROGRESS: at 34.87% examples, 84099 words/s, in_qsize 1, out_qsize 0\n"
      ]
     },
     "metadata": {},
     "output_type": "display_data"
    },
    {
     "data": {
      "text/html": [
       "<pre style=\"white-space:pre;overflow-x:auto;line-height:normal;font-family:Menlo,'DejaVu Sans Mono',consolas,'Courier New',monospace\">EPOCH 1 - PROGRESS: at 35.41% examples, 83732 words/s, in_qsize 1, out_qsize 0\n",
       "</pre>\n"
      ],
      "text/plain": [
       "EPOCH 1 - PROGRESS: at 35.41% examples, 83732 words/s, in_qsize 1, out_qsize 0\n"
      ]
     },
     "metadata": {},
     "output_type": "display_data"
    },
    {
     "data": {
      "text/html": [
       "<pre style=\"white-space:pre;overflow-x:auto;line-height:normal;font-family:Menlo,'DejaVu Sans Mono',consolas,'Courier New',monospace\">EPOCH 1 - PROGRESS: at 36.06% examples, 83628 words/s, in_qsize 1, out_qsize 0\n",
       "</pre>\n"
      ],
      "text/plain": [
       "EPOCH 1 - PROGRESS: at 36.06% examples, 83628 words/s, in_qsize 1, out_qsize 0\n"
      ]
     },
     "metadata": {},
     "output_type": "display_data"
    },
    {
     "data": {
      "text/html": [
       "<pre style=\"white-space:pre;overflow-x:auto;line-height:normal;font-family:Menlo,'DejaVu Sans Mono',consolas,'Courier New',monospace\">EPOCH 1 - PROGRESS: at 36.71% examples, 83535 words/s, in_qsize 1, out_qsize 0\n",
       "</pre>\n"
      ],
      "text/plain": [
       "EPOCH 1 - PROGRESS: at 36.71% examples, 83535 words/s, in_qsize 1, out_qsize 0\n"
      ]
     },
     "metadata": {},
     "output_type": "display_data"
    },
    {
     "data": {
      "text/html": [
       "<pre style=\"white-space:pre;overflow-x:auto;line-height:normal;font-family:Menlo,'DejaVu Sans Mono',consolas,'Courier New',monospace\">EPOCH 1 - PROGRESS: at 37.35% examples, 83425 words/s, in_qsize 1, out_qsize 0\n",
       "</pre>\n"
      ],
      "text/plain": [
       "EPOCH 1 - PROGRESS: at 37.35% examples, 83425 words/s, in_qsize 1, out_qsize 0\n"
      ]
     },
     "metadata": {},
     "output_type": "display_data"
    },
    {
     "data": {
      "text/html": [
       "<pre style=\"white-space:pre;overflow-x:auto;line-height:normal;font-family:Menlo,'DejaVu Sans Mono',consolas,'Courier New',monospace\">EPOCH 1 - PROGRESS: at 38.00% examples, 83317 words/s, in_qsize 1, out_qsize 0\n",
       "</pre>\n"
      ],
      "text/plain": [
       "EPOCH 1 - PROGRESS: at 38.00% examples, 83317 words/s, in_qsize 1, out_qsize 0\n"
      ]
     },
     "metadata": {},
     "output_type": "display_data"
    },
    {
     "data": {
      "text/html": [
       "<pre style=\"white-space:pre;overflow-x:auto;line-height:normal;font-family:Menlo,'DejaVu Sans Mono',consolas,'Courier New',monospace\">EPOCH 1 - PROGRESS: at 38.60% examples, 83139 words/s, in_qsize 1, out_qsize 0\n",
       "</pre>\n"
      ],
      "text/plain": [
       "EPOCH 1 - PROGRESS: at 38.60% examples, 83139 words/s, in_qsize 1, out_qsize 0\n"
      ]
     },
     "metadata": {},
     "output_type": "display_data"
    },
    {
     "data": {
      "text/html": [
       "<pre style=\"white-space:pre;overflow-x:auto;line-height:normal;font-family:Menlo,'DejaVu Sans Mono',consolas,'Courier New',monospace\">EPOCH 1 - PROGRESS: at 39.21% examples, 82963 words/s, in_qsize 1, out_qsize 0\n",
       "</pre>\n"
      ],
      "text/plain": [
       "EPOCH 1 - PROGRESS: at 39.21% examples, 82963 words/s, in_qsize 1, out_qsize 0\n"
      ]
     },
     "metadata": {},
     "output_type": "display_data"
    },
    {
     "data": {
      "text/html": [
       "<pre style=\"white-space:pre;overflow-x:auto;line-height:normal;font-family:Menlo,'DejaVu Sans Mono',consolas,'Courier New',monospace\">EPOCH 1 - PROGRESS: at 39.79% examples, 82736 words/s, in_qsize 0, out_qsize 0\n",
       "</pre>\n"
      ],
      "text/plain": [
       "EPOCH 1 - PROGRESS: at 39.79% examples, 82736 words/s, in_qsize 0, out_qsize 0\n"
      ]
     },
     "metadata": {},
     "output_type": "display_data"
    },
    {
     "data": {
      "text/html": [
       "<pre style=\"white-space:pre;overflow-x:auto;line-height:normal;font-family:Menlo,'DejaVu Sans Mono',consolas,'Courier New',monospace\">EPOCH 1 - PROGRESS: at 40.48% examples, 82738 words/s, in_qsize 1, out_qsize 0\n",
       "</pre>\n"
      ],
      "text/plain": [
       "EPOCH 1 - PROGRESS: at 40.48% examples, 82738 words/s, in_qsize 1, out_qsize 0\n"
      ]
     },
     "metadata": {},
     "output_type": "display_data"
    },
    {
     "data": {
      "text/html": [
       "<pre style=\"white-space:pre;overflow-x:auto;line-height:normal;font-family:Menlo,'DejaVu Sans Mono',consolas,'Courier New',monospace\">EPOCH 1 - PROGRESS: at 41.17% examples, 82764 words/s, in_qsize 1, out_qsize 0\n",
       "</pre>\n"
      ],
      "text/plain": [
       "EPOCH 1 - PROGRESS: at 41.17% examples, 82764 words/s, in_qsize 1, out_qsize 0\n"
      ]
     },
     "metadata": {},
     "output_type": "display_data"
    },
    {
     "data": {
      "text/html": [
       "<pre style=\"white-space:pre;overflow-x:auto;line-height:normal;font-family:Menlo,'DejaVu Sans Mono',consolas,'Courier New',monospace\">EPOCH 1 - PROGRESS: at 41.91% examples, 82869 words/s, in_qsize 2, out_qsize 0\n",
       "</pre>\n"
      ],
      "text/plain": [
       "EPOCH 1 - PROGRESS: at 41.91% examples, 82869 words/s, in_qsize 2, out_qsize 0\n"
      ]
     },
     "metadata": {},
     "output_type": "display_data"
    },
    {
     "data": {
      "text/html": [
       "<pre style=\"white-space:pre;overflow-x:auto;line-height:normal;font-family:Menlo,'DejaVu Sans Mono',consolas,'Courier New',monospace\">EPOCH 1 - PROGRESS: at 42.56% examples, 82791 words/s, in_qsize 2, out_qsize 0\n",
       "</pre>\n"
      ],
      "text/plain": [
       "EPOCH 1 - PROGRESS: at 42.56% examples, 82791 words/s, in_qsize 2, out_qsize 0\n"
      ]
     },
     "metadata": {},
     "output_type": "display_data"
    },
    {
     "data": {
      "text/html": [
       "<pre style=\"white-space:pre;overflow-x:auto;line-height:normal;font-family:Menlo,'DejaVu Sans Mono',consolas,'Courier New',monospace\">EPOCH 1 - PROGRESS: at 43.22% examples, 82734 words/s, in_qsize 1, out_qsize 0\n",
       "</pre>\n"
      ],
      "text/plain": [
       "EPOCH 1 - PROGRESS: at 43.22% examples, 82734 words/s, in_qsize 1, out_qsize 0\n"
      ]
     },
     "metadata": {},
     "output_type": "display_data"
    },
    {
     "data": {
      "text/html": [
       "<pre style=\"white-space:pre;overflow-x:auto;line-height:normal;font-family:Menlo,'DejaVu Sans Mono',consolas,'Courier New',monospace\">EPOCH 1 - PROGRESS: at 43.87% examples, 82669 words/s, in_qsize 1, out_qsize 0\n",
       "</pre>\n"
      ],
      "text/plain": [
       "EPOCH 1 - PROGRESS: at 43.87% examples, 82669 words/s, in_qsize 1, out_qsize 0\n"
      ]
     },
     "metadata": {},
     "output_type": "display_data"
    },
    {
     "data": {
      "text/html": [
       "<pre style=\"white-space:pre;overflow-x:auto;line-height:normal;font-family:Menlo,'DejaVu Sans Mono',consolas,'Courier New',monospace\">EPOCH 1 - PROGRESS: at 44.53% examples, 82623 words/s, in_qsize 2, out_qsize 0\n",
       "</pre>\n"
      ],
      "text/plain": [
       "EPOCH 1 - PROGRESS: at 44.53% examples, 82623 words/s, in_qsize 2, out_qsize 0\n"
      ]
     },
     "metadata": {},
     "output_type": "display_data"
    },
    {
     "data": {
      "text/html": [
       "<pre style=\"white-space:pre;overflow-x:auto;line-height:normal;font-family:Menlo,'DejaVu Sans Mono',consolas,'Courier New',monospace\">EPOCH 1 - PROGRESS: at 45.24% examples, 82671 words/s, in_qsize 1, out_qsize 0\n",
       "</pre>\n"
      ],
      "text/plain": [
       "EPOCH 1 - PROGRESS: at 45.24% examples, 82671 words/s, in_qsize 1, out_qsize 0\n"
      ]
     },
     "metadata": {},
     "output_type": "display_data"
    },
    {
     "data": {
      "text/html": [
       "<pre style=\"white-space:pre;overflow-x:auto;line-height:normal;font-family:Menlo,'DejaVu Sans Mono',consolas,'Courier New',monospace\">EPOCH 1 - PROGRESS: at 45.80% examples, 82443 words/s, in_qsize 2, out_qsize 0\n",
       "</pre>\n"
      ],
      "text/plain": [
       "EPOCH 1 - PROGRESS: at 45.80% examples, 82443 words/s, in_qsize 2, out_qsize 0\n"
      ]
     },
     "metadata": {},
     "output_type": "display_data"
    },
    {
     "data": {
      "text/html": [
       "<pre style=\"white-space:pre;overflow-x:auto;line-height:normal;font-family:Menlo,'DejaVu Sans Mono',consolas,'Courier New',monospace\">EPOCH 1 - PROGRESS: at 46.37% examples, 82247 words/s, in_qsize 1, out_qsize 0\n",
       "</pre>\n"
      ],
      "text/plain": [
       "EPOCH 1 - PROGRESS: at 46.37% examples, 82247 words/s, in_qsize 1, out_qsize 0\n"
      ]
     },
     "metadata": {},
     "output_type": "display_data"
    },
    {
     "data": {
      "text/html": [
       "<pre style=\"white-space:pre;overflow-x:auto;line-height:normal;font-family:Menlo,'DejaVu Sans Mono',consolas,'Courier New',monospace\">EPOCH 1 - PROGRESS: at 46.94% examples, 82053 words/s, in_qsize 1, out_qsize 0\n",
       "</pre>\n"
      ],
      "text/plain": [
       "EPOCH 1 - PROGRESS: at 46.94% examples, 82053 words/s, in_qsize 1, out_qsize 0\n"
      ]
     },
     "metadata": {},
     "output_type": "display_data"
    },
    {
     "data": {
      "text/html": [
       "<pre style=\"white-space:pre;overflow-x:auto;line-height:normal;font-family:Menlo,'DejaVu Sans Mono',consolas,'Courier New',monospace\">EPOCH 1 - PROGRESS: at 47.51% examples, 81848 words/s, in_qsize 1, out_qsize 0\n",
       "</pre>\n"
      ],
      "text/plain": [
       "EPOCH 1 - PROGRESS: at 47.51% examples, 81848 words/s, in_qsize 1, out_qsize 0\n"
      ]
     },
     "metadata": {},
     "output_type": "display_data"
    },
    {
     "data": {
      "text/html": [
       "<pre style=\"white-space:pre;overflow-x:auto;line-height:normal;font-family:Menlo,'DejaVu Sans Mono',consolas,'Courier New',monospace\">EPOCH 1 - PROGRESS: at 48.04% examples, 81596 words/s, in_qsize 1, out_qsize 0\n",
       "</pre>\n"
      ],
      "text/plain": [
       "EPOCH 1 - PROGRESS: at 48.04% examples, 81596 words/s, in_qsize 1, out_qsize 0\n"
      ]
     },
     "metadata": {},
     "output_type": "display_data"
    },
    {
     "data": {
      "text/html": [
       "<pre style=\"white-space:pre;overflow-x:auto;line-height:normal;font-family:Menlo,'DejaVu Sans Mono',consolas,'Courier New',monospace\">EPOCH 1 - PROGRESS: at 48.68% examples, 81550 words/s, in_qsize 1, out_qsize 0\n",
       "</pre>\n"
      ],
      "text/plain": [
       "EPOCH 1 - PROGRESS: at 48.68% examples, 81550 words/s, in_qsize 1, out_qsize 0\n"
      ]
     },
     "metadata": {},
     "output_type": "display_data"
    },
    {
     "data": {
      "text/html": [
       "<pre style=\"white-space:pre;overflow-x:auto;line-height:normal;font-family:Menlo,'DejaVu Sans Mono',consolas,'Courier New',monospace\">EPOCH 1 - PROGRESS: at 49.33% examples, 81499 words/s, in_qsize 1, out_qsize 0\n",
       "</pre>\n"
      ],
      "text/plain": [
       "EPOCH 1 - PROGRESS: at 49.33% examples, 81499 words/s, in_qsize 1, out_qsize 0\n"
      ]
     },
     "metadata": {},
     "output_type": "display_data"
    },
    {
     "data": {
      "text/html": [
       "<pre style=\"white-space:pre;overflow-x:auto;line-height:normal;font-family:Menlo,'DejaVu Sans Mono',consolas,'Courier New',monospace\">EPOCH 1 - PROGRESS: at 49.87% examples, 81274 words/s, in_qsize 1, out_qsize 0\n",
       "</pre>\n"
      ],
      "text/plain": [
       "EPOCH 1 - PROGRESS: at 49.87% examples, 81274 words/s, in_qsize 1, out_qsize 0\n"
      ]
     },
     "metadata": {},
     "output_type": "display_data"
    },
    {
     "data": {
      "text/html": [
       "<pre style=\"white-space:pre;overflow-x:auto;line-height:normal;font-family:Menlo,'DejaVu Sans Mono',consolas,'Courier New',monospace\">EPOCH 1 - PROGRESS: at 50.37% examples, 80992 words/s, in_qsize 1, out_qsize 0\n",
       "</pre>\n"
      ],
      "text/plain": [
       "EPOCH 1 - PROGRESS: at 50.37% examples, 80992 words/s, in_qsize 1, out_qsize 0\n"
      ]
     },
     "metadata": {},
     "output_type": "display_data"
    },
    {
     "data": {
      "text/html": [
       "<pre style=\"white-space:pre;overflow-x:auto;line-height:normal;font-family:Menlo,'DejaVu Sans Mono',consolas,'Courier New',monospace\">EPOCH 1 - PROGRESS: at 50.95% examples, 80844 words/s, in_qsize 2, out_qsize 0\n",
       "</pre>\n"
      ],
      "text/plain": [
       "EPOCH 1 - PROGRESS: at 50.95% examples, 80844 words/s, in_qsize 2, out_qsize 0\n"
      ]
     },
     "metadata": {},
     "output_type": "display_data"
    },
    {
     "data": {
      "text/html": [
       "<pre style=\"white-space:pre;overflow-x:auto;line-height:normal;font-family:Menlo,'DejaVu Sans Mono',consolas,'Courier New',monospace\">EPOCH 1 - PROGRESS: at 51.46% examples, 80608 words/s, in_qsize 1, out_qsize 0\n",
       "</pre>\n"
      ],
      "text/plain": [
       "EPOCH 1 - PROGRESS: at 51.46% examples, 80608 words/s, in_qsize 1, out_qsize 0\n"
      ]
     },
     "metadata": {},
     "output_type": "display_data"
    },
    {
     "data": {
      "text/html": [
       "<pre style=\"white-space:pre;overflow-x:auto;line-height:normal;font-family:Menlo,'DejaVu Sans Mono',consolas,'Courier New',monospace\">EPOCH 1 - PROGRESS: at 52.01% examples, 80417 words/s, in_qsize 1, out_qsize 0\n",
       "</pre>\n"
      ],
      "text/plain": [
       "EPOCH 1 - PROGRESS: at 52.01% examples, 80417 words/s, in_qsize 1, out_qsize 0\n"
      ]
     },
     "metadata": {},
     "output_type": "display_data"
    },
    {
     "data": {
      "text/html": [
       "<pre style=\"white-space:pre;overflow-x:auto;line-height:normal;font-family:Menlo,'DejaVu Sans Mono',consolas,'Courier New',monospace\">EPOCH 1 - PROGRESS: at 52.56% examples, 80244 words/s, in_qsize 1, out_qsize 0\n",
       "</pre>\n"
      ],
      "text/plain": [
       "EPOCH 1 - PROGRESS: at 52.56% examples, 80244 words/s, in_qsize 1, out_qsize 0\n"
      ]
     },
     "metadata": {},
     "output_type": "display_data"
    },
    {
     "data": {
      "text/html": [
       "<pre style=\"white-space:pre;overflow-x:auto;line-height:normal;font-family:Menlo,'DejaVu Sans Mono',consolas,'Courier New',monospace\">EPOCH 1 - PROGRESS: at 53.16% examples, 80147 words/s, in_qsize 1, out_qsize 0\n",
       "</pre>\n"
      ],
      "text/plain": [
       "EPOCH 1 - PROGRESS: at 53.16% examples, 80147 words/s, in_qsize 1, out_qsize 0\n"
      ]
     },
     "metadata": {},
     "output_type": "display_data"
    },
    {
     "data": {
      "text/html": [
       "<pre style=\"white-space:pre;overflow-x:auto;line-height:normal;font-family:Menlo,'DejaVu Sans Mono',consolas,'Courier New',monospace\">EPOCH 1 - PROGRESS: at 53.74% examples, 80014 words/s, in_qsize 1, out_qsize 0\n",
       "</pre>\n"
      ],
      "text/plain": [
       "EPOCH 1 - PROGRESS: at 53.74% examples, 80014 words/s, in_qsize 1, out_qsize 0\n"
      ]
     },
     "metadata": {},
     "output_type": "display_data"
    },
    {
     "data": {
      "text/html": [
       "<pre style=\"white-space:pre;overflow-x:auto;line-height:normal;font-family:Menlo,'DejaVu Sans Mono',consolas,'Courier New',monospace\">EPOCH 1 - PROGRESS: at 54.30% examples, 79857 words/s, in_qsize 1, out_qsize 0\n",
       "</pre>\n"
      ],
      "text/plain": [
       "EPOCH 1 - PROGRESS: at 54.30% examples, 79857 words/s, in_qsize 1, out_qsize 0\n"
      ]
     },
     "metadata": {},
     "output_type": "display_data"
    },
    {
     "data": {
      "text/html": [
       "<pre style=\"white-space:pre;overflow-x:auto;line-height:normal;font-family:Menlo,'DejaVu Sans Mono',consolas,'Courier New',monospace\">EPOCH 1 - PROGRESS: at 54.87% examples, 79725 words/s, in_qsize 2, out_qsize 0\n",
       "</pre>\n"
      ],
      "text/plain": [
       "EPOCH 1 - PROGRESS: at 54.87% examples, 79725 words/s, in_qsize 2, out_qsize 0\n"
      ]
     },
     "metadata": {},
     "output_type": "display_data"
    },
    {
     "data": {
      "text/html": [
       "<pre style=\"white-space:pre;overflow-x:auto;line-height:normal;font-family:Menlo,'DejaVu Sans Mono',consolas,'Courier New',monospace\">EPOCH 1 - PROGRESS: at 55.53% examples, 79721 words/s, in_qsize 1, out_qsize 0\n",
       "</pre>\n"
      ],
      "text/plain": [
       "EPOCH 1 - PROGRESS: at 55.53% examples, 79721 words/s, in_qsize 1, out_qsize 0\n"
      ]
     },
     "metadata": {},
     "output_type": "display_data"
    },
    {
     "data": {
      "text/html": [
       "<pre style=\"white-space:pre;overflow-x:auto;line-height:normal;font-family:Menlo,'DejaVu Sans Mono',consolas,'Courier New',monospace\">EPOCH 1 - PROGRESS: at 56.14% examples, 79657 words/s, in_qsize 1, out_qsize 0\n",
       "</pre>\n"
      ],
      "text/plain": [
       "EPOCH 1 - PROGRESS: at 56.14% examples, 79657 words/s, in_qsize 1, out_qsize 0\n"
      ]
     },
     "metadata": {},
     "output_type": "display_data"
    },
    {
     "data": {
      "text/html": [
       "<pre style=\"white-space:pre;overflow-x:auto;line-height:normal;font-family:Menlo,'DejaVu Sans Mono',consolas,'Courier New',monospace\">EPOCH 1 - PROGRESS: at 56.76% examples, 79605 words/s, in_qsize 1, out_qsize 0\n",
       "</pre>\n"
      ],
      "text/plain": [
       "EPOCH 1 - PROGRESS: at 56.76% examples, 79605 words/s, in_qsize 1, out_qsize 0\n"
      ]
     },
     "metadata": {},
     "output_type": "display_data"
    },
    {
     "data": {
      "text/html": [
       "<pre style=\"white-space:pre;overflow-x:auto;line-height:normal;font-family:Menlo,'DejaVu Sans Mono',consolas,'Courier New',monospace\">EPOCH 1 - PROGRESS: at 57.37% examples, 79535 words/s, in_qsize 1, out_qsize 0\n",
       "</pre>\n"
      ],
      "text/plain": [
       "EPOCH 1 - PROGRESS: at 57.37% examples, 79535 words/s, in_qsize 1, out_qsize 0\n"
      ]
     },
     "metadata": {},
     "output_type": "display_data"
    },
    {
     "data": {
      "text/html": [
       "<pre style=\"white-space:pre;overflow-x:auto;line-height:normal;font-family:Menlo,'DejaVu Sans Mono',consolas,'Courier New',monospace\">EPOCH 1 - PROGRESS: at 57.97% examples, 79447 words/s, in_qsize 2, out_qsize 0\n",
       "</pre>\n"
      ],
      "text/plain": [
       "EPOCH 1 - PROGRESS: at 57.97% examples, 79447 words/s, in_qsize 2, out_qsize 0\n"
      ]
     },
     "metadata": {},
     "output_type": "display_data"
    },
    {
     "data": {
      "text/html": [
       "<pre style=\"white-space:pre;overflow-x:auto;line-height:normal;font-family:Menlo,'DejaVu Sans Mono',consolas,'Courier New',monospace\">EPOCH 1 - PROGRESS: at 58.53% examples, 79313 words/s, in_qsize 1, out_qsize 0\n",
       "</pre>\n"
      ],
      "text/plain": [
       "EPOCH 1 - PROGRESS: at 58.53% examples, 79313 words/s, in_qsize 1, out_qsize 0\n"
      ]
     },
     "metadata": {},
     "output_type": "display_data"
    },
    {
     "data": {
      "text/html": [
       "<pre style=\"white-space:pre;overflow-x:auto;line-height:normal;font-family:Menlo,'DejaVu Sans Mono',consolas,'Courier New',monospace\">EPOCH 1 - PROGRESS: at 59.08% examples, 79173 words/s, in_qsize 1, out_qsize 0\n",
       "</pre>\n"
      ],
      "text/plain": [
       "EPOCH 1 - PROGRESS: at 59.08% examples, 79173 words/s, in_qsize 1, out_qsize 0\n"
      ]
     },
     "metadata": {},
     "output_type": "display_data"
    },
    {
     "data": {
      "text/html": [
       "<pre style=\"white-space:pre;overflow-x:auto;line-height:normal;font-family:Menlo,'DejaVu Sans Mono',consolas,'Courier New',monospace\">EPOCH 1 - PROGRESS: at 59.63% examples, 79030 words/s, in_qsize 1, out_qsize 0\n",
       "</pre>\n"
      ],
      "text/plain": [
       "EPOCH 1 - PROGRESS: at 59.63% examples, 79030 words/s, in_qsize 1, out_qsize 0\n"
      ]
     },
     "metadata": {},
     "output_type": "display_data"
    },
    {
     "data": {
      "text/html": [
       "<pre style=\"white-space:pre;overflow-x:auto;line-height:normal;font-family:Menlo,'DejaVu Sans Mono',consolas,'Courier New',monospace\">EPOCH 1 - PROGRESS: at 60.22% examples, 78945 words/s, in_qsize 1, out_qsize 0\n",
       "</pre>\n"
      ],
      "text/plain": [
       "EPOCH 1 - PROGRESS: at 60.22% examples, 78945 words/s, in_qsize 1, out_qsize 0\n"
      ]
     },
     "metadata": {},
     "output_type": "display_data"
    },
    {
     "data": {
      "text/html": [
       "<pre style=\"white-space:pre;overflow-x:auto;line-height:normal;font-family:Menlo,'DejaVu Sans Mono',consolas,'Courier New',monospace\">EPOCH 1 - PROGRESS: at 60.78% examples, 78824 words/s, in_qsize 1, out_qsize 0\n",
       "</pre>\n"
      ],
      "text/plain": [
       "EPOCH 1 - PROGRESS: at 60.78% examples, 78824 words/s, in_qsize 1, out_qsize 0\n"
      ]
     },
     "metadata": {},
     "output_type": "display_data"
    },
    {
     "data": {
      "text/html": [
       "<pre style=\"white-space:pre;overflow-x:auto;line-height:normal;font-family:Menlo,'DejaVu Sans Mono',consolas,'Courier New',monospace\">EPOCH 1 - PROGRESS: at 61.36% examples, 78730 words/s, in_qsize 1, out_qsize 0\n",
       "</pre>\n"
      ],
      "text/plain": [
       "EPOCH 1 - PROGRESS: at 61.36% examples, 78730 words/s, in_qsize 1, out_qsize 0\n"
      ]
     },
     "metadata": {},
     "output_type": "display_data"
    },
    {
     "data": {
      "text/html": [
       "<pre style=\"white-space:pre;overflow-x:auto;line-height:normal;font-family:Menlo,'DejaVu Sans Mono',consolas,'Courier New',monospace\">EPOCH 1 - PROGRESS: at 61.92% examples, 78603 words/s, in_qsize 1, out_qsize 0\n",
       "</pre>\n"
      ],
      "text/plain": [
       "EPOCH 1 - PROGRESS: at 61.92% examples, 78603 words/s, in_qsize 1, out_qsize 0\n"
      ]
     },
     "metadata": {},
     "output_type": "display_data"
    },
    {
     "data": {
      "text/html": [
       "<pre style=\"white-space:pre;overflow-x:auto;line-height:normal;font-family:Menlo,'DejaVu Sans Mono',consolas,'Courier New',monospace\">EPOCH 1 - PROGRESS: at 62.52% examples, 78546 words/s, in_qsize 1, out_qsize 0\n",
       "</pre>\n"
      ],
      "text/plain": [
       "EPOCH 1 - PROGRESS: at 62.52% examples, 78546 words/s, in_qsize 1, out_qsize 0\n"
      ]
     },
     "metadata": {},
     "output_type": "display_data"
    },
    {
     "data": {
      "text/html": [
       "<pre style=\"white-space:pre;overflow-x:auto;line-height:normal;font-family:Menlo,'DejaVu Sans Mono',consolas,'Courier New',monospace\">EPOCH 1 - PROGRESS: at 63.16% examples, 78525 words/s, in_qsize 1, out_qsize 0\n",
       "</pre>\n"
      ],
      "text/plain": [
       "EPOCH 1 - PROGRESS: at 63.16% examples, 78525 words/s, in_qsize 1, out_qsize 0\n"
      ]
     },
     "metadata": {},
     "output_type": "display_data"
    },
    {
     "data": {
      "text/html": [
       "<pre style=\"white-space:pre;overflow-x:auto;line-height:normal;font-family:Menlo,'DejaVu Sans Mono',consolas,'Courier New',monospace\">EPOCH 1 - PROGRESS: at 63.72% examples, 78419 words/s, in_qsize 1, out_qsize 0\n",
       "</pre>\n"
      ],
      "text/plain": [
       "EPOCH 1 - PROGRESS: at 63.72% examples, 78419 words/s, in_qsize 1, out_qsize 0\n"
      ]
     },
     "metadata": {},
     "output_type": "display_data"
    },
    {
     "data": {
      "text/html": [
       "<pre style=\"white-space:pre;overflow-x:auto;line-height:normal;font-family:Menlo,'DejaVu Sans Mono',consolas,'Courier New',monospace\">EPOCH 1 - PROGRESS: at 64.28% examples, 78310 words/s, in_qsize 1, out_qsize 0\n",
       "</pre>\n"
      ],
      "text/plain": [
       "EPOCH 1 - PROGRESS: at 64.28% examples, 78310 words/s, in_qsize 1, out_qsize 0\n"
      ]
     },
     "metadata": {},
     "output_type": "display_data"
    },
    {
     "data": {
      "text/html": [
       "<pre style=\"white-space:pre;overflow-x:auto;line-height:normal;font-family:Menlo,'DejaVu Sans Mono',consolas,'Courier New',monospace\">EPOCH 1 - PROGRESS: at 64.77% examples, 78114 words/s, in_qsize 2, out_qsize 1\n",
       "</pre>\n"
      ],
      "text/plain": [
       "EPOCH 1 - PROGRESS: at 64.77% examples, 78114 words/s, in_qsize 2, out_qsize 1\n"
      ]
     },
     "metadata": {},
     "output_type": "display_data"
    },
    {
     "data": {
      "text/html": [
       "<pre style=\"white-space:pre;overflow-x:auto;line-height:normal;font-family:Menlo,'DejaVu Sans Mono',consolas,'Courier New',monospace\">EPOCH 1 - PROGRESS: at 65.37% examples, 78052 words/s, in_qsize 1, out_qsize 0\n",
       "</pre>\n"
      ],
      "text/plain": [
       "EPOCH 1 - PROGRESS: at 65.37% examples, 78052 words/s, in_qsize 1, out_qsize 0\n"
      ]
     },
     "metadata": {},
     "output_type": "display_data"
    },
    {
     "data": {
      "text/html": [
       "<pre style=\"white-space:pre;overflow-x:auto;line-height:normal;font-family:Menlo,'DejaVu Sans Mono',consolas,'Courier New',monospace\">EPOCH 1 - PROGRESS: at 66.01% examples, 78044 words/s, in_qsize 1, out_qsize 0\n",
       "</pre>\n"
      ],
      "text/plain": [
       "EPOCH 1 - PROGRESS: at 66.01% examples, 78044 words/s, in_qsize 1, out_qsize 0\n"
      ]
     },
     "metadata": {},
     "output_type": "display_data"
    },
    {
     "data": {
      "text/html": [
       "<pre style=\"white-space:pre;overflow-x:auto;line-height:normal;font-family:Menlo,'DejaVu Sans Mono',consolas,'Courier New',monospace\">EPOCH 1 - PROGRESS: at 66.64% examples, 78025 words/s, in_qsize 1, out_qsize 0\n",
       "</pre>\n"
      ],
      "text/plain": [
       "EPOCH 1 - PROGRESS: at 66.64% examples, 78025 words/s, in_qsize 1, out_qsize 0\n"
      ]
     },
     "metadata": {},
     "output_type": "display_data"
    },
    {
     "data": {
      "text/html": [
       "<pre style=\"white-space:pre;overflow-x:auto;line-height:normal;font-family:Menlo,'DejaVu Sans Mono',consolas,'Courier New',monospace\">EPOCH 1 - PROGRESS: at 67.30% examples, 78044 words/s, in_qsize 1, out_qsize 0\n",
       "</pre>\n"
      ],
      "text/plain": [
       "EPOCH 1 - PROGRESS: at 67.30% examples, 78044 words/s, in_qsize 1, out_qsize 0\n"
      ]
     },
     "metadata": {},
     "output_type": "display_data"
    },
    {
     "data": {
      "text/html": [
       "<pre style=\"white-space:pre;overflow-x:auto;line-height:normal;font-family:Menlo,'DejaVu Sans Mono',consolas,'Courier New',monospace\">EPOCH 1 - PROGRESS: at 67.90% examples, 77994 words/s, in_qsize 1, out_qsize 0\n",
       "</pre>\n"
      ],
      "text/plain": [
       "EPOCH 1 - PROGRESS: at 67.90% examples, 77994 words/s, in_qsize 1, out_qsize 0\n"
      ]
     },
     "metadata": {},
     "output_type": "display_data"
    },
    {
     "data": {
      "text/html": [
       "<pre style=\"white-space:pre;overflow-x:auto;line-height:normal;font-family:Menlo,'DejaVu Sans Mono',consolas,'Courier New',monospace\">EPOCH 1 - PROGRESS: at 68.48% examples, 77909 words/s, in_qsize 1, out_qsize 0\n",
       "</pre>\n"
      ],
      "text/plain": [
       "EPOCH 1 - PROGRESS: at 68.48% examples, 77909 words/s, in_qsize 1, out_qsize 0\n"
      ]
     },
     "metadata": {},
     "output_type": "display_data"
    },
    {
     "data": {
      "text/html": [
       "<pre style=\"white-space:pre;overflow-x:auto;line-height:normal;font-family:Menlo,'DejaVu Sans Mono',consolas,'Courier New',monospace\">EPOCH 1 - PROGRESS: at 69.01% examples, 77788 words/s, in_qsize 1, out_qsize 0\n",
       "</pre>\n"
      ],
      "text/plain": [
       "EPOCH 1 - PROGRESS: at 69.01% examples, 77788 words/s, in_qsize 1, out_qsize 0\n"
      ]
     },
     "metadata": {},
     "output_type": "display_data"
    },
    {
     "data": {
      "text/html": [
       "<pre style=\"white-space:pre;overflow-x:auto;line-height:normal;font-family:Menlo,'DejaVu Sans Mono',consolas,'Courier New',monospace\">EPOCH 1 - PROGRESS: at 69.57% examples, 77693 words/s, in_qsize 1, out_qsize 0\n",
       "</pre>\n"
      ],
      "text/plain": [
       "EPOCH 1 - PROGRESS: at 69.57% examples, 77693 words/s, in_qsize 1, out_qsize 0\n"
      ]
     },
     "metadata": {},
     "output_type": "display_data"
    },
    {
     "data": {
      "text/html": [
       "<pre style=\"white-space:pre;overflow-x:auto;line-height:normal;font-family:Menlo,'DejaVu Sans Mono',consolas,'Courier New',monospace\">EPOCH 1 - PROGRESS: at 70.13% examples, 77599 words/s, in_qsize 1, out_qsize 0\n",
       "</pre>\n"
      ],
      "text/plain": [
       "EPOCH 1 - PROGRESS: at 70.13% examples, 77599 words/s, in_qsize 1, out_qsize 0\n"
      ]
     },
     "metadata": {},
     "output_type": "display_data"
    },
    {
     "data": {
      "text/html": [
       "<pre style=\"white-space:pre;overflow-x:auto;line-height:normal;font-family:Menlo,'DejaVu Sans Mono',consolas,'Courier New',monospace\">EPOCH 1 - PROGRESS: at 70.68% examples, 77496 words/s, in_qsize 1, out_qsize 0\n",
       "</pre>\n"
      ],
      "text/plain": [
       "EPOCH 1 - PROGRESS: at 70.68% examples, 77496 words/s, in_qsize 1, out_qsize 0\n"
      ]
     },
     "metadata": {},
     "output_type": "display_data"
    },
    {
     "data": {
      "text/html": [
       "<pre style=\"white-space:pre;overflow-x:auto;line-height:normal;font-family:Menlo,'DejaVu Sans Mono',consolas,'Courier New',monospace\">EPOCH 1 - PROGRESS: at 71.21% examples, 77367 words/s, in_qsize 1, out_qsize 0\n",
       "</pre>\n"
      ],
      "text/plain": [
       "EPOCH 1 - PROGRESS: at 71.21% examples, 77367 words/s, in_qsize 1, out_qsize 0\n"
      ]
     },
     "metadata": {},
     "output_type": "display_data"
    },
    {
     "data": {
      "text/html": [
       "<pre style=\"white-space:pre;overflow-x:auto;line-height:normal;font-family:Menlo,'DejaVu Sans Mono',consolas,'Courier New',monospace\">EPOCH 1 - PROGRESS: at 71.70% examples, 77209 words/s, in_qsize 1, out_qsize 0\n",
       "</pre>\n"
      ],
      "text/plain": [
       "EPOCH 1 - PROGRESS: at 71.70% examples, 77209 words/s, in_qsize 1, out_qsize 0\n"
      ]
     },
     "metadata": {},
     "output_type": "display_data"
    },
    {
     "data": {
      "text/html": [
       "<pre style=\"white-space:pre;overflow-x:auto;line-height:normal;font-family:Menlo,'DejaVu Sans Mono',consolas,'Courier New',monospace\">EPOCH 1 - PROGRESS: at 72.29% examples, 77153 words/s, in_qsize 1, out_qsize 0\n",
       "</pre>\n"
      ],
      "text/plain": [
       "EPOCH 1 - PROGRESS: at 72.29% examples, 77153 words/s, in_qsize 1, out_qsize 0\n"
      ]
     },
     "metadata": {},
     "output_type": "display_data"
    },
    {
     "data": {
      "text/html": [
       "<pre style=\"white-space:pre;overflow-x:auto;line-height:normal;font-family:Menlo,'DejaVu Sans Mono',consolas,'Courier New',monospace\">EPOCH 1 - PROGRESS: at 72.85% examples, 77074 words/s, in_qsize 1, out_qsize 0\n",
       "</pre>\n"
      ],
      "text/plain": [
       "EPOCH 1 - PROGRESS: at 72.85% examples, 77074 words/s, in_qsize 1, out_qsize 0\n"
      ]
     },
     "metadata": {},
     "output_type": "display_data"
    },
    {
     "data": {
      "text/html": [
       "<pre style=\"white-space:pre;overflow-x:auto;line-height:normal;font-family:Menlo,'DejaVu Sans Mono',consolas,'Courier New',monospace\">EPOCH 1 - PROGRESS: at 73.49% examples, 77072 words/s, in_qsize 1, out_qsize 0\n",
       "</pre>\n"
      ],
      "text/plain": [
       "EPOCH 1 - PROGRESS: at 73.49% examples, 77072 words/s, in_qsize 1, out_qsize 0\n"
      ]
     },
     "metadata": {},
     "output_type": "display_data"
    },
    {
     "data": {
      "text/html": [
       "<pre style=\"white-space:pre;overflow-x:auto;line-height:normal;font-family:Menlo,'DejaVu Sans Mono',consolas,'Courier New',monospace\">EPOCH 1 - PROGRESS: at 74.07% examples, 77011 words/s, in_qsize 1, out_qsize 0\n",
       "</pre>\n"
      ],
      "text/plain": [
       "EPOCH 1 - PROGRESS: at 74.07% examples, 77011 words/s, in_qsize 1, out_qsize 0\n"
      ]
     },
     "metadata": {},
     "output_type": "display_data"
    },
    {
     "data": {
      "text/html": [
       "<pre style=\"white-space:pre;overflow-x:auto;line-height:normal;font-family:Menlo,'DejaVu Sans Mono',consolas,'Courier New',monospace\">EPOCH 1 - PROGRESS: at 74.65% examples, 76953 words/s, in_qsize 1, out_qsize 0\n",
       "</pre>\n"
      ],
      "text/plain": [
       "EPOCH 1 - PROGRESS: at 74.65% examples, 76953 words/s, in_qsize 1, out_qsize 0\n"
      ]
     },
     "metadata": {},
     "output_type": "display_data"
    },
    {
     "data": {
      "text/html": [
       "<pre style=\"white-space:pre;overflow-x:auto;line-height:normal;font-family:Menlo,'DejaVu Sans Mono',consolas,'Courier New',monospace\">EPOCH 1 - PROGRESS: at 75.23% examples, 76890 words/s, in_qsize 1, out_qsize 0\n",
       "</pre>\n"
      ],
      "text/plain": [
       "EPOCH 1 - PROGRESS: at 75.23% examples, 76890 words/s, in_qsize 1, out_qsize 0\n"
      ]
     },
     "metadata": {},
     "output_type": "display_data"
    },
    {
     "data": {
      "text/html": [
       "<pre style=\"white-space:pre;overflow-x:auto;line-height:normal;font-family:Menlo,'DejaVu Sans Mono',consolas,'Courier New',monospace\">EPOCH 1 - PROGRESS: at 75.80% examples, 76822 words/s, in_qsize 1, out_qsize 0\n",
       "</pre>\n"
      ],
      "text/plain": [
       "EPOCH 1 - PROGRESS: at 75.80% examples, 76822 words/s, in_qsize 1, out_qsize 0\n"
      ]
     },
     "metadata": {},
     "output_type": "display_data"
    },
    {
     "data": {
      "text/html": [
       "<pre style=\"white-space:pre;overflow-x:auto;line-height:normal;font-family:Menlo,'DejaVu Sans Mono',consolas,'Courier New',monospace\">EPOCH 1 - PROGRESS: at 76.43% examples, 76817 words/s, in_qsize 1, out_qsize 0\n",
       "</pre>\n"
      ],
      "text/plain": [
       "EPOCH 1 - PROGRESS: at 76.43% examples, 76817 words/s, in_qsize 1, out_qsize 0\n"
      ]
     },
     "metadata": {},
     "output_type": "display_data"
    },
    {
     "data": {
      "text/html": [
       "<pre style=\"white-space:pre;overflow-x:auto;line-height:normal;font-family:Menlo,'DejaVu Sans Mono',consolas,'Courier New',monospace\">EPOCH 1 - PROGRESS: at 77.04% examples, 76786 words/s, in_qsize 1, out_qsize 0\n",
       "</pre>\n"
      ],
      "text/plain": [
       "EPOCH 1 - PROGRESS: at 77.04% examples, 76786 words/s, in_qsize 1, out_qsize 0\n"
      ]
     },
     "metadata": {},
     "output_type": "display_data"
    },
    {
     "data": {
      "text/html": [
       "<pre style=\"white-space:pre;overflow-x:auto;line-height:normal;font-family:Menlo,'DejaVu Sans Mono',consolas,'Courier New',monospace\">EPOCH 1 - PROGRESS: at 77.62% examples, 76729 words/s, in_qsize 1, out_qsize 0\n",
       "</pre>\n"
      ],
      "text/plain": [
       "EPOCH 1 - PROGRESS: at 77.62% examples, 76729 words/s, in_qsize 1, out_qsize 0\n"
      ]
     },
     "metadata": {},
     "output_type": "display_data"
    },
    {
     "data": {
      "text/html": [
       "<pre style=\"white-space:pre;overflow-x:auto;line-height:normal;font-family:Menlo,'DejaVu Sans Mono',consolas,'Courier New',monospace\">EPOCH 1 - PROGRESS: at 78.21% examples, 76685 words/s, in_qsize 1, out_qsize 0\n",
       "</pre>\n"
      ],
      "text/plain": [
       "EPOCH 1 - PROGRESS: at 78.21% examples, 76685 words/s, in_qsize 1, out_qsize 0\n"
      ]
     },
     "metadata": {},
     "output_type": "display_data"
    },
    {
     "data": {
      "text/html": [
       "<pre style=\"white-space:pre;overflow-x:auto;line-height:normal;font-family:Menlo,'DejaVu Sans Mono',consolas,'Courier New',monospace\">EPOCH 1 - PROGRESS: at 78.73% examples, 76578 words/s, in_qsize 1, out_qsize 0\n",
       "</pre>\n"
      ],
      "text/plain": [
       "EPOCH 1 - PROGRESS: at 78.73% examples, 76578 words/s, in_qsize 1, out_qsize 0\n"
      ]
     },
     "metadata": {},
     "output_type": "display_data"
    },
    {
     "data": {
      "text/html": [
       "<pre style=\"white-space:pre;overflow-x:auto;line-height:normal;font-family:Menlo,'DejaVu Sans Mono',consolas,'Courier New',monospace\">EPOCH 1 - PROGRESS: at 79.36% examples, 76567 words/s, in_qsize 1, out_qsize 0\n",
       "</pre>\n"
      ],
      "text/plain": [
       "EPOCH 1 - PROGRESS: at 79.36% examples, 76567 words/s, in_qsize 1, out_qsize 0\n"
      ]
     },
     "metadata": {},
     "output_type": "display_data"
    },
    {
     "data": {
      "text/html": [
       "<pre style=\"white-space:pre;overflow-x:auto;line-height:normal;font-family:Menlo,'DejaVu Sans Mono',consolas,'Courier New',monospace\">EPOCH 1 - PROGRESS: at 79.95% examples, 76526 words/s, in_qsize 1, out_qsize 0\n",
       "</pre>\n"
      ],
      "text/plain": [
       "EPOCH 1 - PROGRESS: at 79.95% examples, 76526 words/s, in_qsize 1, out_qsize 0\n"
      ]
     },
     "metadata": {},
     "output_type": "display_data"
    },
    {
     "data": {
      "text/html": [
       "<pre style=\"white-space:pre;overflow-x:auto;line-height:normal;font-family:Menlo,'DejaVu Sans Mono',consolas,'Courier New',monospace\">EPOCH 1 - PROGRESS: at 80.49% examples, 76441 words/s, in_qsize 1, out_qsize 0\n",
       "</pre>\n"
      ],
      "text/plain": [
       "EPOCH 1 - PROGRESS: at 80.49% examples, 76441 words/s, in_qsize 1, out_qsize 0\n"
      ]
     },
     "metadata": {},
     "output_type": "display_data"
    },
    {
     "data": {
      "text/html": [
       "<pre style=\"white-space:pre;overflow-x:auto;line-height:normal;font-family:Menlo,'DejaVu Sans Mono',consolas,'Courier New',monospace\">EPOCH 1 - PROGRESS: at 81.01% examples, 76325 words/s, in_qsize 1, out_qsize 0\n",
       "</pre>\n"
      ],
      "text/plain": [
       "EPOCH 1 - PROGRESS: at 81.01% examples, 76325 words/s, in_qsize 1, out_qsize 0\n"
      ]
     },
     "metadata": {},
     "output_type": "display_data"
    },
    {
     "data": {
      "text/html": [
       "<pre style=\"white-space:pre;overflow-x:auto;line-height:normal;font-family:Menlo,'DejaVu Sans Mono',consolas,'Courier New',monospace\">EPOCH 1 - PROGRESS: at 81.51% examples, 76205 words/s, in_qsize 1, out_qsize 0\n",
       "</pre>\n"
      ],
      "text/plain": [
       "EPOCH 1 - PROGRESS: at 81.51% examples, 76205 words/s, in_qsize 1, out_qsize 0\n"
      ]
     },
     "metadata": {},
     "output_type": "display_data"
    },
    {
     "data": {
      "text/html": [
       "<pre style=\"white-space:pre;overflow-x:auto;line-height:normal;font-family:Menlo,'DejaVu Sans Mono',consolas,'Courier New',monospace\">EPOCH 1 - PROGRESS: at 82.11% examples, 76173 words/s, in_qsize 1, out_qsize 0\n",
       "</pre>\n"
      ],
      "text/plain": [
       "EPOCH 1 - PROGRESS: at 82.11% examples, 76173 words/s, in_qsize 1, out_qsize 0\n"
      ]
     },
     "metadata": {},
     "output_type": "display_data"
    },
    {
     "data": {
      "text/html": [
       "<pre style=\"white-space:pre;overflow-x:auto;line-height:normal;font-family:Menlo,'DejaVu Sans Mono',consolas,'Courier New',monospace\">EPOCH 1 - PROGRESS: at 82.70% examples, 76140 words/s, in_qsize 1, out_qsize 0\n",
       "</pre>\n"
      ],
      "text/plain": [
       "EPOCH 1 - PROGRESS: at 82.70% examples, 76140 words/s, in_qsize 1, out_qsize 0\n"
      ]
     },
     "metadata": {},
     "output_type": "display_data"
    },
    {
     "data": {
      "text/html": [
       "<pre style=\"white-space:pre;overflow-x:auto;line-height:normal;font-family:Menlo,'DejaVu Sans Mono',consolas,'Courier New',monospace\">EPOCH 1 - PROGRESS: at 83.24% examples, 76055 words/s, in_qsize 2, out_qsize 1\n",
       "</pre>\n"
      ],
      "text/plain": [
       "EPOCH 1 - PROGRESS: at 83.24% examples, 76055 words/s, in_qsize 2, out_qsize 1\n"
      ]
     },
     "metadata": {},
     "output_type": "display_data"
    },
    {
     "data": {
      "text/html": [
       "<pre style=\"white-space:pre;overflow-x:auto;line-height:normal;font-family:Menlo,'DejaVu Sans Mono',consolas,'Courier New',monospace\">EPOCH 1 - PROGRESS: at 83.76% examples, 75957 words/s, in_qsize 1, out_qsize 0\n",
       "</pre>\n"
      ],
      "text/plain": [
       "EPOCH 1 - PROGRESS: at 83.76% examples, 75957 words/s, in_qsize 1, out_qsize 0\n"
      ]
     },
     "metadata": {},
     "output_type": "display_data"
    },
    {
     "data": {
      "text/html": [
       "<pre style=\"white-space:pre;overflow-x:auto;line-height:normal;font-family:Menlo,'DejaVu Sans Mono',consolas,'Courier New',monospace\">EPOCH 1 - PROGRESS: at 84.32% examples, 75895 words/s, in_qsize 1, out_qsize 0\n",
       "</pre>\n"
      ],
      "text/plain": [
       "EPOCH 1 - PROGRESS: at 84.32% examples, 75895 words/s, in_qsize 1, out_qsize 0\n"
      ]
     },
     "metadata": {},
     "output_type": "display_data"
    },
    {
     "data": {
      "text/html": [
       "<pre style=\"white-space:pre;overflow-x:auto;line-height:normal;font-family:Menlo,'DejaVu Sans Mono',consolas,'Courier New',monospace\">EPOCH 1 - PROGRESS: at 84.81% examples, 75771 words/s, in_qsize 1, out_qsize 0\n",
       "</pre>\n"
      ],
      "text/plain": [
       "EPOCH 1 - PROGRESS: at 84.81% examples, 75771 words/s, in_qsize 1, out_qsize 0\n"
      ]
     },
     "metadata": {},
     "output_type": "display_data"
    },
    {
     "data": {
      "text/html": [
       "<pre style=\"white-space:pre;overflow-x:auto;line-height:normal;font-family:Menlo,'DejaVu Sans Mono',consolas,'Courier New',monospace\">EPOCH 1 - PROGRESS: at 85.45% examples, 75779 words/s, in_qsize 1, out_qsize 0\n",
       "</pre>\n"
      ],
      "text/plain": [
       "EPOCH 1 - PROGRESS: at 85.45% examples, 75779 words/s, in_qsize 1, out_qsize 0\n"
      ]
     },
     "metadata": {},
     "output_type": "display_data"
    },
    {
     "data": {
      "text/html": [
       "<pre style=\"white-space:pre;overflow-x:auto;line-height:normal;font-family:Menlo,'DejaVu Sans Mono',consolas,'Courier New',monospace\">EPOCH 1 - PROGRESS: at 86.07% examples, 75770 words/s, in_qsize 2, out_qsize 0\n",
       "</pre>\n"
      ],
      "text/plain": [
       "EPOCH 1 - PROGRESS: at 86.07% examples, 75770 words/s, in_qsize 2, out_qsize 0\n"
      ]
     },
     "metadata": {},
     "output_type": "display_data"
    },
    {
     "data": {
      "text/html": [
       "<pre style=\"white-space:pre;overflow-x:auto;line-height:normal;font-family:Menlo,'DejaVu Sans Mono',consolas,'Courier New',monospace\">EPOCH 1 - PROGRESS: at 86.66% examples, 75741 words/s, in_qsize 1, out_qsize 0\n",
       "</pre>\n"
      ],
      "text/plain": [
       "EPOCH 1 - PROGRESS: at 86.66% examples, 75741 words/s, in_qsize 1, out_qsize 0\n"
      ]
     },
     "metadata": {},
     "output_type": "display_data"
    },
    {
     "data": {
      "text/html": [
       "<pre style=\"white-space:pre;overflow-x:auto;line-height:normal;font-family:Menlo,'DejaVu Sans Mono',consolas,'Courier New',monospace\">EPOCH 1 - PROGRESS: at 87.34% examples, 75781 words/s, in_qsize 1, out_qsize 0\n",
       "</pre>\n"
      ],
      "text/plain": [
       "EPOCH 1 - PROGRESS: at 87.34% examples, 75781 words/s, in_qsize 1, out_qsize 0\n"
      ]
     },
     "metadata": {},
     "output_type": "display_data"
    },
    {
     "data": {
      "text/html": [
       "<pre style=\"white-space:pre;overflow-x:auto;line-height:normal;font-family:Menlo,'DejaVu Sans Mono',consolas,'Courier New',monospace\">EPOCH 1 - PROGRESS: at 88.04% examples, 75843 words/s, in_qsize 2, out_qsize 0\n",
       "</pre>\n"
      ],
      "text/plain": [
       "EPOCH 1 - PROGRESS: at 88.04% examples, 75843 words/s, in_qsize 2, out_qsize 0\n"
      ]
     },
     "metadata": {},
     "output_type": "display_data"
    },
    {
     "data": {
      "text/html": [
       "<pre style=\"white-space:pre;overflow-x:auto;line-height:normal;font-family:Menlo,'DejaVu Sans Mono',consolas,'Courier New',monospace\">EPOCH 1 - PROGRESS: at 88.71% examples, 75883 words/s, in_qsize 1, out_qsize 0\n",
       "</pre>\n"
      ],
      "text/plain": [
       "EPOCH 1 - PROGRESS: at 88.71% examples, 75883 words/s, in_qsize 1, out_qsize 0\n"
      ]
     },
     "metadata": {},
     "output_type": "display_data"
    },
    {
     "data": {
      "text/html": [
       "<pre style=\"white-space:pre;overflow-x:auto;line-height:normal;font-family:Menlo,'DejaVu Sans Mono',consolas,'Courier New',monospace\">EPOCH 1 - PROGRESS: at 89.42% examples, 75946 words/s, in_qsize 1, out_qsize 0\n",
       "</pre>\n"
      ],
      "text/plain": [
       "EPOCH 1 - PROGRESS: at 89.42% examples, 75946 words/s, in_qsize 1, out_qsize 0\n"
      ]
     },
     "metadata": {},
     "output_type": "display_data"
    },
    {
     "data": {
      "text/html": [
       "<pre style=\"white-space:pre;overflow-x:auto;line-height:normal;font-family:Menlo,'DejaVu Sans Mono',consolas,'Courier New',monospace\">EPOCH 1 - PROGRESS: at 90.15% examples, 76029 words/s, in_qsize 1, out_qsize 0\n",
       "</pre>\n"
      ],
      "text/plain": [
       "EPOCH 1 - PROGRESS: at 90.15% examples, 76029 words/s, in_qsize 1, out_qsize 0\n"
      ]
     },
     "metadata": {},
     "output_type": "display_data"
    },
    {
     "data": {
      "text/html": [
       "<pre style=\"white-space:pre;overflow-x:auto;line-height:normal;font-family:Menlo,'DejaVu Sans Mono',consolas,'Courier New',monospace\">EPOCH 1 - PROGRESS: at 90.84% examples, 76081 words/s, in_qsize 1, out_qsize 0\n",
       "</pre>\n"
      ],
      "text/plain": [
       "EPOCH 1 - PROGRESS: at 90.84% examples, 76081 words/s, in_qsize 1, out_qsize 0\n"
      ]
     },
     "metadata": {},
     "output_type": "display_data"
    },
    {
     "data": {
      "text/html": [
       "<pre style=\"white-space:pre;overflow-x:auto;line-height:normal;font-family:Menlo,'DejaVu Sans Mono',consolas,'Courier New',monospace\">EPOCH 1 - PROGRESS: at 91.49% examples, 76097 words/s, in_qsize 2, out_qsize 0\n",
       "</pre>\n"
      ],
      "text/plain": [
       "EPOCH 1 - PROGRESS: at 91.49% examples, 76097 words/s, in_qsize 2, out_qsize 0\n"
      ]
     },
     "metadata": {},
     "output_type": "display_data"
    },
    {
     "data": {
      "text/html": [
       "<pre style=\"white-space:pre;overflow-x:auto;line-height:normal;font-family:Menlo,'DejaVu Sans Mono',consolas,'Courier New',monospace\">EPOCH 1 - PROGRESS: at 92.14% examples, 76114 words/s, in_qsize 1, out_qsize 0\n",
       "</pre>\n"
      ],
      "text/plain": [
       "EPOCH 1 - PROGRESS: at 92.14% examples, 76114 words/s, in_qsize 1, out_qsize 0\n"
      ]
     },
     "metadata": {},
     "output_type": "display_data"
    },
    {
     "data": {
      "text/html": [
       "<pre style=\"white-space:pre;overflow-x:auto;line-height:normal;font-family:Menlo,'DejaVu Sans Mono',consolas,'Courier New',monospace\">EPOCH 1 - PROGRESS: at 92.80% examples, 76139 words/s, in_qsize 1, out_qsize 0\n",
       "</pre>\n"
      ],
      "text/plain": [
       "EPOCH 1 - PROGRESS: at 92.80% examples, 76139 words/s, in_qsize 1, out_qsize 0\n"
      ]
     },
     "metadata": {},
     "output_type": "display_data"
    },
    {
     "data": {
      "text/html": [
       "<pre style=\"white-space:pre;overflow-x:auto;line-height:normal;font-family:Menlo,'DejaVu Sans Mono',consolas,'Courier New',monospace\">EPOCH 1 - PROGRESS: at 93.46% examples, 76165 words/s, in_qsize 1, out_qsize 0\n",
       "</pre>\n"
      ],
      "text/plain": [
       "EPOCH 1 - PROGRESS: at 93.46% examples, 76165 words/s, in_qsize 1, out_qsize 0\n"
      ]
     },
     "metadata": {},
     "output_type": "display_data"
    },
    {
     "data": {
      "text/html": [
       "<pre style=\"white-space:pre;overflow-x:auto;line-height:normal;font-family:Menlo,'DejaVu Sans Mono',consolas,'Courier New',monospace\">EPOCH 1 - PROGRESS: at 94.09% examples, 76162 words/s, in_qsize 1, out_qsize 0\n",
       "</pre>\n"
      ],
      "text/plain": [
       "EPOCH 1 - PROGRESS: at 94.09% examples, 76162 words/s, in_qsize 1, out_qsize 0\n"
      ]
     },
     "metadata": {},
     "output_type": "display_data"
    },
    {
     "data": {
      "text/html": [
       "<pre style=\"white-space:pre;overflow-x:auto;line-height:normal;font-family:Menlo,'DejaVu Sans Mono',consolas,'Courier New',monospace\">EPOCH 1 - PROGRESS: at 94.77% examples, 76199 words/s, in_qsize 1, out_qsize 0\n",
       "</pre>\n"
      ],
      "text/plain": [
       "EPOCH 1 - PROGRESS: at 94.77% examples, 76199 words/s, in_qsize 1, out_qsize 0\n"
      ]
     },
     "metadata": {},
     "output_type": "display_data"
    },
    {
     "data": {
      "text/html": [
       "<pre style=\"white-space:pre;overflow-x:auto;line-height:normal;font-family:Menlo,'DejaVu Sans Mono',consolas,'Courier New',monospace\">EPOCH 1 - PROGRESS: at 95.46% examples, 76247 words/s, in_qsize 2, out_qsize 0\n",
       "</pre>\n"
      ],
      "text/plain": [
       "EPOCH 1 - PROGRESS: at 95.46% examples, 76247 words/s, in_qsize 2, out_qsize 0\n"
      ]
     },
     "metadata": {},
     "output_type": "display_data"
    },
    {
     "data": {
      "text/html": [
       "<pre style=\"white-space:pre;overflow-x:auto;line-height:normal;font-family:Menlo,'DejaVu Sans Mono',consolas,'Courier New',monospace\">EPOCH 1 - PROGRESS: at 96.08% examples, 76238 words/s, in_qsize 1, out_qsize 0\n",
       "</pre>\n"
      ],
      "text/plain": [
       "EPOCH 1 - PROGRESS: at 96.08% examples, 76238 words/s, in_qsize 1, out_qsize 0\n"
      ]
     },
     "metadata": {},
     "output_type": "display_data"
    },
    {
     "data": {
      "text/html": [
       "<pre style=\"white-space:pre;overflow-x:auto;line-height:normal;font-family:Menlo,'DejaVu Sans Mono',consolas,'Courier New',monospace\">EPOCH 1 - PROGRESS: at 96.69% examples, 76216 words/s, in_qsize 1, out_qsize 0\n",
       "</pre>\n"
      ],
      "text/plain": [
       "EPOCH 1 - PROGRESS: at 96.69% examples, 76216 words/s, in_qsize 1, out_qsize 0\n"
      ]
     },
     "metadata": {},
     "output_type": "display_data"
    },
    {
     "data": {
      "text/html": [
       "<pre style=\"white-space:pre;overflow-x:auto;line-height:normal;font-family:Menlo,'DejaVu Sans Mono',consolas,'Courier New',monospace\">EPOCH 1 - PROGRESS: at 97.44% examples, 76311 words/s, in_qsize 2, out_qsize 0\n",
       "</pre>\n"
      ],
      "text/plain": [
       "EPOCH 1 - PROGRESS: at 97.44% examples, 76311 words/s, in_qsize 2, out_qsize 0\n"
      ]
     },
     "metadata": {},
     "output_type": "display_data"
    },
    {
     "data": {
      "text/html": [
       "<pre style=\"white-space:pre;overflow-x:auto;line-height:normal;font-family:Menlo,'DejaVu Sans Mono',consolas,'Courier New',monospace\">EPOCH 1 - PROGRESS: at 98.12% examples, 76347 words/s, in_qsize 1, out_qsize 0\n",
       "</pre>\n"
      ],
      "text/plain": [
       "EPOCH 1 - PROGRESS: at 98.12% examples, 76347 words/s, in_qsize 1, out_qsize 0\n"
      ]
     },
     "metadata": {},
     "output_type": "display_data"
    },
    {
     "data": {
      "text/html": [
       "<pre style=\"white-space:pre;overflow-x:auto;line-height:normal;font-family:Menlo,'DejaVu Sans Mono',consolas,'Courier New',monospace\">EPOCH 1 - PROGRESS: at 98.77% examples, 76359 words/s, in_qsize 1, out_qsize 0\n",
       "</pre>\n"
      ],
      "text/plain": [
       "EPOCH 1 - PROGRESS: at 98.77% examples, 76359 words/s, in_qsize 1, out_qsize 0\n"
      ]
     },
     "metadata": {},
     "output_type": "display_data"
    },
    {
     "data": {
      "text/html": [
       "<pre style=\"white-space:pre;overflow-x:auto;line-height:normal;font-family:Menlo,'DejaVu Sans Mono',consolas,'Courier New',monospace\">EPOCH 1 - PROGRESS: at 99.48% examples, 76419 words/s, in_qsize 1, out_qsize 0\n",
       "</pre>\n"
      ],
      "text/plain": [
       "EPOCH 1 - PROGRESS: at 99.48% examples, 76419 words/s, in_qsize 1, out_qsize 0\n"
      ]
     },
     "metadata": {},
     "output_type": "display_data"
    },
    {
     "data": {
      "text/html": [
       "<pre style=\"white-space:pre;overflow-x:auto;line-height:normal;font-family:Menlo,'DejaVu Sans Mono',consolas,'Courier New',monospace\">EPOCH 1: training on 12236700 raw words (12061596 effective words) took 157.8s, 76447 effective words/s\n",
       "</pre>\n"
      ],
      "text/plain": [
       "EPOCH 1: training on 12236700 raw words (12061596 effective words) took 157.8s, 76447 effective words/s\n"
      ]
     },
     "metadata": {},
     "output_type": "display_data"
    },
    {
     "data": {
      "text/html": [
       "<pre style=\"white-space:pre;overflow-x:auto;line-height:normal;font-family:Menlo,'DejaVu Sans Mono',consolas,'Courier New',monospace\">EPOCH 2 - PROGRESS: at 0.61% examples, 73177 words/s, in_qsize 1, out_qsize 0\n",
       "</pre>\n"
      ],
      "text/plain": [
       "EPOCH 2 - PROGRESS: at 0.61% examples, 73177 words/s, in_qsize 1, out_qsize 0\n"
      ]
     },
     "metadata": {},
     "output_type": "display_data"
    },
    {
     "data": {
      "text/html": [
       "<pre style=\"white-space:pre;overflow-x:auto;line-height:normal;font-family:Menlo,'DejaVu Sans Mono',consolas,'Courier New',monospace\">EPOCH 2 - PROGRESS: at 1.27% examples, 76864 words/s, in_qsize 1, out_qsize 0\n",
       "</pre>\n"
      ],
      "text/plain": [
       "EPOCH 2 - PROGRESS: at 1.27% examples, 76864 words/s, in_qsize 1, out_qsize 0\n"
      ]
     },
     "metadata": {},
     "output_type": "display_data"
    },
    {
     "data": {
      "text/html": [
       "<pre style=\"white-space:pre;overflow-x:auto;line-height:normal;font-family:Menlo,'DejaVu Sans Mono',consolas,'Courier New',monospace\">EPOCH 2 - PROGRESS: at 1.96% examples, 78963 words/s, in_qsize 1, out_qsize 0\n",
       "</pre>\n"
      ],
      "text/plain": [
       "EPOCH 2 - PROGRESS: at 1.96% examples, 78963 words/s, in_qsize 1, out_qsize 0\n"
      ]
     },
     "metadata": {},
     "output_type": "display_data"
    },
    {
     "data": {
      "text/html": [
       "<pre style=\"white-space:pre;overflow-x:auto;line-height:normal;font-family:Menlo,'DejaVu Sans Mono',consolas,'Courier New',monospace\">EPOCH 2 - PROGRESS: at 2.69% examples, 81128 words/s, in_qsize 1, out_qsize 0\n",
       "</pre>\n"
      ],
      "text/plain": [
       "EPOCH 2 - PROGRESS: at 2.69% examples, 81128 words/s, in_qsize 1, out_qsize 0\n"
      ]
     },
     "metadata": {},
     "output_type": "display_data"
    },
    {
     "data": {
      "text/html": [
       "<pre style=\"white-space:pre;overflow-x:auto;line-height:normal;font-family:Menlo,'DejaVu Sans Mono',consolas,'Courier New',monospace\">EPOCH 2 - PROGRESS: at 3.32% examples, 79984 words/s, in_qsize 1, out_qsize 0\n",
       "</pre>\n"
      ],
      "text/plain": [
       "EPOCH 2 - PROGRESS: at 3.32% examples, 79984 words/s, in_qsize 1, out_qsize 0\n"
      ]
     },
     "metadata": {},
     "output_type": "display_data"
    },
    {
     "data": {
      "text/html": [
       "<pre style=\"white-space:pre;overflow-x:auto;line-height:normal;font-family:Menlo,'DejaVu Sans Mono',consolas,'Courier New',monospace\">EPOCH 2 - PROGRESS: at 3.83% examples, 76998 words/s, in_qsize 1, out_qsize 0\n",
       "</pre>\n"
      ],
      "text/plain": [
       "EPOCH 2 - PROGRESS: at 3.83% examples, 76998 words/s, in_qsize 1, out_qsize 0\n"
      ]
     },
     "metadata": {},
     "output_type": "display_data"
    },
    {
     "data": {
      "text/html": [
       "<pre style=\"white-space:pre;overflow-x:auto;line-height:normal;font-family:Menlo,'DejaVu Sans Mono',consolas,'Courier New',monospace\">EPOCH 2 - PROGRESS: at 4.40% examples, 75799 words/s, in_qsize 1, out_qsize 0\n",
       "</pre>\n"
      ],
      "text/plain": [
       "EPOCH 2 - PROGRESS: at 4.40% examples, 75799 words/s, in_qsize 1, out_qsize 0\n"
      ]
     },
     "metadata": {},
     "output_type": "display_data"
    },
    {
     "data": {
      "text/html": [
       "<pre style=\"white-space:pre;overflow-x:auto;line-height:normal;font-family:Menlo,'DejaVu Sans Mono',consolas,'Courier New',monospace\">EPOCH 2 - PROGRESS: at 5.04% examples, 75994 words/s, in_qsize 1, out_qsize 0\n",
       "</pre>\n"
      ],
      "text/plain": [
       "EPOCH 2 - PROGRESS: at 5.04% examples, 75994 words/s, in_qsize 1, out_qsize 0\n"
      ]
     },
     "metadata": {},
     "output_type": "display_data"
    },
    {
     "data": {
      "text/html": [
       "<pre style=\"white-space:pre;overflow-x:auto;line-height:normal;font-family:Menlo,'DejaVu Sans Mono',consolas,'Courier New',monospace\">EPOCH 2 - PROGRESS: at 5.70% examples, 76339 words/s, in_qsize 1, out_qsize 0\n",
       "</pre>\n"
      ],
      "text/plain": [
       "EPOCH 2 - PROGRESS: at 5.70% examples, 76339 words/s, in_qsize 1, out_qsize 0\n"
      ]
     },
     "metadata": {},
     "output_type": "display_data"
    },
    {
     "data": {
      "text/html": [
       "<pre style=\"white-space:pre;overflow-x:auto;line-height:normal;font-family:Menlo,'DejaVu Sans Mono',consolas,'Courier New',monospace\">EPOCH 2 - PROGRESS: at 6.30% examples, 76011 words/s, in_qsize 1, out_qsize 0\n",
       "</pre>\n"
      ],
      "text/plain": [
       "EPOCH 2 - PROGRESS: at 6.30% examples, 76011 words/s, in_qsize 1, out_qsize 0\n"
      ]
     },
     "metadata": {},
     "output_type": "display_data"
    },
    {
     "data": {
      "text/html": [
       "<pre style=\"white-space:pre;overflow-x:auto;line-height:normal;font-family:Menlo,'DejaVu Sans Mono',consolas,'Courier New',monospace\">EPOCH 2 - PROGRESS: at 6.88% examples, 75423 words/s, in_qsize 1, out_qsize 0\n",
       "</pre>\n"
      ],
      "text/plain": [
       "EPOCH 2 - PROGRESS: at 6.88% examples, 75423 words/s, in_qsize 1, out_qsize 0\n"
      ]
     },
     "metadata": {},
     "output_type": "display_data"
    },
    {
     "data": {
      "text/html": [
       "<pre style=\"white-space:pre;overflow-x:auto;line-height:normal;font-family:Menlo,'DejaVu Sans Mono',consolas,'Courier New',monospace\">EPOCH 2 - PROGRESS: at 7.44% examples, 74807 words/s, in_qsize 1, out_qsize 0\n",
       "</pre>\n"
      ],
      "text/plain": [
       "EPOCH 2 - PROGRESS: at 7.44% examples, 74807 words/s, in_qsize 1, out_qsize 0\n"
      ]
     },
     "metadata": {},
     "output_type": "display_data"
    },
    {
     "data": {
      "text/html": [
       "<pre style=\"white-space:pre;overflow-x:auto;line-height:normal;font-family:Menlo,'DejaVu Sans Mono',consolas,'Courier New',monospace\">EPOCH 2 - PROGRESS: at 7.98% examples, 73998 words/s, in_qsize 1, out_qsize 0\n",
       "</pre>\n"
      ],
      "text/plain": [
       "EPOCH 2 - PROGRESS: at 7.98% examples, 73998 words/s, in_qsize 1, out_qsize 0\n"
      ]
     },
     "metadata": {},
     "output_type": "display_data"
    },
    {
     "data": {
      "text/html": [
       "<pre style=\"white-space:pre;overflow-x:auto;line-height:normal;font-family:Menlo,'DejaVu Sans Mono',consolas,'Courier New',monospace\">EPOCH 2 - PROGRESS: at 8.47% examples, 72964 words/s, in_qsize 1, out_qsize 0\n",
       "</pre>\n"
      ],
      "text/plain": [
       "EPOCH 2 - PROGRESS: at 8.47% examples, 72964 words/s, in_qsize 1, out_qsize 0\n"
      ]
     },
     "metadata": {},
     "output_type": "display_data"
    },
    {
     "data": {
      "text/html": [
       "<pre style=\"white-space:pre;overflow-x:auto;line-height:normal;font-family:Menlo,'DejaVu Sans Mono',consolas,'Courier New',monospace\">EPOCH 2 - PROGRESS: at 8.89% examples, 71517 words/s, in_qsize 1, out_qsize 0\n",
       "</pre>\n"
      ],
      "text/plain": [
       "EPOCH 2 - PROGRESS: at 8.89% examples, 71517 words/s, in_qsize 1, out_qsize 0\n"
      ]
     },
     "metadata": {},
     "output_type": "display_data"
    },
    {
     "data": {
      "text/html": [
       "<pre style=\"white-space:pre;overflow-x:auto;line-height:normal;font-family:Menlo,'DejaVu Sans Mono',consolas,'Courier New',monospace\">EPOCH 2 - PROGRESS: at 9.48% examples, 71455 words/s, in_qsize 1, out_qsize 0\n",
       "</pre>\n"
      ],
      "text/plain": [
       "EPOCH 2 - PROGRESS: at 9.48% examples, 71455 words/s, in_qsize 1, out_qsize 0\n"
      ]
     },
     "metadata": {},
     "output_type": "display_data"
    },
    {
     "data": {
      "text/html": [
       "<pre style=\"white-space:pre;overflow-x:auto;line-height:normal;font-family:Menlo,'DejaVu Sans Mono',consolas,'Courier New',monospace\">EPOCH 2 - PROGRESS: at 10.16% examples, 72106 words/s, in_qsize 1, out_qsize 0\n",
       "</pre>\n"
      ],
      "text/plain": [
       "EPOCH 2 - PROGRESS: at 10.16% examples, 72106 words/s, in_qsize 1, out_qsize 0\n"
      ]
     },
     "metadata": {},
     "output_type": "display_data"
    },
    {
     "data": {
      "text/html": [
       "<pre style=\"white-space:pre;overflow-x:auto;line-height:normal;font-family:Menlo,'DejaVu Sans Mono',consolas,'Courier New',monospace\">EPOCH 2 - PROGRESS: at 10.85% examples, 72670 words/s, in_qsize 1, out_qsize 0\n",
       "</pre>\n"
      ],
      "text/plain": [
       "EPOCH 2 - PROGRESS: at 10.85% examples, 72670 words/s, in_qsize 1, out_qsize 0\n"
      ]
     },
     "metadata": {},
     "output_type": "display_data"
    },
    {
     "data": {
      "text/html": [
       "<pre style=\"white-space:pre;overflow-x:auto;line-height:normal;font-family:Menlo,'DejaVu Sans Mono',consolas,'Courier New',monospace\">EPOCH 2 - PROGRESS: at 11.58% examples, 73481 words/s, in_qsize 1, out_qsize 0\n",
       "</pre>\n"
      ],
      "text/plain": [
       "EPOCH 2 - PROGRESS: at 11.58% examples, 73481 words/s, in_qsize 1, out_qsize 0\n"
      ]
     },
     "metadata": {},
     "output_type": "display_data"
    },
    {
     "data": {
      "text/html": [
       "<pre style=\"white-space:pre;overflow-x:auto;line-height:normal;font-family:Menlo,'DejaVu Sans Mono',consolas,'Courier New',monospace\">EPOCH 2 - PROGRESS: at 12.19% examples, 73512 words/s, in_qsize 1, out_qsize 0\n",
       "</pre>\n"
      ],
      "text/plain": [
       "EPOCH 2 - PROGRESS: at 12.19% examples, 73512 words/s, in_qsize 1, out_qsize 0\n"
      ]
     },
     "metadata": {},
     "output_type": "display_data"
    },
    {
     "data": {
      "text/html": [
       "<pre style=\"white-space:pre;overflow-x:auto;line-height:normal;font-family:Menlo,'DejaVu Sans Mono',consolas,'Courier New',monospace\">EPOCH 2 - PROGRESS: at 12.83% examples, 73682 words/s, in_qsize 1, out_qsize 0\n",
       "</pre>\n"
      ],
      "text/plain": [
       "EPOCH 2 - PROGRESS: at 12.83% examples, 73682 words/s, in_qsize 1, out_qsize 0\n"
      ]
     },
     "metadata": {},
     "output_type": "display_data"
    },
    {
     "data": {
      "text/html": [
       "<pre style=\"white-space:pre;overflow-x:auto;line-height:normal;font-family:Menlo,'DejaVu Sans Mono',consolas,'Courier New',monospace\">EPOCH 2 - PROGRESS: at 13.48% examples, 73901 words/s, in_qsize 1, out_qsize 0\n",
       "</pre>\n"
      ],
      "text/plain": [
       "EPOCH 2 - PROGRESS: at 13.48% examples, 73901 words/s, in_qsize 1, out_qsize 0\n"
      ]
     },
     "metadata": {},
     "output_type": "display_data"
    },
    {
     "data": {
      "text/html": [
       "<pre style=\"white-space:pre;overflow-x:auto;line-height:normal;font-family:Menlo,'DejaVu Sans Mono',consolas,'Courier New',monospace\">EPOCH 2 - PROGRESS: at 14.12% examples, 74058 words/s, in_qsize 1, out_qsize 0\n",
       "</pre>\n"
      ],
      "text/plain": [
       "EPOCH 2 - PROGRESS: at 14.12% examples, 74058 words/s, in_qsize 1, out_qsize 0\n"
      ]
     },
     "metadata": {},
     "output_type": "display_data"
    },
    {
     "data": {
      "text/html": [
       "<pre style=\"white-space:pre;overflow-x:auto;line-height:normal;font-family:Menlo,'DejaVu Sans Mono',consolas,'Courier New',monospace\">EPOCH 2 - PROGRESS: at 14.78% examples, 74281 words/s, in_qsize 1, out_qsize 0\n",
       "</pre>\n"
      ],
      "text/plain": [
       "EPOCH 2 - PROGRESS: at 14.78% examples, 74281 words/s, in_qsize 1, out_qsize 0\n"
      ]
     },
     "metadata": {},
     "output_type": "display_data"
    },
    {
     "data": {
      "text/html": [
       "<pre style=\"white-space:pre;overflow-x:auto;line-height:normal;font-family:Menlo,'DejaVu Sans Mono',consolas,'Courier New',monospace\">EPOCH 2 - PROGRESS: at 15.44% examples, 74499 words/s, in_qsize 1, out_qsize 0\n",
       "</pre>\n"
      ],
      "text/plain": [
       "EPOCH 2 - PROGRESS: at 15.44% examples, 74499 words/s, in_qsize 1, out_qsize 0\n"
      ]
     },
     "metadata": {},
     "output_type": "display_data"
    },
    {
     "data": {
      "text/html": [
       "<pre style=\"white-space:pre;overflow-x:auto;line-height:normal;font-family:Menlo,'DejaVu Sans Mono',consolas,'Courier New',monospace\">EPOCH 2 - PROGRESS: at 16.11% examples, 74730 words/s, in_qsize 1, out_qsize 0\n",
       "</pre>\n"
      ],
      "text/plain": [
       "EPOCH 2 - PROGRESS: at 16.11% examples, 74730 words/s, in_qsize 1, out_qsize 0\n"
      ]
     },
     "metadata": {},
     "output_type": "display_data"
    },
    {
     "data": {
      "text/html": [
       "<pre style=\"white-space:pre;overflow-x:auto;line-height:normal;font-family:Menlo,'DejaVu Sans Mono',consolas,'Courier New',monospace\">EPOCH 2 - PROGRESS: at 16.76% examples, 74868 words/s, in_qsize 1, out_qsize 0\n",
       "</pre>\n"
      ],
      "text/plain": [
       "EPOCH 2 - PROGRESS: at 16.76% examples, 74868 words/s, in_qsize 1, out_qsize 0\n"
      ]
     },
     "metadata": {},
     "output_type": "display_data"
    },
    {
     "data": {
      "text/html": [
       "<pre style=\"white-space:pre;overflow-x:auto;line-height:normal;font-family:Menlo,'DejaVu Sans Mono',consolas,'Courier New',monospace\">EPOCH 2 - PROGRESS: at 17.48% examples, 75286 words/s, in_qsize 2, out_qsize 0\n",
       "</pre>\n"
      ],
      "text/plain": [
       "EPOCH 2 - PROGRESS: at 17.48% examples, 75286 words/s, in_qsize 2, out_qsize 0\n"
      ]
     },
     "metadata": {},
     "output_type": "display_data"
    },
    {
     "data": {
      "text/html": [
       "<pre style=\"white-space:pre;overflow-x:auto;line-height:normal;font-family:Menlo,'DejaVu Sans Mono',consolas,'Courier New',monospace\">EPOCH 2 - PROGRESS: at 18.21% examples, 75743 words/s, in_qsize 1, out_qsize 0\n",
       "</pre>\n"
      ],
      "text/plain": [
       "EPOCH 2 - PROGRESS: at 18.21% examples, 75743 words/s, in_qsize 1, out_qsize 0\n"
      ]
     },
     "metadata": {},
     "output_type": "display_data"
    },
    {
     "data": {
      "text/html": [
       "<pre style=\"white-space:pre;overflow-x:auto;line-height:normal;font-family:Menlo,'DejaVu Sans Mono',consolas,'Courier New',monospace\">EPOCH 2 - PROGRESS: at 18.88% examples, 75909 words/s, in_qsize 1, out_qsize 0\n",
       "</pre>\n"
      ],
      "text/plain": [
       "EPOCH 2 - PROGRESS: at 18.88% examples, 75909 words/s, in_qsize 1, out_qsize 0\n"
      ]
     },
     "metadata": {},
     "output_type": "display_data"
    },
    {
     "data": {
      "text/html": [
       "<pre style=\"white-space:pre;overflow-x:auto;line-height:normal;font-family:Menlo,'DejaVu Sans Mono',consolas,'Courier New',monospace\">EPOCH 2 - PROGRESS: at 19.59% examples, 76236 words/s, in_qsize 1, out_qsize 0\n",
       "</pre>\n"
      ],
      "text/plain": [
       "EPOCH 2 - PROGRESS: at 19.59% examples, 76236 words/s, in_qsize 1, out_qsize 0\n"
      ]
     },
     "metadata": {},
     "output_type": "display_data"
    },
    {
     "data": {
      "text/html": [
       "<pre style=\"white-space:pre;overflow-x:auto;line-height:normal;font-family:Menlo,'DejaVu Sans Mono',consolas,'Courier New',monospace\">EPOCH 2 - PROGRESS: at 20.33% examples, 76610 words/s, in_qsize 1, out_qsize 0\n",
       "</pre>\n"
      ],
      "text/plain": [
       "EPOCH 2 - PROGRESS: at 20.33% examples, 76610 words/s, in_qsize 1, out_qsize 0\n"
      ]
     },
     "metadata": {},
     "output_type": "display_data"
    },
    {
     "data": {
      "text/html": [
       "<pre style=\"white-space:pre;overflow-x:auto;line-height:normal;font-family:Menlo,'DejaVu Sans Mono',consolas,'Courier New',monospace\">EPOCH 2 - PROGRESS: at 21.02% examples, 76838 words/s, in_qsize 1, out_qsize 0\n",
       "</pre>\n"
      ],
      "text/plain": [
       "EPOCH 2 - PROGRESS: at 21.02% examples, 76838 words/s, in_qsize 1, out_qsize 0\n"
      ]
     },
     "metadata": {},
     "output_type": "display_data"
    },
    {
     "data": {
      "text/html": [
       "<pre style=\"white-space:pre;overflow-x:auto;line-height:normal;font-family:Menlo,'DejaVu Sans Mono',consolas,'Courier New',monospace\">EPOCH 2 - PROGRESS: at 21.77% examples, 77231 words/s, in_qsize 1, out_qsize 0\n",
       "</pre>\n"
      ],
      "text/plain": [
       "EPOCH 2 - PROGRESS: at 21.77% examples, 77231 words/s, in_qsize 1, out_qsize 0\n"
      ]
     },
     "metadata": {},
     "output_type": "display_data"
    },
    {
     "data": {
      "text/html": [
       "<pre style=\"white-space:pre;overflow-x:auto;line-height:normal;font-family:Menlo,'DejaVu Sans Mono',consolas,'Courier New',monospace\">EPOCH 2 - PROGRESS: at 22.49% examples, 77492 words/s, in_qsize 1, out_qsize 0\n",
       "</pre>\n"
      ],
      "text/plain": [
       "EPOCH 2 - PROGRESS: at 22.49% examples, 77492 words/s, in_qsize 1, out_qsize 0\n"
      ]
     },
     "metadata": {},
     "output_type": "display_data"
    },
    {
     "data": {
      "text/html": [
       "<pre style=\"white-space:pre;overflow-x:auto;line-height:normal;font-family:Menlo,'DejaVu Sans Mono',consolas,'Courier New',monospace\">EPOCH 2 - PROGRESS: at 23.20% examples, 77715 words/s, in_qsize 1, out_qsize 0\n",
       "</pre>\n"
      ],
      "text/plain": [
       "EPOCH 2 - PROGRESS: at 23.20% examples, 77715 words/s, in_qsize 1, out_qsize 0\n"
      ]
     },
     "metadata": {},
     "output_type": "display_data"
    },
    {
     "data": {
      "text/html": [
       "<pre style=\"white-space:pre;overflow-x:auto;line-height:normal;font-family:Menlo,'DejaVu Sans Mono',consolas,'Courier New',monospace\">EPOCH 2 - PROGRESS: at 23.95% examples, 78056 words/s, in_qsize 1, out_qsize 0\n",
       "</pre>\n"
      ],
      "text/plain": [
       "EPOCH 2 - PROGRESS: at 23.95% examples, 78056 words/s, in_qsize 1, out_qsize 0\n"
      ]
     },
     "metadata": {},
     "output_type": "display_data"
    },
    {
     "data": {
      "text/html": [
       "<pre style=\"white-space:pre;overflow-x:auto;line-height:normal;font-family:Menlo,'DejaVu Sans Mono',consolas,'Courier New',monospace\">EPOCH 2 - PROGRESS: at 24.60% examples, 78067 words/s, in_qsize 1, out_qsize 0\n",
       "</pre>\n"
      ],
      "text/plain": [
       "EPOCH 2 - PROGRESS: at 24.60% examples, 78067 words/s, in_qsize 1, out_qsize 0\n"
      ]
     },
     "metadata": {},
     "output_type": "display_data"
    },
    {
     "data": {
      "text/html": [
       "<pre style=\"white-space:pre;overflow-x:auto;line-height:normal;font-family:Menlo,'DejaVu Sans Mono',consolas,'Courier New',monospace\">EPOCH 2 - PROGRESS: at 25.36% examples, 78431 words/s, in_qsize 1, out_qsize 0\n",
       "</pre>\n"
      ],
      "text/plain": [
       "EPOCH 2 - PROGRESS: at 25.36% examples, 78431 words/s, in_qsize 1, out_qsize 0\n"
      ]
     },
     "metadata": {},
     "output_type": "display_data"
    },
    {
     "data": {
      "text/html": [
       "<pre style=\"white-space:pre;overflow-x:auto;line-height:normal;font-family:Menlo,'DejaVu Sans Mono',consolas,'Courier New',monospace\">EPOCH 2 - PROGRESS: at 25.96% examples, 78266 words/s, in_qsize 2, out_qsize 0\n",
       "</pre>\n"
      ],
      "text/plain": [
       "EPOCH 2 - PROGRESS: at 25.96% examples, 78266 words/s, in_qsize 2, out_qsize 0\n"
      ]
     },
     "metadata": {},
     "output_type": "display_data"
    },
    {
     "data": {
      "text/html": [
       "<pre style=\"white-space:pre;overflow-x:auto;line-height:normal;font-family:Menlo,'DejaVu Sans Mono',consolas,'Courier New',monospace\">EPOCH 2 - PROGRESS: at 26.48% examples, 77900 words/s, in_qsize 2, out_qsize 0\n",
       "</pre>\n"
      ],
      "text/plain": [
       "EPOCH 2 - PROGRESS: at 26.48% examples, 77900 words/s, in_qsize 2, out_qsize 0\n"
      ]
     },
     "metadata": {},
     "output_type": "display_data"
    },
    {
     "data": {
      "text/html": [
       "<pre style=\"white-space:pre;overflow-x:auto;line-height:normal;font-family:Menlo,'DejaVu Sans Mono',consolas,'Courier New',monospace\">EPOCH 2 - PROGRESS: at 27.06% examples, 77701 words/s, in_qsize 1, out_qsize 0\n",
       "</pre>\n"
      ],
      "text/plain": [
       "EPOCH 2 - PROGRESS: at 27.06% examples, 77701 words/s, in_qsize 1, out_qsize 0\n"
      ]
     },
     "metadata": {},
     "output_type": "display_data"
    },
    {
     "data": {
      "text/html": [
       "<pre style=\"white-space:pre;overflow-x:auto;line-height:normal;font-family:Menlo,'DejaVu Sans Mono',consolas,'Courier New',monospace\">EPOCH 2 - PROGRESS: at 27.65% examples, 77550 words/s, in_qsize 1, out_qsize 0\n",
       "</pre>\n"
      ],
      "text/plain": [
       "EPOCH 2 - PROGRESS: at 27.65% examples, 77550 words/s, in_qsize 1, out_qsize 0\n"
      ]
     },
     "metadata": {},
     "output_type": "display_data"
    },
    {
     "data": {
      "text/html": [
       "<pre style=\"white-space:pre;overflow-x:auto;line-height:normal;font-family:Menlo,'DejaVu Sans Mono',consolas,'Courier New',monospace\">EPOCH 2 - PROGRESS: at 28.21% examples, 77323 words/s, in_qsize 1, out_qsize 0\n",
       "</pre>\n"
      ],
      "text/plain": [
       "EPOCH 2 - PROGRESS: at 28.21% examples, 77323 words/s, in_qsize 1, out_qsize 0\n"
      ]
     },
     "metadata": {},
     "output_type": "display_data"
    },
    {
     "data": {
      "text/html": [
       "<pre style=\"white-space:pre;overflow-x:auto;line-height:normal;font-family:Menlo,'DejaVu Sans Mono',consolas,'Courier New',monospace\">EPOCH 2 - PROGRESS: at 28.75% examples, 77054 words/s, in_qsize 1, out_qsize 0\n",
       "</pre>\n"
      ],
      "text/plain": [
       "EPOCH 2 - PROGRESS: at 28.75% examples, 77054 words/s, in_qsize 1, out_qsize 0\n"
      ]
     },
     "metadata": {},
     "output_type": "display_data"
    },
    {
     "data": {
      "text/html": [
       "<pre style=\"white-space:pre;overflow-x:auto;line-height:normal;font-family:Menlo,'DejaVu Sans Mono',consolas,'Courier New',monospace\">EPOCH 2 - PROGRESS: at 29.27% examples, 76750 words/s, in_qsize 1, out_qsize 0\n",
       "</pre>\n"
      ],
      "text/plain": [
       "EPOCH 2 - PROGRESS: at 29.27% examples, 76750 words/s, in_qsize 1, out_qsize 0\n"
      ]
     },
     "metadata": {},
     "output_type": "display_data"
    },
    {
     "data": {
      "text/html": [
       "<pre style=\"white-space:pre;overflow-x:auto;line-height:normal;font-family:Menlo,'DejaVu Sans Mono',consolas,'Courier New',monospace\">EPOCH 2 - PROGRESS: at 29.89% examples, 76696 words/s, in_qsize 1, out_qsize 0\n",
       "</pre>\n"
      ],
      "text/plain": [
       "EPOCH 2 - PROGRESS: at 29.89% examples, 76696 words/s, in_qsize 1, out_qsize 0\n"
      ]
     },
     "metadata": {},
     "output_type": "display_data"
    },
    {
     "data": {
      "text/html": [
       "<pre style=\"white-space:pre;overflow-x:auto;line-height:normal;font-family:Menlo,'DejaVu Sans Mono',consolas,'Courier New',monospace\">EPOCH 2 - PROGRESS: at 30.46% examples, 76527 words/s, in_qsize 1, out_qsize 0\n",
       "</pre>\n"
      ],
      "text/plain": [
       "EPOCH 2 - PROGRESS: at 30.46% examples, 76527 words/s, in_qsize 1, out_qsize 0\n"
      ]
     },
     "metadata": {},
     "output_type": "display_data"
    },
    {
     "data": {
      "text/html": [
       "<pre style=\"white-space:pre;overflow-x:auto;line-height:normal;font-family:Menlo,'DejaVu Sans Mono',consolas,'Courier New',monospace\">EPOCH 2 - PROGRESS: at 31.05% examples, 76435 words/s, in_qsize 1, out_qsize 0\n",
       "</pre>\n"
      ],
      "text/plain": [
       "EPOCH 2 - PROGRESS: at 31.05% examples, 76435 words/s, in_qsize 1, out_qsize 0\n"
      ]
     },
     "metadata": {},
     "output_type": "display_data"
    },
    {
     "data": {
      "text/html": [
       "<pre style=\"white-space:pre;overflow-x:auto;line-height:normal;font-family:Menlo,'DejaVu Sans Mono',consolas,'Courier New',monospace\">EPOCH 2 - PROGRESS: at 31.63% examples, 76289 words/s, in_qsize 1, out_qsize 0\n",
       "</pre>\n"
      ],
      "text/plain": [
       "EPOCH 2 - PROGRESS: at 31.63% examples, 76289 words/s, in_qsize 1, out_qsize 0\n"
      ]
     },
     "metadata": {},
     "output_type": "display_data"
    },
    {
     "data": {
      "text/html": [
       "<pre style=\"white-space:pre;overflow-x:auto;line-height:normal;font-family:Menlo,'DejaVu Sans Mono',consolas,'Courier New',monospace\">EPOCH 2 - PROGRESS: at 32.15% examples, 76034 words/s, in_qsize 1, out_qsize 0\n",
       "</pre>\n"
      ],
      "text/plain": [
       "EPOCH 2 - PROGRESS: at 32.15% examples, 76034 words/s, in_qsize 1, out_qsize 0\n"
      ]
     },
     "metadata": {},
     "output_type": "display_data"
    },
    {
     "data": {
      "text/html": [
       "<pre style=\"white-space:pre;overflow-x:auto;line-height:normal;font-family:Menlo,'DejaVu Sans Mono',consolas,'Courier New',monospace\">EPOCH 2 - PROGRESS: at 32.74% examples, 75928 words/s, in_qsize 1, out_qsize 0\n",
       "</pre>\n"
      ],
      "text/plain": [
       "EPOCH 2 - PROGRESS: at 32.74% examples, 75928 words/s, in_qsize 1, out_qsize 0\n"
      ]
     },
     "metadata": {},
     "output_type": "display_data"
    },
    {
     "data": {
      "text/html": [
       "<pre style=\"white-space:pre;overflow-x:auto;line-height:normal;font-family:Menlo,'DejaVu Sans Mono',consolas,'Courier New',monospace\">EPOCH 2 - PROGRESS: at 33.27% examples, 75700 words/s, in_qsize 1, out_qsize 0\n",
       "</pre>\n"
      ],
      "text/plain": [
       "EPOCH 2 - PROGRESS: at 33.27% examples, 75700 words/s, in_qsize 1, out_qsize 0\n"
      ]
     },
     "metadata": {},
     "output_type": "display_data"
    },
    {
     "data": {
      "text/html": [
       "<pre style=\"white-space:pre;overflow-x:auto;line-height:normal;font-family:Menlo,'DejaVu Sans Mono',consolas,'Courier New',monospace\">EPOCH 2 - PROGRESS: at 33.83% examples, 75571 words/s, in_qsize 1, out_qsize 0\n",
       "</pre>\n"
      ],
      "text/plain": [
       "EPOCH 2 - PROGRESS: at 33.83% examples, 75571 words/s, in_qsize 1, out_qsize 0\n"
      ]
     },
     "metadata": {},
     "output_type": "display_data"
    },
    {
     "data": {
      "text/html": [
       "<pre style=\"white-space:pre;overflow-x:auto;line-height:normal;font-family:Menlo,'DejaVu Sans Mono',consolas,'Courier New',monospace\">EPOCH 2 - PROGRESS: at 34.38% examples, 75388 words/s, in_qsize 1, out_qsize 0\n",
       "</pre>\n"
      ],
      "text/plain": [
       "EPOCH 2 - PROGRESS: at 34.38% examples, 75388 words/s, in_qsize 1, out_qsize 0\n"
      ]
     },
     "metadata": {},
     "output_type": "display_data"
    },
    {
     "data": {
      "text/html": [
       "<pre style=\"white-space:pre;overflow-x:auto;line-height:normal;font-family:Menlo,'DejaVu Sans Mono',consolas,'Courier New',monospace\">EPOCH 2 - PROGRESS: at 34.89% examples, 75152 words/s, in_qsize 1, out_qsize 0\n",
       "</pre>\n"
      ],
      "text/plain": [
       "EPOCH 2 - PROGRESS: at 34.89% examples, 75152 words/s, in_qsize 1, out_qsize 0\n"
      ]
     },
     "metadata": {},
     "output_type": "display_data"
    },
    {
     "data": {
      "text/html": [
       "<pre style=\"white-space:pre;overflow-x:auto;line-height:normal;font-family:Menlo,'DejaVu Sans Mono',consolas,'Courier New',monospace\">EPOCH 2 - PROGRESS: at 35.42% examples, 74952 words/s, in_qsize 1, out_qsize 0\n",
       "</pre>\n"
      ],
      "text/plain": [
       "EPOCH 2 - PROGRESS: at 35.42% examples, 74952 words/s, in_qsize 1, out_qsize 0\n"
      ]
     },
     "metadata": {},
     "output_type": "display_data"
    },
    {
     "data": {
      "text/html": [
       "<pre style=\"white-space:pre;overflow-x:auto;line-height:normal;font-family:Menlo,'DejaVu Sans Mono',consolas,'Courier New',monospace\">EPOCH 2 - PROGRESS: at 36.05% examples, 74964 words/s, in_qsize 1, out_qsize 0\n",
       "</pre>\n"
      ],
      "text/plain": [
       "EPOCH 2 - PROGRESS: at 36.05% examples, 74964 words/s, in_qsize 1, out_qsize 0\n"
      ]
     },
     "metadata": {},
     "output_type": "display_data"
    },
    {
     "data": {
      "text/html": [
       "<pre style=\"white-space:pre;overflow-x:auto;line-height:normal;font-family:Menlo,'DejaVu Sans Mono',consolas,'Courier New',monospace\">EPOCH 2 - PROGRESS: at 36.69% examples, 74996 words/s, in_qsize 1, out_qsize 0\n",
       "</pre>\n"
      ],
      "text/plain": [
       "EPOCH 2 - PROGRESS: at 36.69% examples, 74996 words/s, in_qsize 1, out_qsize 0\n"
      ]
     },
     "metadata": {},
     "output_type": "display_data"
    },
    {
     "data": {
      "text/html": [
       "<pre style=\"white-space:pre;overflow-x:auto;line-height:normal;font-family:Menlo,'DejaVu Sans Mono',consolas,'Courier New',monospace\">EPOCH 2 - PROGRESS: at 37.32% examples, 75011 words/s, in_qsize 1, out_qsize 0\n",
       "</pre>\n"
      ],
      "text/plain": [
       "EPOCH 2 - PROGRESS: at 37.32% examples, 75011 words/s, in_qsize 1, out_qsize 0\n"
      ]
     },
     "metadata": {},
     "output_type": "display_data"
    },
    {
     "data": {
      "text/html": [
       "<pre style=\"white-space:pre;overflow-x:auto;line-height:normal;font-family:Menlo,'DejaVu Sans Mono',consolas,'Courier New',monospace\">EPOCH 2 - PROGRESS: at 37.91% examples, 74952 words/s, in_qsize 1, out_qsize 0\n",
       "</pre>\n"
      ],
      "text/plain": [
       "EPOCH 2 - PROGRESS: at 37.91% examples, 74952 words/s, in_qsize 1, out_qsize 0\n"
      ]
     },
     "metadata": {},
     "output_type": "display_data"
    },
    {
     "data": {
      "text/html": [
       "<pre style=\"white-space:pre;overflow-x:auto;line-height:normal;font-family:Menlo,'DejaVu Sans Mono',consolas,'Courier New',monospace\">EPOCH 2 - PROGRESS: at 38.50% examples, 74890 words/s, in_qsize 1, out_qsize 0\n",
       "</pre>\n"
      ],
      "text/plain": [
       "EPOCH 2 - PROGRESS: at 38.50% examples, 74890 words/s, in_qsize 1, out_qsize 0\n"
      ]
     },
     "metadata": {},
     "output_type": "display_data"
    },
    {
     "data": {
      "text/html": [
       "<pre style=\"white-space:pre;overflow-x:auto;line-height:normal;font-family:Menlo,'DejaVu Sans Mono',consolas,'Courier New',monospace\">EPOCH 2 - PROGRESS: at 39.11% examples, 74881 words/s, in_qsize 1, out_qsize 0\n",
       "</pre>\n"
      ],
      "text/plain": [
       "EPOCH 2 - PROGRESS: at 39.11% examples, 74881 words/s, in_qsize 1, out_qsize 0\n"
      ]
     },
     "metadata": {},
     "output_type": "display_data"
    },
    {
     "data": {
      "text/html": [
       "<pre style=\"white-space:pre;overflow-x:auto;line-height:normal;font-family:Menlo,'DejaVu Sans Mono',consolas,'Courier New',monospace\">EPOCH 2 - PROGRESS: at 39.74% examples, 74886 words/s, in_qsize 1, out_qsize 0\n",
       "</pre>\n"
      ],
      "text/plain": [
       "EPOCH 2 - PROGRESS: at 39.74% examples, 74886 words/s, in_qsize 1, out_qsize 0\n"
      ]
     },
     "metadata": {},
     "output_type": "display_data"
    },
    {
     "data": {
      "text/html": [
       "<pre style=\"white-space:pre;overflow-x:auto;line-height:normal;font-family:Menlo,'DejaVu Sans Mono',consolas,'Courier New',monospace\">EPOCH 2 - PROGRESS: at 40.37% examples, 74907 words/s, in_qsize 1, out_qsize 0\n",
       "</pre>\n"
      ],
      "text/plain": [
       "EPOCH 2 - PROGRESS: at 40.37% examples, 74907 words/s, in_qsize 1, out_qsize 0\n"
      ]
     },
     "metadata": {},
     "output_type": "display_data"
    },
    {
     "data": {
      "text/html": [
       "<pre style=\"white-space:pre;overflow-x:auto;line-height:normal;font-family:Menlo,'DejaVu Sans Mono',consolas,'Courier New',monospace\">EPOCH 2 - PROGRESS: at 41.01% examples, 74951 words/s, in_qsize 1, out_qsize 0\n",
       "</pre>\n"
      ],
      "text/plain": [
       "EPOCH 2 - PROGRESS: at 41.01% examples, 74951 words/s, in_qsize 1, out_qsize 0\n"
      ]
     },
     "metadata": {},
     "output_type": "display_data"
    },
    {
     "data": {
      "text/html": [
       "<pre style=\"white-space:pre;overflow-x:auto;line-height:normal;font-family:Menlo,'DejaVu Sans Mono',consolas,'Courier New',monospace\">EPOCH 2 - PROGRESS: at 41.66% examples, 74996 words/s, in_qsize 1, out_qsize 0\n",
       "</pre>\n"
      ],
      "text/plain": [
       "EPOCH 2 - PROGRESS: at 41.66% examples, 74996 words/s, in_qsize 1, out_qsize 0\n"
      ]
     },
     "metadata": {},
     "output_type": "display_data"
    },
    {
     "data": {
      "text/html": [
       "<pre style=\"white-space:pre;overflow-x:auto;line-height:normal;font-family:Menlo,'DejaVu Sans Mono',consolas,'Courier New',monospace\">EPOCH 2 - PROGRESS: at 42.28% examples, 74991 words/s, in_qsize 1, out_qsize 0\n",
       "</pre>\n"
      ],
      "text/plain": [
       "EPOCH 2 - PROGRESS: at 42.28% examples, 74991 words/s, in_qsize 1, out_qsize 0\n"
      ]
     },
     "metadata": {},
     "output_type": "display_data"
    },
    {
     "data": {
      "text/html": [
       "<pre style=\"white-space:pre;overflow-x:auto;line-height:normal;font-family:Menlo,'DejaVu Sans Mono',consolas,'Courier New',monospace\">EPOCH 2 - PROGRESS: at 42.89% examples, 74978 words/s, in_qsize 1, out_qsize 0\n",
       "</pre>\n"
      ],
      "text/plain": [
       "EPOCH 2 - PROGRESS: at 42.89% examples, 74978 words/s, in_qsize 1, out_qsize 0\n"
      ]
     },
     "metadata": {},
     "output_type": "display_data"
    },
    {
     "data": {
      "text/html": [
       "<pre style=\"white-space:pre;overflow-x:auto;line-height:normal;font-family:Menlo,'DejaVu Sans Mono',consolas,'Courier New',monospace\">EPOCH 2 - PROGRESS: at 43.52% examples, 74977 words/s, in_qsize 1, out_qsize 0\n",
       "</pre>\n"
      ],
      "text/plain": [
       "EPOCH 2 - PROGRESS: at 43.52% examples, 74977 words/s, in_qsize 1, out_qsize 0\n"
      ]
     },
     "metadata": {},
     "output_type": "display_data"
    },
    {
     "data": {
      "text/html": [
       "<pre style=\"white-space:pre;overflow-x:auto;line-height:normal;font-family:Menlo,'DejaVu Sans Mono',consolas,'Courier New',monospace\">EPOCH 2 - PROGRESS: at 44.13% examples, 74960 words/s, in_qsize 1, out_qsize 0\n",
       "</pre>\n"
      ],
      "text/plain": [
       "EPOCH 2 - PROGRESS: at 44.13% examples, 74960 words/s, in_qsize 1, out_qsize 0\n"
      ]
     },
     "metadata": {},
     "output_type": "display_data"
    },
    {
     "data": {
      "text/html": [
       "<pre style=\"white-space:pre;overflow-x:auto;line-height:normal;font-family:Menlo,'DejaVu Sans Mono',consolas,'Courier New',monospace\">EPOCH 2 - PROGRESS: at 44.74% examples, 74938 words/s, in_qsize 1, out_qsize 0\n",
       "</pre>\n"
      ],
      "text/plain": [
       "EPOCH 2 - PROGRESS: at 44.74% examples, 74938 words/s, in_qsize 1, out_qsize 0\n"
      ]
     },
     "metadata": {},
     "output_type": "display_data"
    },
    {
     "data": {
      "text/html": [
       "<pre style=\"white-space:pre;overflow-x:auto;line-height:normal;font-family:Menlo,'DejaVu Sans Mono',consolas,'Courier New',monospace\">EPOCH 2 - PROGRESS: at 45.35% examples, 74932 words/s, in_qsize 1, out_qsize 0\n",
       "</pre>\n"
      ],
      "text/plain": [
       "EPOCH 2 - PROGRESS: at 45.35% examples, 74932 words/s, in_qsize 1, out_qsize 0\n"
      ]
     },
     "metadata": {},
     "output_type": "display_data"
    },
    {
     "data": {
      "text/html": [
       "<pre style=\"white-space:pre;overflow-x:auto;line-height:normal;font-family:Menlo,'DejaVu Sans Mono',consolas,'Courier New',monospace\">EPOCH 2 - PROGRESS: at 45.97% examples, 74925 words/s, in_qsize 1, out_qsize 0\n",
       "</pre>\n"
      ],
      "text/plain": [
       "EPOCH 2 - PROGRESS: at 45.97% examples, 74925 words/s, in_qsize 1, out_qsize 0\n"
      ]
     },
     "metadata": {},
     "output_type": "display_data"
    },
    {
     "data": {
      "text/html": [
       "<pre style=\"white-space:pre;overflow-x:auto;line-height:normal;font-family:Menlo,'DejaVu Sans Mono',consolas,'Courier New',monospace\">EPOCH 2 - PROGRESS: at 46.58% examples, 74912 words/s, in_qsize 1, out_qsize 0\n",
       "</pre>\n"
      ],
      "text/plain": [
       "EPOCH 2 - PROGRESS: at 46.58% examples, 74912 words/s, in_qsize 1, out_qsize 0\n"
      ]
     },
     "metadata": {},
     "output_type": "display_data"
    },
    {
     "data": {
      "text/html": [
       "<pre style=\"white-space:pre;overflow-x:auto;line-height:normal;font-family:Menlo,'DejaVu Sans Mono',consolas,'Courier New',monospace\">EPOCH 2 - PROGRESS: at 47.19% examples, 74896 words/s, in_qsize 1, out_qsize 0\n",
       "</pre>\n"
      ],
      "text/plain": [
       "EPOCH 2 - PROGRESS: at 47.19% examples, 74896 words/s, in_qsize 1, out_qsize 0\n"
      ]
     },
     "metadata": {},
     "output_type": "display_data"
    },
    {
     "data": {
      "text/html": [
       "<pre style=\"white-space:pre;overflow-x:auto;line-height:normal;font-family:Menlo,'DejaVu Sans Mono',consolas,'Courier New',monospace\">EPOCH 2 - PROGRESS: at 47.81% examples, 74886 words/s, in_qsize 1, out_qsize 0\n",
       "</pre>\n"
      ],
      "text/plain": [
       "EPOCH 2 - PROGRESS: at 47.81% examples, 74886 words/s, in_qsize 1, out_qsize 0\n"
      ]
     },
     "metadata": {},
     "output_type": "display_data"
    },
    {
     "data": {
      "text/html": [
       "<pre style=\"white-space:pre;overflow-x:auto;line-height:normal;font-family:Menlo,'DejaVu Sans Mono',consolas,'Courier New',monospace\">EPOCH 2 - PROGRESS: at 48.43% examples, 74881 words/s, in_qsize 1, out_qsize 0\n",
       "</pre>\n"
      ],
      "text/plain": [
       "EPOCH 2 - PROGRESS: at 48.43% examples, 74881 words/s, in_qsize 1, out_qsize 0\n"
      ]
     },
     "metadata": {},
     "output_type": "display_data"
    },
    {
     "data": {
      "text/html": [
       "<pre style=\"white-space:pre;overflow-x:auto;line-height:normal;font-family:Menlo,'DejaVu Sans Mono',consolas,'Courier New',monospace\">EPOCH 2 - PROGRESS: at 49.04% examples, 74864 words/s, in_qsize 1, out_qsize 0\n",
       "</pre>\n"
      ],
      "text/plain": [
       "EPOCH 2 - PROGRESS: at 49.04% examples, 74864 words/s, in_qsize 1, out_qsize 0\n"
      ]
     },
     "metadata": {},
     "output_type": "display_data"
    },
    {
     "data": {
      "text/html": [
       "<pre style=\"white-space:pre;overflow-x:auto;line-height:normal;font-family:Menlo,'DejaVu Sans Mono',consolas,'Courier New',monospace\">EPOCH 2 - PROGRESS: at 49.64% examples, 74843 words/s, in_qsize 1, out_qsize 0\n",
       "</pre>\n"
      ],
      "text/plain": [
       "EPOCH 2 - PROGRESS: at 49.64% examples, 74843 words/s, in_qsize 1, out_qsize 0\n"
      ]
     },
     "metadata": {},
     "output_type": "display_data"
    },
    {
     "data": {
      "text/html": [
       "<pre style=\"white-space:pre;overflow-x:auto;line-height:normal;font-family:Menlo,'DejaVu Sans Mono',consolas,'Courier New',monospace\">EPOCH 2 - PROGRESS: at 50.26% examples, 74830 words/s, in_qsize 1, out_qsize 0\n",
       "</pre>\n"
      ],
      "text/plain": [
       "EPOCH 2 - PROGRESS: at 50.26% examples, 74830 words/s, in_qsize 1, out_qsize 0\n"
      ]
     },
     "metadata": {},
     "output_type": "display_data"
    },
    {
     "data": {
      "text/html": [
       "<pre style=\"white-space:pre;overflow-x:auto;line-height:normal;font-family:Menlo,'DejaVu Sans Mono',consolas,'Courier New',monospace\">EPOCH 2 - PROGRESS: at 50.87% examples, 74822 words/s, in_qsize 1, out_qsize 0\n",
       "</pre>\n"
      ],
      "text/plain": [
       "EPOCH 2 - PROGRESS: at 50.87% examples, 74822 words/s, in_qsize 1, out_qsize 0\n"
      ]
     },
     "metadata": {},
     "output_type": "display_data"
    },
    {
     "data": {
      "text/html": [
       "<pre style=\"white-space:pre;overflow-x:auto;line-height:normal;font-family:Menlo,'DejaVu Sans Mono',consolas,'Courier New',monospace\">EPOCH 2 - PROGRESS: at 51.52% examples, 74860 words/s, in_qsize 1, out_qsize 0\n",
       "</pre>\n"
      ],
      "text/plain": [
       "EPOCH 2 - PROGRESS: at 51.52% examples, 74860 words/s, in_qsize 1, out_qsize 0\n"
      ]
     },
     "metadata": {},
     "output_type": "display_data"
    },
    {
     "data": {
      "text/html": [
       "<pre style=\"white-space:pre;overflow-x:auto;line-height:normal;font-family:Menlo,'DejaVu Sans Mono',consolas,'Courier New',monospace\">EPOCH 2 - PROGRESS: at 52.16% examples, 74897 words/s, in_qsize 1, out_qsize 0\n",
       "</pre>\n"
      ],
      "text/plain": [
       "EPOCH 2 - PROGRESS: at 52.16% examples, 74897 words/s, in_qsize 1, out_qsize 0\n"
      ]
     },
     "metadata": {},
     "output_type": "display_data"
    },
    {
     "data": {
      "text/html": [
       "<pre style=\"white-space:pre;overflow-x:auto;line-height:normal;font-family:Menlo,'DejaVu Sans Mono',consolas,'Courier New',monospace\">EPOCH 2 - PROGRESS: at 52.82% examples, 74942 words/s, in_qsize 1, out_qsize 0\n",
       "</pre>\n"
      ],
      "text/plain": [
       "EPOCH 2 - PROGRESS: at 52.82% examples, 74942 words/s, in_qsize 1, out_qsize 0\n"
      ]
     },
     "metadata": {},
     "output_type": "display_data"
    },
    {
     "data": {
      "text/html": [
       "<pre style=\"white-space:pre;overflow-x:auto;line-height:normal;font-family:Menlo,'DejaVu Sans Mono',consolas,'Courier New',monospace\">EPOCH 2 - PROGRESS: at 53.44% examples, 74944 words/s, in_qsize 1, out_qsize 0\n",
       "</pre>\n"
      ],
      "text/plain": [
       "EPOCH 2 - PROGRESS: at 53.44% examples, 74944 words/s, in_qsize 1, out_qsize 0\n"
      ]
     },
     "metadata": {},
     "output_type": "display_data"
    },
    {
     "data": {
      "text/html": [
       "<pre style=\"white-space:pre;overflow-x:auto;line-height:normal;font-family:Menlo,'DejaVu Sans Mono',consolas,'Courier New',monospace\">EPOCH 2 - PROGRESS: at 54.07% examples, 74962 words/s, in_qsize 1, out_qsize 0\n",
       "</pre>\n"
      ],
      "text/plain": [
       "EPOCH 2 - PROGRESS: at 54.07% examples, 74962 words/s, in_qsize 1, out_qsize 0\n"
      ]
     },
     "metadata": {},
     "output_type": "display_data"
    },
    {
     "data": {
      "text/html": [
       "<pre style=\"white-space:pre;overflow-x:auto;line-height:normal;font-family:Menlo,'DejaVu Sans Mono',consolas,'Courier New',monospace\">EPOCH 2 - PROGRESS: at 54.70% examples, 74974 words/s, in_qsize 1, out_qsize 0\n",
       "</pre>\n"
      ],
      "text/plain": [
       "EPOCH 2 - PROGRESS: at 54.70% examples, 74974 words/s, in_qsize 1, out_qsize 0\n"
      ]
     },
     "metadata": {},
     "output_type": "display_data"
    },
    {
     "data": {
      "text/html": [
       "<pre style=\"white-space:pre;overflow-x:auto;line-height:normal;font-family:Menlo,'DejaVu Sans Mono',consolas,'Courier New',monospace\">EPOCH 2 - PROGRESS: at 55.34% examples, 75001 words/s, in_qsize 2, out_qsize 0\n",
       "</pre>\n"
      ],
      "text/plain": [
       "EPOCH 2 - PROGRESS: at 55.34% examples, 75001 words/s, in_qsize 2, out_qsize 0\n"
      ]
     },
     "metadata": {},
     "output_type": "display_data"
    },
    {
     "data": {
      "text/html": [
       "<pre style=\"white-space:pre;overflow-x:auto;line-height:normal;font-family:Menlo,'DejaVu Sans Mono',consolas,'Courier New',monospace\">EPOCH 2 - PROGRESS: at 55.98% examples, 75027 words/s, in_qsize 1, out_qsize 0\n",
       "</pre>\n"
      ],
      "text/plain": [
       "EPOCH 2 - PROGRESS: at 55.98% examples, 75027 words/s, in_qsize 1, out_qsize 0\n"
      ]
     },
     "metadata": {},
     "output_type": "display_data"
    },
    {
     "data": {
      "text/html": [
       "<pre style=\"white-space:pre;overflow-x:auto;line-height:normal;font-family:Menlo,'DejaVu Sans Mono',consolas,'Courier New',monospace\">EPOCH 2 - PROGRESS: at 56.63% examples, 75063 words/s, in_qsize 1, out_qsize 0\n",
       "</pre>\n"
      ],
      "text/plain": [
       "EPOCH 2 - PROGRESS: at 56.63% examples, 75063 words/s, in_qsize 1, out_qsize 0\n"
      ]
     },
     "metadata": {},
     "output_type": "display_data"
    },
    {
     "data": {
      "text/html": [
       "<pre style=\"white-space:pre;overflow-x:auto;line-height:normal;font-family:Menlo,'DejaVu Sans Mono',consolas,'Courier New',monospace\">EPOCH 2 - PROGRESS: at 57.27% examples, 75076 words/s, in_qsize 1, out_qsize 0\n",
       "</pre>\n"
      ],
      "text/plain": [
       "EPOCH 2 - PROGRESS: at 57.27% examples, 75076 words/s, in_qsize 1, out_qsize 0\n"
      ]
     },
     "metadata": {},
     "output_type": "display_data"
    },
    {
     "data": {
      "text/html": [
       "<pre style=\"white-space:pre;overflow-x:auto;line-height:normal;font-family:Menlo,'DejaVu Sans Mono',consolas,'Courier New',monospace\">EPOCH 2 - PROGRESS: at 57.91% examples, 75099 words/s, in_qsize 1, out_qsize 0\n",
       "</pre>\n"
      ],
      "text/plain": [
       "EPOCH 2 - PROGRESS: at 57.91% examples, 75099 words/s, in_qsize 1, out_qsize 0\n"
      ]
     },
     "metadata": {},
     "output_type": "display_data"
    },
    {
     "data": {
      "text/html": [
       "<pre style=\"white-space:pre;overflow-x:auto;line-height:normal;font-family:Menlo,'DejaVu Sans Mono',consolas,'Courier New',monospace\">EPOCH 2 - PROGRESS: at 58.56% examples, 75139 words/s, in_qsize 1, out_qsize 0\n",
       "</pre>\n"
      ],
      "text/plain": [
       "EPOCH 2 - PROGRESS: at 58.56% examples, 75139 words/s, in_qsize 1, out_qsize 0\n"
      ]
     },
     "metadata": {},
     "output_type": "display_data"
    },
    {
     "data": {
      "text/html": [
       "<pre style=\"white-space:pre;overflow-x:auto;line-height:normal;font-family:Menlo,'DejaVu Sans Mono',consolas,'Courier New',monospace\">EPOCH 2 - PROGRESS: at 59.21% examples, 75179 words/s, in_qsize 1, out_qsize 0\n",
       "</pre>\n"
      ],
      "text/plain": [
       "EPOCH 2 - PROGRESS: at 59.21% examples, 75179 words/s, in_qsize 1, out_qsize 0\n"
      ]
     },
     "metadata": {},
     "output_type": "display_data"
    },
    {
     "data": {
      "text/html": [
       "<pre style=\"white-space:pre;overflow-x:auto;line-height:normal;font-family:Menlo,'DejaVu Sans Mono',consolas,'Courier New',monospace\">EPOCH 2 - PROGRESS: at 59.86% examples, 75206 words/s, in_qsize 1, out_qsize 0\n",
       "</pre>\n"
      ],
      "text/plain": [
       "EPOCH 2 - PROGRESS: at 59.86% examples, 75206 words/s, in_qsize 1, out_qsize 0\n"
      ]
     },
     "metadata": {},
     "output_type": "display_data"
    },
    {
     "data": {
      "text/html": [
       "<pre style=\"white-space:pre;overflow-x:auto;line-height:normal;font-family:Menlo,'DejaVu Sans Mono',consolas,'Courier New',monospace\">EPOCH 2 - PROGRESS: at 60.52% examples, 75246 words/s, in_qsize 2, out_qsize 0\n",
       "</pre>\n"
      ],
      "text/plain": [
       "EPOCH 2 - PROGRESS: at 60.52% examples, 75246 words/s, in_qsize 2, out_qsize 0\n"
      ]
     },
     "metadata": {},
     "output_type": "display_data"
    },
    {
     "data": {
      "text/html": [
       "<pre style=\"white-space:pre;overflow-x:auto;line-height:normal;font-family:Menlo,'DejaVu Sans Mono',consolas,'Courier New',monospace\">EPOCH 2 - PROGRESS: at 61.16% examples, 75276 words/s, in_qsize 1, out_qsize 0\n",
       "</pre>\n"
      ],
      "text/plain": [
       "EPOCH 2 - PROGRESS: at 61.16% examples, 75276 words/s, in_qsize 1, out_qsize 0\n"
      ]
     },
     "metadata": {},
     "output_type": "display_data"
    },
    {
     "data": {
      "text/html": [
       "<pre style=\"white-space:pre;overflow-x:auto;line-height:normal;font-family:Menlo,'DejaVu Sans Mono',consolas,'Courier New',monospace\">EPOCH 2 - PROGRESS: at 61.82% examples, 75316 words/s, in_qsize 1, out_qsize 0\n",
       "</pre>\n"
      ],
      "text/plain": [
       "EPOCH 2 - PROGRESS: at 61.82% examples, 75316 words/s, in_qsize 1, out_qsize 0\n"
      ]
     },
     "metadata": {},
     "output_type": "display_data"
    },
    {
     "data": {
      "text/html": [
       "<pre style=\"white-space:pre;overflow-x:auto;line-height:normal;font-family:Menlo,'DejaVu Sans Mono',consolas,'Courier New',monospace\">EPOCH 2 - PROGRESS: at 62.47% examples, 75348 words/s, in_qsize 1, out_qsize 0\n",
       "</pre>\n"
      ],
      "text/plain": [
       "EPOCH 2 - PROGRESS: at 62.47% examples, 75348 words/s, in_qsize 1, out_qsize 0\n"
      ]
     },
     "metadata": {},
     "output_type": "display_data"
    },
    {
     "data": {
      "text/html": [
       "<pre style=\"white-space:pre;overflow-x:auto;line-height:normal;font-family:Menlo,'DejaVu Sans Mono',consolas,'Courier New',monospace\">EPOCH 2 - PROGRESS: at 63.12% examples, 75378 words/s, in_qsize 1, out_qsize 0\n",
       "</pre>\n"
      ],
      "text/plain": [
       "EPOCH 2 - PROGRESS: at 63.12% examples, 75378 words/s, in_qsize 1, out_qsize 0\n"
      ]
     },
     "metadata": {},
     "output_type": "display_data"
    },
    {
     "data": {
      "text/html": [
       "<pre style=\"white-space:pre;overflow-x:auto;line-height:normal;font-family:Menlo,'DejaVu Sans Mono',consolas,'Courier New',monospace\">EPOCH 2 - PROGRESS: at 63.78% examples, 75416 words/s, in_qsize 1, out_qsize 0\n",
       "</pre>\n"
      ],
      "text/plain": [
       "EPOCH 2 - PROGRESS: at 63.78% examples, 75416 words/s, in_qsize 1, out_qsize 0\n"
      ]
     },
     "metadata": {},
     "output_type": "display_data"
    },
    {
     "data": {
      "text/html": [
       "<pre style=\"white-space:pre;overflow-x:auto;line-height:normal;font-family:Menlo,'DejaVu Sans Mono',consolas,'Courier New',monospace\">EPOCH 2 - PROGRESS: at 64.43% examples, 75446 words/s, in_qsize 1, out_qsize 0\n",
       "</pre>\n"
      ],
      "text/plain": [
       "EPOCH 2 - PROGRESS: at 64.43% examples, 75446 words/s, in_qsize 1, out_qsize 0\n"
      ]
     },
     "metadata": {},
     "output_type": "display_data"
    },
    {
     "data": {
      "text/html": [
       "<pre style=\"white-space:pre;overflow-x:auto;line-height:normal;font-family:Menlo,'DejaVu Sans Mono',consolas,'Courier New',monospace\">EPOCH 2 - PROGRESS: at 65.09% examples, 75489 words/s, in_qsize 1, out_qsize 0\n",
       "</pre>\n"
      ],
      "text/plain": [
       "EPOCH 2 - PROGRESS: at 65.09% examples, 75489 words/s, in_qsize 1, out_qsize 0\n"
      ]
     },
     "metadata": {},
     "output_type": "display_data"
    },
    {
     "data": {
      "text/html": [
       "<pre style=\"white-space:pre;overflow-x:auto;line-height:normal;font-family:Menlo,'DejaVu Sans Mono',consolas,'Courier New',monospace\">EPOCH 2 - PROGRESS: at 65.74% examples, 75508 words/s, in_qsize 1, out_qsize 0\n",
       "</pre>\n"
      ],
      "text/plain": [
       "EPOCH 2 - PROGRESS: at 65.74% examples, 75508 words/s, in_qsize 1, out_qsize 0\n"
      ]
     },
     "metadata": {},
     "output_type": "display_data"
    },
    {
     "data": {
      "text/html": [
       "<pre style=\"white-space:pre;overflow-x:auto;line-height:normal;font-family:Menlo,'DejaVu Sans Mono',consolas,'Courier New',monospace\">EPOCH 2 - PROGRESS: at 66.37% examples, 75523 words/s, in_qsize 1, out_qsize 0\n",
       "</pre>\n"
      ],
      "text/plain": [
       "EPOCH 2 - PROGRESS: at 66.37% examples, 75523 words/s, in_qsize 1, out_qsize 0\n"
      ]
     },
     "metadata": {},
     "output_type": "display_data"
    },
    {
     "data": {
      "text/html": [
       "<pre style=\"white-space:pre;overflow-x:auto;line-height:normal;font-family:Menlo,'DejaVu Sans Mono',consolas,'Courier New',monospace\">EPOCH 2 - PROGRESS: at 67.01% examples, 75534 words/s, in_qsize 1, out_qsize 0\n",
       "</pre>\n"
      ],
      "text/plain": [
       "EPOCH 2 - PROGRESS: at 67.01% examples, 75534 words/s, in_qsize 1, out_qsize 0\n"
      ]
     },
     "metadata": {},
     "output_type": "display_data"
    },
    {
     "data": {
      "text/html": [
       "<pre style=\"white-space:pre;overflow-x:auto;line-height:normal;font-family:Menlo,'DejaVu Sans Mono',consolas,'Courier New',monospace\">EPOCH 2 - PROGRESS: at 67.65% examples, 75547 words/s, in_qsize 1, out_qsize 0\n",
       "</pre>\n"
      ],
      "text/plain": [
       "EPOCH 2 - PROGRESS: at 67.65% examples, 75547 words/s, in_qsize 1, out_qsize 0\n"
      ]
     },
     "metadata": {},
     "output_type": "display_data"
    },
    {
     "data": {
      "text/html": [
       "<pre style=\"white-space:pre;overflow-x:auto;line-height:normal;font-family:Menlo,'DejaVu Sans Mono',consolas,'Courier New',monospace\">EPOCH 2 - PROGRESS: at 68.39% examples, 75680 words/s, in_qsize 1, out_qsize 0\n",
       "</pre>\n"
      ],
      "text/plain": [
       "EPOCH 2 - PROGRESS: at 68.39% examples, 75680 words/s, in_qsize 1, out_qsize 0\n"
      ]
     },
     "metadata": {},
     "output_type": "display_data"
    },
    {
     "data": {
      "text/html": [
       "<pre style=\"white-space:pre;overflow-x:auto;line-height:normal;font-family:Menlo,'DejaVu Sans Mono',consolas,'Courier New',monospace\">EPOCH 2 - PROGRESS: at 69.16% examples, 75834 words/s, in_qsize 1, out_qsize 0\n",
       "</pre>\n"
      ],
      "text/plain": [
       "EPOCH 2 - PROGRESS: at 69.16% examples, 75834 words/s, in_qsize 1, out_qsize 0\n"
      ]
     },
     "metadata": {},
     "output_type": "display_data"
    },
    {
     "data": {
      "text/html": [
       "<pre style=\"white-space:pre;overflow-x:auto;line-height:normal;font-family:Menlo,'DejaVu Sans Mono',consolas,'Courier New',monospace\">EPOCH 2 - PROGRESS: at 69.92% examples, 75974 words/s, in_qsize 1, out_qsize 0\n",
       "</pre>\n"
      ],
      "text/plain": [
       "EPOCH 2 - PROGRESS: at 69.92% examples, 75974 words/s, in_qsize 1, out_qsize 0\n"
      ]
     },
     "metadata": {},
     "output_type": "display_data"
    },
    {
     "data": {
      "text/html": [
       "<pre style=\"white-space:pre;overflow-x:auto;line-height:normal;font-family:Menlo,'DejaVu Sans Mono',consolas,'Courier New',monospace\">EPOCH 2 - PROGRESS: at 70.69% examples, 76120 words/s, in_qsize 1, out_qsize 0\n",
       "</pre>\n"
      ],
      "text/plain": [
       "EPOCH 2 - PROGRESS: at 70.69% examples, 76120 words/s, in_qsize 1, out_qsize 0\n"
      ]
     },
     "metadata": {},
     "output_type": "display_data"
    },
    {
     "data": {
      "text/html": [
       "<pre style=\"white-space:pre;overflow-x:auto;line-height:normal;font-family:Menlo,'DejaVu Sans Mono',consolas,'Courier New',monospace\">EPOCH 2 - PROGRESS: at 71.45% examples, 76262 words/s, in_qsize 1, out_qsize 0\n",
       "</pre>\n"
      ],
      "text/plain": [
       "EPOCH 2 - PROGRESS: at 71.45% examples, 76262 words/s, in_qsize 1, out_qsize 0\n"
      ]
     },
     "metadata": {},
     "output_type": "display_data"
    },
    {
     "data": {
      "text/html": [
       "<pre style=\"white-space:pre;overflow-x:auto;line-height:normal;font-family:Menlo,'DejaVu Sans Mono',consolas,'Courier New',monospace\">EPOCH 2 - PROGRESS: at 72.22% examples, 76402 words/s, in_qsize 1, out_qsize 0\n",
       "</pre>\n"
      ],
      "text/plain": [
       "EPOCH 2 - PROGRESS: at 72.22% examples, 76402 words/s, in_qsize 1, out_qsize 0\n"
      ]
     },
     "metadata": {},
     "output_type": "display_data"
    },
    {
     "data": {
      "text/html": [
       "<pre style=\"white-space:pre;overflow-x:auto;line-height:normal;font-family:Menlo,'DejaVu Sans Mono',consolas,'Courier New',monospace\">EPOCH 2 - PROGRESS: at 72.97% examples, 76533 words/s, in_qsize 1, out_qsize 0\n",
       "</pre>\n"
      ],
      "text/plain": [
       "EPOCH 2 - PROGRESS: at 72.97% examples, 76533 words/s, in_qsize 1, out_qsize 0\n"
      ]
     },
     "metadata": {},
     "output_type": "display_data"
    },
    {
     "data": {
      "text/html": [
       "<pre style=\"white-space:pre;overflow-x:auto;line-height:normal;font-family:Menlo,'DejaVu Sans Mono',consolas,'Courier New',monospace\">EPOCH 2 - PROGRESS: at 73.74% examples, 76671 words/s, in_qsize 1, out_qsize 0\n",
       "</pre>\n"
      ],
      "text/plain": [
       "EPOCH 2 - PROGRESS: at 73.74% examples, 76671 words/s, in_qsize 1, out_qsize 0\n"
      ]
     },
     "metadata": {},
     "output_type": "display_data"
    },
    {
     "data": {
      "text/html": [
       "<pre style=\"white-space:pre;overflow-x:auto;line-height:normal;font-family:Menlo,'DejaVu Sans Mono',consolas,'Courier New',monospace\">EPOCH 2 - PROGRESS: at 74.41% examples, 76702 words/s, in_qsize 1, out_qsize 0\n",
       "</pre>\n"
      ],
      "text/plain": [
       "EPOCH 2 - PROGRESS: at 74.41% examples, 76702 words/s, in_qsize 1, out_qsize 0\n"
      ]
     },
     "metadata": {},
     "output_type": "display_data"
    },
    {
     "data": {
      "text/html": [
       "<pre style=\"white-space:pre;overflow-x:auto;line-height:normal;font-family:Menlo,'DejaVu Sans Mono',consolas,'Courier New',monospace\">EPOCH 2 - PROGRESS: at 75.11% examples, 76773 words/s, in_qsize 1, out_qsize 0\n",
       "</pre>\n"
      ],
      "text/plain": [
       "EPOCH 2 - PROGRESS: at 75.11% examples, 76773 words/s, in_qsize 1, out_qsize 0\n"
      ]
     },
     "metadata": {},
     "output_type": "display_data"
    },
    {
     "data": {
      "text/html": [
       "<pre style=\"white-space:pre;overflow-x:auto;line-height:normal;font-family:Menlo,'DejaVu Sans Mono',consolas,'Courier New',monospace\">EPOCH 2 - PROGRESS: at 75.70% examples, 76719 words/s, in_qsize 1, out_qsize 0\n",
       "</pre>\n"
      ],
      "text/plain": [
       "EPOCH 2 - PROGRESS: at 75.70% examples, 76719 words/s, in_qsize 1, out_qsize 0\n"
      ]
     },
     "metadata": {},
     "output_type": "display_data"
    },
    {
     "data": {
      "text/html": [
       "<pre style=\"white-space:pre;overflow-x:auto;line-height:normal;font-family:Menlo,'DejaVu Sans Mono',consolas,'Courier New',monospace\">EPOCH 2 - PROGRESS: at 76.38% examples, 76770 words/s, in_qsize 1, out_qsize 0\n",
       "</pre>\n"
      ],
      "text/plain": [
       "EPOCH 2 - PROGRESS: at 76.38% examples, 76770 words/s, in_qsize 1, out_qsize 0\n"
      ]
     },
     "metadata": {},
     "output_type": "display_data"
    },
    {
     "data": {
      "text/html": [
       "<pre style=\"white-space:pre;overflow-x:auto;line-height:normal;font-family:Menlo,'DejaVu Sans Mono',consolas,'Courier New',monospace\">EPOCH 2 - PROGRESS: at 77.08% examples, 76826 words/s, in_qsize 2, out_qsize 0\n",
       "</pre>\n"
      ],
      "text/plain": [
       "EPOCH 2 - PROGRESS: at 77.08% examples, 76826 words/s, in_qsize 2, out_qsize 0\n"
      ]
     },
     "metadata": {},
     "output_type": "display_data"
    },
    {
     "data": {
      "text/html": [
       "<pre style=\"white-space:pre;overflow-x:auto;line-height:normal;font-family:Menlo,'DejaVu Sans Mono',consolas,'Courier New',monospace\">EPOCH 2 - PROGRESS: at 77.68% examples, 76791 words/s, in_qsize 1, out_qsize 0\n",
       "</pre>\n"
      ],
      "text/plain": [
       "EPOCH 2 - PROGRESS: at 77.68% examples, 76791 words/s, in_qsize 1, out_qsize 0\n"
      ]
     },
     "metadata": {},
     "output_type": "display_data"
    },
    {
     "data": {
      "text/html": [
       "<pre style=\"white-space:pre;overflow-x:auto;line-height:normal;font-family:Menlo,'DejaVu Sans Mono',consolas,'Courier New',monospace\">EPOCH 2 - PROGRESS: at 78.43% examples, 76900 words/s, in_qsize 2, out_qsize 0\n",
       "</pre>\n"
      ],
      "text/plain": [
       "EPOCH 2 - PROGRESS: at 78.43% examples, 76900 words/s, in_qsize 2, out_qsize 0\n"
      ]
     },
     "metadata": {},
     "output_type": "display_data"
    },
    {
     "data": {
      "text/html": [
       "<pre style=\"white-space:pre;overflow-x:auto;line-height:normal;font-family:Menlo,'DejaVu Sans Mono',consolas,'Courier New',monospace\">EPOCH 2 - PROGRESS: at 79.17% examples, 77006 words/s, in_qsize 1, out_qsize 0\n",
       "</pre>\n"
      ],
      "text/plain": [
       "EPOCH 2 - PROGRESS: at 79.17% examples, 77006 words/s, in_qsize 1, out_qsize 0\n"
      ]
     },
     "metadata": {},
     "output_type": "display_data"
    },
    {
     "data": {
      "text/html": [
       "<pre style=\"white-space:pre;overflow-x:auto;line-height:normal;font-family:Menlo,'DejaVu Sans Mono',consolas,'Courier New',monospace\">EPOCH 2 - PROGRESS: at 79.87% examples, 77062 words/s, in_qsize 1, out_qsize 0\n",
       "</pre>\n"
      ],
      "text/plain": [
       "EPOCH 2 - PROGRESS: at 79.87% examples, 77062 words/s, in_qsize 1, out_qsize 0\n"
      ]
     },
     "metadata": {},
     "output_type": "display_data"
    },
    {
     "data": {
      "text/html": [
       "<pre style=\"white-space:pre;overflow-x:auto;line-height:normal;font-family:Menlo,'DejaVu Sans Mono',consolas,'Courier New',monospace\">EPOCH 2 - PROGRESS: at 80.42% examples, 76980 words/s, in_qsize 1, out_qsize 0\n",
       "</pre>\n"
      ],
      "text/plain": [
       "EPOCH 2 - PROGRESS: at 80.42% examples, 76980 words/s, in_qsize 1, out_qsize 0\n"
      ]
     },
     "metadata": {},
     "output_type": "display_data"
    },
    {
     "data": {
      "text/html": [
       "<pre style=\"white-space:pre;overflow-x:auto;line-height:normal;font-family:Menlo,'DejaVu Sans Mono',consolas,'Courier New',monospace\">EPOCH 2 - PROGRESS: at 81.10% examples, 77013 words/s, in_qsize 2, out_qsize 0\n",
       "</pre>\n"
      ],
      "text/plain": [
       "EPOCH 2 - PROGRESS: at 81.10% examples, 77013 words/s, in_qsize 2, out_qsize 0\n"
      ]
     },
     "metadata": {},
     "output_type": "display_data"
    },
    {
     "data": {
      "text/html": [
       "<pre style=\"white-space:pre;overflow-x:auto;line-height:normal;font-family:Menlo,'DejaVu Sans Mono',consolas,'Courier New',monospace\">EPOCH 2 - PROGRESS: at 81.80% examples, 77074 words/s, in_qsize 2, out_qsize 0\n",
       "</pre>\n"
      ],
      "text/plain": [
       "EPOCH 2 - PROGRESS: at 81.80% examples, 77074 words/s, in_qsize 2, out_qsize 0\n"
      ]
     },
     "metadata": {},
     "output_type": "display_data"
    },
    {
     "data": {
      "text/html": [
       "<pre style=\"white-space:pre;overflow-x:auto;line-height:normal;font-family:Menlo,'DejaVu Sans Mono',consolas,'Courier New',monospace\">EPOCH 2 - PROGRESS: at 82.50% examples, 77134 words/s, in_qsize 1, out_qsize 0\n",
       "</pre>\n"
      ],
      "text/plain": [
       "EPOCH 2 - PROGRESS: at 82.50% examples, 77134 words/s, in_qsize 1, out_qsize 0\n"
      ]
     },
     "metadata": {},
     "output_type": "display_data"
    },
    {
     "data": {
      "text/html": [
       "<pre style=\"white-space:pre;overflow-x:auto;line-height:normal;font-family:Menlo,'DejaVu Sans Mono',consolas,'Courier New',monospace\">EPOCH 2 - PROGRESS: at 83.22% examples, 77211 words/s, in_qsize 2, out_qsize 0\n",
       "</pre>\n"
      ],
      "text/plain": [
       "EPOCH 2 - PROGRESS: at 83.22% examples, 77211 words/s, in_qsize 2, out_qsize 0\n"
      ]
     },
     "metadata": {},
     "output_type": "display_data"
    },
    {
     "data": {
      "text/html": [
       "<pre style=\"white-space:pre;overflow-x:auto;line-height:normal;font-family:Menlo,'DejaVu Sans Mono',consolas,'Courier New',monospace\">EPOCH 2 - PROGRESS: at 83.93% examples, 77270 words/s, in_qsize 1, out_qsize 0\n",
       "</pre>\n"
      ],
      "text/plain": [
       "EPOCH 2 - PROGRESS: at 83.93% examples, 77270 words/s, in_qsize 1, out_qsize 0\n"
      ]
     },
     "metadata": {},
     "output_type": "display_data"
    },
    {
     "data": {
      "text/html": [
       "<pre style=\"white-space:pre;overflow-x:auto;line-height:normal;font-family:Menlo,'DejaVu Sans Mono',consolas,'Courier New',monospace\">EPOCH 2 - PROGRESS: at 84.67% examples, 77364 words/s, in_qsize 1, out_qsize 0\n",
       "</pre>\n"
      ],
      "text/plain": [
       "EPOCH 2 - PROGRESS: at 84.67% examples, 77364 words/s, in_qsize 1, out_qsize 0\n"
      ]
     },
     "metadata": {},
     "output_type": "display_data"
    },
    {
     "data": {
      "text/html": [
       "<pre style=\"white-space:pre;overflow-x:auto;line-height:normal;font-family:Menlo,'DejaVu Sans Mono',consolas,'Courier New',monospace\">EPOCH 2 - PROGRESS: at 85.41% examples, 77451 words/s, in_qsize 1, out_qsize 0\n",
       "</pre>\n"
      ],
      "text/plain": [
       "EPOCH 2 - PROGRESS: at 85.41% examples, 77451 words/s, in_qsize 1, out_qsize 0\n"
      ]
     },
     "metadata": {},
     "output_type": "display_data"
    },
    {
     "data": {
      "text/html": [
       "<pre style=\"white-space:pre;overflow-x:auto;line-height:normal;font-family:Menlo,'DejaVu Sans Mono',consolas,'Courier New',monospace\">EPOCH 2 - PROGRESS: at 86.07% examples, 77469 words/s, in_qsize 1, out_qsize 0\n",
       "</pre>\n"
      ],
      "text/plain": [
       "EPOCH 2 - PROGRESS: at 86.07% examples, 77469 words/s, in_qsize 1, out_qsize 0\n"
      ]
     },
     "metadata": {},
     "output_type": "display_data"
    },
    {
     "data": {
      "text/html": [
       "<pre style=\"white-space:pre;overflow-x:auto;line-height:normal;font-family:Menlo,'DejaVu Sans Mono',consolas,'Courier New',monospace\">EPOCH 2 - PROGRESS: at 86.76% examples, 77514 words/s, in_qsize 2, out_qsize 0\n",
       "</pre>\n"
      ],
      "text/plain": [
       "EPOCH 2 - PROGRESS: at 86.76% examples, 77514 words/s, in_qsize 2, out_qsize 0\n"
      ]
     },
     "metadata": {},
     "output_type": "display_data"
    },
    {
     "data": {
      "text/html": [
       "<pre style=\"white-space:pre;overflow-x:auto;line-height:normal;font-family:Menlo,'DejaVu Sans Mono',consolas,'Courier New',monospace\">EPOCH 2 - PROGRESS: at 87.49% examples, 77587 words/s, in_qsize 1, out_qsize 0\n",
       "</pre>\n"
      ],
      "text/plain": [
       "EPOCH 2 - PROGRESS: at 87.49% examples, 77587 words/s, in_qsize 1, out_qsize 0\n"
      ]
     },
     "metadata": {},
     "output_type": "display_data"
    },
    {
     "data": {
      "text/html": [
       "<pre style=\"white-space:pre;overflow-x:auto;line-height:normal;font-family:Menlo,'DejaVu Sans Mono',consolas,'Courier New',monospace\">EPOCH 2 - PROGRESS: at 88.22% examples, 77665 words/s, in_qsize 1, out_qsize 0\n",
       "</pre>\n"
      ],
      "text/plain": [
       "EPOCH 2 - PROGRESS: at 88.22% examples, 77665 words/s, in_qsize 1, out_qsize 0\n"
      ]
     },
     "metadata": {},
     "output_type": "display_data"
    },
    {
     "data": {
      "text/html": [
       "<pre style=\"white-space:pre;overflow-x:auto;line-height:normal;font-family:Menlo,'DejaVu Sans Mono',consolas,'Courier New',monospace\">EPOCH 2 - PROGRESS: at 88.95% examples, 77740 words/s, in_qsize 1, out_qsize 0\n",
       "</pre>\n"
      ],
      "text/plain": [
       "EPOCH 2 - PROGRESS: at 88.95% examples, 77740 words/s, in_qsize 1, out_qsize 0\n"
      ]
     },
     "metadata": {},
     "output_type": "display_data"
    },
    {
     "data": {
      "text/html": [
       "<pre style=\"white-space:pre;overflow-x:auto;line-height:normal;font-family:Menlo,'DejaVu Sans Mono',consolas,'Courier New',monospace\">EPOCH 2 - PROGRESS: at 89.71% examples, 77844 words/s, in_qsize 1, out_qsize 0\n",
       "</pre>\n"
      ],
      "text/plain": [
       "EPOCH 2 - PROGRESS: at 89.71% examples, 77844 words/s, in_qsize 1, out_qsize 0\n"
      ]
     },
     "metadata": {},
     "output_type": "display_data"
    },
    {
     "data": {
      "text/html": [
       "<pre style=\"white-space:pre;overflow-x:auto;line-height:normal;font-family:Menlo,'DejaVu Sans Mono',consolas,'Courier New',monospace\">EPOCH 2 - PROGRESS: at 90.46% examples, 77929 words/s, in_qsize 2, out_qsize 0\n",
       "</pre>\n"
      ],
      "text/plain": [
       "EPOCH 2 - PROGRESS: at 90.46% examples, 77929 words/s, in_qsize 2, out_qsize 0\n"
      ]
     },
     "metadata": {},
     "output_type": "display_data"
    },
    {
     "data": {
      "text/html": [
       "<pre style=\"white-space:pre;overflow-x:auto;line-height:normal;font-family:Menlo,'DejaVu Sans Mono',consolas,'Courier New',monospace\">EPOCH 2 - PROGRESS: at 91.22% examples, 78029 words/s, in_qsize 2, out_qsize 1\n",
       "</pre>\n"
      ],
      "text/plain": [
       "EPOCH 2 - PROGRESS: at 91.22% examples, 78029 words/s, in_qsize 2, out_qsize 1\n"
      ]
     },
     "metadata": {},
     "output_type": "display_data"
    },
    {
     "data": {
      "text/html": [
       "<pre style=\"white-space:pre;overflow-x:auto;line-height:normal;font-family:Menlo,'DejaVu Sans Mono',consolas,'Courier New',monospace\">EPOCH 2 - PROGRESS: at 91.94% examples, 78094 words/s, in_qsize 1, out_qsize 0\n",
       "</pre>\n"
      ],
      "text/plain": [
       "EPOCH 2 - PROGRESS: at 91.94% examples, 78094 words/s, in_qsize 1, out_qsize 0\n"
      ]
     },
     "metadata": {},
     "output_type": "display_data"
    },
    {
     "data": {
      "text/html": [
       "<pre style=\"white-space:pre;overflow-x:auto;line-height:normal;font-family:Menlo,'DejaVu Sans Mono',consolas,'Courier New',monospace\">EPOCH 2 - PROGRESS: at 92.68% examples, 78168 words/s, in_qsize 1, out_qsize 0\n",
       "</pre>\n"
      ],
      "text/plain": [
       "EPOCH 2 - PROGRESS: at 92.68% examples, 78168 words/s, in_qsize 1, out_qsize 0\n"
      ]
     },
     "metadata": {},
     "output_type": "display_data"
    },
    {
     "data": {
      "text/html": [
       "<pre style=\"white-space:pre;overflow-x:auto;line-height:normal;font-family:Menlo,'DejaVu Sans Mono',consolas,'Courier New',monospace\">EPOCH 2 - PROGRESS: at 93.41% examples, 78237 words/s, in_qsize 1, out_qsize 0\n",
       "</pre>\n"
      ],
      "text/plain": [
       "EPOCH 2 - PROGRESS: at 93.41% examples, 78237 words/s, in_qsize 1, out_qsize 0\n"
      ]
     },
     "metadata": {},
     "output_type": "display_data"
    },
    {
     "data": {
      "text/html": [
       "<pre style=\"white-space:pre;overflow-x:auto;line-height:normal;font-family:Menlo,'DejaVu Sans Mono',consolas,'Courier New',monospace\">EPOCH 2 - PROGRESS: at 94.18% examples, 78338 words/s, in_qsize 1, out_qsize 0\n",
       "</pre>\n"
      ],
      "text/plain": [
       "EPOCH 2 - PROGRESS: at 94.18% examples, 78338 words/s, in_qsize 1, out_qsize 0\n"
      ]
     },
     "metadata": {},
     "output_type": "display_data"
    },
    {
     "data": {
      "text/html": [
       "<pre style=\"white-space:pre;overflow-x:auto;line-height:normal;font-family:Menlo,'DejaVu Sans Mono',consolas,'Courier New',monospace\">EPOCH 2 - PROGRESS: at 94.93% examples, 78422 words/s, in_qsize 1, out_qsize 0\n",
       "</pre>\n"
      ],
      "text/plain": [
       "EPOCH 2 - PROGRESS: at 94.93% examples, 78422 words/s, in_qsize 1, out_qsize 0\n"
      ]
     },
     "metadata": {},
     "output_type": "display_data"
    },
    {
     "data": {
      "text/html": [
       "<pre style=\"white-space:pre;overflow-x:auto;line-height:normal;font-family:Menlo,'DejaVu Sans Mono',consolas,'Courier New',monospace\">EPOCH 2 - PROGRESS: at 95.67% examples, 78497 words/s, in_qsize 1, out_qsize 0\n",
       "</pre>\n"
      ],
      "text/plain": [
       "EPOCH 2 - PROGRESS: at 95.67% examples, 78497 words/s, in_qsize 1, out_qsize 0\n"
      ]
     },
     "metadata": {},
     "output_type": "display_data"
    },
    {
     "data": {
      "text/html": [
       "<pre style=\"white-space:pre;overflow-x:auto;line-height:normal;font-family:Menlo,'DejaVu Sans Mono',consolas,'Courier New',monospace\">EPOCH 2 - PROGRESS: at 96.43% examples, 78581 words/s, in_qsize 1, out_qsize 0\n",
       "</pre>\n"
      ],
      "text/plain": [
       "EPOCH 2 - PROGRESS: at 96.43% examples, 78581 words/s, in_qsize 1, out_qsize 0\n"
      ]
     },
     "metadata": {},
     "output_type": "display_data"
    },
    {
     "data": {
      "text/html": [
       "<pre style=\"white-space:pre;overflow-x:auto;line-height:normal;font-family:Menlo,'DejaVu Sans Mono',consolas,'Courier New',monospace\">EPOCH 2 - PROGRESS: at 97.17% examples, 78652 words/s, in_qsize 1, out_qsize 0\n",
       "</pre>\n"
      ],
      "text/plain": [
       "EPOCH 2 - PROGRESS: at 97.17% examples, 78652 words/s, in_qsize 1, out_qsize 0\n"
      ]
     },
     "metadata": {},
     "output_type": "display_data"
    },
    {
     "data": {
      "text/html": [
       "<pre style=\"white-space:pre;overflow-x:auto;line-height:normal;font-family:Menlo,'DejaVu Sans Mono',consolas,'Courier New',monospace\">EPOCH 2 - PROGRESS: at 97.93% examples, 78746 words/s, in_qsize 1, out_qsize 0\n",
       "</pre>\n"
      ],
      "text/plain": [
       "EPOCH 2 - PROGRESS: at 97.93% examples, 78746 words/s, in_qsize 1, out_qsize 0\n"
      ]
     },
     "metadata": {},
     "output_type": "display_data"
    },
    {
     "data": {
      "text/html": [
       "<pre style=\"white-space:pre;overflow-x:auto;line-height:normal;font-family:Menlo,'DejaVu Sans Mono',consolas,'Courier New',monospace\">EPOCH 2 - PROGRESS: at 98.69% examples, 78827 words/s, in_qsize 1, out_qsize 0\n",
       "</pre>\n"
      ],
      "text/plain": [
       "EPOCH 2 - PROGRESS: at 98.69% examples, 78827 words/s, in_qsize 1, out_qsize 0\n"
      ]
     },
     "metadata": {},
     "output_type": "display_data"
    },
    {
     "data": {
      "text/html": [
       "<pre style=\"white-space:pre;overflow-x:auto;line-height:normal;font-family:Menlo,'DejaVu Sans Mono',consolas,'Courier New',monospace\">EPOCH 2 - PROGRESS: at 99.44% examples, 78907 words/s, in_qsize 2, out_qsize 0\n",
       "</pre>\n"
      ],
      "text/plain": [
       "EPOCH 2 - PROGRESS: at 99.44% examples, 78907 words/s, in_qsize 2, out_qsize 0\n"
      ]
     },
     "metadata": {},
     "output_type": "display_data"
    },
    {
     "data": {
      "text/html": [
       "<pre style=\"white-space:pre;overflow-x:auto;line-height:normal;font-family:Menlo,'DejaVu Sans Mono',consolas,'Courier New',monospace\">EPOCH 2: training on 12236700 raw words (12061741 effective words) took 152.7s, 78973 effective words/s\n",
       "</pre>\n"
      ],
      "text/plain": [
       "EPOCH 2: training on 12236700 raw words (12061741 effective words) took 152.7s, 78973 effective words/s\n"
      ]
     },
     "metadata": {},
     "output_type": "display_data"
    },
    {
     "data": {
      "text/html": [
       "<pre style=\"white-space:pre;overflow-x:auto;line-height:normal;font-family:Menlo,'DejaVu Sans Mono',consolas,'Courier New',monospace\">EPOCH 3 - PROGRESS: at 0.73% examples, 88558 words/s, in_qsize 1, out_qsize 0\n",
       "</pre>\n"
      ],
      "text/plain": [
       "EPOCH 3 - PROGRESS: at 0.73% examples, 88558 words/s, in_qsize 1, out_qsize 0\n"
      ]
     },
     "metadata": {},
     "output_type": "display_data"
    },
    {
     "data": {
      "text/html": [
       "<pre style=\"white-space:pre;overflow-x:auto;line-height:normal;font-family:Menlo,'DejaVu Sans Mono',consolas,'Courier New',monospace\">EPOCH 3 - PROGRESS: at 1.37% examples, 82913 words/s, in_qsize 2, out_qsize 0\n",
       "</pre>\n"
      ],
      "text/plain": [
       "EPOCH 3 - PROGRESS: at 1.37% examples, 82913 words/s, in_qsize 2, out_qsize 0\n"
      ]
     },
     "metadata": {},
     "output_type": "display_data"
    },
    {
     "data": {
      "text/html": [
       "<pre style=\"white-space:pre;overflow-x:auto;line-height:normal;font-family:Menlo,'DejaVu Sans Mono',consolas,'Courier New',monospace\">EPOCH 3 - PROGRESS: at 1.93% examples, 77698 words/s, in_qsize 1, out_qsize 0\n",
       "</pre>\n"
      ],
      "text/plain": [
       "EPOCH 3 - PROGRESS: at 1.93% examples, 77698 words/s, in_qsize 1, out_qsize 0\n"
      ]
     },
     "metadata": {},
     "output_type": "display_data"
    },
    {
     "data": {
      "text/html": [
       "<pre style=\"white-space:pre;overflow-x:auto;line-height:normal;font-family:Menlo,'DejaVu Sans Mono',consolas,'Courier New',monospace\">EPOCH 3 - PROGRESS: at 2.52% examples, 75975 words/s, in_qsize 1, out_qsize 0\n",
       "</pre>\n"
      ],
      "text/plain": [
       "EPOCH 3 - PROGRESS: at 2.52% examples, 75975 words/s, in_qsize 1, out_qsize 0\n"
      ]
     },
     "metadata": {},
     "output_type": "display_data"
    },
    {
     "data": {
      "text/html": [
       "<pre style=\"white-space:pre;overflow-x:auto;line-height:normal;font-family:Menlo,'DejaVu Sans Mono',consolas,'Courier New',monospace\">EPOCH 3 - PROGRESS: at 3.14% examples, 75645 words/s, in_qsize 2, out_qsize 0\n",
       "</pre>\n"
      ],
      "text/plain": [
       "EPOCH 3 - PROGRESS: at 3.14% examples, 75645 words/s, in_qsize 2, out_qsize 0\n"
      ]
     },
     "metadata": {},
     "output_type": "display_data"
    },
    {
     "data": {
      "text/html": [
       "<pre style=\"white-space:pre;overflow-x:auto;line-height:normal;font-family:Menlo,'DejaVu Sans Mono',consolas,'Courier New',monospace\">EPOCH 3 - PROGRESS: at 3.76% examples, 75547 words/s, in_qsize 1, out_qsize 0\n",
       "</pre>\n"
      ],
      "text/plain": [
       "EPOCH 3 - PROGRESS: at 3.76% examples, 75547 words/s, in_qsize 1, out_qsize 0\n"
      ]
     },
     "metadata": {},
     "output_type": "display_data"
    },
    {
     "data": {
      "text/html": [
       "<pre style=\"white-space:pre;overflow-x:auto;line-height:normal;font-family:Menlo,'DejaVu Sans Mono',consolas,'Courier New',monospace\">EPOCH 3 - PROGRESS: at 4.40% examples, 75746 words/s, in_qsize 1, out_qsize 0\n",
       "</pre>\n"
      ],
      "text/plain": [
       "EPOCH 3 - PROGRESS: at 4.40% examples, 75746 words/s, in_qsize 1, out_qsize 0\n"
      ]
     },
     "metadata": {},
     "output_type": "display_data"
    },
    {
     "data": {
      "text/html": [
       "<pre style=\"white-space:pre;overflow-x:auto;line-height:normal;font-family:Menlo,'DejaVu Sans Mono',consolas,'Courier New',monospace\">EPOCH 3 - PROGRESS: at 5.15% examples, 77580 words/s, in_qsize 1, out_qsize 0\n",
       "</pre>\n"
      ],
      "text/plain": [
       "EPOCH 3 - PROGRESS: at 5.15% examples, 77580 words/s, in_qsize 1, out_qsize 0\n"
      ]
     },
     "metadata": {},
     "output_type": "display_data"
    },
    {
     "data": {
      "text/html": [
       "<pre style=\"white-space:pre;overflow-x:auto;line-height:normal;font-family:Menlo,'DejaVu Sans Mono',consolas,'Courier New',monospace\">EPOCH 3 - PROGRESS: at 5.91% examples, 79152 words/s, in_qsize 1, out_qsize 0\n",
       "</pre>\n"
      ],
      "text/plain": [
       "EPOCH 3 - PROGRESS: at 5.91% examples, 79152 words/s, in_qsize 1, out_qsize 0\n"
      ]
     },
     "metadata": {},
     "output_type": "display_data"
    },
    {
     "data": {
      "text/html": [
       "<pre style=\"white-space:pre;overflow-x:auto;line-height:normal;font-family:Menlo,'DejaVu Sans Mono',consolas,'Courier New',monospace\">EPOCH 3 - PROGRESS: at 6.67% examples, 80493 words/s, in_qsize 1, out_qsize 0\n",
       "</pre>\n"
      ],
      "text/plain": [
       "EPOCH 3 - PROGRESS: at 6.67% examples, 80493 words/s, in_qsize 1, out_qsize 0\n"
      ]
     },
     "metadata": {},
     "output_type": "display_data"
    },
    {
     "data": {
      "text/html": [
       "<pre style=\"white-space:pre;overflow-x:auto;line-height:normal;font-family:Menlo,'DejaVu Sans Mono',consolas,'Courier New',monospace\">EPOCH 3 - PROGRESS: at 7.43% examples, 81469 words/s, in_qsize 1, out_qsize 0\n",
       "</pre>\n"
      ],
      "text/plain": [
       "EPOCH 3 - PROGRESS: at 7.43% examples, 81469 words/s, in_qsize 1, out_qsize 0\n"
      ]
     },
     "metadata": {},
     "output_type": "display_data"
    },
    {
     "data": {
      "text/html": [
       "<pre style=\"white-space:pre;overflow-x:auto;line-height:normal;font-family:Menlo,'DejaVu Sans Mono',consolas,'Courier New',monospace\">EPOCH 3 - PROGRESS: at 8.20% examples, 82372 words/s, in_qsize 1, out_qsize 0\n",
       "</pre>\n"
      ],
      "text/plain": [
       "EPOCH 3 - PROGRESS: at 8.20% examples, 82372 words/s, in_qsize 1, out_qsize 0\n"
      ]
     },
     "metadata": {},
     "output_type": "display_data"
    },
    {
     "data": {
      "text/html": [
       "<pre style=\"white-space:pre;overflow-x:auto;line-height:normal;font-family:Menlo,'DejaVu Sans Mono',consolas,'Courier New',monospace\">EPOCH 3 - PROGRESS: at 8.95% examples, 83065 words/s, in_qsize 1, out_qsize 0\n",
       "</pre>\n"
      ],
      "text/plain": [
       "EPOCH 3 - PROGRESS: at 8.95% examples, 83065 words/s, in_qsize 1, out_qsize 0\n"
      ]
     },
     "metadata": {},
     "output_type": "display_data"
    },
    {
     "data": {
      "text/html": [
       "<pre style=\"white-space:pre;overflow-x:auto;line-height:normal;font-family:Menlo,'DejaVu Sans Mono',consolas,'Courier New',monospace\">EPOCH 3 - PROGRESS: at 9.73% examples, 83793 words/s, in_qsize 1, out_qsize 0\n",
       "</pre>\n"
      ],
      "text/plain": [
       "EPOCH 3 - PROGRESS: at 9.73% examples, 83793 words/s, in_qsize 1, out_qsize 0\n"
      ]
     },
     "metadata": {},
     "output_type": "display_data"
    },
    {
     "data": {
      "text/html": [
       "<pre style=\"white-space:pre;overflow-x:auto;line-height:normal;font-family:Menlo,'DejaVu Sans Mono',consolas,'Courier New',monospace\">EPOCH 3 - PROGRESS: at 10.53% examples, 84658 words/s, in_qsize 1, out_qsize 0\n",
       "</pre>\n"
      ],
      "text/plain": [
       "EPOCH 3 - PROGRESS: at 10.53% examples, 84658 words/s, in_qsize 1, out_qsize 0\n"
      ]
     },
     "metadata": {},
     "output_type": "display_data"
    },
    {
     "data": {
      "text/html": [
       "<pre style=\"white-space:pre;overflow-x:auto;line-height:normal;font-family:Menlo,'DejaVu Sans Mono',consolas,'Courier New',monospace\">EPOCH 3 - PROGRESS: at 11.35% examples, 85534 words/s, in_qsize 1, out_qsize 0\n",
       "</pre>\n"
      ],
      "text/plain": [
       "EPOCH 3 - PROGRESS: at 11.35% examples, 85534 words/s, in_qsize 1, out_qsize 0\n"
      ]
     },
     "metadata": {},
     "output_type": "display_data"
    },
    {
     "data": {
      "text/html": [
       "<pre style=\"white-space:pre;overflow-x:auto;line-height:normal;font-family:Menlo,'DejaVu Sans Mono',consolas,'Courier New',monospace\">EPOCH 3 - PROGRESS: at 12.15% examples, 86231 words/s, in_qsize 1, out_qsize 0\n",
       "</pre>\n"
      ],
      "text/plain": [
       "EPOCH 3 - PROGRESS: at 12.15% examples, 86231 words/s, in_qsize 1, out_qsize 0\n"
      ]
     },
     "metadata": {},
     "output_type": "display_data"
    },
    {
     "data": {
      "text/html": [
       "<pre style=\"white-space:pre;overflow-x:auto;line-height:normal;font-family:Menlo,'DejaVu Sans Mono',consolas,'Courier New',monospace\">EPOCH 3 - PROGRESS: at 12.97% examples, 86892 words/s, in_qsize 1, out_qsize 0\n",
       "</pre>\n"
      ],
      "text/plain": [
       "EPOCH 3 - PROGRESS: at 12.97% examples, 86892 words/s, in_qsize 1, out_qsize 0\n"
      ]
     },
     "metadata": {},
     "output_type": "display_data"
    },
    {
     "data": {
      "text/html": [
       "<pre style=\"white-space:pre;overflow-x:auto;line-height:normal;font-family:Menlo,'DejaVu Sans Mono',consolas,'Courier New',monospace\">EPOCH 3 - PROGRESS: at 13.79% examples, 87514 words/s, in_qsize 2, out_qsize 0\n",
       "</pre>\n"
      ],
      "text/plain": [
       "EPOCH 3 - PROGRESS: at 13.79% examples, 87514 words/s, in_qsize 2, out_qsize 0\n"
      ]
     },
     "metadata": {},
     "output_type": "display_data"
    },
    {
     "data": {
      "text/html": [
       "<pre style=\"white-space:pre;overflow-x:auto;line-height:normal;font-family:Menlo,'DejaVu Sans Mono',consolas,'Courier New',monospace\">EPOCH 3 - PROGRESS: at 14.64% examples, 88261 words/s, in_qsize 2, out_qsize 0\n",
       "</pre>\n"
      ],
      "text/plain": [
       "EPOCH 3 - PROGRESS: at 14.64% examples, 88261 words/s, in_qsize 2, out_qsize 0\n"
      ]
     },
     "metadata": {},
     "output_type": "display_data"
    },
    {
     "data": {
      "text/html": [
       "<pre style=\"white-space:pre;overflow-x:auto;line-height:normal;font-family:Menlo,'DejaVu Sans Mono',consolas,'Courier New',monospace\">EPOCH 3 - PROGRESS: at 15.47% examples, 88833 words/s, in_qsize 2, out_qsize 0\n",
       "</pre>\n"
      ],
      "text/plain": [
       "EPOCH 3 - PROGRESS: at 15.47% examples, 88833 words/s, in_qsize 2, out_qsize 0\n"
      ]
     },
     "metadata": {},
     "output_type": "display_data"
    },
    {
     "data": {
      "text/html": [
       "<pre style=\"white-space:pre;overflow-x:auto;line-height:normal;font-family:Menlo,'DejaVu Sans Mono',consolas,'Courier New',monospace\">EPOCH 3 - PROGRESS: at 16.24% examples, 89016 words/s, in_qsize 1, out_qsize 0\n",
       "</pre>\n"
      ],
      "text/plain": [
       "EPOCH 3 - PROGRESS: at 16.24% examples, 89016 words/s, in_qsize 1, out_qsize 0\n"
      ]
     },
     "metadata": {},
     "output_type": "display_data"
    },
    {
     "data": {
      "text/html": [
       "<pre style=\"white-space:pre;overflow-x:auto;line-height:normal;font-family:Menlo,'DejaVu Sans Mono',consolas,'Courier New',monospace\">EPOCH 3 - PROGRESS: at 17.01% examples, 89200 words/s, in_qsize 1, out_qsize 0\n",
       "</pre>\n"
      ],
      "text/plain": [
       "EPOCH 3 - PROGRESS: at 17.01% examples, 89200 words/s, in_qsize 1, out_qsize 0\n"
      ]
     },
     "metadata": {},
     "output_type": "display_data"
    },
    {
     "data": {
      "text/html": [
       "<pre style=\"white-space:pre;overflow-x:auto;line-height:normal;font-family:Menlo,'DejaVu Sans Mono',consolas,'Courier New',monospace\">EPOCH 3 - PROGRESS: at 17.76% examples, 89229 words/s, in_qsize 1, out_qsize 0\n",
       "</pre>\n"
      ],
      "text/plain": [
       "EPOCH 3 - PROGRESS: at 17.76% examples, 89229 words/s, in_qsize 1, out_qsize 0\n"
      ]
     },
     "metadata": {},
     "output_type": "display_data"
    },
    {
     "data": {
      "text/html": [
       "<pre style=\"white-space:pre;overflow-x:auto;line-height:normal;font-family:Menlo,'DejaVu Sans Mono',consolas,'Courier New',monospace\">EPOCH 3 - PROGRESS: at 18.44% examples, 88965 words/s, in_qsize 1, out_qsize 0\n",
       "</pre>\n"
      ],
      "text/plain": [
       "EPOCH 3 - PROGRESS: at 18.44% examples, 88965 words/s, in_qsize 1, out_qsize 0\n"
      ]
     },
     "metadata": {},
     "output_type": "display_data"
    },
    {
     "data": {
      "text/html": [
       "<pre style=\"white-space:pre;overflow-x:auto;line-height:normal;font-family:Menlo,'DejaVu Sans Mono',consolas,'Courier New',monospace\">EPOCH 3 - PROGRESS: at 19.09% examples, 88574 words/s, in_qsize 1, out_qsize 0\n",
       "</pre>\n"
      ],
      "text/plain": [
       "EPOCH 3 - PROGRESS: at 19.09% examples, 88574 words/s, in_qsize 1, out_qsize 0\n"
      ]
     },
     "metadata": {},
     "output_type": "display_data"
    },
    {
     "data": {
      "text/html": [
       "<pre style=\"white-space:pre;overflow-x:auto;line-height:normal;font-family:Menlo,'DejaVu Sans Mono',consolas,'Courier New',monospace\">EPOCH 3 - PROGRESS: at 19.77% examples, 88325 words/s, in_qsize 1, out_qsize 0\n",
       "</pre>\n"
      ],
      "text/plain": [
       "EPOCH 3 - PROGRESS: at 19.77% examples, 88325 words/s, in_qsize 1, out_qsize 0\n"
      ]
     },
     "metadata": {},
     "output_type": "display_data"
    },
    {
     "data": {
      "text/html": [
       "<pre style=\"white-space:pre;overflow-x:auto;line-height:normal;font-family:Menlo,'DejaVu Sans Mono',consolas,'Courier New',monospace\">EPOCH 3 - PROGRESS: at 20.45% examples, 88100 words/s, in_qsize 1, out_qsize 0\n",
       "</pre>\n"
      ],
      "text/plain": [
       "EPOCH 3 - PROGRESS: at 20.45% examples, 88100 words/s, in_qsize 1, out_qsize 0\n"
      ]
     },
     "metadata": {},
     "output_type": "display_data"
    },
    {
     "data": {
      "text/html": [
       "<pre style=\"white-space:pre;overflow-x:auto;line-height:normal;font-family:Menlo,'DejaVu Sans Mono',consolas,'Courier New',monospace\">EPOCH 3 - PROGRESS: at 21.15% examples, 87954 words/s, in_qsize 1, out_qsize 0\n",
       "</pre>\n"
      ],
      "text/plain": [
       "EPOCH 3 - PROGRESS: at 21.15% examples, 87954 words/s, in_qsize 1, out_qsize 0\n"
      ]
     },
     "metadata": {},
     "output_type": "display_data"
    },
    {
     "data": {
      "text/html": [
       "<pre style=\"white-space:pre;overflow-x:auto;line-height:normal;font-family:Menlo,'DejaVu Sans Mono',consolas,'Courier New',monospace\">EPOCH 3 - PROGRESS: at 21.73% examples, 87378 words/s, in_qsize 1, out_qsize 0\n",
       "</pre>\n"
      ],
      "text/plain": [
       "EPOCH 3 - PROGRESS: at 21.73% examples, 87378 words/s, in_qsize 1, out_qsize 0\n"
      ]
     },
     "metadata": {},
     "output_type": "display_data"
    },
    {
     "data": {
      "text/html": [
       "<pre style=\"white-space:pre;overflow-x:auto;line-height:normal;font-family:Menlo,'DejaVu Sans Mono',consolas,'Courier New',monospace\">EPOCH 3 - PROGRESS: at 22.24% examples, 86522 words/s, in_qsize 1, out_qsize 0\n",
       "</pre>\n"
      ],
      "text/plain": [
       "EPOCH 3 - PROGRESS: at 22.24% examples, 86522 words/s, in_qsize 1, out_qsize 0\n"
      ]
     },
     "metadata": {},
     "output_type": "display_data"
    },
    {
     "data": {
      "text/html": [
       "<pre style=\"white-space:pre;overflow-x:auto;line-height:normal;font-family:Menlo,'DejaVu Sans Mono',consolas,'Courier New',monospace\">EPOCH 3 - PROGRESS: at 22.90% examples, 86303 words/s, in_qsize 1, out_qsize 1\n",
       "</pre>\n"
      ],
      "text/plain": [
       "EPOCH 3 - PROGRESS: at 22.90% examples, 86303 words/s, in_qsize 1, out_qsize 1\n"
      ]
     },
     "metadata": {},
     "output_type": "display_data"
    },
    {
     "data": {
      "text/html": [
       "<pre style=\"white-space:pre;overflow-x:auto;line-height:normal;font-family:Menlo,'DejaVu Sans Mono',consolas,'Courier New',monospace\">EPOCH 3 - PROGRESS: at 23.50% examples, 85871 words/s, in_qsize 2, out_qsize 0\n",
       "</pre>\n"
      ],
      "text/plain": [
       "EPOCH 3 - PROGRESS: at 23.50% examples, 85871 words/s, in_qsize 2, out_qsize 0\n"
      ]
     },
     "metadata": {},
     "output_type": "display_data"
    },
    {
     "data": {
      "text/html": [
       "<pre style=\"white-space:pre;overflow-x:auto;line-height:normal;font-family:Menlo,'DejaVu Sans Mono',consolas,'Courier New',monospace\">EPOCH 3 - PROGRESS: at 24.22% examples, 85913 words/s, in_qsize 1, out_qsize 0\n",
       "</pre>\n"
      ],
      "text/plain": [
       "EPOCH 3 - PROGRESS: at 24.22% examples, 85913 words/s, in_qsize 1, out_qsize 0\n"
      ]
     },
     "metadata": {},
     "output_type": "display_data"
    },
    {
     "data": {
      "text/html": [
       "<pre style=\"white-space:pre;overflow-x:auto;line-height:normal;font-family:Menlo,'DejaVu Sans Mono',consolas,'Courier New',monospace\">EPOCH 3 - PROGRESS: at 24.80% examples, 85448 words/s, in_qsize 1, out_qsize 0\n",
       "</pre>\n"
      ],
      "text/plain": [
       "EPOCH 3 - PROGRESS: at 24.80% examples, 85448 words/s, in_qsize 1, out_qsize 0\n"
      ]
     },
     "metadata": {},
     "output_type": "display_data"
    },
    {
     "data": {
      "text/html": [
       "<pre style=\"white-space:pre;overflow-x:auto;line-height:normal;font-family:Menlo,'DejaVu Sans Mono',consolas,'Courier New',monospace\">EPOCH 3 - PROGRESS: at 25.41% examples, 85118 words/s, in_qsize 1, out_qsize 0\n",
       "</pre>\n"
      ],
      "text/plain": [
       "EPOCH 3 - PROGRESS: at 25.41% examples, 85118 words/s, in_qsize 1, out_qsize 0\n"
      ]
     },
     "metadata": {},
     "output_type": "display_data"
    },
    {
     "data": {
      "text/html": [
       "<pre style=\"white-space:pre;overflow-x:auto;line-height:normal;font-family:Menlo,'DejaVu Sans Mono',consolas,'Courier New',monospace\">EPOCH 3 - PROGRESS: at 25.94% examples, 84556 words/s, in_qsize 1, out_qsize 0\n",
       "</pre>\n"
      ],
      "text/plain": [
       "EPOCH 3 - PROGRESS: at 25.94% examples, 84556 words/s, in_qsize 1, out_qsize 0\n"
      ]
     },
     "metadata": {},
     "output_type": "display_data"
    },
    {
     "data": {
      "text/html": [
       "<pre style=\"white-space:pre;overflow-x:auto;line-height:normal;font-family:Menlo,'DejaVu Sans Mono',consolas,'Courier New',monospace\">EPOCH 3 - PROGRESS: at 26.43% examples, 83892 words/s, in_qsize 2, out_qsize 0\n",
       "</pre>\n"
      ],
      "text/plain": [
       "EPOCH 3 - PROGRESS: at 26.43% examples, 83892 words/s, in_qsize 2, out_qsize 0\n"
      ]
     },
     "metadata": {},
     "output_type": "display_data"
    },
    {
     "data": {
      "text/html": [
       "<pre style=\"white-space:pre;overflow-x:auto;line-height:normal;font-family:Menlo,'DejaVu Sans Mono',consolas,'Courier New',monospace\">EPOCH 3 - PROGRESS: at 27.04% examples, 83633 words/s, in_qsize 2, out_qsize 0\n",
       "</pre>\n"
      ],
      "text/plain": [
       "EPOCH 3 - PROGRESS: at 27.04% examples, 83633 words/s, in_qsize 2, out_qsize 0\n"
      ]
     },
     "metadata": {},
     "output_type": "display_data"
    },
    {
     "data": {
      "text/html": [
       "<pre style=\"white-space:pre;overflow-x:auto;line-height:normal;font-family:Menlo,'DejaVu Sans Mono',consolas,'Courier New',monospace\">EPOCH 3 - PROGRESS: at 27.70% examples, 83514 words/s, in_qsize 1, out_qsize 0\n",
       "</pre>\n"
      ],
      "text/plain": [
       "EPOCH 3 - PROGRESS: at 27.70% examples, 83514 words/s, in_qsize 1, out_qsize 0\n"
      ]
     },
     "metadata": {},
     "output_type": "display_data"
    },
    {
     "data": {
      "text/html": [
       "<pre style=\"white-space:pre;overflow-x:auto;line-height:normal;font-family:Menlo,'DejaVu Sans Mono',consolas,'Courier New',monospace\">EPOCH 3 - PROGRESS: at 28.32% examples, 83297 words/s, in_qsize 2, out_qsize 0\n",
       "</pre>\n"
      ],
      "text/plain": [
       "EPOCH 3 - PROGRESS: at 28.32% examples, 83297 words/s, in_qsize 2, out_qsize 0\n"
      ]
     },
     "metadata": {},
     "output_type": "display_data"
    },
    {
     "data": {
      "text/html": [
       "<pre style=\"white-space:pre;overflow-x:auto;line-height:normal;font-family:Menlo,'DejaVu Sans Mono',consolas,'Courier New',monospace\">EPOCH 3 - PROGRESS: at 29.01% examples, 83303 words/s, in_qsize 1, out_qsize 0\n",
       "</pre>\n"
      ],
      "text/plain": [
       "EPOCH 3 - PROGRESS: at 29.01% examples, 83303 words/s, in_qsize 1, out_qsize 0\n"
      ]
     },
     "metadata": {},
     "output_type": "display_data"
    },
    {
     "data": {
      "text/html": [
       "<pre style=\"white-space:pre;overflow-x:auto;line-height:normal;font-family:Menlo,'DejaVu Sans Mono',consolas,'Courier New',monospace\">EPOCH 3 - PROGRESS: at 29.76% examples, 83481 words/s, in_qsize 2, out_qsize 0\n",
       "</pre>\n"
      ],
      "text/plain": [
       "EPOCH 3 - PROGRESS: at 29.76% examples, 83481 words/s, in_qsize 2, out_qsize 0\n"
      ]
     },
     "metadata": {},
     "output_type": "display_data"
    },
    {
     "data": {
      "text/html": [
       "<pre style=\"white-space:pre;overflow-x:auto;line-height:normal;font-family:Menlo,'DejaVu Sans Mono',consolas,'Courier New',monospace\">EPOCH 3 - PROGRESS: at 30.50% examples, 83617 words/s, in_qsize 1, out_qsize 0\n",
       "</pre>\n"
      ],
      "text/plain": [
       "EPOCH 3 - PROGRESS: at 30.50% examples, 83617 words/s, in_qsize 1, out_qsize 0\n"
      ]
     },
     "metadata": {},
     "output_type": "display_data"
    },
    {
     "data": {
      "text/html": [
       "<pre style=\"white-space:pre;overflow-x:auto;line-height:normal;font-family:Menlo,'DejaVu Sans Mono',consolas,'Courier New',monospace\">EPOCH 3 - PROGRESS: at 31.19% examples, 83582 words/s, in_qsize 2, out_qsize 0\n",
       "</pre>\n"
      ],
      "text/plain": [
       "EPOCH 3 - PROGRESS: at 31.19% examples, 83582 words/s, in_qsize 2, out_qsize 0\n"
      ]
     },
     "metadata": {},
     "output_type": "display_data"
    },
    {
     "data": {
      "text/html": [
       "<pre style=\"white-space:pre;overflow-x:auto;line-height:normal;font-family:Menlo,'DejaVu Sans Mono',consolas,'Courier New',monospace\">EPOCH 3 - PROGRESS: at 31.81% examples, 83414 words/s, in_qsize 2, out_qsize 0\n",
       "</pre>\n"
      ],
      "text/plain": [
       "EPOCH 3 - PROGRESS: at 31.81% examples, 83414 words/s, in_qsize 2, out_qsize 0\n"
      ]
     },
     "metadata": {},
     "output_type": "display_data"
    },
    {
     "data": {
      "text/html": [
       "<pre style=\"white-space:pre;overflow-x:auto;line-height:normal;font-family:Menlo,'DejaVu Sans Mono',consolas,'Courier New',monospace\">EPOCH 3 - PROGRESS: at 32.46% examples, 83305 words/s, in_qsize 1, out_qsize 0\n",
       "</pre>\n"
      ],
      "text/plain": [
       "EPOCH 3 - PROGRESS: at 32.46% examples, 83305 words/s, in_qsize 1, out_qsize 0\n"
      ]
     },
     "metadata": {},
     "output_type": "display_data"
    },
    {
     "data": {
      "text/html": [
       "<pre style=\"white-space:pre;overflow-x:auto;line-height:normal;font-family:Menlo,'DejaVu Sans Mono',consolas,'Courier New',monospace\">EPOCH 3 - PROGRESS: at 33.16% examples, 83330 words/s, in_qsize 2, out_qsize 0\n",
       "</pre>\n"
      ],
      "text/plain": [
       "EPOCH 3 - PROGRESS: at 33.16% examples, 83330 words/s, in_qsize 2, out_qsize 0\n"
      ]
     },
     "metadata": {},
     "output_type": "display_data"
    },
    {
     "data": {
      "text/html": [
       "<pre style=\"white-space:pre;overflow-x:auto;line-height:normal;font-family:Menlo,'DejaVu Sans Mono',consolas,'Courier New',monospace\">EPOCH 3 - PROGRESS: at 33.82% examples, 83253 words/s, in_qsize 1, out_qsize 0\n",
       "</pre>\n"
      ],
      "text/plain": [
       "EPOCH 3 - PROGRESS: at 33.82% examples, 83253 words/s, in_qsize 1, out_qsize 0\n"
      ]
     },
     "metadata": {},
     "output_type": "display_data"
    },
    {
     "data": {
      "text/html": [
       "<pre style=\"white-space:pre;overflow-x:auto;line-height:normal;font-family:Menlo,'DejaVu Sans Mono',consolas,'Courier New',monospace\">EPOCH 3 - PROGRESS: at 34.39% examples, 82948 words/s, in_qsize 1, out_qsize 0\n",
       "</pre>\n"
      ],
      "text/plain": [
       "EPOCH 3 - PROGRESS: at 34.39% examples, 82948 words/s, in_qsize 1, out_qsize 0\n"
      ]
     },
     "metadata": {},
     "output_type": "display_data"
    },
    {
     "data": {
      "text/html": [
       "<pre style=\"white-space:pre;overflow-x:auto;line-height:normal;font-family:Menlo,'DejaVu Sans Mono',consolas,'Courier New',monospace\">EPOCH 3 - PROGRESS: at 34.86% examples, 82446 words/s, in_qsize 2, out_qsize 0\n",
       "</pre>\n"
      ],
      "text/plain": [
       "EPOCH 3 - PROGRESS: at 34.86% examples, 82446 words/s, in_qsize 2, out_qsize 0\n"
      ]
     },
     "metadata": {},
     "output_type": "display_data"
    },
    {
     "data": {
      "text/html": [
       "<pre style=\"white-space:pre;overflow-x:auto;line-height:normal;font-family:Menlo,'DejaVu Sans Mono',consolas,'Courier New',monospace\">EPOCH 3 - PROGRESS: at 35.37% examples, 82032 words/s, in_qsize 1, out_qsize 0\n",
       "</pre>\n"
      ],
      "text/plain": [
       "EPOCH 3 - PROGRESS: at 35.37% examples, 82032 words/s, in_qsize 1, out_qsize 0\n"
      ]
     },
     "metadata": {},
     "output_type": "display_data"
    },
    {
     "data": {
      "text/html": [
       "<pre style=\"white-space:pre;overflow-x:auto;line-height:normal;font-family:Menlo,'DejaVu Sans Mono',consolas,'Courier New',monospace\">EPOCH 3 - PROGRESS: at 35.90% examples, 81682 words/s, in_qsize 1, out_qsize 0\n",
       "</pre>\n"
      ],
      "text/plain": [
       "EPOCH 3 - PROGRESS: at 35.90% examples, 81682 words/s, in_qsize 1, out_qsize 0\n"
      ]
     },
     "metadata": {},
     "output_type": "display_data"
    },
    {
     "data": {
      "text/html": [
       "<pre style=\"white-space:pre;overflow-x:auto;line-height:normal;font-family:Menlo,'DejaVu Sans Mono',consolas,'Courier New',monospace\">EPOCH 3 - PROGRESS: at 36.36% examples, 81211 words/s, in_qsize 1, out_qsize 0\n",
       "</pre>\n"
      ],
      "text/plain": [
       "EPOCH 3 - PROGRESS: at 36.36% examples, 81211 words/s, in_qsize 1, out_qsize 0\n"
      ]
     },
     "metadata": {},
     "output_type": "display_data"
    },
    {
     "data": {
      "text/html": [
       "<pre style=\"white-space:pre;overflow-x:auto;line-height:normal;font-family:Menlo,'DejaVu Sans Mono',consolas,'Courier New',monospace\">EPOCH 3 - PROGRESS: at 36.86% examples, 80823 words/s, in_qsize 1, out_qsize 0\n",
       "</pre>\n"
      ],
      "text/plain": [
       "EPOCH 3 - PROGRESS: at 36.86% examples, 80823 words/s, in_qsize 1, out_qsize 0\n"
      ]
     },
     "metadata": {},
     "output_type": "display_data"
    },
    {
     "data": {
      "text/html": [
       "<pre style=\"white-space:pre;overflow-x:auto;line-height:normal;font-family:Menlo,'DejaVu Sans Mono',consolas,'Courier New',monospace\">EPOCH 3 - PROGRESS: at 37.39% examples, 80531 words/s, in_qsize 1, out_qsize 0\n",
       "</pre>\n"
      ],
      "text/plain": [
       "EPOCH 3 - PROGRESS: at 37.39% examples, 80531 words/s, in_qsize 1, out_qsize 0\n"
      ]
     },
     "metadata": {},
     "output_type": "display_data"
    },
    {
     "data": {
      "text/html": [
       "<pre style=\"white-space:pre;overflow-x:auto;line-height:normal;font-family:Menlo,'DejaVu Sans Mono',consolas,'Courier New',monospace\">EPOCH 3 - PROGRESS: at 37.93% examples, 80253 words/s, in_qsize 0, out_qsize 0\n",
       "</pre>\n"
      ],
      "text/plain": [
       "EPOCH 3 - PROGRESS: at 37.93% examples, 80253 words/s, in_qsize 0, out_qsize 0\n"
      ]
     },
     "metadata": {},
     "output_type": "display_data"
    },
    {
     "data": {
      "text/html": [
       "<pre style=\"white-space:pre;overflow-x:auto;line-height:normal;font-family:Menlo,'DejaVu Sans Mono',consolas,'Courier New',monospace\">EPOCH 3 - PROGRESS: at 38.52% examples, 80101 words/s, in_qsize 1, out_qsize 0\n",
       "</pre>\n"
      ],
      "text/plain": [
       "EPOCH 3 - PROGRESS: at 38.52% examples, 80101 words/s, in_qsize 1, out_qsize 0\n"
      ]
     },
     "metadata": {},
     "output_type": "display_data"
    },
    {
     "data": {
      "text/html": [
       "<pre style=\"white-space:pre;overflow-x:auto;line-height:normal;font-family:Menlo,'DejaVu Sans Mono',consolas,'Courier New',monospace\">EPOCH 3 - PROGRESS: at 38.99% examples, 79701 words/s, in_qsize 1, out_qsize 0\n",
       "</pre>\n"
      ],
      "text/plain": [
       "EPOCH 3 - PROGRESS: at 38.99% examples, 79701 words/s, in_qsize 1, out_qsize 0\n"
      ]
     },
     "metadata": {},
     "output_type": "display_data"
    },
    {
     "data": {
      "text/html": [
       "<pre style=\"white-space:pre;overflow-x:auto;line-height:normal;font-family:Menlo,'DejaVu Sans Mono',consolas,'Courier New',monospace\">EPOCH 3 - PROGRESS: at 39.49% examples, 79380 words/s, in_qsize 1, out_qsize 0\n",
       "</pre>\n"
      ],
      "text/plain": [
       "EPOCH 3 - PROGRESS: at 39.49% examples, 79380 words/s, in_qsize 1, out_qsize 0\n"
      ]
     },
     "metadata": {},
     "output_type": "display_data"
    },
    {
     "data": {
      "text/html": [
       "<pre style=\"white-space:pre;overflow-x:auto;line-height:normal;font-family:Menlo,'DejaVu Sans Mono',consolas,'Courier New',monospace\">EPOCH 3 - PROGRESS: at 40.05% examples, 79177 words/s, in_qsize 1, out_qsize 0\n",
       "</pre>\n"
      ],
      "text/plain": [
       "EPOCH 3 - PROGRESS: at 40.05% examples, 79177 words/s, in_qsize 1, out_qsize 0\n"
      ]
     },
     "metadata": {},
     "output_type": "display_data"
    },
    {
     "data": {
      "text/html": [
       "<pre style=\"white-space:pre;overflow-x:auto;line-height:normal;font-family:Menlo,'DejaVu Sans Mono',consolas,'Courier New',monospace\">EPOCH 3 - PROGRESS: at 40.51% examples, 78797 words/s, in_qsize 1, out_qsize 0\n",
       "</pre>\n"
      ],
      "text/plain": [
       "EPOCH 3 - PROGRESS: at 40.51% examples, 78797 words/s, in_qsize 1, out_qsize 0\n"
      ]
     },
     "metadata": {},
     "output_type": "display_data"
    },
    {
     "data": {
      "text/html": [
       "<pre style=\"white-space:pre;overflow-x:auto;line-height:normal;font-family:Menlo,'DejaVu Sans Mono',consolas,'Courier New',monospace\">EPOCH 3 - PROGRESS: at 41.01% examples, 78506 words/s, in_qsize 2, out_qsize 0\n",
       "</pre>\n"
      ],
      "text/plain": [
       "EPOCH 3 - PROGRESS: at 41.01% examples, 78506 words/s, in_qsize 2, out_qsize 0\n"
      ]
     },
     "metadata": {},
     "output_type": "display_data"
    },
    {
     "data": {
      "text/html": [
       "<pre style=\"white-space:pre;overflow-x:auto;line-height:normal;font-family:Menlo,'DejaVu Sans Mono',consolas,'Courier New',monospace\">EPOCH 3 - PROGRESS: at 41.48% examples, 78158 words/s, in_qsize 1, out_qsize 0\n",
       "</pre>\n"
      ],
      "text/plain": [
       "EPOCH 3 - PROGRESS: at 41.48% examples, 78158 words/s, in_qsize 1, out_qsize 0\n"
      ]
     },
     "metadata": {},
     "output_type": "display_data"
    },
    {
     "data": {
      "text/html": [
       "<pre style=\"white-space:pre;overflow-x:auto;line-height:normal;font-family:Menlo,'DejaVu Sans Mono',consolas,'Courier New',monospace\">EPOCH 3 - PROGRESS: at 42.09% examples, 78096 words/s, in_qsize 1, out_qsize 0\n",
       "</pre>\n"
      ],
      "text/plain": [
       "EPOCH 3 - PROGRESS: at 42.09% examples, 78096 words/s, in_qsize 1, out_qsize 0\n"
      ]
     },
     "metadata": {},
     "output_type": "display_data"
    },
    {
     "data": {
      "text/html": [
       "<pre style=\"white-space:pre;overflow-x:auto;line-height:normal;font-family:Menlo,'DejaVu Sans Mono',consolas,'Courier New',monospace\">EPOCH 3 - PROGRESS: at 42.62% examples, 77879 words/s, in_qsize 2, out_qsize 0\n",
       "</pre>\n"
      ],
      "text/plain": [
       "EPOCH 3 - PROGRESS: at 42.62% examples, 77879 words/s, in_qsize 2, out_qsize 0\n"
      ]
     },
     "metadata": {},
     "output_type": "display_data"
    },
    {
     "data": {
      "text/html": [
       "<pre style=\"white-space:pre;overflow-x:auto;line-height:normal;font-family:Menlo,'DejaVu Sans Mono',consolas,'Courier New',monospace\">EPOCH 3 - PROGRESS: at 43.10% examples, 77574 words/s, in_qsize 1, out_qsize 0\n",
       "</pre>\n"
      ],
      "text/plain": [
       "EPOCH 3 - PROGRESS: at 43.10% examples, 77574 words/s, in_qsize 1, out_qsize 0\n"
      ]
     },
     "metadata": {},
     "output_type": "display_data"
    },
    {
     "data": {
      "text/html": [
       "<pre style=\"white-space:pre;overflow-x:auto;line-height:normal;font-family:Menlo,'DejaVu Sans Mono',consolas,'Courier New',monospace\">EPOCH 3 - PROGRESS: at 43.62% examples, 77362 words/s, in_qsize 1, out_qsize 0\n",
       "</pre>\n"
      ],
      "text/plain": [
       "EPOCH 3 - PROGRESS: at 43.62% examples, 77362 words/s, in_qsize 1, out_qsize 0\n"
      ]
     },
     "metadata": {},
     "output_type": "display_data"
    },
    {
     "data": {
      "text/html": [
       "<pre style=\"white-space:pre;overflow-x:auto;line-height:normal;font-family:Menlo,'DejaVu Sans Mono',consolas,'Courier New',monospace\">EPOCH 3 - PROGRESS: at 44.12% examples, 77112 words/s, in_qsize 1, out_qsize 0\n",
       "</pre>\n"
      ],
      "text/plain": [
       "EPOCH 3 - PROGRESS: at 44.12% examples, 77112 words/s, in_qsize 1, out_qsize 0\n"
      ]
     },
     "metadata": {},
     "output_type": "display_data"
    },
    {
     "data": {
      "text/html": [
       "<pre style=\"white-space:pre;overflow-x:auto;line-height:normal;font-family:Menlo,'DejaVu Sans Mono',consolas,'Courier New',monospace\">EPOCH 3 - PROGRESS: at 44.70% examples, 77018 words/s, in_qsize 1, out_qsize 0\n",
       "</pre>\n"
      ],
      "text/plain": [
       "EPOCH 3 - PROGRESS: at 44.70% examples, 77018 words/s, in_qsize 1, out_qsize 0\n"
      ]
     },
     "metadata": {},
     "output_type": "display_data"
    },
    {
     "data": {
      "text/html": [
       "<pre style=\"white-space:pre;overflow-x:auto;line-height:normal;font-family:Menlo,'DejaVu Sans Mono',consolas,'Courier New',monospace\">EPOCH 3 - PROGRESS: at 45.32% examples, 76982 words/s, in_qsize 2, out_qsize 0\n",
       "</pre>\n"
      ],
      "text/plain": [
       "EPOCH 3 - PROGRESS: at 45.32% examples, 76982 words/s, in_qsize 2, out_qsize 0\n"
      ]
     },
     "metadata": {},
     "output_type": "display_data"
    },
    {
     "data": {
      "text/html": [
       "<pre style=\"white-space:pre;overflow-x:auto;line-height:normal;font-family:Menlo,'DejaVu Sans Mono',consolas,'Courier New',monospace\">EPOCH 3 - PROGRESS: at 45.88% examples, 76855 words/s, in_qsize 1, out_qsize 0\n",
       "</pre>\n"
      ],
      "text/plain": [
       "EPOCH 3 - PROGRESS: at 45.88% examples, 76855 words/s, in_qsize 1, out_qsize 0\n"
      ]
     },
     "metadata": {},
     "output_type": "display_data"
    },
    {
     "data": {
      "text/html": [
       "<pre style=\"white-space:pre;overflow-x:auto;line-height:normal;font-family:Menlo,'DejaVu Sans Mono',consolas,'Courier New',monospace\">EPOCH 3 - PROGRESS: at 46.36% examples, 76593 words/s, in_qsize 1, out_qsize 0\n",
       "</pre>\n"
      ],
      "text/plain": [
       "EPOCH 3 - PROGRESS: at 46.36% examples, 76593 words/s, in_qsize 1, out_qsize 0\n"
      ]
     },
     "metadata": {},
     "output_type": "display_data"
    },
    {
     "data": {
      "text/html": [
       "<pre style=\"white-space:pre;overflow-x:auto;line-height:normal;font-family:Menlo,'DejaVu Sans Mono',consolas,'Courier New',monospace\">EPOCH 3 - PROGRESS: at 46.85% examples, 76354 words/s, in_qsize 1, out_qsize 0\n",
       "</pre>\n"
      ],
      "text/plain": [
       "EPOCH 3 - PROGRESS: at 46.85% examples, 76354 words/s, in_qsize 1, out_qsize 0\n"
      ]
     },
     "metadata": {},
     "output_type": "display_data"
    },
    {
     "data": {
      "text/html": [
       "<pre style=\"white-space:pre;overflow-x:auto;line-height:normal;font-family:Menlo,'DejaVu Sans Mono',consolas,'Courier New',monospace\">EPOCH 3 - PROGRESS: at 47.31% examples, 76072 words/s, in_qsize 1, out_qsize 0\n",
       "</pre>\n"
      ],
      "text/plain": [
       "EPOCH 3 - PROGRESS: at 47.31% examples, 76072 words/s, in_qsize 1, out_qsize 0\n"
      ]
     },
     "metadata": {},
     "output_type": "display_data"
    },
    {
     "data": {
      "text/html": [
       "<pre style=\"white-space:pre;overflow-x:auto;line-height:normal;font-family:Menlo,'DejaVu Sans Mono',consolas,'Courier New',monospace\">EPOCH 3 - PROGRESS: at 47.85% examples, 75939 words/s, in_qsize 2, out_qsize 0\n",
       "</pre>\n"
      ],
      "text/plain": [
       "EPOCH 3 - PROGRESS: at 47.85% examples, 75939 words/s, in_qsize 2, out_qsize 0\n"
      ]
     },
     "metadata": {},
     "output_type": "display_data"
    },
    {
     "data": {
      "text/html": [
       "<pre style=\"white-space:pre;overflow-x:auto;line-height:normal;font-family:Menlo,'DejaVu Sans Mono',consolas,'Courier New',monospace\">EPOCH 3 - PROGRESS: at 48.23% examples, 75546 words/s, in_qsize 1, out_qsize 0\n",
       "</pre>\n"
      ],
      "text/plain": [
       "EPOCH 3 - PROGRESS: at 48.23% examples, 75546 words/s, in_qsize 1, out_qsize 0\n"
      ]
     },
     "metadata": {},
     "output_type": "display_data"
    },
    {
     "data": {
      "text/html": [
       "<pre style=\"white-space:pre;overflow-x:auto;line-height:normal;font-family:Menlo,'DejaVu Sans Mono',consolas,'Courier New',monospace\">EPOCH 3 - PROGRESS: at 48.82% examples, 75483 words/s, in_qsize 1, out_qsize 0\n",
       "</pre>\n"
      ],
      "text/plain": [
       "EPOCH 3 - PROGRESS: at 48.82% examples, 75483 words/s, in_qsize 1, out_qsize 0\n"
      ]
     },
     "metadata": {},
     "output_type": "display_data"
    },
    {
     "data": {
      "text/html": [
       "<pre style=\"white-space:pre;overflow-x:auto;line-height:normal;font-family:Menlo,'DejaVu Sans Mono',consolas,'Courier New',monospace\">EPOCH 3 - PROGRESS: at 49.45% examples, 75492 words/s, in_qsize 1, out_qsize 0\n",
       "</pre>\n"
      ],
      "text/plain": [
       "EPOCH 3 - PROGRESS: at 49.45% examples, 75492 words/s, in_qsize 1, out_qsize 0\n"
      ]
     },
     "metadata": {},
     "output_type": "display_data"
    },
    {
     "data": {
      "text/html": [
       "<pre style=\"white-space:pre;overflow-x:auto;line-height:normal;font-family:Menlo,'DejaVu Sans Mono',consolas,'Courier New',monospace\">EPOCH 3 - PROGRESS: at 50.04% examples, 75434 words/s, in_qsize 1, out_qsize 0\n",
       "</pre>\n"
      ],
      "text/plain": [
       "EPOCH 3 - PROGRESS: at 50.04% examples, 75434 words/s, in_qsize 1, out_qsize 0\n"
      ]
     },
     "metadata": {},
     "output_type": "display_data"
    },
    {
     "data": {
      "text/html": [
       "<pre style=\"white-space:pre;overflow-x:auto;line-height:normal;font-family:Menlo,'DejaVu Sans Mono',consolas,'Courier New',monospace\">EPOCH 3 - PROGRESS: at 50.50% examples, 75195 words/s, in_qsize 1, out_qsize 0\n",
       "</pre>\n"
      ],
      "text/plain": [
       "EPOCH 3 - PROGRESS: at 50.50% examples, 75195 words/s, in_qsize 1, out_qsize 0\n"
      ]
     },
     "metadata": {},
     "output_type": "display_data"
    },
    {
     "data": {
      "text/html": [
       "<pre style=\"white-space:pre;overflow-x:auto;line-height:normal;font-family:Menlo,'DejaVu Sans Mono',consolas,'Courier New',monospace\">EPOCH 3 - PROGRESS: at 51.11% examples, 75166 words/s, in_qsize 2, out_qsize 0\n",
       "</pre>\n"
      ],
      "text/plain": [
       "EPOCH 3 - PROGRESS: at 51.11% examples, 75166 words/s, in_qsize 2, out_qsize 0\n"
      ]
     },
     "metadata": {},
     "output_type": "display_data"
    },
    {
     "data": {
      "text/html": [
       "<pre style=\"white-space:pre;overflow-x:auto;line-height:normal;font-family:Menlo,'DejaVu Sans Mono',consolas,'Courier New',monospace\">EPOCH 3 - PROGRESS: at 51.74% examples, 75178 words/s, in_qsize 1, out_qsize 0\n",
       "</pre>\n"
      ],
      "text/plain": [
       "EPOCH 3 - PROGRESS: at 51.74% examples, 75178 words/s, in_qsize 1, out_qsize 0\n"
      ]
     },
     "metadata": {},
     "output_type": "display_data"
    },
    {
     "data": {
      "text/html": [
       "<pre style=\"white-space:pre;overflow-x:auto;line-height:normal;font-family:Menlo,'DejaVu Sans Mono',consolas,'Courier New',monospace\">EPOCH 3 - PROGRESS: at 52.37% examples, 75187 words/s, in_qsize 1, out_qsize 0\n",
       "</pre>\n"
      ],
      "text/plain": [
       "EPOCH 3 - PROGRESS: at 52.37% examples, 75187 words/s, in_qsize 1, out_qsize 0\n"
      ]
     },
     "metadata": {},
     "output_type": "display_data"
    },
    {
     "data": {
      "text/html": [
       "<pre style=\"white-space:pre;overflow-x:auto;line-height:normal;font-family:Menlo,'DejaVu Sans Mono',consolas,'Courier New',monospace\">EPOCH 3 - PROGRESS: at 52.94% examples, 75119 words/s, in_qsize 1, out_qsize 0\n",
       "</pre>\n"
      ],
      "text/plain": [
       "EPOCH 3 - PROGRESS: at 52.94% examples, 75119 words/s, in_qsize 1, out_qsize 0\n"
      ]
     },
     "metadata": {},
     "output_type": "display_data"
    },
    {
     "data": {
      "text/html": [
       "<pre style=\"white-space:pre;overflow-x:auto;line-height:normal;font-family:Menlo,'DejaVu Sans Mono',consolas,'Courier New',monospace\">EPOCH 3 - PROGRESS: at 53.36% examples, 74832 words/s, in_qsize 1, out_qsize 0\n",
       "</pre>\n"
      ],
      "text/plain": [
       "EPOCH 3 - PROGRESS: at 53.36% examples, 74832 words/s, in_qsize 1, out_qsize 0\n"
      ]
     },
     "metadata": {},
     "output_type": "display_data"
    },
    {
     "data": {
      "text/html": [
       "<pre style=\"white-space:pre;overflow-x:auto;line-height:normal;font-family:Menlo,'DejaVu Sans Mono',consolas,'Courier New',monospace\">EPOCH 3 - PROGRESS: at 53.86% examples, 74668 words/s, in_qsize 1, out_qsize 0\n",
       "</pre>\n"
      ],
      "text/plain": [
       "EPOCH 3 - PROGRESS: at 53.86% examples, 74668 words/s, in_qsize 1, out_qsize 0\n"
      ]
     },
     "metadata": {},
     "output_type": "display_data"
    },
    {
     "data": {
      "text/html": [
       "<pre style=\"white-space:pre;overflow-x:auto;line-height:normal;font-family:Menlo,'DejaVu Sans Mono',consolas,'Courier New',monospace\">EPOCH 3 - PROGRESS: at 54.42% examples, 74582 words/s, in_qsize 1, out_qsize 0\n",
       "</pre>\n"
      ],
      "text/plain": [
       "EPOCH 3 - PROGRESS: at 54.42% examples, 74582 words/s, in_qsize 1, out_qsize 0\n"
      ]
     },
     "metadata": {},
     "output_type": "display_data"
    },
    {
     "data": {
      "text/html": [
       "<pre style=\"white-space:pre;overflow-x:auto;line-height:normal;font-family:Menlo,'DejaVu Sans Mono',consolas,'Courier New',monospace\">EPOCH 3 - PROGRESS: at 54.86% examples, 74348 words/s, in_qsize 1, out_qsize 0\n",
       "</pre>\n"
      ],
      "text/plain": [
       "EPOCH 3 - PROGRESS: at 54.86% examples, 74348 words/s, in_qsize 1, out_qsize 0\n"
      ]
     },
     "metadata": {},
     "output_type": "display_data"
    },
    {
     "data": {
      "text/html": [
       "<pre style=\"white-space:pre;overflow-x:auto;line-height:normal;font-family:Menlo,'DejaVu Sans Mono',consolas,'Courier New',monospace\">EPOCH 3 - PROGRESS: at 55.30% examples, 74105 words/s, in_qsize 2, out_qsize 0\n",
       "</pre>\n"
      ],
      "text/plain": [
       "EPOCH 3 - PROGRESS: at 55.30% examples, 74105 words/s, in_qsize 2, out_qsize 0\n"
      ]
     },
     "metadata": {},
     "output_type": "display_data"
    },
    {
     "data": {
      "text/html": [
       "<pre style=\"white-space:pre;overflow-x:auto;line-height:normal;font-family:Menlo,'DejaVu Sans Mono',consolas,'Courier New',monospace\">EPOCH 3 - PROGRESS: at 55.90% examples, 74089 words/s, in_qsize 2, out_qsize 0\n",
       "</pre>\n"
      ],
      "text/plain": [
       "EPOCH 3 - PROGRESS: at 55.90% examples, 74089 words/s, in_qsize 2, out_qsize 0\n"
      ]
     },
     "metadata": {},
     "output_type": "display_data"
    },
    {
     "data": {
      "text/html": [
       "<pre style=\"white-space:pre;overflow-x:auto;line-height:normal;font-family:Menlo,'DejaVu Sans Mono',consolas,'Courier New',monospace\">EPOCH 3 - PROGRESS: at 56.44% examples, 73982 words/s, in_qsize 1, out_qsize 0\n",
       "</pre>\n"
      ],
      "text/plain": [
       "EPOCH 3 - PROGRESS: at 56.44% examples, 73982 words/s, in_qsize 1, out_qsize 0\n"
      ]
     },
     "metadata": {},
     "output_type": "display_data"
    },
    {
     "data": {
      "text/html": [
       "<pre style=\"white-space:pre;overflow-x:auto;line-height:normal;font-family:Menlo,'DejaVu Sans Mono',consolas,'Courier New',monospace\">EPOCH 3 - PROGRESS: at 56.97% examples, 73875 words/s, in_qsize 1, out_qsize 0\n",
       "</pre>\n"
      ],
      "text/plain": [
       "EPOCH 3 - PROGRESS: at 56.97% examples, 73875 words/s, in_qsize 1, out_qsize 0\n"
      ]
     },
     "metadata": {},
     "output_type": "display_data"
    },
    {
     "data": {
      "text/html": [
       "<pre style=\"white-space:pre;overflow-x:auto;line-height:normal;font-family:Menlo,'DejaVu Sans Mono',consolas,'Courier New',monospace\">EPOCH 3 - PROGRESS: at 57.56% examples, 73850 words/s, in_qsize 1, out_qsize 0\n",
       "</pre>\n"
      ],
      "text/plain": [
       "EPOCH 3 - PROGRESS: at 57.56% examples, 73850 words/s, in_qsize 1, out_qsize 0\n"
      ]
     },
     "metadata": {},
     "output_type": "display_data"
    },
    {
     "data": {
      "text/html": [
       "<pre style=\"white-space:pre;overflow-x:auto;line-height:normal;font-family:Menlo,'DejaVu Sans Mono',consolas,'Courier New',monospace\">EPOCH 3 - PROGRESS: at 58.07% examples, 73727 words/s, in_qsize 1, out_qsize 0\n",
       "</pre>\n"
      ],
      "text/plain": [
       "EPOCH 3 - PROGRESS: at 58.07% examples, 73727 words/s, in_qsize 1, out_qsize 0\n"
      ]
     },
     "metadata": {},
     "output_type": "display_data"
    },
    {
     "data": {
      "text/html": [
       "<pre style=\"white-space:pre;overflow-x:auto;line-height:normal;font-family:Menlo,'DejaVu Sans Mono',consolas,'Courier New',monospace\">EPOCH 3 - PROGRESS: at 58.56% examples, 73565 words/s, in_qsize 1, out_qsize 0\n",
       "</pre>\n"
      ],
      "text/plain": [
       "EPOCH 3 - PROGRESS: at 58.56% examples, 73565 words/s, in_qsize 1, out_qsize 0\n"
      ]
     },
     "metadata": {},
     "output_type": "display_data"
    },
    {
     "data": {
      "text/html": [
       "<pre style=\"white-space:pre;overflow-x:auto;line-height:normal;font-family:Menlo,'DejaVu Sans Mono',consolas,'Courier New',monospace\">EPOCH 3 - PROGRESS: at 59.17% examples, 73563 words/s, in_qsize 1, out_qsize 0\n",
       "</pre>\n"
      ],
      "text/plain": [
       "EPOCH 3 - PROGRESS: at 59.17% examples, 73563 words/s, in_qsize 1, out_qsize 0\n"
      ]
     },
     "metadata": {},
     "output_type": "display_data"
    },
    {
     "data": {
      "text/html": [
       "<pre style=\"white-space:pre;overflow-x:auto;line-height:normal;font-family:Menlo,'DejaVu Sans Mono',consolas,'Courier New',monospace\">EPOCH 3 - PROGRESS: at 59.77% examples, 73559 words/s, in_qsize 1, out_qsize 0\n",
       "</pre>\n"
      ],
      "text/plain": [
       "EPOCH 3 - PROGRESS: at 59.77% examples, 73559 words/s, in_qsize 1, out_qsize 0\n"
      ]
     },
     "metadata": {},
     "output_type": "display_data"
    },
    {
     "data": {
      "text/html": [
       "<pre style=\"white-space:pre;overflow-x:auto;line-height:normal;font-family:Menlo,'DejaVu Sans Mono',consolas,'Courier New',monospace\">EPOCH 3 - PROGRESS: at 60.32% examples, 73478 words/s, in_qsize 1, out_qsize 0\n",
       "</pre>\n"
      ],
      "text/plain": [
       "EPOCH 3 - PROGRESS: at 60.32% examples, 73478 words/s, in_qsize 1, out_qsize 0\n"
      ]
     },
     "metadata": {},
     "output_type": "display_data"
    },
    {
     "data": {
      "text/html": [
       "<pre style=\"white-space:pre;overflow-x:auto;line-height:normal;font-family:Menlo,'DejaVu Sans Mono',consolas,'Courier New',monospace\">EPOCH 3 - PROGRESS: at 60.89% examples, 73436 words/s, in_qsize 1, out_qsize 0\n",
       "</pre>\n"
      ],
      "text/plain": [
       "EPOCH 3 - PROGRESS: at 60.89% examples, 73436 words/s, in_qsize 1, out_qsize 0\n"
      ]
     },
     "metadata": {},
     "output_type": "display_data"
    },
    {
     "data": {
      "text/html": [
       "<pre style=\"white-space:pre;overflow-x:auto;line-height:normal;font-family:Menlo,'DejaVu Sans Mono',consolas,'Courier New',monospace\">EPOCH 3 - PROGRESS: at 61.49% examples, 73422 words/s, in_qsize 1, out_qsize 0\n",
       "</pre>\n"
      ],
      "text/plain": [
       "EPOCH 3 - PROGRESS: at 61.49% examples, 73422 words/s, in_qsize 1, out_qsize 0\n"
      ]
     },
     "metadata": {},
     "output_type": "display_data"
    },
    {
     "data": {
      "text/html": [
       "<pre style=\"white-space:pre;overflow-x:auto;line-height:normal;font-family:Menlo,'DejaVu Sans Mono',consolas,'Courier New',monospace\">EPOCH 3 - PROGRESS: at 62.14% examples, 73479 words/s, in_qsize 1, out_qsize 0\n",
       "</pre>\n"
      ],
      "text/plain": [
       "EPOCH 3 - PROGRESS: at 62.14% examples, 73479 words/s, in_qsize 1, out_qsize 0\n"
      ]
     },
     "metadata": {},
     "output_type": "display_data"
    },
    {
     "data": {
      "text/html": [
       "<pre style=\"white-space:pre;overflow-x:auto;line-height:normal;font-family:Menlo,'DejaVu Sans Mono',consolas,'Courier New',monospace\">EPOCH 3 - PROGRESS: at 62.78% examples, 73516 words/s, in_qsize 2, out_qsize 0\n",
       "</pre>\n"
      ],
      "text/plain": [
       "EPOCH 3 - PROGRESS: at 62.78% examples, 73516 words/s, in_qsize 2, out_qsize 0\n"
      ]
     },
     "metadata": {},
     "output_type": "display_data"
    },
    {
     "data": {
      "text/html": [
       "<pre style=\"white-space:pre;overflow-x:auto;line-height:normal;font-family:Menlo,'DejaVu Sans Mono',consolas,'Courier New',monospace\">EPOCH 3 - PROGRESS: at 63.41% examples, 73538 words/s, in_qsize 2, out_qsize 0\n",
       "</pre>\n"
      ],
      "text/plain": [
       "EPOCH 3 - PROGRESS: at 63.41% examples, 73538 words/s, in_qsize 2, out_qsize 0\n"
      ]
     },
     "metadata": {},
     "output_type": "display_data"
    },
    {
     "data": {
      "text/html": [
       "<pre style=\"white-space:pre;overflow-x:auto;line-height:normal;font-family:Menlo,'DejaVu Sans Mono',consolas,'Courier New',monospace\">EPOCH 3 - PROGRESS: at 64.08% examples, 73605 words/s, in_qsize 1, out_qsize 0\n",
       "</pre>\n"
      ],
      "text/plain": [
       "EPOCH 3 - PROGRESS: at 64.08% examples, 73605 words/s, in_qsize 1, out_qsize 0\n"
      ]
     },
     "metadata": {},
     "output_type": "display_data"
    },
    {
     "data": {
      "text/html": [
       "<pre style=\"white-space:pre;overflow-x:auto;line-height:normal;font-family:Menlo,'DejaVu Sans Mono',consolas,'Courier New',monospace\">EPOCH 3 - PROGRESS: at 64.81% examples, 73736 words/s, in_qsize 1, out_qsize 0\n",
       "</pre>\n"
      ],
      "text/plain": [
       "EPOCH 3 - PROGRESS: at 64.81% examples, 73736 words/s, in_qsize 1, out_qsize 0\n"
      ]
     },
     "metadata": {},
     "output_type": "display_data"
    },
    {
     "data": {
      "text/html": [
       "<pre style=\"white-space:pre;overflow-x:auto;line-height:normal;font-family:Menlo,'DejaVu Sans Mono',consolas,'Courier New',monospace\">EPOCH 3 - PROGRESS: at 65.54% examples, 73874 words/s, in_qsize 2, out_qsize 0\n",
       "</pre>\n"
      ],
      "text/plain": [
       "EPOCH 3 - PROGRESS: at 65.54% examples, 73874 words/s, in_qsize 2, out_qsize 0\n"
      ]
     },
     "metadata": {},
     "output_type": "display_data"
    },
    {
     "data": {
      "text/html": [
       "<pre style=\"white-space:pre;overflow-x:auto;line-height:normal;font-family:Menlo,'DejaVu Sans Mono',consolas,'Courier New',monospace\">EPOCH 3 - PROGRESS: at 66.25% examples, 73981 words/s, in_qsize 1, out_qsize 0\n",
       "</pre>\n"
      ],
      "text/plain": [
       "EPOCH 3 - PROGRESS: at 66.25% examples, 73981 words/s, in_qsize 1, out_qsize 0\n"
      ]
     },
     "metadata": {},
     "output_type": "display_data"
    },
    {
     "data": {
      "text/html": [
       "<pre style=\"white-space:pre;overflow-x:auto;line-height:normal;font-family:Menlo,'DejaVu Sans Mono',consolas,'Courier New',monospace\">EPOCH 3 - PROGRESS: at 66.94% examples, 74072 words/s, in_qsize 1, out_qsize 0\n",
       "</pre>\n"
      ],
      "text/plain": [
       "EPOCH 3 - PROGRESS: at 66.94% examples, 74072 words/s, in_qsize 1, out_qsize 0\n"
      ]
     },
     "metadata": {},
     "output_type": "display_data"
    },
    {
     "data": {
      "text/html": [
       "<pre style=\"white-space:pre;overflow-x:auto;line-height:normal;font-family:Menlo,'DejaVu Sans Mono',consolas,'Courier New',monospace\">EPOCH 3 - PROGRESS: at 67.69% examples, 74220 words/s, in_qsize 1, out_qsize 0\n",
       "</pre>\n"
      ],
      "text/plain": [
       "EPOCH 3 - PROGRESS: at 67.69% examples, 74220 words/s, in_qsize 1, out_qsize 0\n"
      ]
     },
     "metadata": {},
     "output_type": "display_data"
    },
    {
     "data": {
      "text/html": [
       "<pre style=\"white-space:pre;overflow-x:auto;line-height:normal;font-family:Menlo,'DejaVu Sans Mono',consolas,'Courier New',monospace\">EPOCH 3 - PROGRESS: at 68.42% examples, 74343 words/s, in_qsize 1, out_qsize 0\n",
       "</pre>\n"
      ],
      "text/plain": [
       "EPOCH 3 - PROGRESS: at 68.42% examples, 74343 words/s, in_qsize 1, out_qsize 0\n"
      ]
     },
     "metadata": {},
     "output_type": "display_data"
    },
    {
     "data": {
      "text/html": [
       "<pre style=\"white-space:pre;overflow-x:auto;line-height:normal;font-family:Menlo,'DejaVu Sans Mono',consolas,'Courier New',monospace\">EPOCH 3 - PROGRESS: at 69.16% examples, 74477 words/s, in_qsize 1, out_qsize 0\n",
       "</pre>\n"
      ],
      "text/plain": [
       "EPOCH 3 - PROGRESS: at 69.16% examples, 74477 words/s, in_qsize 1, out_qsize 0\n"
      ]
     },
     "metadata": {},
     "output_type": "display_data"
    },
    {
     "data": {
      "text/html": [
       "<pre style=\"white-space:pre;overflow-x:auto;line-height:normal;font-family:Menlo,'DejaVu Sans Mono',consolas,'Courier New',monospace\">EPOCH 3 - PROGRESS: at 69.88% examples, 74585 words/s, in_qsize 1, out_qsize 0\n",
       "</pre>\n"
      ],
      "text/plain": [
       "EPOCH 3 - PROGRESS: at 69.88% examples, 74585 words/s, in_qsize 1, out_qsize 0\n"
      ]
     },
     "metadata": {},
     "output_type": "display_data"
    },
    {
     "data": {
      "text/html": [
       "<pre style=\"white-space:pre;overflow-x:auto;line-height:normal;font-family:Menlo,'DejaVu Sans Mono',consolas,'Courier New',monospace\">EPOCH 3 - PROGRESS: at 70.63% examples, 74719 words/s, in_qsize 1, out_qsize 0\n",
       "</pre>\n"
      ],
      "text/plain": [
       "EPOCH 3 - PROGRESS: at 70.63% examples, 74719 words/s, in_qsize 1, out_qsize 0\n"
      ]
     },
     "metadata": {},
     "output_type": "display_data"
    },
    {
     "data": {
      "text/html": [
       "<pre style=\"white-space:pre;overflow-x:auto;line-height:normal;font-family:Menlo,'DejaVu Sans Mono',consolas,'Courier New',monospace\">EPOCH 3 - PROGRESS: at 71.37% examples, 74851 words/s, in_qsize 2, out_qsize 0\n",
       "</pre>\n"
      ],
      "text/plain": [
       "EPOCH 3 - PROGRESS: at 71.37% examples, 74851 words/s, in_qsize 2, out_qsize 0\n"
      ]
     },
     "metadata": {},
     "output_type": "display_data"
    },
    {
     "data": {
      "text/html": [
       "<pre style=\"white-space:pre;overflow-x:auto;line-height:normal;font-family:Menlo,'DejaVu Sans Mono',consolas,'Courier New',monospace\">EPOCH 3 - PROGRESS: at 72.05% examples, 74913 words/s, in_qsize 1, out_qsize 0\n",
       "</pre>\n"
      ],
      "text/plain": [
       "EPOCH 3 - PROGRESS: at 72.05% examples, 74913 words/s, in_qsize 1, out_qsize 0\n"
      ]
     },
     "metadata": {},
     "output_type": "display_data"
    },
    {
     "data": {
      "text/html": [
       "<pre style=\"white-space:pre;overflow-x:auto;line-height:normal;font-family:Menlo,'DejaVu Sans Mono',consolas,'Courier New',monospace\">EPOCH 3 - PROGRESS: at 72.76% examples, 75002 words/s, in_qsize 1, out_qsize 0\n",
       "</pre>\n"
      ],
      "text/plain": [
       "EPOCH 3 - PROGRESS: at 72.76% examples, 75002 words/s, in_qsize 1, out_qsize 0\n"
      ]
     },
     "metadata": {},
     "output_type": "display_data"
    },
    {
     "data": {
      "text/html": [
       "<pre style=\"white-space:pre;overflow-x:auto;line-height:normal;font-family:Menlo,'DejaVu Sans Mono',consolas,'Courier New',monospace\">EPOCH 3 - PROGRESS: at 73.50% examples, 75126 words/s, in_qsize 2, out_qsize 0\n",
       "</pre>\n"
      ],
      "text/plain": [
       "EPOCH 3 - PROGRESS: at 73.50% examples, 75126 words/s, in_qsize 2, out_qsize 0\n"
      ]
     },
     "metadata": {},
     "output_type": "display_data"
    },
    {
     "data": {
      "text/html": [
       "<pre style=\"white-space:pre;overflow-x:auto;line-height:normal;font-family:Menlo,'DejaVu Sans Mono',consolas,'Courier New',monospace\">EPOCH 3 - PROGRESS: at 74.25% examples, 75256 words/s, in_qsize 1, out_qsize 0\n",
       "</pre>\n"
      ],
      "text/plain": [
       "EPOCH 3 - PROGRESS: at 74.25% examples, 75256 words/s, in_qsize 1, out_qsize 0\n"
      ]
     },
     "metadata": {},
     "output_type": "display_data"
    },
    {
     "data": {
      "text/html": [
       "<pre style=\"white-space:pre;overflow-x:auto;line-height:normal;font-family:Menlo,'DejaVu Sans Mono',consolas,'Courier New',monospace\">EPOCH 3 - PROGRESS: at 74.96% examples, 75344 words/s, in_qsize 1, out_qsize 0\n",
       "</pre>\n"
      ],
      "text/plain": [
       "EPOCH 3 - PROGRESS: at 74.96% examples, 75344 words/s, in_qsize 1, out_qsize 0\n"
      ]
     },
     "metadata": {},
     "output_type": "display_data"
    },
    {
     "data": {
      "text/html": [
       "<pre style=\"white-space:pre;overflow-x:auto;line-height:normal;font-family:Menlo,'DejaVu Sans Mono',consolas,'Courier New',monospace\">EPOCH 3 - PROGRESS: at 75.63% examples, 75388 words/s, in_qsize 1, out_qsize 0\n",
       "</pre>\n"
      ],
      "text/plain": [
       "EPOCH 3 - PROGRESS: at 75.63% examples, 75388 words/s, in_qsize 1, out_qsize 0\n"
      ]
     },
     "metadata": {},
     "output_type": "display_data"
    },
    {
     "data": {
      "text/html": [
       "<pre style=\"white-space:pre;overflow-x:auto;line-height:normal;font-family:Menlo,'DejaVu Sans Mono',consolas,'Courier New',monospace\">EPOCH 3 - PROGRESS: at 76.35% examples, 75482 words/s, in_qsize 1, out_qsize 0\n",
       "</pre>\n"
      ],
      "text/plain": [
       "EPOCH 3 - PROGRESS: at 76.35% examples, 75482 words/s, in_qsize 1, out_qsize 0\n"
      ]
     },
     "metadata": {},
     "output_type": "display_data"
    },
    {
     "data": {
      "text/html": [
       "<pre style=\"white-space:pre;overflow-x:auto;line-height:normal;font-family:Menlo,'DejaVu Sans Mono',consolas,'Courier New',monospace\">EPOCH 3 - PROGRESS: at 77.08% examples, 75583 words/s, in_qsize 1, out_qsize 0\n",
       "</pre>\n"
      ],
      "text/plain": [
       "EPOCH 3 - PROGRESS: at 77.08% examples, 75583 words/s, in_qsize 1, out_qsize 0\n"
      ]
     },
     "metadata": {},
     "output_type": "display_data"
    },
    {
     "data": {
      "text/html": [
       "<pre style=\"white-space:pre;overflow-x:auto;line-height:normal;font-family:Menlo,'DejaVu Sans Mono',consolas,'Courier New',monospace\">EPOCH 3 - PROGRESS: at 77.79% examples, 75660 words/s, in_qsize 2, out_qsize 0\n",
       "</pre>\n"
      ],
      "text/plain": [
       "EPOCH 3 - PROGRESS: at 77.79% examples, 75660 words/s, in_qsize 2, out_qsize 0\n"
      ]
     },
     "metadata": {},
     "output_type": "display_data"
    },
    {
     "data": {
      "text/html": [
       "<pre style=\"white-space:pre;overflow-x:auto;line-height:normal;font-family:Menlo,'DejaVu Sans Mono',consolas,'Courier New',monospace\">EPOCH 3 - PROGRESS: at 78.50% examples, 75745 words/s, in_qsize 2, out_qsize 1\n",
       "</pre>\n"
      ],
      "text/plain": [
       "EPOCH 3 - PROGRESS: at 78.50% examples, 75745 words/s, in_qsize 2, out_qsize 1\n"
      ]
     },
     "metadata": {},
     "output_type": "display_data"
    },
    {
     "data": {
      "text/html": [
       "<pre style=\"white-space:pre;overflow-x:auto;line-height:normal;font-family:Menlo,'DejaVu Sans Mono',consolas,'Courier New',monospace\">EPOCH 3 - PROGRESS: at 79.26% examples, 75866 words/s, in_qsize 2, out_qsize 0\n",
       "</pre>\n"
      ],
      "text/plain": [
       "EPOCH 3 - PROGRESS: at 79.26% examples, 75866 words/s, in_qsize 2, out_qsize 0\n"
      ]
     },
     "metadata": {},
     "output_type": "display_data"
    },
    {
     "data": {
      "text/html": [
       "<pre style=\"white-space:pre;overflow-x:auto;line-height:normal;font-family:Menlo,'DejaVu Sans Mono',consolas,'Courier New',monospace\">EPOCH 3 - PROGRESS: at 79.95% examples, 75924 words/s, in_qsize 1, out_qsize 0\n",
       "</pre>\n"
      ],
      "text/plain": [
       "EPOCH 3 - PROGRESS: at 79.95% examples, 75924 words/s, in_qsize 1, out_qsize 0\n"
      ]
     },
     "metadata": {},
     "output_type": "display_data"
    },
    {
     "data": {
      "text/html": [
       "<pre style=\"white-space:pre;overflow-x:auto;line-height:normal;font-family:Menlo,'DejaVu Sans Mono',consolas,'Courier New',monospace\">EPOCH 3 - PROGRESS: at 80.64% examples, 75980 words/s, in_qsize 1, out_qsize 0\n",
       "</pre>\n"
      ],
      "text/plain": [
       "EPOCH 3 - PROGRESS: at 80.64% examples, 75980 words/s, in_qsize 1, out_qsize 0\n"
      ]
     },
     "metadata": {},
     "output_type": "display_data"
    },
    {
     "data": {
      "text/html": [
       "<pre style=\"white-space:pre;overflow-x:auto;line-height:normal;font-family:Menlo,'DejaVu Sans Mono',consolas,'Courier New',monospace\">EPOCH 3 - PROGRESS: at 81.34% examples, 76053 words/s, in_qsize 1, out_qsize 0\n",
       "</pre>\n"
      ],
      "text/plain": [
       "EPOCH 3 - PROGRESS: at 81.34% examples, 76053 words/s, in_qsize 1, out_qsize 0\n"
      ]
     },
     "metadata": {},
     "output_type": "display_data"
    },
    {
     "data": {
      "text/html": [
       "<pre style=\"white-space:pre;overflow-x:auto;line-height:normal;font-family:Menlo,'DejaVu Sans Mono',consolas,'Courier New',monospace\">EPOCH 3 - PROGRESS: at 82.01% examples, 76087 words/s, in_qsize 1, out_qsize 0\n",
       "</pre>\n"
      ],
      "text/plain": [
       "EPOCH 3 - PROGRESS: at 82.01% examples, 76087 words/s, in_qsize 1, out_qsize 0\n"
      ]
     },
     "metadata": {},
     "output_type": "display_data"
    },
    {
     "data": {
      "text/html": [
       "<pre style=\"white-space:pre;overflow-x:auto;line-height:normal;font-family:Menlo,'DejaVu Sans Mono',consolas,'Courier New',monospace\">EPOCH 3 - PROGRESS: at 82.69% examples, 76132 words/s, in_qsize 1, out_qsize 0\n",
       "</pre>\n"
      ],
      "text/plain": [
       "EPOCH 3 - PROGRESS: at 82.69% examples, 76132 words/s, in_qsize 1, out_qsize 0\n"
      ]
     },
     "metadata": {},
     "output_type": "display_data"
    },
    {
     "data": {
      "text/html": [
       "<pre style=\"white-space:pre;overflow-x:auto;line-height:normal;font-family:Menlo,'DejaVu Sans Mono',consolas,'Courier New',monospace\">EPOCH 3 - PROGRESS: at 83.46% examples, 76257 words/s, in_qsize 1, out_qsize 0\n",
       "</pre>\n"
      ],
      "text/plain": [
       "EPOCH 3 - PROGRESS: at 83.46% examples, 76257 words/s, in_qsize 1, out_qsize 0\n"
      ]
     },
     "metadata": {},
     "output_type": "display_data"
    },
    {
     "data": {
      "text/html": [
       "<pre style=\"white-space:pre;overflow-x:auto;line-height:normal;font-family:Menlo,'DejaVu Sans Mono',consolas,'Courier New',monospace\">EPOCH 3 - PROGRESS: at 84.20% examples, 76358 words/s, in_qsize 1, out_qsize 0\n",
       "</pre>\n"
      ],
      "text/plain": [
       "EPOCH 3 - PROGRESS: at 84.20% examples, 76358 words/s, in_qsize 1, out_qsize 0\n"
      ]
     },
     "metadata": {},
     "output_type": "display_data"
    },
    {
     "data": {
      "text/html": [
       "<pre style=\"white-space:pre;overflow-x:auto;line-height:normal;font-family:Menlo,'DejaVu Sans Mono',consolas,'Courier New',monospace\">EPOCH 3 - PROGRESS: at 84.93% examples, 76443 words/s, in_qsize 1, out_qsize 0\n",
       "</pre>\n"
      ],
      "text/plain": [
       "EPOCH 3 - PROGRESS: at 84.93% examples, 76443 words/s, in_qsize 1, out_qsize 0\n"
      ]
     },
     "metadata": {},
     "output_type": "display_data"
    },
    {
     "data": {
      "text/html": [
       "<pre style=\"white-space:pre;overflow-x:auto;line-height:normal;font-family:Menlo,'DejaVu Sans Mono',consolas,'Courier New',monospace\">EPOCH 3 - PROGRESS: at 85.59% examples, 76467 words/s, in_qsize 1, out_qsize 0\n",
       "</pre>\n"
      ],
      "text/plain": [
       "EPOCH 3 - PROGRESS: at 85.59% examples, 76467 words/s, in_qsize 1, out_qsize 0\n"
      ]
     },
     "metadata": {},
     "output_type": "display_data"
    },
    {
     "data": {
      "text/html": [
       "<pre style=\"white-space:pre;overflow-x:auto;line-height:normal;font-family:Menlo,'DejaVu Sans Mono',consolas,'Courier New',monospace\">EPOCH 3 - PROGRESS: at 86.26% examples, 76501 words/s, in_qsize 1, out_qsize 0\n",
       "</pre>\n"
      ],
      "text/plain": [
       "EPOCH 3 - PROGRESS: at 86.26% examples, 76501 words/s, in_qsize 1, out_qsize 0\n"
      ]
     },
     "metadata": {},
     "output_type": "display_data"
    },
    {
     "data": {
      "text/html": [
       "<pre style=\"white-space:pre;overflow-x:auto;line-height:normal;font-family:Menlo,'DejaVu Sans Mono',consolas,'Courier New',monospace\">EPOCH 3 - PROGRESS: at 86.92% examples, 76518 words/s, in_qsize 1, out_qsize 0\n",
       "</pre>\n"
      ],
      "text/plain": [
       "EPOCH 3 - PROGRESS: at 86.92% examples, 76518 words/s, in_qsize 1, out_qsize 0\n"
      ]
     },
     "metadata": {},
     "output_type": "display_data"
    },
    {
     "data": {
      "text/html": [
       "<pre style=\"white-space:pre;overflow-x:auto;line-height:normal;font-family:Menlo,'DejaVu Sans Mono',consolas,'Courier New',monospace\">EPOCH 3 - PROGRESS: at 87.56% examples, 76530 words/s, in_qsize 1, out_qsize 0\n",
       "</pre>\n"
      ],
      "text/plain": [
       "EPOCH 3 - PROGRESS: at 87.56% examples, 76530 words/s, in_qsize 1, out_qsize 0\n"
      ]
     },
     "metadata": {},
     "output_type": "display_data"
    },
    {
     "data": {
      "text/html": [
       "<pre style=\"white-space:pre;overflow-x:auto;line-height:normal;font-family:Menlo,'DejaVu Sans Mono',consolas,'Courier New',monospace\">EPOCH 3 - PROGRESS: at 88.28% examples, 76605 words/s, in_qsize 1, out_qsize 0\n",
       "</pre>\n"
      ],
      "text/plain": [
       "EPOCH 3 - PROGRESS: at 88.28% examples, 76605 words/s, in_qsize 1, out_qsize 0\n"
      ]
     },
     "metadata": {},
     "output_type": "display_data"
    },
    {
     "data": {
      "text/html": [
       "<pre style=\"white-space:pre;overflow-x:auto;line-height:normal;font-family:Menlo,'DejaVu Sans Mono',consolas,'Courier New',monospace\">EPOCH 3 - PROGRESS: at 89.01% examples, 76678 words/s, in_qsize 1, out_qsize 0\n",
       "</pre>\n"
      ],
      "text/plain": [
       "EPOCH 3 - PROGRESS: at 89.01% examples, 76678 words/s, in_qsize 1, out_qsize 0\n"
      ]
     },
     "metadata": {},
     "output_type": "display_data"
    },
    {
     "data": {
      "text/html": [
       "<pre style=\"white-space:pre;overflow-x:auto;line-height:normal;font-family:Menlo,'DejaVu Sans Mono',consolas,'Courier New',monospace\">EPOCH 3 - PROGRESS: at 89.68% examples, 76714 words/s, in_qsize 1, out_qsize 0\n",
       "</pre>\n"
      ],
      "text/plain": [
       "EPOCH 3 - PROGRESS: at 89.68% examples, 76714 words/s, in_qsize 1, out_qsize 0\n"
      ]
     },
     "metadata": {},
     "output_type": "display_data"
    },
    {
     "data": {
      "text/html": [
       "<pre style=\"white-space:pre;overflow-x:auto;line-height:normal;font-family:Menlo,'DejaVu Sans Mono',consolas,'Courier New',monospace\">EPOCH 3 - PROGRESS: at 90.37% examples, 76759 words/s, in_qsize 2, out_qsize 0\n",
       "</pre>\n"
      ],
      "text/plain": [
       "EPOCH 3 - PROGRESS: at 90.37% examples, 76759 words/s, in_qsize 2, out_qsize 0\n"
      ]
     },
     "metadata": {},
     "output_type": "display_data"
    },
    {
     "data": {
      "text/html": [
       "<pre style=\"white-space:pre;overflow-x:auto;line-height:normal;font-family:Menlo,'DejaVu Sans Mono',consolas,'Courier New',monospace\">EPOCH 3 - PROGRESS: at 91.07% examples, 76809 words/s, in_qsize 1, out_qsize 0\n",
       "</pre>\n"
      ],
      "text/plain": [
       "EPOCH 3 - PROGRESS: at 91.07% examples, 76809 words/s, in_qsize 1, out_qsize 0\n"
      ]
     },
     "metadata": {},
     "output_type": "display_data"
    },
    {
     "data": {
      "text/html": [
       "<pre style=\"white-space:pre;overflow-x:auto;line-height:normal;font-family:Menlo,'DejaVu Sans Mono',consolas,'Courier New',monospace\">EPOCH 3 - PROGRESS: at 91.75% examples, 76851 words/s, in_qsize 2, out_qsize 0\n",
       "</pre>\n"
      ],
      "text/plain": [
       "EPOCH 3 - PROGRESS: at 91.75% examples, 76851 words/s, in_qsize 2, out_qsize 0\n"
      ]
     },
     "metadata": {},
     "output_type": "display_data"
    },
    {
     "data": {
      "text/html": [
       "<pre style=\"white-space:pre;overflow-x:auto;line-height:normal;font-family:Menlo,'DejaVu Sans Mono',consolas,'Courier New',monospace\">EPOCH 3 - PROGRESS: at 92.49% examples, 76932 words/s, in_qsize 1, out_qsize 0\n",
       "</pre>\n"
      ],
      "text/plain": [
       "EPOCH 3 - PROGRESS: at 92.49% examples, 76932 words/s, in_qsize 1, out_qsize 0\n"
      ]
     },
     "metadata": {},
     "output_type": "display_data"
    },
    {
     "data": {
      "text/html": [
       "<pre style=\"white-space:pre;overflow-x:auto;line-height:normal;font-family:Menlo,'DejaVu Sans Mono',consolas,'Courier New',monospace\">EPOCH 3 - PROGRESS: at 93.12% examples, 76927 words/s, in_qsize 1, out_qsize 0\n",
       "</pre>\n"
      ],
      "text/plain": [
       "EPOCH 3 - PROGRESS: at 93.12% examples, 76927 words/s, in_qsize 1, out_qsize 0\n"
      ]
     },
     "metadata": {},
     "output_type": "display_data"
    },
    {
     "data": {
      "text/html": [
       "<pre style=\"white-space:pre;overflow-x:auto;line-height:normal;font-family:Menlo,'DejaVu Sans Mono',consolas,'Courier New',monospace\">EPOCH 3 - PROGRESS: at 93.85% examples, 77003 words/s, in_qsize 1, out_qsize 0\n",
       "</pre>\n"
      ],
      "text/plain": [
       "EPOCH 3 - PROGRESS: at 93.85% examples, 77003 words/s, in_qsize 1, out_qsize 0\n"
      ]
     },
     "metadata": {},
     "output_type": "display_data"
    },
    {
     "data": {
      "text/html": [
       "<pre style=\"white-space:pre;overflow-x:auto;line-height:normal;font-family:Menlo,'DejaVu Sans Mono',consolas,'Courier New',monospace\">EPOCH 3 - PROGRESS: at 94.52% examples, 77023 words/s, in_qsize 1, out_qsize 0\n",
       "</pre>\n"
      ],
      "text/plain": [
       "EPOCH 3 - PROGRESS: at 94.52% examples, 77023 words/s, in_qsize 1, out_qsize 0\n"
      ]
     },
     "metadata": {},
     "output_type": "display_data"
    },
    {
     "data": {
      "text/html": [
       "<pre style=\"white-space:pre;overflow-x:auto;line-height:normal;font-family:Menlo,'DejaVu Sans Mono',consolas,'Courier New',monospace\">EPOCH 3 - PROGRESS: at 95.22% examples, 77076 words/s, in_qsize 2, out_qsize 2\n",
       "</pre>\n"
      ],
      "text/plain": [
       "EPOCH 3 - PROGRESS: at 95.22% examples, 77076 words/s, in_qsize 2, out_qsize 2\n"
      ]
     },
     "metadata": {},
     "output_type": "display_data"
    },
    {
     "data": {
      "text/html": [
       "<pre style=\"white-space:pre;overflow-x:auto;line-height:normal;font-family:Menlo,'DejaVu Sans Mono',consolas,'Courier New',monospace\">EPOCH 3 - PROGRESS: at 95.91% examples, 77113 words/s, in_qsize 1, out_qsize 0\n",
       "</pre>\n"
      ],
      "text/plain": [
       "EPOCH 3 - PROGRESS: at 95.91% examples, 77113 words/s, in_qsize 1, out_qsize 0\n"
      ]
     },
     "metadata": {},
     "output_type": "display_data"
    },
    {
     "data": {
      "text/html": [
       "<pre style=\"white-space:pre;overflow-x:auto;line-height:normal;font-family:Menlo,'DejaVu Sans Mono',consolas,'Courier New',monospace\">EPOCH 3 - PROGRESS: at 96.66% examples, 77205 words/s, in_qsize 2, out_qsize 0\n",
       "</pre>\n"
      ],
      "text/plain": [
       "EPOCH 3 - PROGRESS: at 96.66% examples, 77205 words/s, in_qsize 2, out_qsize 0\n"
      ]
     },
     "metadata": {},
     "output_type": "display_data"
    },
    {
     "data": {
      "text/html": [
       "<pre style=\"white-space:pre;overflow-x:auto;line-height:normal;font-family:Menlo,'DejaVu Sans Mono',consolas,'Courier New',monospace\">EPOCH 3 - PROGRESS: at 97.42% examples, 77301 words/s, in_qsize 2, out_qsize 0\n",
       "</pre>\n"
      ],
      "text/plain": [
       "EPOCH 3 - PROGRESS: at 97.42% examples, 77301 words/s, in_qsize 2, out_qsize 0\n"
      ]
     },
     "metadata": {},
     "output_type": "display_data"
    },
    {
     "data": {
      "text/html": [
       "<pre style=\"white-space:pre;overflow-x:auto;line-height:normal;font-family:Menlo,'DejaVu Sans Mono',consolas,'Courier New',monospace\">EPOCH 3 - PROGRESS: at 98.15% examples, 77374 words/s, in_qsize 1, out_qsize 0\n",
       "</pre>\n"
      ],
      "text/plain": [
       "EPOCH 3 - PROGRESS: at 98.15% examples, 77374 words/s, in_qsize 1, out_qsize 0\n"
      ]
     },
     "metadata": {},
     "output_type": "display_data"
    },
    {
     "data": {
      "text/html": [
       "<pre style=\"white-space:pre;overflow-x:auto;line-height:normal;font-family:Menlo,'DejaVu Sans Mono',consolas,'Courier New',monospace\">EPOCH 3 - PROGRESS: at 98.92% examples, 77469 words/s, in_qsize 1, out_qsize 0\n",
       "</pre>\n"
      ],
      "text/plain": [
       "EPOCH 3 - PROGRESS: at 98.92% examples, 77469 words/s, in_qsize 1, out_qsize 0\n"
      ]
     },
     "metadata": {},
     "output_type": "display_data"
    },
    {
     "data": {
      "text/html": [
       "<pre style=\"white-space:pre;overflow-x:auto;line-height:normal;font-family:Menlo,'DejaVu Sans Mono',consolas,'Courier New',monospace\">EPOCH 3 - PROGRESS: at 99.67% examples, 77556 words/s, in_qsize 1, out_qsize 0\n",
       "</pre>\n"
      ],
      "text/plain": [
       "EPOCH 3 - PROGRESS: at 99.67% examples, 77556 words/s, in_qsize 1, out_qsize 0\n"
      ]
     },
     "metadata": {},
     "output_type": "display_data"
    },
    {
     "data": {
      "text/html": [
       "<pre style=\"white-space:pre;overflow-x:auto;line-height:normal;font-family:Menlo,'DejaVu Sans Mono',consolas,'Courier New',monospace\">EPOCH 3: training on 12236700 raw words (12061927 effective words) took 155.5s, 77589 effective words/s\n",
       "</pre>\n"
      ],
      "text/plain": [
       "EPOCH 3: training on 12236700 raw words (12061927 effective words) took 155.5s, 77589 effective words/s\n"
      ]
     },
     "metadata": {},
     "output_type": "display_data"
    },
    {
     "data": {
      "text/html": [
       "<pre style=\"white-space:pre;overflow-x:auto;line-height:normal;font-family:Menlo,'DejaVu Sans Mono',consolas,'Courier New',monospace\">EPOCH 4 - PROGRESS: at 0.67% examples, 81474 words/s, in_qsize 1, out_qsize 0\n",
       "</pre>\n"
      ],
      "text/plain": [
       "EPOCH 4 - PROGRESS: at 0.67% examples, 81474 words/s, in_qsize 1, out_qsize 0\n"
      ]
     },
     "metadata": {},
     "output_type": "display_data"
    },
    {
     "data": {
      "text/html": [
       "<pre style=\"white-space:pre;overflow-x:auto;line-height:normal;font-family:Menlo,'DejaVu Sans Mono',consolas,'Courier New',monospace\">EPOCH 4 - PROGRESS: at 1.19% examples, 71996 words/s, in_qsize 2, out_qsize 0\n",
       "</pre>\n"
      ],
      "text/plain": [
       "EPOCH 4 - PROGRESS: at 1.19% examples, 71996 words/s, in_qsize 2, out_qsize 0\n"
      ]
     },
     "metadata": {},
     "output_type": "display_data"
    },
    {
     "data": {
      "text/html": [
       "<pre style=\"white-space:pre;overflow-x:auto;line-height:normal;font-family:Menlo,'DejaVu Sans Mono',consolas,'Courier New',monospace\">EPOCH 4 - PROGRESS: at 1.62% examples, 65204 words/s, in_qsize 1, out_qsize 0\n",
       "</pre>\n"
      ],
      "text/plain": [
       "EPOCH 4 - PROGRESS: at 1.62% examples, 65204 words/s, in_qsize 1, out_qsize 0\n"
      ]
     },
     "metadata": {},
     "output_type": "display_data"
    },
    {
     "data": {
      "text/html": [
       "<pre style=\"white-space:pre;overflow-x:auto;line-height:normal;font-family:Menlo,'DejaVu Sans Mono',consolas,'Courier New',monospace\">EPOCH 4 - PROGRESS: at 2.06% examples, 62163 words/s, in_qsize 1, out_qsize 0\n",
       "</pre>\n"
      ],
      "text/plain": [
       "EPOCH 4 - PROGRESS: at 2.06% examples, 62163 words/s, in_qsize 1, out_qsize 0\n"
      ]
     },
     "metadata": {},
     "output_type": "display_data"
    },
    {
     "data": {
      "text/html": [
       "<pre style=\"white-space:pre;overflow-x:auto;line-height:normal;font-family:Menlo,'DejaVu Sans Mono',consolas,'Courier New',monospace\">EPOCH 4 - PROGRESS: at 2.67% examples, 64482 words/s, in_qsize 0, out_qsize 0\n",
       "</pre>\n"
      ],
      "text/plain": [
       "EPOCH 4 - PROGRESS: at 2.67% examples, 64482 words/s, in_qsize 0, out_qsize 0\n"
      ]
     },
     "metadata": {},
     "output_type": "display_data"
    },
    {
     "data": {
      "text/html": [
       "<pre style=\"white-space:pre;overflow-x:auto;line-height:normal;font-family:Menlo,'DejaVu Sans Mono',consolas,'Courier New',monospace\">EPOCH 4 - PROGRESS: at 3.27% examples, 65696 words/s, in_qsize 1, out_qsize 0\n",
       "</pre>\n"
      ],
      "text/plain": [
       "EPOCH 4 - PROGRESS: at 3.27% examples, 65696 words/s, in_qsize 1, out_qsize 0\n"
      ]
     },
     "metadata": {},
     "output_type": "display_data"
    },
    {
     "data": {
      "text/html": [
       "<pre style=\"white-space:pre;overflow-x:auto;line-height:normal;font-family:Menlo,'DejaVu Sans Mono',consolas,'Courier New',monospace\">EPOCH 4 - PROGRESS: at 3.87% examples, 66705 words/s, in_qsize 1, out_qsize 0\n",
       "</pre>\n"
      ],
      "text/plain": [
       "EPOCH 4 - PROGRESS: at 3.87% examples, 66705 words/s, in_qsize 1, out_qsize 0\n"
      ]
     },
     "metadata": {},
     "output_type": "display_data"
    },
    {
     "data": {
      "text/html": [
       "<pre style=\"white-space:pre;overflow-x:auto;line-height:normal;font-family:Menlo,'DejaVu Sans Mono',consolas,'Courier New',monospace\">EPOCH 4 - PROGRESS: at 4.45% examples, 67072 words/s, in_qsize 1, out_qsize 0\n",
       "</pre>\n"
      ],
      "text/plain": [
       "EPOCH 4 - PROGRESS: at 4.45% examples, 67072 words/s, in_qsize 1, out_qsize 0\n"
      ]
     },
     "metadata": {},
     "output_type": "display_data"
    },
    {
     "data": {
      "text/html": [
       "<pre style=\"white-space:pre;overflow-x:auto;line-height:normal;font-family:Menlo,'DejaVu Sans Mono',consolas,'Courier New',monospace\">EPOCH 4 - PROGRESS: at 5.04% examples, 67514 words/s, in_qsize 1, out_qsize 0\n",
       "</pre>\n"
      ],
      "text/plain": [
       "EPOCH 4 - PROGRESS: at 5.04% examples, 67514 words/s, in_qsize 1, out_qsize 0\n"
      ]
     },
     "metadata": {},
     "output_type": "display_data"
    },
    {
     "data": {
      "text/html": [
       "<pre style=\"white-space:pre;overflow-x:auto;line-height:normal;font-family:Menlo,'DejaVu Sans Mono',consolas,'Courier New',monospace\">EPOCH 4 - PROGRESS: at 5.67% examples, 68458 words/s, in_qsize 1, out_qsize 0\n",
       "</pre>\n"
      ],
      "text/plain": [
       "EPOCH 4 - PROGRESS: at 5.67% examples, 68458 words/s, in_qsize 1, out_qsize 0\n"
      ]
     },
     "metadata": {},
     "output_type": "display_data"
    },
    {
     "data": {
      "text/html": [
       "<pre style=\"white-space:pre;overflow-x:auto;line-height:normal;font-family:Menlo,'DejaVu Sans Mono',consolas,'Courier New',monospace\">EPOCH 4 - PROGRESS: at 6.42% examples, 70423 words/s, in_qsize 2, out_qsize 0\n",
       "</pre>\n"
      ],
      "text/plain": [
       "EPOCH 4 - PROGRESS: at 6.42% examples, 70423 words/s, in_qsize 2, out_qsize 0\n"
      ]
     },
     "metadata": {},
     "output_type": "display_data"
    },
    {
     "data": {
      "text/html": [
       "<pre style=\"white-space:pre;overflow-x:auto;line-height:normal;font-family:Menlo,'DejaVu Sans Mono',consolas,'Courier New',monospace\">EPOCH 4 - PROGRESS: at 7.21% examples, 72433 words/s, in_qsize 2, out_qsize 0\n",
       "</pre>\n"
      ],
      "text/plain": [
       "EPOCH 4 - PROGRESS: at 7.21% examples, 72433 words/s, in_qsize 2, out_qsize 0\n"
      ]
     },
     "metadata": {},
     "output_type": "display_data"
    },
    {
     "data": {
      "text/html": [
       "<pre style=\"white-space:pre;overflow-x:auto;line-height:normal;font-family:Menlo,'DejaVu Sans Mono',consolas,'Courier New',monospace\">EPOCH 4 - PROGRESS: at 8.00% examples, 74231 words/s, in_qsize 2, out_qsize 0\n",
       "</pre>\n"
      ],
      "text/plain": [
       "EPOCH 4 - PROGRESS: at 8.00% examples, 74231 words/s, in_qsize 2, out_qsize 0\n"
      ]
     },
     "metadata": {},
     "output_type": "display_data"
    },
    {
     "data": {
      "text/html": [
       "<pre style=\"white-space:pre;overflow-x:auto;line-height:normal;font-family:Menlo,'DejaVu Sans Mono',consolas,'Courier New',monospace\">EPOCH 4 - PROGRESS: at 8.76% examples, 75436 words/s, in_qsize 1, out_qsize 0\n",
       "</pre>\n"
      ],
      "text/plain": [
       "EPOCH 4 - PROGRESS: at 8.76% examples, 75436 words/s, in_qsize 1, out_qsize 0\n"
      ]
     },
     "metadata": {},
     "output_type": "display_data"
    },
    {
     "data": {
      "text/html": [
       "<pre style=\"white-space:pre;overflow-x:auto;line-height:normal;font-family:Menlo,'DejaVu Sans Mono',consolas,'Courier New',monospace\">EPOCH 4 - PROGRESS: at 9.49% examples, 76343 words/s, in_qsize 1, out_qsize 0\n",
       "</pre>\n"
      ],
      "text/plain": [
       "EPOCH 4 - PROGRESS: at 9.49% examples, 76343 words/s, in_qsize 1, out_qsize 0\n"
      ]
     },
     "metadata": {},
     "output_type": "display_data"
    },
    {
     "data": {
      "text/html": [
       "<pre style=\"white-space:pre;overflow-x:auto;line-height:normal;font-family:Menlo,'DejaVu Sans Mono',consolas,'Courier New',monospace\">EPOCH 4 - PROGRESS: at 10.24% examples, 77177 words/s, in_qsize 1, out_qsize 0\n",
       "</pre>\n"
      ],
      "text/plain": [
       "EPOCH 4 - PROGRESS: at 10.24% examples, 77177 words/s, in_qsize 1, out_qsize 0\n"
      ]
     },
     "metadata": {},
     "output_type": "display_data"
    },
    {
     "data": {
      "text/html": [
       "<pre style=\"white-space:pre;overflow-x:auto;line-height:normal;font-family:Menlo,'DejaVu Sans Mono',consolas,'Courier New',monospace\">EPOCH 4 - PROGRESS: at 10.99% examples, 77978 words/s, in_qsize 1, out_qsize 0\n",
       "</pre>\n"
      ],
      "text/plain": [
       "EPOCH 4 - PROGRESS: at 10.99% examples, 77978 words/s, in_qsize 1, out_qsize 0\n"
      ]
     },
     "metadata": {},
     "output_type": "display_data"
    },
    {
     "data": {
      "text/html": [
       "<pre style=\"white-space:pre;overflow-x:auto;line-height:normal;font-family:Menlo,'DejaVu Sans Mono',consolas,'Courier New',monospace\">EPOCH 4 - PROGRESS: at 11.74% examples, 78639 words/s, in_qsize 1, out_qsize 0\n",
       "</pre>\n"
      ],
      "text/plain": [
       "EPOCH 4 - PROGRESS: at 11.74% examples, 78639 words/s, in_qsize 1, out_qsize 0\n"
      ]
     },
     "metadata": {},
     "output_type": "display_data"
    },
    {
     "data": {
      "text/html": [
       "<pre style=\"white-space:pre;overflow-x:auto;line-height:normal;font-family:Menlo,'DejaVu Sans Mono',consolas,'Courier New',monospace\">EPOCH 4 - PROGRESS: at 12.48% examples, 79225 words/s, in_qsize 1, out_qsize 0\n",
       "</pre>\n"
      ],
      "text/plain": [
       "EPOCH 4 - PROGRESS: at 12.48% examples, 79225 words/s, in_qsize 1, out_qsize 0\n"
      ]
     },
     "metadata": {},
     "output_type": "display_data"
    },
    {
     "data": {
      "text/html": [
       "<pre style=\"white-space:pre;overflow-x:auto;line-height:normal;font-family:Menlo,'DejaVu Sans Mono',consolas,'Courier New',monospace\">EPOCH 4 - PROGRESS: at 13.23% examples, 79809 words/s, in_qsize 1, out_qsize 0\n",
       "</pre>\n"
      ],
      "text/plain": [
       "EPOCH 4 - PROGRESS: at 13.23% examples, 79809 words/s, in_qsize 1, out_qsize 0\n"
      ]
     },
     "metadata": {},
     "output_type": "display_data"
    },
    {
     "data": {
      "text/html": [
       "<pre style=\"white-space:pre;overflow-x:auto;line-height:normal;font-family:Menlo,'DejaVu Sans Mono',consolas,'Courier New',monospace\">EPOCH 4 - PROGRESS: at 13.99% examples, 80324 words/s, in_qsize 2, out_qsize 0\n",
       "</pre>\n"
      ],
      "text/plain": [
       "EPOCH 4 - PROGRESS: at 13.99% examples, 80324 words/s, in_qsize 2, out_qsize 0\n"
      ]
     },
     "metadata": {},
     "output_type": "display_data"
    },
    {
     "data": {
      "text/html": [
       "<pre style=\"white-space:pre;overflow-x:auto;line-height:normal;font-family:Menlo,'DejaVu Sans Mono',consolas,'Courier New',monospace\">EPOCH 4 - PROGRESS: at 14.73% examples, 80769 words/s, in_qsize 1, out_qsize 0\n",
       "</pre>\n"
      ],
      "text/plain": [
       "EPOCH 4 - PROGRESS: at 14.73% examples, 80769 words/s, in_qsize 1, out_qsize 0\n"
      ]
     },
     "metadata": {},
     "output_type": "display_data"
    },
    {
     "data": {
      "text/html": [
       "<pre style=\"white-space:pre;overflow-x:auto;line-height:normal;font-family:Menlo,'DejaVu Sans Mono',consolas,'Courier New',monospace\">EPOCH 4 - PROGRESS: at 15.47% examples, 81095 words/s, in_qsize 1, out_qsize 0\n",
       "</pre>\n"
      ],
      "text/plain": [
       "EPOCH 4 - PROGRESS: at 15.47% examples, 81095 words/s, in_qsize 1, out_qsize 0\n"
      ]
     },
     "metadata": {},
     "output_type": "display_data"
    },
    {
     "data": {
      "text/html": [
       "<pre style=\"white-space:pre;overflow-x:auto;line-height:normal;font-family:Menlo,'DejaVu Sans Mono',consolas,'Courier New',monospace\">EPOCH 4 - PROGRESS: at 16.25% examples, 81634 words/s, in_qsize 2, out_qsize 0\n",
       "</pre>\n"
      ],
      "text/plain": [
       "EPOCH 4 - PROGRESS: at 16.25% examples, 81634 words/s, in_qsize 2, out_qsize 0\n"
      ]
     },
     "metadata": {},
     "output_type": "display_data"
    },
    {
     "data": {
      "text/html": [
       "<pre style=\"white-space:pre;overflow-x:auto;line-height:normal;font-family:Menlo,'DejaVu Sans Mono',consolas,'Courier New',monospace\">EPOCH 4 - PROGRESS: at 17.05% examples, 82231 words/s, in_qsize 2, out_qsize 0\n",
       "</pre>\n"
      ],
      "text/plain": [
       "EPOCH 4 - PROGRESS: at 17.05% examples, 82231 words/s, in_qsize 2, out_qsize 0\n"
      ]
     },
     "metadata": {},
     "output_type": "display_data"
    },
    {
     "data": {
      "text/html": [
       "<pre style=\"white-space:pre;overflow-x:auto;line-height:normal;font-family:Menlo,'DejaVu Sans Mono',consolas,'Courier New',monospace\">EPOCH 4 - PROGRESS: at 17.83% examples, 82696 words/s, in_qsize 2, out_qsize 0\n",
       "</pre>\n"
      ],
      "text/plain": [
       "EPOCH 4 - PROGRESS: at 17.83% examples, 82696 words/s, in_qsize 2, out_qsize 0\n"
      ]
     },
     "metadata": {},
     "output_type": "display_data"
    },
    {
     "data": {
      "text/html": [
       "<pre style=\"white-space:pre;overflow-x:auto;line-height:normal;font-family:Menlo,'DejaVu Sans Mono',consolas,'Courier New',monospace\">EPOCH 4 - PROGRESS: at 18.63% examples, 83199 words/s, in_qsize 2, out_qsize 0\n",
       "</pre>\n"
      ],
      "text/plain": [
       "EPOCH 4 - PROGRESS: at 18.63% examples, 83199 words/s, in_qsize 2, out_qsize 0\n"
      ]
     },
     "metadata": {},
     "output_type": "display_data"
    },
    {
     "data": {
      "text/html": [
       "<pre style=\"white-space:pre;overflow-x:auto;line-height:normal;font-family:Menlo,'DejaVu Sans Mono',consolas,'Courier New',monospace\">EPOCH 4 - PROGRESS: at 19.43% examples, 83672 words/s, in_qsize 2, out_qsize 0\n",
       "</pre>\n"
      ],
      "text/plain": [
       "EPOCH 4 - PROGRESS: at 19.43% examples, 83672 words/s, in_qsize 2, out_qsize 0\n"
      ]
     },
     "metadata": {},
     "output_type": "display_data"
    },
    {
     "data": {
      "text/html": [
       "<pre style=\"white-space:pre;overflow-x:auto;line-height:normal;font-family:Menlo,'DejaVu Sans Mono',consolas,'Courier New',monospace\">EPOCH 4 - PROGRESS: at 20.22% examples, 84095 words/s, in_qsize 2, out_qsize 0\n",
       "</pre>\n"
      ],
      "text/plain": [
       "EPOCH 4 - PROGRESS: at 20.22% examples, 84095 words/s, in_qsize 2, out_qsize 0\n"
      ]
     },
     "metadata": {},
     "output_type": "display_data"
    },
    {
     "data": {
      "text/html": [
       "<pre style=\"white-space:pre;overflow-x:auto;line-height:normal;font-family:Menlo,'DejaVu Sans Mono',consolas,'Courier New',monospace\">EPOCH 4 - PROGRESS: at 21.00% examples, 84426 words/s, in_qsize 2, out_qsize 0\n",
       "</pre>\n"
      ],
      "text/plain": [
       "EPOCH 4 - PROGRESS: at 21.00% examples, 84426 words/s, in_qsize 2, out_qsize 0\n"
      ]
     },
     "metadata": {},
     "output_type": "display_data"
    },
    {
     "data": {
      "text/html": [
       "<pre style=\"white-space:pre;overflow-x:auto;line-height:normal;font-family:Menlo,'DejaVu Sans Mono',consolas,'Courier New',monospace\">EPOCH 4 - PROGRESS: at 21.80% examples, 84795 words/s, in_qsize 2, out_qsize 0\n",
       "</pre>\n"
      ],
      "text/plain": [
       "EPOCH 4 - PROGRESS: at 21.80% examples, 84795 words/s, in_qsize 2, out_qsize 0\n"
      ]
     },
     "metadata": {},
     "output_type": "display_data"
    },
    {
     "data": {
      "text/html": [
       "<pre style=\"white-space:pre;overflow-x:auto;line-height:normal;font-family:Menlo,'DejaVu Sans Mono',consolas,'Courier New',monospace\">EPOCH 4 - PROGRESS: at 22.58% examples, 85115 words/s, in_qsize 2, out_qsize 0\n",
       "</pre>\n"
      ],
      "text/plain": [
       "EPOCH 4 - PROGRESS: at 22.58% examples, 85115 words/s, in_qsize 2, out_qsize 0\n"
      ]
     },
     "metadata": {},
     "output_type": "display_data"
    },
    {
     "data": {
      "text/html": [
       "<pre style=\"white-space:pre;overflow-x:auto;line-height:normal;font-family:Menlo,'DejaVu Sans Mono',consolas,'Courier New',monospace\">EPOCH 4 - PROGRESS: at 23.37% examples, 85418 words/s, in_qsize 2, out_qsize 0\n",
       "</pre>\n"
      ],
      "text/plain": [
       "EPOCH 4 - PROGRESS: at 23.37% examples, 85418 words/s, in_qsize 2, out_qsize 0\n"
      ]
     },
     "metadata": {},
     "output_type": "display_data"
    },
    {
     "data": {
      "text/html": [
       "<pre style=\"white-space:pre;overflow-x:auto;line-height:normal;font-family:Menlo,'DejaVu Sans Mono',consolas,'Courier New',monospace\">EPOCH 4 - PROGRESS: at 24.24% examples, 85985 words/s, in_qsize 2, out_qsize 0\n",
       "</pre>\n"
      ],
      "text/plain": [
       "EPOCH 4 - PROGRESS: at 24.24% examples, 85985 words/s, in_qsize 2, out_qsize 0\n"
      ]
     },
     "metadata": {},
     "output_type": "display_data"
    },
    {
     "data": {
      "text/html": [
       "<pre style=\"white-space:pre;overflow-x:auto;line-height:normal;font-family:Menlo,'DejaVu Sans Mono',consolas,'Courier New',monospace\">EPOCH 4 - PROGRESS: at 25.10% examples, 86488 words/s, in_qsize 2, out_qsize 0\n",
       "</pre>\n"
      ],
      "text/plain": [
       "EPOCH 4 - PROGRESS: at 25.10% examples, 86488 words/s, in_qsize 2, out_qsize 0\n"
      ]
     },
     "metadata": {},
     "output_type": "display_data"
    },
    {
     "data": {
      "text/html": [
       "<pre style=\"white-space:pre;overflow-x:auto;line-height:normal;font-family:Menlo,'DejaVu Sans Mono',consolas,'Courier New',monospace\">EPOCH 4 - PROGRESS: at 25.97% examples, 86997 words/s, in_qsize 2, out_qsize 0\n",
       "</pre>\n"
      ],
      "text/plain": [
       "EPOCH 4 - PROGRESS: at 25.97% examples, 86997 words/s, in_qsize 2, out_qsize 0\n"
      ]
     },
     "metadata": {},
     "output_type": "display_data"
    },
    {
     "data": {
      "text/html": [
       "<pre style=\"white-space:pre;overflow-x:auto;line-height:normal;font-family:Menlo,'DejaVu Sans Mono',consolas,'Courier New',monospace\">EPOCH 4 - PROGRESS: at 26.83% examples, 87451 words/s, in_qsize 2, out_qsize 0\n",
       "</pre>\n"
      ],
      "text/plain": [
       "EPOCH 4 - PROGRESS: at 26.83% examples, 87451 words/s, in_qsize 2, out_qsize 0\n"
      ]
     },
     "metadata": {},
     "output_type": "display_data"
    },
    {
     "data": {
      "text/html": [
       "<pre style=\"white-space:pre;overflow-x:auto;line-height:normal;font-family:Menlo,'DejaVu Sans Mono',consolas,'Courier New',monospace\">EPOCH 4 - PROGRESS: at 27.57% examples, 87491 words/s, in_qsize 1, out_qsize 0\n",
       "</pre>\n"
      ],
      "text/plain": [
       "EPOCH 4 - PROGRESS: at 27.57% examples, 87491 words/s, in_qsize 1, out_qsize 0\n"
      ]
     },
     "metadata": {},
     "output_type": "display_data"
    },
    {
     "data": {
      "text/html": [
       "<pre style=\"white-space:pre;overflow-x:auto;line-height:normal;font-family:Menlo,'DejaVu Sans Mono',consolas,'Courier New',monospace\">EPOCH 4 - PROGRESS: at 28.27% examples, 87435 words/s, in_qsize 1, out_qsize 0\n",
       "</pre>\n"
      ],
      "text/plain": [
       "EPOCH 4 - PROGRESS: at 28.27% examples, 87435 words/s, in_qsize 1, out_qsize 0\n"
      ]
     },
     "metadata": {},
     "output_type": "display_data"
    },
    {
     "data": {
      "text/html": [
       "<pre style=\"white-space:pre;overflow-x:auto;line-height:normal;font-family:Menlo,'DejaVu Sans Mono',consolas,'Courier New',monospace\">EPOCH 4 - PROGRESS: at 29.04% examples, 87550 words/s, in_qsize 1, out_qsize 0\n",
       "</pre>\n"
      ],
      "text/plain": [
       "EPOCH 4 - PROGRESS: at 29.04% examples, 87550 words/s, in_qsize 1, out_qsize 0\n"
      ]
     },
     "metadata": {},
     "output_type": "display_data"
    },
    {
     "data": {
      "text/html": [
       "<pre style=\"white-space:pre;overflow-x:auto;line-height:normal;font-family:Menlo,'DejaVu Sans Mono',consolas,'Courier New',monospace\">EPOCH 4 - PROGRESS: at 29.79% examples, 87618 words/s, in_qsize 1, out_qsize 0\n",
       "</pre>\n"
      ],
      "text/plain": [
       "EPOCH 4 - PROGRESS: at 29.79% examples, 87618 words/s, in_qsize 1, out_qsize 0\n"
      ]
     },
     "metadata": {},
     "output_type": "display_data"
    },
    {
     "data": {
      "text/html": [
       "<pre style=\"white-space:pre;overflow-x:auto;line-height:normal;font-family:Menlo,'DejaVu Sans Mono',consolas,'Courier New',monospace\">EPOCH 4 - PROGRESS: at 30.55% examples, 87732 words/s, in_qsize 1, out_qsize 0\n",
       "</pre>\n"
      ],
      "text/plain": [
       "EPOCH 4 - PROGRESS: at 30.55% examples, 87732 words/s, in_qsize 1, out_qsize 0\n"
      ]
     },
     "metadata": {},
     "output_type": "display_data"
    },
    {
     "data": {
      "text/html": [
       "<pre style=\"white-space:pre;overflow-x:auto;line-height:normal;font-family:Menlo,'DejaVu Sans Mono',consolas,'Courier New',monospace\">EPOCH 4 - PROGRESS: at 31.31% examples, 87826 words/s, in_qsize 1, out_qsize 0\n",
       "</pre>\n"
      ],
      "text/plain": [
       "EPOCH 4 - PROGRESS: at 31.31% examples, 87826 words/s, in_qsize 1, out_qsize 0\n"
      ]
     },
     "metadata": {},
     "output_type": "display_data"
    },
    {
     "data": {
      "text/html": [
       "<pre style=\"white-space:pre;overflow-x:auto;line-height:normal;font-family:Menlo,'DejaVu Sans Mono',consolas,'Courier New',monospace\">EPOCH 4 - PROGRESS: at 32.08% examples, 87941 words/s, in_qsize 1, out_qsize 0\n",
       "</pre>\n"
      ],
      "text/plain": [
       "EPOCH 4 - PROGRESS: at 32.08% examples, 87941 words/s, in_qsize 1, out_qsize 0\n"
      ]
     },
     "metadata": {},
     "output_type": "display_data"
    },
    {
     "data": {
      "text/html": [
       "<pre style=\"white-space:pre;overflow-x:auto;line-height:normal;font-family:Menlo,'DejaVu Sans Mono',consolas,'Courier New',monospace\">EPOCH 4 - PROGRESS: at 32.85% examples, 88047 words/s, in_qsize 1, out_qsize 0\n",
       "</pre>\n"
      ],
      "text/plain": [
       "EPOCH 4 - PROGRESS: at 32.85% examples, 88047 words/s, in_qsize 1, out_qsize 0\n"
      ]
     },
     "metadata": {},
     "output_type": "display_data"
    },
    {
     "data": {
      "text/html": [
       "<pre style=\"white-space:pre;overflow-x:auto;line-height:normal;font-family:Menlo,'DejaVu Sans Mono',consolas,'Courier New',monospace\">EPOCH 4 - PROGRESS: at 33.61% examples, 88117 words/s, in_qsize 1, out_qsize 0\n",
       "</pre>\n"
      ],
      "text/plain": [
       "EPOCH 4 - PROGRESS: at 33.61% examples, 88117 words/s, in_qsize 1, out_qsize 0\n"
      ]
     },
     "metadata": {},
     "output_type": "display_data"
    },
    {
     "data": {
      "text/html": [
       "<pre style=\"white-space:pre;overflow-x:auto;line-height:normal;font-family:Menlo,'DejaVu Sans Mono',consolas,'Courier New',monospace\">EPOCH 4 - PROGRESS: at 34.31% examples, 88048 words/s, in_qsize 1, out_qsize 0\n",
       "</pre>\n"
      ],
      "text/plain": [
       "EPOCH 4 - PROGRESS: at 34.31% examples, 88048 words/s, in_qsize 1, out_qsize 0\n"
      ]
     },
     "metadata": {},
     "output_type": "display_data"
    },
    {
     "data": {
      "text/html": [
       "<pre style=\"white-space:pre;overflow-x:auto;line-height:normal;font-family:Menlo,'DejaVu Sans Mono',consolas,'Courier New',monospace\">EPOCH 4 - PROGRESS: at 35.02% examples, 88001 words/s, in_qsize 1, out_qsize 0\n",
       "</pre>\n"
      ],
      "text/plain": [
       "EPOCH 4 - PROGRESS: at 35.02% examples, 88001 words/s, in_qsize 1, out_qsize 0\n"
      ]
     },
     "metadata": {},
     "output_type": "display_data"
    },
    {
     "data": {
      "text/html": [
       "<pre style=\"white-space:pre;overflow-x:auto;line-height:normal;font-family:Menlo,'DejaVu Sans Mono',consolas,'Courier New',monospace\">EPOCH 4 - PROGRESS: at 35.73% examples, 87948 words/s, in_qsize 1, out_qsize 0\n",
       "</pre>\n"
      ],
      "text/plain": [
       "EPOCH 4 - PROGRESS: at 35.73% examples, 87948 words/s, in_qsize 1, out_qsize 0\n"
      ]
     },
     "metadata": {},
     "output_type": "display_data"
    },
    {
     "data": {
      "text/html": [
       "<pre style=\"white-space:pre;overflow-x:auto;line-height:normal;font-family:Menlo,'DejaVu Sans Mono',consolas,'Courier New',monospace\">EPOCH 4 - PROGRESS: at 36.37% examples, 87735 words/s, in_qsize 1, out_qsize 0\n",
       "</pre>\n"
      ],
      "text/plain": [
       "EPOCH 4 - PROGRESS: at 36.37% examples, 87735 words/s, in_qsize 1, out_qsize 0\n"
      ]
     },
     "metadata": {},
     "output_type": "display_data"
    },
    {
     "data": {
      "text/html": [
       "<pre style=\"white-space:pre;overflow-x:auto;line-height:normal;font-family:Menlo,'DejaVu Sans Mono',consolas,'Courier New',monospace\">EPOCH 4 - PROGRESS: at 37.10% examples, 87726 words/s, in_qsize 1, out_qsize 0\n",
       "</pre>\n"
      ],
      "text/plain": [
       "EPOCH 4 - PROGRESS: at 37.10% examples, 87726 words/s, in_qsize 1, out_qsize 0\n"
      ]
     },
     "metadata": {},
     "output_type": "display_data"
    },
    {
     "data": {
      "text/html": [
       "<pre style=\"white-space:pre;overflow-x:auto;line-height:normal;font-family:Menlo,'DejaVu Sans Mono',consolas,'Courier New',monospace\">EPOCH 4 - PROGRESS: at 37.80% examples, 87659 words/s, in_qsize 1, out_qsize 0\n",
       "</pre>\n"
      ],
      "text/plain": [
       "EPOCH 4 - PROGRESS: at 37.80% examples, 87659 words/s, in_qsize 1, out_qsize 0\n"
      ]
     },
     "metadata": {},
     "output_type": "display_data"
    },
    {
     "data": {
      "text/html": [
       "<pre style=\"white-space:pre;overflow-x:auto;line-height:normal;font-family:Menlo,'DejaVu Sans Mono',consolas,'Courier New',monospace\">EPOCH 4 - PROGRESS: at 38.46% examples, 87522 words/s, in_qsize 1, out_qsize 0\n",
       "</pre>\n"
      ],
      "text/plain": [
       "EPOCH 4 - PROGRESS: at 38.46% examples, 87522 words/s, in_qsize 1, out_qsize 0\n"
      ]
     },
     "metadata": {},
     "output_type": "display_data"
    },
    {
     "data": {
      "text/html": [
       "<pre style=\"white-space:pre;overflow-x:auto;line-height:normal;font-family:Menlo,'DejaVu Sans Mono',consolas,'Courier New',monospace\">EPOCH 4 - PROGRESS: at 39.15% examples, 87430 words/s, in_qsize 1, out_qsize 0\n",
       "</pre>\n"
      ],
      "text/plain": [
       "EPOCH 4 - PROGRESS: at 39.15% examples, 87430 words/s, in_qsize 1, out_qsize 0\n"
      ]
     },
     "metadata": {},
     "output_type": "display_data"
    },
    {
     "data": {
      "text/html": [
       "<pre style=\"white-space:pre;overflow-x:auto;line-height:normal;font-family:Menlo,'DejaVu Sans Mono',consolas,'Courier New',monospace\">EPOCH 4 - PROGRESS: at 39.78% examples, 87240 words/s, in_qsize 0, out_qsize 0\n",
       "</pre>\n"
      ],
      "text/plain": [
       "EPOCH 4 - PROGRESS: at 39.78% examples, 87240 words/s, in_qsize 0, out_qsize 0\n"
      ]
     },
     "metadata": {},
     "output_type": "display_data"
    },
    {
     "data": {
      "text/html": [
       "<pre style=\"white-space:pre;overflow-x:auto;line-height:normal;font-family:Menlo,'DejaVu Sans Mono',consolas,'Courier New',monospace\">EPOCH 4 - PROGRESS: at 40.38% examples, 86972 words/s, in_qsize 1, out_qsize 0\n",
       "</pre>\n"
      ],
      "text/plain": [
       "EPOCH 4 - PROGRESS: at 40.38% examples, 86972 words/s, in_qsize 1, out_qsize 0\n"
      ]
     },
     "metadata": {},
     "output_type": "display_data"
    },
    {
     "data": {
      "text/html": [
       "<pre style=\"white-space:pre;overflow-x:auto;line-height:normal;font-family:Menlo,'DejaVu Sans Mono',consolas,'Courier New',monospace\">EPOCH 4 - PROGRESS: at 40.98% examples, 86700 words/s, in_qsize 1, out_qsize 0\n",
       "</pre>\n"
      ],
      "text/plain": [
       "EPOCH 4 - PROGRESS: at 40.98% examples, 86700 words/s, in_qsize 1, out_qsize 0\n"
      ]
     },
     "metadata": {},
     "output_type": "display_data"
    },
    {
     "data": {
      "text/html": [
       "<pre style=\"white-space:pre;overflow-x:auto;line-height:normal;font-family:Menlo,'DejaVu Sans Mono',consolas,'Courier New',monospace\">EPOCH 4 - PROGRESS: at 41.65% examples, 86603 words/s, in_qsize 1, out_qsize 0\n",
       "</pre>\n"
      ],
      "text/plain": [
       "EPOCH 4 - PROGRESS: at 41.65% examples, 86603 words/s, in_qsize 1, out_qsize 0\n"
      ]
     },
     "metadata": {},
     "output_type": "display_data"
    },
    {
     "data": {
      "text/html": [
       "<pre style=\"white-space:pre;overflow-x:auto;line-height:normal;font-family:Menlo,'DejaVu Sans Mono',consolas,'Courier New',monospace\">EPOCH 4 - PROGRESS: at 42.37% examples, 86609 words/s, in_qsize 2, out_qsize 0\n",
       "</pre>\n"
      ],
      "text/plain": [
       "EPOCH 4 - PROGRESS: at 42.37% examples, 86609 words/s, in_qsize 2, out_qsize 0\n"
      ]
     },
     "metadata": {},
     "output_type": "display_data"
    },
    {
     "data": {
      "text/html": [
       "<pre style=\"white-space:pre;overflow-x:auto;line-height:normal;font-family:Menlo,'DejaVu Sans Mono',consolas,'Courier New',monospace\">EPOCH 4 - PROGRESS: at 43.11% examples, 86657 words/s, in_qsize 1, out_qsize 0\n",
       "</pre>\n"
      ],
      "text/plain": [
       "EPOCH 4 - PROGRESS: at 43.11% examples, 86657 words/s, in_qsize 1, out_qsize 0\n"
      ]
     },
     "metadata": {},
     "output_type": "display_data"
    },
    {
     "data": {
      "text/html": [
       "<pre style=\"white-space:pre;overflow-x:auto;line-height:normal;font-family:Menlo,'DejaVu Sans Mono',consolas,'Courier New',monospace\">EPOCH 4 - PROGRESS: at 43.86% examples, 86710 words/s, in_qsize 0, out_qsize 0\n",
       "</pre>\n"
      ],
      "text/plain": [
       "EPOCH 4 - PROGRESS: at 43.86% examples, 86710 words/s, in_qsize 0, out_qsize 0\n"
      ]
     },
     "metadata": {},
     "output_type": "display_data"
    },
    {
     "data": {
      "text/html": [
       "<pre style=\"white-space:pre;overflow-x:auto;line-height:normal;font-family:Menlo,'DejaVu Sans Mono',consolas,'Courier New',monospace\">EPOCH 4 - PROGRESS: at 44.61% examples, 86767 words/s, in_qsize 1, out_qsize 0\n",
       "</pre>\n"
      ],
      "text/plain": [
       "EPOCH 4 - PROGRESS: at 44.61% examples, 86767 words/s, in_qsize 1, out_qsize 0\n"
      ]
     },
     "metadata": {},
     "output_type": "display_data"
    },
    {
     "data": {
      "text/html": [
       "<pre style=\"white-space:pre;overflow-x:auto;line-height:normal;font-family:Menlo,'DejaVu Sans Mono',consolas,'Courier New',monospace\">EPOCH 4 - PROGRESS: at 45.33% examples, 86781 words/s, in_qsize 2, out_qsize 0\n",
       "</pre>\n"
      ],
      "text/plain": [
       "EPOCH 4 - PROGRESS: at 45.33% examples, 86781 words/s, in_qsize 2, out_qsize 0\n"
      ]
     },
     "metadata": {},
     "output_type": "display_data"
    },
    {
     "data": {
      "text/html": [
       "<pre style=\"white-space:pre;overflow-x:auto;line-height:normal;font-family:Menlo,'DejaVu Sans Mono',consolas,'Courier New',monospace\">EPOCH 4 - PROGRESS: at 45.96% examples, 86615 words/s, in_qsize 2, out_qsize 0\n",
       "</pre>\n"
      ],
      "text/plain": [
       "EPOCH 4 - PROGRESS: at 45.96% examples, 86615 words/s, in_qsize 2, out_qsize 0\n"
      ]
     },
     "metadata": {},
     "output_type": "display_data"
    },
    {
     "data": {
      "text/html": [
       "<pre style=\"white-space:pre;overflow-x:auto;line-height:normal;font-family:Menlo,'DejaVu Sans Mono',consolas,'Courier New',monospace\">EPOCH 4 - PROGRESS: at 46.62% examples, 86501 words/s, in_qsize 2, out_qsize 0\n",
       "</pre>\n"
      ],
      "text/plain": [
       "EPOCH 4 - PROGRESS: at 46.62% examples, 86501 words/s, in_qsize 2, out_qsize 0\n"
      ]
     },
     "metadata": {},
     "output_type": "display_data"
    },
    {
     "data": {
      "text/html": [
       "<pre style=\"white-space:pre;overflow-x:auto;line-height:normal;font-family:Menlo,'DejaVu Sans Mono',consolas,'Courier New',monospace\">EPOCH 4 - PROGRESS: at 47.30% examples, 86431 words/s, in_qsize 1, out_qsize 0\n",
       "</pre>\n"
      ],
      "text/plain": [
       "EPOCH 4 - PROGRESS: at 47.30% examples, 86431 words/s, in_qsize 1, out_qsize 0\n"
      ]
     },
     "metadata": {},
     "output_type": "display_data"
    },
    {
     "data": {
      "text/html": [
       "<pre style=\"white-space:pre;overflow-x:auto;line-height:normal;font-family:Menlo,'DejaVu Sans Mono',consolas,'Courier New',monospace\">EPOCH 4 - PROGRESS: at 47.92% examples, 86255 words/s, in_qsize 2, out_qsize 0\n",
       "</pre>\n"
      ],
      "text/plain": [
       "EPOCH 4 - PROGRESS: at 47.92% examples, 86255 words/s, in_qsize 2, out_qsize 0\n"
      ]
     },
     "metadata": {},
     "output_type": "display_data"
    },
    {
     "data": {
      "text/html": [
       "<pre style=\"white-space:pre;overflow-x:auto;line-height:normal;font-family:Menlo,'DejaVu Sans Mono',consolas,'Courier New',monospace\">EPOCH 4 - PROGRESS: at 48.59% examples, 86187 words/s, in_qsize 2, out_qsize 0\n",
       "</pre>\n"
      ],
      "text/plain": [
       "EPOCH 4 - PROGRESS: at 48.59% examples, 86187 words/s, in_qsize 2, out_qsize 0\n"
      ]
     },
     "metadata": {},
     "output_type": "display_data"
    },
    {
     "data": {
      "text/html": [
       "<pre style=\"white-space:pre;overflow-x:auto;line-height:normal;font-family:Menlo,'DejaVu Sans Mono',consolas,'Courier New',monospace\">EPOCH 4 - PROGRESS: at 49.32% examples, 86199 words/s, in_qsize 1, out_qsize 0\n",
       "</pre>\n"
      ],
      "text/plain": [
       "EPOCH 4 - PROGRESS: at 49.32% examples, 86199 words/s, in_qsize 1, out_qsize 0\n"
      ]
     },
     "metadata": {},
     "output_type": "display_data"
    },
    {
     "data": {
      "text/html": [
       "<pre style=\"white-space:pre;overflow-x:auto;line-height:normal;font-family:Menlo,'DejaVu Sans Mono',consolas,'Courier New',monospace\">EPOCH 4 - PROGRESS: at 50.07% examples, 86272 words/s, in_qsize 1, out_qsize 0\n",
       "</pre>\n"
      ],
      "text/plain": [
       "EPOCH 4 - PROGRESS: at 50.07% examples, 86272 words/s, in_qsize 1, out_qsize 0\n"
      ]
     },
     "metadata": {},
     "output_type": "display_data"
    },
    {
     "data": {
      "text/html": [
       "<pre style=\"white-space:pre;overflow-x:auto;line-height:normal;font-family:Menlo,'DejaVu Sans Mono',consolas,'Courier New',monospace\">EPOCH 4 - PROGRESS: at 50.73% examples, 86170 words/s, in_qsize 1, out_qsize 0\n",
       "</pre>\n"
      ],
      "text/plain": [
       "EPOCH 4 - PROGRESS: at 50.73% examples, 86170 words/s, in_qsize 1, out_qsize 0\n"
      ]
     },
     "metadata": {},
     "output_type": "display_data"
    },
    {
     "data": {
      "text/html": [
       "<pre style=\"white-space:pre;overflow-x:auto;line-height:normal;font-family:Menlo,'DejaVu Sans Mono',consolas,'Courier New',monospace\">EPOCH 4 - PROGRESS: at 51.31% examples, 85943 words/s, in_qsize 1, out_qsize 0\n",
       "</pre>\n"
      ],
      "text/plain": [
       "EPOCH 4 - PROGRESS: at 51.31% examples, 85943 words/s, in_qsize 1, out_qsize 0\n"
      ]
     },
     "metadata": {},
     "output_type": "display_data"
    },
    {
     "data": {
      "text/html": [
       "<pre style=\"white-space:pre;overflow-x:auto;line-height:normal;font-family:Menlo,'DejaVu Sans Mono',consolas,'Courier New',monospace\">EPOCH 4 - PROGRESS: at 52.03% examples, 85955 words/s, in_qsize 1, out_qsize 0\n",
       "</pre>\n"
      ],
      "text/plain": [
       "EPOCH 4 - PROGRESS: at 52.03% examples, 85955 words/s, in_qsize 1, out_qsize 0\n"
      ]
     },
     "metadata": {},
     "output_type": "display_data"
    },
    {
     "data": {
      "text/html": [
       "<pre style=\"white-space:pre;overflow-x:auto;line-height:normal;font-family:Menlo,'DejaVu Sans Mono',consolas,'Courier New',monospace\">EPOCH 4 - PROGRESS: at 52.72% examples, 85929 words/s, in_qsize 1, out_qsize 0\n",
       "</pre>\n"
      ],
      "text/plain": [
       "EPOCH 4 - PROGRESS: at 52.72% examples, 85929 words/s, in_qsize 1, out_qsize 0\n"
      ]
     },
     "metadata": {},
     "output_type": "display_data"
    },
    {
     "data": {
      "text/html": [
       "<pre style=\"white-space:pre;overflow-x:auto;line-height:normal;font-family:Menlo,'DejaVu Sans Mono',consolas,'Courier New',monospace\">EPOCH 4 - PROGRESS: at 53.40% examples, 85876 words/s, in_qsize 1, out_qsize 0\n",
       "</pre>\n"
      ],
      "text/plain": [
       "EPOCH 4 - PROGRESS: at 53.40% examples, 85876 words/s, in_qsize 1, out_qsize 0\n"
      ]
     },
     "metadata": {},
     "output_type": "display_data"
    },
    {
     "data": {
      "text/html": [
       "<pre style=\"white-space:pre;overflow-x:auto;line-height:normal;font-family:Menlo,'DejaVu Sans Mono',consolas,'Courier New',monospace\">EPOCH 4 - PROGRESS: at 54.11% examples, 85876 words/s, in_qsize 2, out_qsize 0\n",
       "</pre>\n"
      ],
      "text/plain": [
       "EPOCH 4 - PROGRESS: at 54.11% examples, 85876 words/s, in_qsize 2, out_qsize 0\n"
      ]
     },
     "metadata": {},
     "output_type": "display_data"
    },
    {
     "data": {
      "text/html": [
       "<pre style=\"white-space:pre;overflow-x:auto;line-height:normal;font-family:Menlo,'DejaVu Sans Mono',consolas,'Courier New',monospace\">EPOCH 4 - PROGRESS: at 54.82% examples, 85866 words/s, in_qsize 1, out_qsize 0\n",
       "</pre>\n"
      ],
      "text/plain": [
       "EPOCH 4 - PROGRESS: at 54.82% examples, 85866 words/s, in_qsize 1, out_qsize 0\n"
      ]
     },
     "metadata": {},
     "output_type": "display_data"
    },
    {
     "data": {
      "text/html": [
       "<pre style=\"white-space:pre;overflow-x:auto;line-height:normal;font-family:Menlo,'DejaVu Sans Mono',consolas,'Courier New',monospace\">EPOCH 4 - PROGRESS: at 55.51% examples, 85837 words/s, in_qsize 2, out_qsize 0\n",
       "</pre>\n"
      ],
      "text/plain": [
       "EPOCH 4 - PROGRESS: at 55.51% examples, 85837 words/s, in_qsize 2, out_qsize 0\n"
      ]
     },
     "metadata": {},
     "output_type": "display_data"
    },
    {
     "data": {
      "text/html": [
       "<pre style=\"white-space:pre;overflow-x:auto;line-height:normal;font-family:Menlo,'DejaVu Sans Mono',consolas,'Courier New',monospace\">EPOCH 4 - PROGRESS: at 56.25% examples, 85877 words/s, in_qsize 1, out_qsize 0\n",
       "</pre>\n"
      ],
      "text/plain": [
       "EPOCH 4 - PROGRESS: at 56.25% examples, 85877 words/s, in_qsize 1, out_qsize 0\n"
      ]
     },
     "metadata": {},
     "output_type": "display_data"
    },
    {
     "data": {
      "text/html": [
       "<pre style=\"white-space:pre;overflow-x:auto;line-height:normal;font-family:Menlo,'DejaVu Sans Mono',consolas,'Courier New',monospace\">EPOCH 4 - PROGRESS: at 56.97% examples, 85887 words/s, in_qsize 1, out_qsize 0\n",
       "</pre>\n"
      ],
      "text/plain": [
       "EPOCH 4 - PROGRESS: at 56.97% examples, 85887 words/s, in_qsize 1, out_qsize 0\n"
      ]
     },
     "metadata": {},
     "output_type": "display_data"
    },
    {
     "data": {
      "text/html": [
       "<pre style=\"white-space:pre;overflow-x:auto;line-height:normal;font-family:Menlo,'DejaVu Sans Mono',consolas,'Courier New',monospace\">EPOCH 4 - PROGRESS: at 57.73% examples, 85960 words/s, in_qsize 1, out_qsize 0\n",
       "</pre>\n"
      ],
      "text/plain": [
       "EPOCH 4 - PROGRESS: at 57.73% examples, 85960 words/s, in_qsize 1, out_qsize 0\n"
      ]
     },
     "metadata": {},
     "output_type": "display_data"
    },
    {
     "data": {
      "text/html": [
       "<pre style=\"white-space:pre;overflow-x:auto;line-height:normal;font-family:Menlo,'DejaVu Sans Mono',consolas,'Courier New',monospace\">EPOCH 4 - PROGRESS: at 58.44% examples, 85959 words/s, in_qsize 2, out_qsize 0\n",
       "</pre>\n"
      ],
      "text/plain": [
       "EPOCH 4 - PROGRESS: at 58.44% examples, 85959 words/s, in_qsize 2, out_qsize 0\n"
      ]
     },
     "metadata": {},
     "output_type": "display_data"
    },
    {
     "data": {
      "text/html": [
       "<pre style=\"white-space:pre;overflow-x:auto;line-height:normal;font-family:Menlo,'DejaVu Sans Mono',consolas,'Courier New',monospace\">EPOCH 4 - PROGRESS: at 59.20% examples, 86020 words/s, in_qsize 1, out_qsize 0\n",
       "</pre>\n"
      ],
      "text/plain": [
       "EPOCH 4 - PROGRESS: at 59.20% examples, 86020 words/s, in_qsize 1, out_qsize 0\n"
      ]
     },
     "metadata": {},
     "output_type": "display_data"
    },
    {
     "data": {
      "text/html": [
       "<pre style=\"white-space:pre;overflow-x:auto;line-height:normal;font-family:Menlo,'DejaVu Sans Mono',consolas,'Courier New',monospace\">EPOCH 4 - PROGRESS: at 59.93% examples, 86043 words/s, in_qsize 1, out_qsize 0\n",
       "</pre>\n"
      ],
      "text/plain": [
       "EPOCH 4 - PROGRESS: at 59.93% examples, 86043 words/s, in_qsize 1, out_qsize 0\n"
      ]
     },
     "metadata": {},
     "output_type": "display_data"
    },
    {
     "data": {
      "text/html": [
       "<pre style=\"white-space:pre;overflow-x:auto;line-height:normal;font-family:Menlo,'DejaVu Sans Mono',consolas,'Courier New',monospace\">EPOCH 4 - PROGRESS: at 60.67% examples, 86082 words/s, in_qsize 1, out_qsize 0\n",
       "</pre>\n"
      ],
      "text/plain": [
       "EPOCH 4 - PROGRESS: at 60.67% examples, 86082 words/s, in_qsize 1, out_qsize 0\n"
      ]
     },
     "metadata": {},
     "output_type": "display_data"
    },
    {
     "data": {
      "text/html": [
       "<pre style=\"white-space:pre;overflow-x:auto;line-height:normal;font-family:Menlo,'DejaVu Sans Mono',consolas,'Courier New',monospace\">EPOCH 4 - PROGRESS: at 61.39% examples, 86089 words/s, in_qsize 1, out_qsize 0\n",
       "</pre>\n"
      ],
      "text/plain": [
       "EPOCH 4 - PROGRESS: at 61.39% examples, 86089 words/s, in_qsize 1, out_qsize 0\n"
      ]
     },
     "metadata": {},
     "output_type": "display_data"
    },
    {
     "data": {
      "text/html": [
       "<pre style=\"white-space:pre;overflow-x:auto;line-height:normal;font-family:Menlo,'DejaVu Sans Mono',consolas,'Courier New',monospace\">EPOCH 4 - PROGRESS: at 62.10% examples, 86087 words/s, in_qsize 2, out_qsize 0\n",
       "</pre>\n"
      ],
      "text/plain": [
       "EPOCH 4 - PROGRESS: at 62.10% examples, 86087 words/s, in_qsize 2, out_qsize 0\n"
      ]
     },
     "metadata": {},
     "output_type": "display_data"
    },
    {
     "data": {
      "text/html": [
       "<pre style=\"white-space:pre;overflow-x:auto;line-height:normal;font-family:Menlo,'DejaVu Sans Mono',consolas,'Courier New',monospace\">EPOCH 4 - PROGRESS: at 62.78% examples, 86043 words/s, in_qsize 1, out_qsize 0\n",
       "</pre>\n"
      ],
      "text/plain": [
       "EPOCH 4 - PROGRESS: at 62.78% examples, 86043 words/s, in_qsize 1, out_qsize 0\n"
      ]
     },
     "metadata": {},
     "output_type": "display_data"
    },
    {
     "data": {
      "text/html": [
       "<pre style=\"white-space:pre;overflow-x:auto;line-height:normal;font-family:Menlo,'DejaVu Sans Mono',consolas,'Courier New',monospace\">EPOCH 4 - PROGRESS: at 63.50% examples, 86050 words/s, in_qsize 1, out_qsize 0\n",
       "</pre>\n"
      ],
      "text/plain": [
       "EPOCH 4 - PROGRESS: at 63.50% examples, 86050 words/s, in_qsize 1, out_qsize 0\n"
      ]
     },
     "metadata": {},
     "output_type": "display_data"
    },
    {
     "data": {
      "text/html": [
       "<pre style=\"white-space:pre;overflow-x:auto;line-height:normal;font-family:Menlo,'DejaVu Sans Mono',consolas,'Courier New',monospace\">EPOCH 4 - PROGRESS: at 64.22% examples, 86054 words/s, in_qsize 1, out_qsize 0\n",
       "</pre>\n"
      ],
      "text/plain": [
       "EPOCH 4 - PROGRESS: at 64.22% examples, 86054 words/s, in_qsize 1, out_qsize 0\n"
      ]
     },
     "metadata": {},
     "output_type": "display_data"
    },
    {
     "data": {
      "text/html": [
       "<pre style=\"white-space:pre;overflow-x:auto;line-height:normal;font-family:Menlo,'DejaVu Sans Mono',consolas,'Courier New',monospace\">EPOCH 4 - PROGRESS: at 64.87% examples, 85975 words/s, in_qsize 1, out_qsize 0\n",
       "</pre>\n"
      ],
      "text/plain": [
       "EPOCH 4 - PROGRESS: at 64.87% examples, 85975 words/s, in_qsize 1, out_qsize 0\n"
      ]
     },
     "metadata": {},
     "output_type": "display_data"
    },
    {
     "data": {
      "text/html": [
       "<pre style=\"white-space:pre;overflow-x:auto;line-height:normal;font-family:Menlo,'DejaVu Sans Mono',consolas,'Courier New',monospace\">EPOCH 4 - PROGRESS: at 65.57% examples, 85955 words/s, in_qsize 1, out_qsize 0\n",
       "</pre>\n"
      ],
      "text/plain": [
       "EPOCH 4 - PROGRESS: at 65.57% examples, 85955 words/s, in_qsize 1, out_qsize 0\n"
      ]
     },
     "metadata": {},
     "output_type": "display_data"
    },
    {
     "data": {
      "text/html": [
       "<pre style=\"white-space:pre;overflow-x:auto;line-height:normal;font-family:Menlo,'DejaVu Sans Mono',consolas,'Courier New',monospace\">EPOCH 4 - PROGRESS: at 66.27% examples, 85940 words/s, in_qsize 1, out_qsize 0\n",
       "</pre>\n"
      ],
      "text/plain": [
       "EPOCH 4 - PROGRESS: at 66.27% examples, 85940 words/s, in_qsize 1, out_qsize 0\n"
      ]
     },
     "metadata": {},
     "output_type": "display_data"
    },
    {
     "data": {
      "text/html": [
       "<pre style=\"white-space:pre;overflow-x:auto;line-height:normal;font-family:Menlo,'DejaVu Sans Mono',consolas,'Courier New',monospace\">EPOCH 4 - PROGRESS: at 66.96% examples, 85907 words/s, in_qsize 2, out_qsize 0\n",
       "</pre>\n"
      ],
      "text/plain": [
       "EPOCH 4 - PROGRESS: at 66.96% examples, 85907 words/s, in_qsize 2, out_qsize 0\n"
      ]
     },
     "metadata": {},
     "output_type": "display_data"
    },
    {
     "data": {
      "text/html": [
       "<pre style=\"white-space:pre;overflow-x:auto;line-height:normal;font-family:Menlo,'DejaVu Sans Mono',consolas,'Courier New',monospace\">EPOCH 4 - PROGRESS: at 67.61% examples, 85828 words/s, in_qsize 1, out_qsize 0\n",
       "</pre>\n"
      ],
      "text/plain": [
       "EPOCH 4 - PROGRESS: at 67.61% examples, 85828 words/s, in_qsize 1, out_qsize 0\n"
      ]
     },
     "metadata": {},
     "output_type": "display_data"
    },
    {
     "data": {
      "text/html": [
       "<pre style=\"white-space:pre;overflow-x:auto;line-height:normal;font-family:Menlo,'DejaVu Sans Mono',consolas,'Courier New',monospace\">EPOCH 4 - PROGRESS: at 68.17% examples, 85638 words/s, in_qsize 1, out_qsize 0\n",
       "</pre>\n"
      ],
      "text/plain": [
       "EPOCH 4 - PROGRESS: at 68.17% examples, 85638 words/s, in_qsize 1, out_qsize 0\n"
      ]
     },
     "metadata": {},
     "output_type": "display_data"
    },
    {
     "data": {
      "text/html": [
       "<pre style=\"white-space:pre;overflow-x:auto;line-height:normal;font-family:Menlo,'DejaVu Sans Mono',consolas,'Courier New',monospace\">EPOCH 4 - PROGRESS: at 68.74% examples, 85472 words/s, in_qsize 2, out_qsize 0\n",
       "</pre>\n"
      ],
      "text/plain": [
       "EPOCH 4 - PROGRESS: at 68.74% examples, 85472 words/s, in_qsize 2, out_qsize 0\n"
      ]
     },
     "metadata": {},
     "output_type": "display_data"
    },
    {
     "data": {
      "text/html": [
       "<pre style=\"white-space:pre;overflow-x:auto;line-height:normal;font-family:Menlo,'DejaVu Sans Mono',consolas,'Courier New',monospace\">EPOCH 4 - PROGRESS: at 69.33% examples, 85317 words/s, in_qsize 2, out_qsize 0\n",
       "</pre>\n"
      ],
      "text/plain": [
       "EPOCH 4 - PROGRESS: at 69.33% examples, 85317 words/s, in_qsize 2, out_qsize 0\n"
      ]
     },
     "metadata": {},
     "output_type": "display_data"
    },
    {
     "data": {
      "text/html": [
       "<pre style=\"white-space:pre;overflow-x:auto;line-height:normal;font-family:Menlo,'DejaVu Sans Mono',consolas,'Courier New',monospace\">EPOCH 4 - PROGRESS: at 69.85% examples, 85093 words/s, in_qsize 1, out_qsize 0\n",
       "</pre>\n"
      ],
      "text/plain": [
       "EPOCH 4 - PROGRESS: at 69.85% examples, 85093 words/s, in_qsize 1, out_qsize 0\n"
      ]
     },
     "metadata": {},
     "output_type": "display_data"
    },
    {
     "data": {
      "text/html": [
       "<pre style=\"white-space:pre;overflow-x:auto;line-height:normal;font-family:Menlo,'DejaVu Sans Mono',consolas,'Courier New',monospace\">EPOCH 4 - PROGRESS: at 70.56% examples, 85096 words/s, in_qsize 1, out_qsize 0\n",
       "</pre>\n"
      ],
      "text/plain": [
       "EPOCH 4 - PROGRESS: at 70.56% examples, 85096 words/s, in_qsize 1, out_qsize 0\n"
      ]
     },
     "metadata": {},
     "output_type": "display_data"
    },
    {
     "data": {
      "text/html": [
       "<pre style=\"white-space:pre;overflow-x:auto;line-height:normal;font-family:Menlo,'DejaVu Sans Mono',consolas,'Courier New',monospace\">EPOCH 4 - PROGRESS: at 71.24% examples, 85070 words/s, in_qsize 1, out_qsize 0\n",
       "</pre>\n"
      ],
      "text/plain": [
       "EPOCH 4 - PROGRESS: at 71.24% examples, 85070 words/s, in_qsize 1, out_qsize 0\n"
      ]
     },
     "metadata": {},
     "output_type": "display_data"
    },
    {
     "data": {
      "text/html": [
       "<pre style=\"white-space:pre;overflow-x:auto;line-height:normal;font-family:Menlo,'DejaVu Sans Mono',consolas,'Courier New',monospace\">EPOCH 4 - PROGRESS: at 71.96% examples, 85083 words/s, in_qsize 1, out_qsize 0\n",
       "</pre>\n"
      ],
      "text/plain": [
       "EPOCH 4 - PROGRESS: at 71.96% examples, 85083 words/s, in_qsize 1, out_qsize 0\n"
      ]
     },
     "metadata": {},
     "output_type": "display_data"
    },
    {
     "data": {
      "text/html": [
       "<pre style=\"white-space:pre;overflow-x:auto;line-height:normal;font-family:Menlo,'DejaVu Sans Mono',consolas,'Courier New',monospace\">EPOCH 4 - PROGRESS: at 72.73% examples, 85157 words/s, in_qsize 2, out_qsize 0\n",
       "</pre>\n"
      ],
      "text/plain": [
       "EPOCH 4 - PROGRESS: at 72.73% examples, 85157 words/s, in_qsize 2, out_qsize 0\n"
      ]
     },
     "metadata": {},
     "output_type": "display_data"
    },
    {
     "data": {
      "text/html": [
       "<pre style=\"white-space:pre;overflow-x:auto;line-height:normal;font-family:Menlo,'DejaVu Sans Mono',consolas,'Courier New',monospace\">EPOCH 4 - PROGRESS: at 73.49% examples, 85223 words/s, in_qsize 1, out_qsize 0\n",
       "</pre>\n"
      ],
      "text/plain": [
       "EPOCH 4 - PROGRESS: at 73.49% examples, 85223 words/s, in_qsize 1, out_qsize 0\n"
      ]
     },
     "metadata": {},
     "output_type": "display_data"
    },
    {
     "data": {
      "text/html": [
       "<pre style=\"white-space:pre;overflow-x:auto;line-height:normal;font-family:Menlo,'DejaVu Sans Mono',consolas,'Courier New',monospace\">EPOCH 4 - PROGRESS: at 74.25% examples, 85291 words/s, in_qsize 1, out_qsize 0\n",
       "</pre>\n"
      ],
      "text/plain": [
       "EPOCH 4 - PROGRESS: at 74.25% examples, 85291 words/s, in_qsize 1, out_qsize 0\n"
      ]
     },
     "metadata": {},
     "output_type": "display_data"
    },
    {
     "data": {
      "text/html": [
       "<pre style=\"white-space:pre;overflow-x:auto;line-height:normal;font-family:Menlo,'DejaVu Sans Mono',consolas,'Courier New',monospace\">EPOCH 4 - PROGRESS: at 74.96% examples, 85287 words/s, in_qsize 2, out_qsize 0\n",
       "</pre>\n"
      ],
      "text/plain": [
       "EPOCH 4 - PROGRESS: at 74.96% examples, 85287 words/s, in_qsize 2, out_qsize 0\n"
      ]
     },
     "metadata": {},
     "output_type": "display_data"
    },
    {
     "data": {
      "text/html": [
       "<pre style=\"white-space:pre;overflow-x:auto;line-height:normal;font-family:Menlo,'DejaVu Sans Mono',consolas,'Courier New',monospace\">EPOCH 4 - PROGRESS: at 75.56% examples, 85173 words/s, in_qsize 1, out_qsize 0\n",
       "</pre>\n"
      ],
      "text/plain": [
       "EPOCH 4 - PROGRESS: at 75.56% examples, 85173 words/s, in_qsize 1, out_qsize 0\n"
      ]
     },
     "metadata": {},
     "output_type": "display_data"
    },
    {
     "data": {
      "text/html": [
       "<pre style=\"white-space:pre;overflow-x:auto;line-height:normal;font-family:Menlo,'DejaVu Sans Mono',consolas,'Courier New',monospace\">EPOCH 4 - PROGRESS: at 76.12% examples, 85010 words/s, in_qsize 1, out_qsize 0\n",
       "</pre>\n"
      ],
      "text/plain": [
       "EPOCH 4 - PROGRESS: at 76.12% examples, 85010 words/s, in_qsize 1, out_qsize 0\n"
      ]
     },
     "metadata": {},
     "output_type": "display_data"
    },
    {
     "data": {
      "text/html": [
       "<pre style=\"white-space:pre;overflow-x:auto;line-height:normal;font-family:Menlo,'DejaVu Sans Mono',consolas,'Courier New',monospace\">EPOCH 4 - PROGRESS: at 76.83% examples, 85016 words/s, in_qsize 1, out_qsize 0\n",
       "</pre>\n"
      ],
      "text/plain": [
       "EPOCH 4 - PROGRESS: at 76.83% examples, 85016 words/s, in_qsize 1, out_qsize 0\n"
      ]
     },
     "metadata": {},
     "output_type": "display_data"
    },
    {
     "data": {
      "text/html": [
       "<pre style=\"white-space:pre;overflow-x:auto;line-height:normal;font-family:Menlo,'DejaVu Sans Mono',consolas,'Courier New',monospace\">EPOCH 4 - PROGRESS: at 77.56% examples, 85043 words/s, in_qsize 1, out_qsize 0\n",
       "</pre>\n"
      ],
      "text/plain": [
       "EPOCH 4 - PROGRESS: at 77.56% examples, 85043 words/s, in_qsize 1, out_qsize 0\n"
      ]
     },
     "metadata": {},
     "output_type": "display_data"
    },
    {
     "data": {
      "text/html": [
       "<pre style=\"white-space:pre;overflow-x:auto;line-height:normal;font-family:Menlo,'DejaVu Sans Mono',consolas,'Courier New',monospace\">EPOCH 4 - PROGRESS: at 78.28% examples, 85057 words/s, in_qsize 2, out_qsize 0\n",
       "</pre>\n"
      ],
      "text/plain": [
       "EPOCH 4 - PROGRESS: at 78.28% examples, 85057 words/s, in_qsize 2, out_qsize 0\n"
      ]
     },
     "metadata": {},
     "output_type": "display_data"
    },
    {
     "data": {
      "text/html": [
       "<pre style=\"white-space:pre;overflow-x:auto;line-height:normal;font-family:Menlo,'DejaVu Sans Mono',consolas,'Courier New',monospace\">EPOCH 4 - PROGRESS: at 78.86% examples, 84924 words/s, in_qsize 1, out_qsize 0\n",
       "</pre>\n"
      ],
      "text/plain": [
       "EPOCH 4 - PROGRESS: at 78.86% examples, 84924 words/s, in_qsize 1, out_qsize 0\n"
      ]
     },
     "metadata": {},
     "output_type": "display_data"
    },
    {
     "data": {
      "text/html": [
       "<pre style=\"white-space:pre;overflow-x:auto;line-height:normal;font-family:Menlo,'DejaVu Sans Mono',consolas,'Courier New',monospace\">EPOCH 4 - PROGRESS: at 79.39% examples, 84738 words/s, in_qsize 2, out_qsize 0\n",
       "</pre>\n"
      ],
      "text/plain": [
       "EPOCH 4 - PROGRESS: at 79.39% examples, 84738 words/s, in_qsize 2, out_qsize 0\n"
      ]
     },
     "metadata": {},
     "output_type": "display_data"
    },
    {
     "data": {
      "text/html": [
       "<pre style=\"white-space:pre;overflow-x:auto;line-height:normal;font-family:Menlo,'DejaVu Sans Mono',consolas,'Courier New',monospace\">EPOCH 4 - PROGRESS: at 80.02% examples, 84653 words/s, in_qsize 1, out_qsize 0\n",
       "</pre>\n"
      ],
      "text/plain": [
       "EPOCH 4 - PROGRESS: at 80.02% examples, 84653 words/s, in_qsize 1, out_qsize 0\n"
      ]
     },
     "metadata": {},
     "output_type": "display_data"
    },
    {
     "data": {
      "text/html": [
       "<pre style=\"white-space:pre;overflow-x:auto;line-height:normal;font-family:Menlo,'DejaVu Sans Mono',consolas,'Courier New',monospace\">EPOCH 4 - PROGRESS: at 80.61% examples, 84536 words/s, in_qsize 1, out_qsize 0\n",
       "</pre>\n"
      ],
      "text/plain": [
       "EPOCH 4 - PROGRESS: at 80.61% examples, 84536 words/s, in_qsize 1, out_qsize 0\n"
      ]
     },
     "metadata": {},
     "output_type": "display_data"
    },
    {
     "data": {
      "text/html": [
       "<pre style=\"white-space:pre;overflow-x:auto;line-height:normal;font-family:Menlo,'DejaVu Sans Mono',consolas,'Courier New',monospace\">EPOCH 4 - PROGRESS: at 81.11% examples, 84331 words/s, in_qsize 2, out_qsize 0\n",
       "</pre>\n"
      ],
      "text/plain": [
       "EPOCH 4 - PROGRESS: at 81.11% examples, 84331 words/s, in_qsize 2, out_qsize 0\n"
      ]
     },
     "metadata": {},
     "output_type": "display_data"
    },
    {
     "data": {
      "text/html": [
       "<pre style=\"white-space:pre;overflow-x:auto;line-height:normal;font-family:Menlo,'DejaVu Sans Mono',consolas,'Courier New',monospace\">EPOCH 4 - PROGRESS: at 81.69% examples, 84210 words/s, in_qsize 1, out_qsize 0\n",
       "</pre>\n"
      ],
      "text/plain": [
       "EPOCH 4 - PROGRESS: at 81.69% examples, 84210 words/s, in_qsize 1, out_qsize 0\n"
      ]
     },
     "metadata": {},
     "output_type": "display_data"
    },
    {
     "data": {
      "text/html": [
       "<pre style=\"white-space:pre;overflow-x:auto;line-height:normal;font-family:Menlo,'DejaVu Sans Mono',consolas,'Courier New',monospace\">EPOCH 4 - PROGRESS: at 82.31% examples, 84124 words/s, in_qsize 1, out_qsize 0\n",
       "</pre>\n"
      ],
      "text/plain": [
       "EPOCH 4 - PROGRESS: at 82.31% examples, 84124 words/s, in_qsize 1, out_qsize 0\n"
      ]
     },
     "metadata": {},
     "output_type": "display_data"
    },
    {
     "data": {
      "text/html": [
       "<pre style=\"white-space:pre;overflow-x:auto;line-height:normal;font-family:Menlo,'DejaVu Sans Mono',consolas,'Courier New',monospace\">EPOCH 4 - PROGRESS: at 82.94% examples, 84058 words/s, in_qsize 1, out_qsize 0\n",
       "</pre>\n"
      ],
      "text/plain": [
       "EPOCH 4 - PROGRESS: at 82.94% examples, 84058 words/s, in_qsize 1, out_qsize 0\n"
      ]
     },
     "metadata": {},
     "output_type": "display_data"
    },
    {
     "data": {
      "text/html": [
       "<pre style=\"white-space:pre;overflow-x:auto;line-height:normal;font-family:Menlo,'DejaVu Sans Mono',consolas,'Courier New',monospace\">EPOCH 4 - PROGRESS: at 83.61% examples, 84031 words/s, in_qsize 2, out_qsize 0\n",
       "</pre>\n"
      ],
      "text/plain": [
       "EPOCH 4 - PROGRESS: at 83.61% examples, 84031 words/s, in_qsize 2, out_qsize 0\n"
      ]
     },
     "metadata": {},
     "output_type": "display_data"
    },
    {
     "data": {
      "text/html": [
       "<pre style=\"white-space:pre;overflow-x:auto;line-height:normal;font-family:Menlo,'DejaVu Sans Mono',consolas,'Courier New',monospace\">EPOCH 4 - PROGRESS: at 84.22% examples, 83947 words/s, in_qsize 2, out_qsize 0\n",
       "</pre>\n"
      ],
      "text/plain": [
       "EPOCH 4 - PROGRESS: at 84.22% examples, 83947 words/s, in_qsize 2, out_qsize 0\n"
      ]
     },
     "metadata": {},
     "output_type": "display_data"
    },
    {
     "data": {
      "text/html": [
       "<pre style=\"white-space:pre;overflow-x:auto;line-height:normal;font-family:Menlo,'DejaVu Sans Mono',consolas,'Courier New',monospace\">EPOCH 4 - PROGRESS: at 84.93% examples, 83962 words/s, in_qsize 1, out_qsize 0\n",
       "</pre>\n"
      ],
      "text/plain": [
       "EPOCH 4 - PROGRESS: at 84.93% examples, 83962 words/s, in_qsize 1, out_qsize 0\n"
      ]
     },
     "metadata": {},
     "output_type": "display_data"
    },
    {
     "data": {
      "text/html": [
       "<pre style=\"white-space:pre;overflow-x:auto;line-height:normal;font-family:Menlo,'DejaVu Sans Mono',consolas,'Courier New',monospace\">EPOCH 4 - PROGRESS: at 85.61% examples, 83950 words/s, in_qsize 1, out_qsize 0\n",
       "</pre>\n"
      ],
      "text/plain": [
       "EPOCH 4 - PROGRESS: at 85.61% examples, 83950 words/s, in_qsize 1, out_qsize 0\n"
      ]
     },
     "metadata": {},
     "output_type": "display_data"
    },
    {
     "data": {
      "text/html": [
       "<pre style=\"white-space:pre;overflow-x:auto;line-height:normal;font-family:Menlo,'DejaVu Sans Mono',consolas,'Courier New',monospace\">EPOCH 4 - PROGRESS: at 86.32% examples, 83962 words/s, in_qsize 1, out_qsize 0\n",
       "</pre>\n"
      ],
      "text/plain": [
       "EPOCH 4 - PROGRESS: at 86.32% examples, 83962 words/s, in_qsize 1, out_qsize 0\n"
      ]
     },
     "metadata": {},
     "output_type": "display_data"
    },
    {
     "data": {
      "text/html": [
       "<pre style=\"white-space:pre;overflow-x:auto;line-height:normal;font-family:Menlo,'DejaVu Sans Mono',consolas,'Courier New',monospace\">EPOCH 4 - PROGRESS: at 87.00% examples, 83944 words/s, in_qsize 1, out_qsize 0\n",
       "</pre>\n"
      ],
      "text/plain": [
       "EPOCH 4 - PROGRESS: at 87.00% examples, 83944 words/s, in_qsize 1, out_qsize 0\n"
      ]
     },
     "metadata": {},
     "output_type": "display_data"
    },
    {
     "data": {
      "text/html": [
       "<pre style=\"white-space:pre;overflow-x:auto;line-height:normal;font-family:Menlo,'DejaVu Sans Mono',consolas,'Courier New',monospace\">EPOCH 4 - PROGRESS: at 87.70% examples, 83950 words/s, in_qsize 1, out_qsize 0\n",
       "</pre>\n"
      ],
      "text/plain": [
       "EPOCH 4 - PROGRESS: at 87.70% examples, 83950 words/s, in_qsize 1, out_qsize 0\n"
      ]
     },
     "metadata": {},
     "output_type": "display_data"
    },
    {
     "data": {
      "text/html": [
       "<pre style=\"white-space:pre;overflow-x:auto;line-height:normal;font-family:Menlo,'DejaVu Sans Mono',consolas,'Courier New',monospace\">EPOCH 4 - PROGRESS: at 88.40% examples, 83948 words/s, in_qsize 1, out_qsize 0\n",
       "</pre>\n"
      ],
      "text/plain": [
       "EPOCH 4 - PROGRESS: at 88.40% examples, 83948 words/s, in_qsize 1, out_qsize 0\n"
      ]
     },
     "metadata": {},
     "output_type": "display_data"
    },
    {
     "data": {
      "text/html": [
       "<pre style=\"white-space:pre;overflow-x:auto;line-height:normal;font-family:Menlo,'DejaVu Sans Mono',consolas,'Courier New',monospace\">EPOCH 4 - PROGRESS: at 89.10% examples, 83955 words/s, in_qsize 1, out_qsize 0\n",
       "</pre>\n"
      ],
      "text/plain": [
       "EPOCH 4 - PROGRESS: at 89.10% examples, 83955 words/s, in_qsize 1, out_qsize 0\n"
      ]
     },
     "metadata": {},
     "output_type": "display_data"
    },
    {
     "data": {
      "text/html": [
       "<pre style=\"white-space:pre;overflow-x:auto;line-height:normal;font-family:Menlo,'DejaVu Sans Mono',consolas,'Courier New',monospace\">EPOCH 4 - PROGRESS: at 89.79% examples, 83952 words/s, in_qsize 2, out_qsize 0\n",
       "</pre>\n"
      ],
      "text/plain": [
       "EPOCH 4 - PROGRESS: at 89.79% examples, 83952 words/s, in_qsize 2, out_qsize 0\n"
      ]
     },
     "metadata": {},
     "output_type": "display_data"
    },
    {
     "data": {
      "text/html": [
       "<pre style=\"white-space:pre;overflow-x:auto;line-height:normal;font-family:Menlo,'DejaVu Sans Mono',consolas,'Courier New',monospace\">EPOCH 4 - PROGRESS: at 90.48% examples, 83940 words/s, in_qsize 1, out_qsize 1\n",
       "</pre>\n"
      ],
      "text/plain": [
       "EPOCH 4 - PROGRESS: at 90.48% examples, 83940 words/s, in_qsize 1, out_qsize 1\n"
      ]
     },
     "metadata": {},
     "output_type": "display_data"
    },
    {
     "data": {
      "text/html": [
       "<pre style=\"white-space:pre;overflow-x:auto;line-height:normal;font-family:Menlo,'DejaVu Sans Mono',consolas,'Courier New',monospace\">EPOCH 4 - PROGRESS: at 91.17% examples, 83938 words/s, in_qsize 1, out_qsize 0\n",
       "</pre>\n"
      ],
      "text/plain": [
       "EPOCH 4 - PROGRESS: at 91.17% examples, 83938 words/s, in_qsize 1, out_qsize 0\n"
      ]
     },
     "metadata": {},
     "output_type": "display_data"
    },
    {
     "data": {
      "text/html": [
       "<pre style=\"white-space:pre;overflow-x:auto;line-height:normal;font-family:Menlo,'DejaVu Sans Mono',consolas,'Courier New',monospace\">EPOCH 4 - PROGRESS: at 91.87% examples, 83944 words/s, in_qsize 1, out_qsize 0\n",
       "</pre>\n"
      ],
      "text/plain": [
       "EPOCH 4 - PROGRESS: at 91.87% examples, 83944 words/s, in_qsize 1, out_qsize 0\n"
      ]
     },
     "metadata": {},
     "output_type": "display_data"
    },
    {
     "data": {
      "text/html": [
       "<pre style=\"white-space:pre;overflow-x:auto;line-height:normal;font-family:Menlo,'DejaVu Sans Mono',consolas,'Courier New',monospace\">EPOCH 4 - PROGRESS: at 92.63% examples, 84000 words/s, in_qsize 1, out_qsize 0\n",
       "</pre>\n"
      ],
      "text/plain": [
       "EPOCH 4 - PROGRESS: at 92.63% examples, 84000 words/s, in_qsize 1, out_qsize 0\n"
      ]
     },
     "metadata": {},
     "output_type": "display_data"
    },
    {
     "data": {
      "text/html": [
       "<pre style=\"white-space:pre;overflow-x:auto;line-height:normal;font-family:Menlo,'DejaVu Sans Mono',consolas,'Courier New',monospace\">EPOCH 4 - PROGRESS: at 93.35% examples, 84017 words/s, in_qsize 2, out_qsize 0\n",
       "</pre>\n"
      ],
      "text/plain": [
       "EPOCH 4 - PROGRESS: at 93.35% examples, 84017 words/s, in_qsize 2, out_qsize 0\n"
      ]
     },
     "metadata": {},
     "output_type": "display_data"
    },
    {
     "data": {
      "text/html": [
       "<pre style=\"white-space:pre;overflow-x:auto;line-height:normal;font-family:Menlo,'DejaVu Sans Mono',consolas,'Courier New',monospace\">EPOCH 4 - PROGRESS: at 94.04% examples, 84015 words/s, in_qsize 2, out_qsize 1\n",
       "</pre>\n"
      ],
      "text/plain": [
       "EPOCH 4 - PROGRESS: at 94.04% examples, 84015 words/s, in_qsize 2, out_qsize 1\n"
      ]
     },
     "metadata": {},
     "output_type": "display_data"
    },
    {
     "data": {
      "text/html": [
       "<pre style=\"white-space:pre;overflow-x:auto;line-height:normal;font-family:Menlo,'DejaVu Sans Mono',consolas,'Courier New',monospace\">EPOCH 4 - PROGRESS: at 94.74% examples, 84017 words/s, in_qsize 1, out_qsize 0\n",
       "</pre>\n"
      ],
      "text/plain": [
       "EPOCH 4 - PROGRESS: at 94.74% examples, 84017 words/s, in_qsize 1, out_qsize 0\n"
      ]
     },
     "metadata": {},
     "output_type": "display_data"
    },
    {
     "data": {
      "text/html": [
       "<pre style=\"white-space:pre;overflow-x:auto;line-height:normal;font-family:Menlo,'DejaVu Sans Mono',consolas,'Courier New',monospace\">EPOCH 4 - PROGRESS: at 95.44% examples, 84018 words/s, in_qsize 1, out_qsize 0\n",
       "</pre>\n"
      ],
      "text/plain": [
       "EPOCH 4 - PROGRESS: at 95.44% examples, 84018 words/s, in_qsize 1, out_qsize 0\n"
      ]
     },
     "metadata": {},
     "output_type": "display_data"
    },
    {
     "data": {
      "text/html": [
       "<pre style=\"white-space:pre;overflow-x:auto;line-height:normal;font-family:Menlo,'DejaVu Sans Mono',consolas,'Courier New',monospace\">EPOCH 4 - PROGRESS: at 96.14% examples, 84020 words/s, in_qsize 2, out_qsize 0\n",
       "</pre>\n"
      ],
      "text/plain": [
       "EPOCH 4 - PROGRESS: at 96.14% examples, 84020 words/s, in_qsize 2, out_qsize 0\n"
      ]
     },
     "metadata": {},
     "output_type": "display_data"
    },
    {
     "data": {
      "text/html": [
       "<pre style=\"white-space:pre;overflow-x:auto;line-height:normal;font-family:Menlo,'DejaVu Sans Mono',consolas,'Courier New',monospace\">EPOCH 4 - PROGRESS: at 96.84% examples, 84025 words/s, in_qsize 2, out_qsize 0\n",
       "</pre>\n"
      ],
      "text/plain": [
       "EPOCH 4 - PROGRESS: at 96.84% examples, 84025 words/s, in_qsize 2, out_qsize 0\n"
      ]
     },
     "metadata": {},
     "output_type": "display_data"
    },
    {
     "data": {
      "text/html": [
       "<pre style=\"white-space:pre;overflow-x:auto;line-height:normal;font-family:Menlo,'DejaVu Sans Mono',consolas,'Courier New',monospace\">EPOCH 4 - PROGRESS: at 97.57% examples, 84055 words/s, in_qsize 2, out_qsize 0\n",
       "</pre>\n"
      ],
      "text/plain": [
       "EPOCH 4 - PROGRESS: at 97.57% examples, 84055 words/s, in_qsize 2, out_qsize 0\n"
      ]
     },
     "metadata": {},
     "output_type": "display_data"
    },
    {
     "data": {
      "text/html": [
       "<pre style=\"white-space:pre;overflow-x:auto;line-height:normal;font-family:Menlo,'DejaVu Sans Mono',consolas,'Courier New',monospace\">EPOCH 4 - PROGRESS: at 98.29% examples, 84075 words/s, in_qsize 0, out_qsize 1\n",
       "</pre>\n"
      ],
      "text/plain": [
       "EPOCH 4 - PROGRESS: at 98.29% examples, 84075 words/s, in_qsize 0, out_qsize 1\n"
      ]
     },
     "metadata": {},
     "output_type": "display_data"
    },
    {
     "data": {
      "text/html": [
       "<pre style=\"white-space:pre;overflow-x:auto;line-height:normal;font-family:Menlo,'DejaVu Sans Mono',consolas,'Courier New',monospace\">EPOCH 4 - PROGRESS: at 98.99% examples, 84080 words/s, in_qsize 2, out_qsize 0\n",
       "</pre>\n"
      ],
      "text/plain": [
       "EPOCH 4 - PROGRESS: at 98.99% examples, 84080 words/s, in_qsize 2, out_qsize 0\n"
      ]
     },
     "metadata": {},
     "output_type": "display_data"
    },
    {
     "data": {
      "text/html": [
       "<pre style=\"white-space:pre;overflow-x:auto;line-height:normal;font-family:Menlo,'DejaVu Sans Mono',consolas,'Courier New',monospace\">EPOCH 4 - PROGRESS: at 99.68% examples, 84076 words/s, in_qsize 2, out_qsize 0\n",
       "</pre>\n"
      ],
      "text/plain": [
       "EPOCH 4 - PROGRESS: at 99.68% examples, 84076 words/s, in_qsize 2, out_qsize 0\n"
      ]
     },
     "metadata": {},
     "output_type": "display_data"
    },
    {
     "data": {
      "text/html": [
       "<pre style=\"white-space:pre;overflow-x:auto;line-height:normal;font-family:Menlo,'DejaVu Sans Mono',consolas,'Courier New',monospace\">EPOCH 4: training on 12236700 raw words (12061638 effective words) took 143.5s, 84070 effective words/s\n",
       "</pre>\n"
      ],
      "text/plain": [
       "EPOCH 4: training on 12236700 raw words (12061638 effective words) took 143.5s, 84070 effective words/s\n"
      ]
     },
     "metadata": {},
     "output_type": "display_data"
    },
    {
     "data": {
      "text/html": [
       "<pre style=\"white-space:pre;overflow-x:auto;line-height:normal;font-family:Menlo,'DejaVu Sans Mono',consolas,'Courier New',monospace\">Word2Vec lifecycle event {'msg': 'training on 61183500 raw words (60308273 effective words) took 757.4s, 79623 effective words/s', 'datetime': '2022-11-14T12:12:16.333511', 'gensim': '4.2.0', 'python': '3.8.10 (default, Jun 22 2022, 20:18:18) \\n[GCC 9.4.0]', 'platform': 'Linux-5.15.0-48-generic-x86_64-with-glibc2.29', 'event': 'train'}\n",
       "</pre>\n"
      ],
      "text/plain": [
       "Word2Vec lifecycle event {'msg': 'training on 61183500 raw words (60308273 effective words) took 757.4s, 79623 effective words/s', 'datetime': '2022-11-14T12:12:16.333511', 'gensim': '4.2.0', 'python': '3.8.10 (default, Jun 22 2022, 20:18:18) \\n[GCC 9.4.0]', 'platform': 'Linux-5.15.0-48-generic-x86_64-with-glibc2.29', 'event': 'train'}\n"
      ]
     },
     "metadata": {},
     "output_type": "display_data"
    },
    {
     "data": {
      "text/html": [
       "<pre style=\"white-space:pre;overflow-x:auto;line-height:normal;font-family:Menlo,'DejaVu Sans Mono',consolas,'Courier New',monospace\">Word2Vec lifecycle event {'params': 'Word2Vec&lt;vocab=122367, vector_size=50, alpha=0.025&gt;', 'datetime': '2022-11-14T12:12:16.335259', 'gensim': '4.2.0', 'python': '3.8.10 (default, Jun 22 2022, 20:18:18) \\n[GCC 9.4.0]', 'platform': 'Linux-5.15.0-48-generic-x86_64-with-glibc2.29', 'event': 'created'}\n",
       "</pre>\n"
      ],
      "text/plain": [
       "Word2Vec lifecycle event {'params': 'Word2Vec<vocab=122367, vector_size=50, alpha=0.025>', 'datetime': '2022-11-14T12:12:16.335259', 'gensim': '4.2.0', 'python': '3.8.10 (default, Jun 22 2022, 20:18:18) \\n[GCC 9.4.0]', 'platform': 'Linux-5.15.0-48-generic-x86_64-with-glibc2.29', 'event': 'created'}\n"
      ]
     },
     "metadata": {},
     "output_type": "display_data"
    },
    {
     "data": {
      "text/plain": [
       "(122367, 50)"
      ]
     },
     "execution_count": 7,
     "metadata": {},
     "output_type": "execute_result"
    }
   ],
   "source": [
    "#KG = nx.Graph(p1)\n",
    "KG= nx.Graph(p2)\n",
    "# Embed nodes\n",
    "n2v_obj = Node2Vec(KG, 1, 1, 50)\n",
    "\n",
    "n2v_model = n2v_obj.fit(window=10, min_count=1, batch_words=4)\n",
    "\n",
    "# Node to vec representation\n",
    "K8 =  n2v_model.wv.vectors\n",
    "K8.shape"
   ]
  },
  {
   "cell_type": "code",
   "execution_count": 8,
   "metadata": {},
   "outputs": [],
   "source": [
    "DF = pd.DataFrame(K8)"
   ]
  },
  {
   "cell_type": "code",
   "execution_count": 9,
   "metadata": {},
   "outputs": [],
   "source": [
    "DF.to_csv(\"/home/leanna/unfollow_prediction/node_embedding14.csv\")\n"
   ]
  }
 ],
 "metadata": {
  "kernelspec": {
   "display_name": "Python 3.8.10 64-bit",
   "language": "python",
   "name": "python3"
  },
  "language_info": {
   "codemirror_mode": {
    "name": "ipython",
    "version": 3
   },
   "file_extension": ".py",
   "mimetype": "text/x-python",
   "name": "python",
   "nbconvert_exporter": "python",
   "pygments_lexer": "ipython3",
   "version": "3.8.10"
  },
  "orig_nbformat": 4,
  "vscode": {
   "interpreter": {
    "hash": "916dbcbb3f70747c44a77c7bcd40155683ae19c65e1c03b4aa3499c5328201f1"
   }
  }
 },
 "nbformat": 4,
 "nbformat_minor": 2
}
